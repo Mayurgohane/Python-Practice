{
 "cells": [
  {
   "cell_type": "code",
   "execution_count": 1,
   "id": "bbe5c218-83e8-4b0a-a1a9-2d8ea3e09019",
   "metadata": {},
   "outputs": [],
   "source": []
  },
  {
   "cell_type": "code",
   "execution_count": 15,
   "id": "ad457255-4dc4-4124-bdbc-e3139424d101",
   "metadata": {},
   "outputs": [],
   "source": [
    "a = [\n",
    "    \"I love programming in Python\",\n",
    "    \"Python is a great programming language\",\n",
    "    \"I enjoy learning new programming languages\"]"
   ]
  },
  {
   "cell_type": "code",
   "execution_count": 16,
   "id": "a9b20029-6fc5-4793-87f3-d5bda84d6947",
   "metadata": {},
   "outputs": [
    {
     "name": "stdout",
     "output_type": "stream",
     "text": [
      "[[0.         0.         0.5844829  0.         0.         0.\n",
      "  0.         0.5844829  0.         0.34520502 0.44451431]\n",
      " [0.         0.50461134 0.         0.50461134 0.50461134 0.\n",
      "  0.         0.         0.         0.29803159 0.38376993]\n",
      " [0.47952794 0.         0.         0.         0.         0.47952794\n",
      "  0.47952794 0.         0.47952794 0.28321692 0.        ]]\n",
      "['enjoy' 'great' 'in' 'is' 'language' 'languages' 'learning' 'love' 'new'\n",
      " 'programming' 'python']\n"
     ]
    }
   ],
   "source": [
    "vect = TfidfVectorizer()\n",
    "matrix = vect.fit_transform(a)\n",
    "tarray = matrix.toarray()\n",
    "features = vect.get_feature_names_out()\n",
    "print(tarray)\n",
    "print(features)"
   ]
  },
  {
   "cell_type": "code",
   "execution_count": null,
   "id": "276f80f9-9eed-4554-b33b-04620230d87d",
   "metadata": {},
   "outputs": [],
   "source": []
  },
  {
   "cell_type": "code",
   "execution_count": 17,
   "id": "b714c8a7-5280-435b-8f21-7d10ce473de6",
   "metadata": {},
   "outputs": [],
   "source": [
    "text = \"hello everyon name john current explor natur languag process nlp techniqu nlp fascin field involv understand manipul human languag use machin journey focus text preprocess includ clean raw text data prepar analysi process includ remov stop word punctuat unnecessari charact excit learn appli techniqu problem\""
   ]
  },
  {
   "cell_type": "code",
   "execution_count": null,
   "id": "fe49384f-5ca3-49fd-9540-ad59166de2da",
   "metadata": {},
   "outputs": [],
   "source": []
  },
  {
   "cell_type": "code",
   "execution_count": 22,
   "id": "a713560d-26e0-4950-a183-73b816cd4e65",
   "metadata": {},
   "outputs": [
    {
     "name": "stdout",
     "output_type": "stream",
     "text": [
      "[[0.         0.         0.5844829  0.         0.         0.\n",
      "  0.         0.5844829  0.         0.34520502 0.44451431]\n",
      " [0.         0.50461134 0.         0.50461134 0.50461134 0.\n",
      "  0.         0.         0.         0.29803159 0.38376993]\n",
      " [0.47952794 0.         0.         0.         0.         0.47952794\n",
      "  0.47952794 0.         0.47952794 0.28321692 0.        ]]\n",
      "['enjoy' 'great' 'in' 'is' 'language' 'languages' 'learning' 'love' 'new'\n",
      " 'programming' 'python']\n"
     ]
    }
   ],
   "source": [
    "a = TfidfVectorizer()\n",
    "b = a.fit_transform(text)\n",
    "c = b.toarray()\n",
    "d = a.get_feature_names_out()\n",
    "print(c)\n",
    "print(d)"
   ]
  },
  {
   "cell_type": "code",
   "execution_count": null,
   "id": "978c4adc-14a5-40f4-87b4-f740e8339ac1",
   "metadata": {},
   "outputs": [],
   "source": []
  },
  {
   "cell_type": "code",
   "execution_count": null,
   "id": "9df93ef4-3fe3-46c6-a4ed-e466abcbb3ec",
   "metadata": {},
   "outputs": [],
   "source": []
  }
 ],
 "metadata": {
  "kernelspec": {
   "display_name": "Python 3 (ipykernel)",
   "language": "python",
   "name": "python3"
  },
  "language_info": {
   "codemirror_mode": {
    "name": "ipython",
    "version": 3
   },
   "file_extension": ".py",
   "mimetype": "text/x-python",
   "name": "python",
   "nbconvert_exporter": "python",
   "pygments_lexer": "ipython3",
   "version": "3.10.11"
  }
 },
 "nbformat": 4,
 "nbformat_minor": 5
}
