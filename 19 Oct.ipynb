{
 "cells": [
  {
   "cell_type": "code",
   "execution_count": 1,
   "id": "ebad333b-b89a-43a1-9fc4-ab11e24d457b",
   "metadata": {},
   "outputs": [],
   "source": [
    "#square of first 5 and last 5 number \n",
    "def square(f,l):\n",
    "    a =[]\n",
    "    for i in range(f,f+5):\n",
    "        a.append(i**2)\n",
    "    for i in range(l-4,l+1):\n",
    "        a.append(i**2)\n",
    "    return a"
   ]
  },
  {
   "cell_type": "code",
   "execution_count": 2,
   "id": "f34a8c97-b4f3-4dfa-9f00-47a34bbe1b0a",
   "metadata": {},
   "outputs": [
    {
     "data": {
      "text/plain": [
       "[25, 36, 49, 64, 81, 121, 144, 169, 196, 225]"
      ]
     },
     "execution_count": 2,
     "metadata": {},
     "output_type": "execute_result"
    }
   ],
   "source": [
    "square(5,15)"
   ]
  },
  {
   "cell_type": "code",
   "execution_count": 7,
   "id": "590fa41d-b938-4972-99c3-e735287a8b34",
   "metadata": {},
   "outputs": [],
   "source": [
    "#factorial \n",
    "\n",
    "def fact(n):\n",
    "    f = 1\n",
    "    for i in range(1,n+1):\n",
    "        f = f * i\n",
    "    print(f)"
   ]
  },
  {
   "cell_type": "code",
   "execution_count": 8,
   "id": "06a5bbab-7e6d-4ce6-97b2-cfde38e5f7fb",
   "metadata": {},
   "outputs": [
    {
     "name": "stdout",
     "output_type": "stream",
     "text": [
      "120\n"
     ]
    }
   ],
   "source": [
    "fact(5)"
   ]
  },
  {
   "cell_type": "code",
   "execution_count": 11,
   "id": "ef79e44a-8880-45e2-8c35-a6d3ba0c9e10",
   "metadata": {},
   "outputs": [],
   "source": [
    "# factorial using user defined function\n",
    "def factt(n):\n",
    "    fact = 1\n",
    "    for i in range(1,n+1):\n",
    "        fact = fact * i\n",
    "    print(fact)"
   ]
  },
  {
   "cell_type": "code",
   "execution_count": 12,
   "id": "bae82930-2f5b-470a-8c55-cb9b64c9ef12",
   "metadata": {},
   "outputs": [
    {
     "name": "stdout",
     "output_type": "stream",
     "text": [
      "120\n"
     ]
    }
   ],
   "source": [
    "factt(5)"
   ]
  },
  {
   "cell_type": "code",
   "execution_count": 13,
   "id": "6dfd605c-5019-45dc-94f5-64f8e1a18f34",
   "metadata": {},
   "outputs": [],
   "source": [
    "add = lambda x,y: x+y"
   ]
  },
  {
   "cell_type": "code",
   "execution_count": 14,
   "id": "d273b401-0f29-4813-9f33-8e3c5e352620",
   "metadata": {},
   "outputs": [
    {
     "data": {
      "text/plain": [
       "10"
      ]
     },
     "execution_count": 14,
     "metadata": {},
     "output_type": "execute_result"
    }
   ],
   "source": [
    "add(5,5)"
   ]
  },
  {
   "cell_type": "code",
   "execution_count": 16,
   "id": "edc3a035-4a2f-497d-ab5c-323333b759fa",
   "metadata": {},
   "outputs": [],
   "source": [
    "a = ['A','B','C']\n",
    "b = [25,25,95]\n",
    "c = dict(zip(a,b))"
   ]
  },
  {
   "cell_type": "code",
   "execution_count": 17,
   "id": "b7b4d749-65dc-4ad9-ba0b-49142627a950",
   "metadata": {},
   "outputs": [
    {
     "data": {
      "text/plain": [
       "{'A': 25, 'B': 25, 'C': 95}"
      ]
     },
     "execution_count": 17,
     "metadata": {},
     "output_type": "execute_result"
    }
   ],
   "source": [
    "c"
   ]
  },
  {
   "cell_type": "code",
   "execution_count": 18,
   "id": "f23381e2-53c8-42d5-80f9-4f6e0d76dc70",
   "metadata": {},
   "outputs": [
    {
     "data": {
      "text/plain": [
       "(('A', 25), ('B', 25), ('C', 95))"
      ]
     },
     "execution_count": 18,
     "metadata": {},
     "output_type": "execute_result"
    }
   ],
   "source": [
    "a = ['A','B','C']\n",
    "b = [25,25,95]\n",
    "c = tuple(zip(a,b))\n",
    "c"
   ]
  },
  {
   "cell_type": "code",
   "execution_count": 19,
   "id": "360b7874-e0d3-40d6-8aff-da240cc91616",
   "metadata": {},
   "outputs": [
    {
     "data": {
      "text/plain": [
       "[('A', 25), ('B', 25), ('C', 95)]"
      ]
     },
     "execution_count": 19,
     "metadata": {},
     "output_type": "execute_result"
    }
   ],
   "source": [
    "a = ['A','B','C']\n",
    "b = [25,25,95]\n",
    "c = list(zip(a,b))\n",
    "c"
   ]
  },
  {
   "cell_type": "code",
   "execution_count": 20,
   "id": "3e6f48a2-7949-4adb-80cf-7be246702c68",
   "metadata": {},
   "outputs": [
    {
     "data": {
      "text/plain": [
       "(('A', 25), ('B', 25), ('C', 95))"
      ]
     },
     "execution_count": 20,
     "metadata": {},
     "output_type": "execute_result"
    }
   ],
   "source": [
    "a = ['A','B','C']\n",
    "b = [25,25,95]\n",
    "tuple(zip(a,b))"
   ]
  },
  {
   "cell_type": "code",
   "execution_count": 21,
   "id": "891e4c2e-a048-4dbf-99e0-ffce48820e11",
   "metadata": {},
   "outputs": [
    {
     "data": {
      "text/plain": [
       "{'A': 25, 'B': 25, 'C': 95}"
      ]
     },
     "execution_count": 21,
     "metadata": {},
     "output_type": "execute_result"
    }
   ],
   "source": [
    "a = ['A','B','C']\n",
    "b = [25,25,95]\n",
    "dict(zip(a,b))"
   ]
  },
  {
   "cell_type": "code",
   "execution_count": 24,
   "id": "1c7828ef-a5b2-447f-a036-4f91fc65f340",
   "metadata": {},
   "outputs": [
    {
     "data": {
      "text/plain": [
       "['P', 'M', 'L']"
      ]
     },
     "execution_count": 24,
     "metadata": {},
     "output_type": "execute_result"
    }
   ],
   "source": [
    "a = \"Python and Machine Learning\"\n",
    "b = list(filter(lambda x: x.isupper(),a))\n",
    "b"
   ]
  },
  {
   "cell_type": "code",
   "execution_count": 25,
   "id": "e42f5a06-720e-4ef2-873e-90d37d302cef",
   "metadata": {},
   "outputs": [
    {
     "data": {
      "text/plain": [
       "'PYTHON AND MACHINE LEARNING'"
      ]
     },
     "execution_count": 25,
     "metadata": {},
     "output_type": "execute_result"
    }
   ],
   "source": [
    "a = \"Python and Machine Learning\"\n",
    "b = list(map(lambda x: x.upper(),a))\n",
    "''.join(b)"
   ]
  },
  {
   "cell_type": "code",
   "execution_count": 26,
   "id": "260f85a1-5349-414d-a002-d704f05c6737",
   "metadata": {},
   "outputs": [
    {
     "data": {
      "text/plain": [
       "[1, 4, 9, 16, 25, 36, 49, 64, 81]"
      ]
     },
     "execution_count": 26,
     "metadata": {},
     "output_type": "execute_result"
    }
   ],
   "source": [
    "a = [1,2,3,4,5,6,7,8,9]\n",
    "b = list(map(lambda x: x**2,a))\n",
    "b"
   ]
  },
  {
   "cell_type": "code",
   "execution_count": 28,
   "id": "eff674f8-8191-41d1-b741-fecbeefd6140",
   "metadata": {},
   "outputs": [
    {
     "data": {
      "text/plain": [
       "['Sunday', 'Monday', 'Friday']"
      ]
     },
     "execution_count": 28,
     "metadata": {},
     "output_type": "execute_result"
    }
   ],
   "source": [
    "a = [\"Sunday\", \"Monday\", \"Tuesday\", \"Wednesday\", \"Thursday\", \"Friday\", \"Saturday\"]\n",
    "b = list(filter(lambda x: len(x)==6,a))\n",
    "b"
   ]
  },
  {
   "cell_type": "code",
   "execution_count": 30,
   "id": "c49532fb-339e-4dc3-972f-74a90e4a774c",
   "metadata": {},
   "outputs": [
    {
     "data": {
      "text/plain": [
       "10714368571740915734427767689504050118658"
      ]
     },
     "execution_count": 30,
     "metadata": {},
     "output_type": "execute_result"
    }
   ],
   "source": [
    "a = \"2 + 66 ** 22\"\n",
    "b = eval(a)\n",
    "b"
   ]
  },
  {
   "cell_type": "code",
   "execution_count": 31,
   "id": "6ae14cd7-35b4-494c-b6ea-15bee3c59985",
   "metadata": {},
   "outputs": [
    {
     "data": {
      "text/plain": [
       "10714368571740915734427767689504050118658"
      ]
     },
     "execution_count": 31,
     "metadata": {},
     "output_type": "execute_result"
    }
   ],
   "source": [
    "a = 2 + 66 ** 22\n",
    "a"
   ]
  },
  {
   "cell_type": "code",
   "execution_count": 32,
   "id": "35f18645-0fe5-49f3-b36c-e5452a08a984",
   "metadata": {},
   "outputs": [
    {
     "data": {
      "text/plain": [
       "(1, 0)"
      ]
     },
     "execution_count": 32,
     "metadata": {},
     "output_type": "execute_result"
    }
   ],
   "source": [
    "divmod(5,5)"
   ]
  },
  {
   "cell_type": "code",
   "execution_count": 33,
   "id": "d300b121-da52-497d-9032-30a1bca3188a",
   "metadata": {},
   "outputs": [
    {
     "data": {
      "text/plain": [
       "(5, 0)"
      ]
     },
     "execution_count": 33,
     "metadata": {},
     "output_type": "execute_result"
    }
   ],
   "source": [
    "divmod(25,5)"
   ]
  },
  {
   "cell_type": "code",
   "execution_count": 34,
   "id": "9a89c2cf-d065-4e05-83ed-c9586e937564",
   "metadata": {},
   "outputs": [
    {
     "data": {
      "text/plain": [
       "(6, 1)"
      ]
     },
     "execution_count": 34,
     "metadata": {},
     "output_type": "execute_result"
    }
   ],
   "source": [
    "divmod(25,4)"
   ]
  },
  {
   "cell_type": "code",
   "execution_count": 37,
   "id": "e60f7a70-9a8b-41d2-8080-939c8c54161e",
   "metadata": {},
   "outputs": [
    {
     "name": "stdout",
     "output_type": "stream",
     "text": [
      "car starting\n"
     ]
    }
   ],
   "source": [
    "class car:\n",
    "    def start(self):\n",
    "        print('car starting')\n",
    "my = car()\n",
    "my.start()"
   ]
  },
  {
   "cell_type": "code",
   "execution_count": 38,
   "id": "dd6ab8a1-d9d3-4039-83ca-ebec3a55ed48",
   "metadata": {},
   "outputs": [
    {
     "name": "stdout",
     "output_type": "stream",
     "text": [
      "AA\n"
     ]
    }
   ],
   "source": [
    "class A:\n",
    "    def bb(self):\n",
    "        print('AA')\n",
    "b = A()\n",
    "b.bb()"
   ]
  },
  {
   "cell_type": "code",
   "execution_count": 42,
   "id": "e4a6e467-406e-46dc-a663-5f49d089475f",
   "metadata": {},
   "outputs": [
    {
     "name": "stdout",
     "output_type": "stream",
     "text": [
      "price is 5\n"
     ]
    }
   ],
   "source": [
    "class Car:\n",
    "    pass\n",
    "    def price(self):\n",
    "        p = 5\n",
    "        print('price is',p)\n",
    "a = Car()\n",
    "a.price()"
   ]
  },
  {
   "cell_type": "code",
   "execution_count": 44,
   "id": "85205140-18ea-4150-9cec-0e2f114f6508",
   "metadata": {},
   "outputs": [
    {
     "name": "stdout",
     "output_type": "stream",
     "text": [
      "XXX says Hii\n"
     ]
    }
   ],
   "source": [
    "#inint methods\n",
    "class dog:\n",
    "    def __init__(self,name):\n",
    "        self.name=name\n",
    "    def bark(self):\n",
    "        print(f'{self.name} says Hii')\n",
    "a = dog('XXX')\n",
    "a.bark()"
   ]
  },
  {
   "cell_type": "code",
   "execution_count": 46,
   "id": "fc9be7aa-ad24-4f33-b6f1-aa0f41e376bf",
   "metadata": {},
   "outputs": [
    {
     "name": "stdout",
     "output_type": "stream",
     "text": [
      "TATA is Started\n"
     ]
    }
   ],
   "source": [
    "class car:\n",
    "    def __init__(self,name):\n",
    "        self.name=name\n",
    "    def start(self):\n",
    "        print(f\"{self.name} is Started\")\n",
    "a = car('TATA')\n",
    "a.start()"
   ]
  },
  {
   "cell_type": "code",
   "execution_count": 50,
   "id": "14e040f2-98f0-4cca-b1cf-debd44c2272d",
   "metadata": {},
   "outputs": [
    {
     "name": "stdout",
     "output_type": "stream",
     "text": [
      "10\n",
      "25\n",
      "1.0\n"
     ]
    }
   ],
   "source": [
    "class cal:\n",
    "    def addition(self,a,b):\n",
    "        self.a=a\n",
    "        self.b=b\n",
    "        add = a+b\n",
    "        print(add)\n",
    "        \n",
    "    def mult(self):\n",
    "        multt = self.a * self.b\n",
    "        print(multt)\n",
    "\n",
    "    def divide(self):\n",
    "        div = self.a / self.b\n",
    "        print(div)\n",
    "a = cal()\n",
    "a.addition(5,5)\n",
    "a.mult()\n",
    "a.divide()"
   ]
  },
  {
   "cell_type": "code",
   "execution_count": 51,
   "id": "b78c3c54-0bfb-4cbb-b6f6-54cd7e7600be",
   "metadata": {},
   "outputs": [],
   "source": [
    "class cal:\n",
    "    def addition(self,a,b):\n",
    "        self.a=a\n",
    "        self.b=b\n",
    "        add = a+b\n",
    "        #print(add)\n",
    "        \n",
    "    def mult(self):\n",
    "        multt = self.a * self.b\n",
    "        #print(multt)\n",
    "\n",
    "    def divide(self):\n",
    "        div = self.a / self.b\n",
    "        #print(div)\n",
    "\n",
    "a = cal()\n",
    "a.addition(5,5)\n",
    "a.mult()\n",
    "a.divide()"
   ]
  },
  {
   "cell_type": "code",
   "execution_count": 54,
   "id": "ebcb967d-ed8e-4971-99a2-bb945719f0c2",
   "metadata": {},
   "outputs": [
    {
     "name": "stdout",
     "output_type": "stream",
     "text": [
      "10\n",
      "0\n"
     ]
    }
   ],
   "source": [
    "class call:\n",
    "\n",
    "    def __init__(self,a,b):\n",
    "        self.a=a\n",
    "        self.b=b\n",
    "\n",
    "    def addition(self):\n",
    "        add = self.a + self.b\n",
    "        print(add)\n",
    "\n",
    "    def sub(self):\n",
    "        s = self.a - self.b\n",
    "        print(s)\n",
    "        \n",
    "a = call(5,5)\n",
    "a.addition()\n",
    "a.sub()"
   ]
  },
  {
   "cell_type": "code",
   "execution_count": 55,
   "id": "b0564a53-9387-4a76-95e4-fba8584796f4",
   "metadata": {},
   "outputs": [],
   "source": [
    "class a:\n",
    "    pass\n",
    "class b(a):\n",
    "    pass"
   ]
  },
  {
   "cell_type": "code",
   "execution_count": 56,
   "id": "f0099f01-d3ba-4117-b6e9-fed27b444805",
   "metadata": {},
   "outputs": [],
   "source": [
    "a = b()"
   ]
  },
  {
   "cell_type": "code",
   "execution_count": 57,
   "id": "0ae7182d-0957-4754-a8f7-32a121dafc4e",
   "metadata": {},
   "outputs": [
    {
     "data": {
      "text/plain": [
       "<__main__.b at 0x196738e28f0>"
      ]
     },
     "execution_count": 57,
     "metadata": {},
     "output_type": "execute_result"
    }
   ],
   "source": [
    "a"
   ]
  },
  {
   "cell_type": "code",
   "execution_count": null,
   "id": "fd4d2ab1-cbc6-446b-912f-0f8e2df0b179",
   "metadata": {},
   "outputs": [],
   "source": [
    "class animal:\n",
    "    def __init__(self,name):\n",
    "        self.name=name\n",
    "    def sound(self):\n",
    "        print('Animal sound')\n",
    "class dog(animal):\n",
    "    def __init__(self,name):\n",
    "        super().__init__(name)\n",
    "        "
   ]
  },
  {
   "cell_type": "code",
   "execution_count": null,
   "id": "919bc7ff-4a57-4690-997a-a02cdeff1597",
   "metadata": {},
   "outputs": [],
   "source": []
  },
  {
   "cell_type": "code",
   "execution_count": null,
   "id": "9dc1d610-ab91-40b6-ac58-af89dacfc48b",
   "metadata": {},
   "outputs": [],
   "source": []
  },
  {
   "cell_type": "code",
   "execution_count": 58,
   "id": "2138b38d-6c9f-4db4-8af3-9156529b3949",
   "metadata": {},
   "outputs": [],
   "source": [
    "from abc import ABC, abstractmethod"
   ]
  },
  {
   "cell_type": "code",
   "execution_count": 59,
   "id": "18a60eef-25be-4b48-8d8c-545dd6953c8c",
   "metadata": {},
   "outputs": [],
   "source": [
    "class A(ABC):\n",
    "    pass\n",
    "class B(A):\n",
    "    pass"
   ]
  },
  {
   "cell_type": "code",
   "execution_count": 60,
   "id": "7ebb58a3-1ddd-4138-b425-7f86b36fbcd3",
   "metadata": {},
   "outputs": [],
   "source": [
    "import pandas as pd\n",
    "import numpy as np"
   ]
  },
  {
   "cell_type": "code",
   "execution_count": 61,
   "id": "bdb0cfbd-e44e-4b90-97b9-57ea981f0fbe",
   "metadata": {},
   "outputs": [
    {
     "data": {
      "text/plain": [
       "<module 'pandas' from 'C:\\\\Users\\\\LEGION\\\\AppData\\\\Local\\\\Programs\\\\Python\\\\Python310\\\\lib\\\\site-packages\\\\pandas\\\\__init__.py'>"
      ]
     },
     "execution_count": 61,
     "metadata": {},
     "output_type": "execute_result"
    }
   ],
   "source": [
    "pd"
   ]
  },
  {
   "cell_type": "code",
   "execution_count": 62,
   "id": "98b1a255-1fc5-4ba7-af97-af4d62210df3",
   "metadata": {},
   "outputs": [
    {
     "data": {
      "text/plain": [
       "<module 'numpy' from 'C:\\\\Users\\\\LEGION\\\\AppData\\\\Local\\\\Programs\\\\Python\\\\Python310\\\\lib\\\\site-packages\\\\numpy\\\\__init__.py'>"
      ]
     },
     "execution_count": 62,
     "metadata": {},
     "output_type": "execute_result"
    }
   ],
   "source": [
    "np"
   ]
  },
  {
   "cell_type": "code",
   "execution_count": 63,
   "id": "a0e91f30-0f3f-471c-b61d-1e13537bbb5d",
   "metadata": {},
   "outputs": [
    {
     "data": {
      "text/plain": [
       "array([1, 2, 3])"
      ]
     },
     "execution_count": 63,
     "metadata": {},
     "output_type": "execute_result"
    }
   ],
   "source": [
    "a = np.array([1,2,3])\n",
    "a"
   ]
  },
  {
   "cell_type": "code",
   "execution_count": 64,
   "id": "063dcc55-127e-45bd-a500-0b672e2f22bf",
   "metadata": {},
   "outputs": [
    {
     "data": {
      "text/plain": [
       "array([1., 2., 3.])"
      ]
     },
     "execution_count": 64,
     "metadata": {},
     "output_type": "execute_result"
    }
   ],
   "source": [
    "a = np.array([1,2,3], dtype='float')\n",
    "a"
   ]
  },
  {
   "cell_type": "code",
   "execution_count": 65,
   "id": "ca26adb3-059f-4ad0-b2ca-659651a51423",
   "metadata": {},
   "outputs": [
    {
     "data": {
      "text/plain": [
       "array(10)"
      ]
     },
     "execution_count": 65,
     "metadata": {},
     "output_type": "execute_result"
    }
   ],
   "source": [
    "a = np.array(10)\n",
    "a"
   ]
  },
  {
   "cell_type": "code",
   "execution_count": 68,
   "id": "5264ab50-d133-4b91-be54-3e3d49556e2e",
   "metadata": {},
   "outputs": [
    {
     "data": {
      "text/plain": [
       "array([10])"
      ]
     },
     "execution_count": 68,
     "metadata": {},
     "output_type": "execute_result"
    }
   ],
   "source": [
    "a = np.array([10])\n",
    "a"
   ]
  },
  {
   "cell_type": "code",
   "execution_count": 69,
   "id": "7d428783-1839-47e9-a0dc-84b23d051461",
   "metadata": {},
   "outputs": [
    {
     "data": {
      "text/plain": [
       "(1,)"
      ]
     },
     "execution_count": 69,
     "metadata": {},
     "output_type": "execute_result"
    }
   ],
   "source": [
    "a.shape"
   ]
  },
  {
   "cell_type": "code",
   "execution_count": 70,
   "id": "1f2a9471-6dbb-4114-9a0f-740bfa422da0",
   "metadata": {},
   "outputs": [
    {
     "data": {
      "text/plain": [
       "array([[10]])"
      ]
     },
     "execution_count": 70,
     "metadata": {},
     "output_type": "execute_result"
    }
   ],
   "source": [
    "b = np.array([[10]])\n",
    "b"
   ]
  },
  {
   "cell_type": "code",
   "execution_count": 71,
   "id": "6589bcf1-3341-4cb4-a185-5b84059b05ad",
   "metadata": {},
   "outputs": [
    {
     "data": {
      "text/plain": [
       "(1, 1)"
      ]
     },
     "execution_count": 71,
     "metadata": {},
     "output_type": "execute_result"
    }
   ],
   "source": [
    "b.shape"
   ]
  },
  {
   "cell_type": "code",
   "execution_count": 72,
   "id": "b7574f65-3b90-4adb-90d6-c68230b20488",
   "metadata": {},
   "outputs": [
    {
     "data": {
      "text/plain": [
       "array([[10],\n",
       "       [55]])"
      ]
     },
     "execution_count": 72,
     "metadata": {},
     "output_type": "execute_result"
    }
   ],
   "source": [
    "c = np.array([[10],[55]])\n",
    "c"
   ]
  },
  {
   "cell_type": "code",
   "execution_count": 74,
   "id": "fb10beeb-8545-44e9-a983-b3912483248d",
   "metadata": {},
   "outputs": [
    {
     "data": {
      "text/plain": [
       "(2, 1)"
      ]
     },
     "execution_count": 74,
     "metadata": {},
     "output_type": "execute_result"
    }
   ],
   "source": [
    "c.shape"
   ]
  },
  {
   "cell_type": "code",
   "execution_count": null,
   "id": "13dbd772-8d5b-4a02-9994-86e221e83db8",
   "metadata": {},
   "outputs": [],
   "source": []
  },
  {
   "cell_type": "code",
   "execution_count": 75,
   "id": "1124b123-4dd1-4a70-9107-e429ddb950d0",
   "metadata": {},
   "outputs": [
    {
     "data": {
      "text/plain": [
       "array([[[10]]])"
      ]
     },
     "execution_count": 75,
     "metadata": {},
     "output_type": "execute_result"
    }
   ],
   "source": [
    "e = np.array([[[10]]])\n",
    "e"
   ]
  },
  {
   "cell_type": "code",
   "execution_count": 76,
   "id": "d82f101c-fcb9-416d-a614-b1951fe75ecf",
   "metadata": {},
   "outputs": [
    {
     "data": {
      "text/plain": [
       "(1, 1, 1)"
      ]
     },
     "execution_count": 76,
     "metadata": {},
     "output_type": "execute_result"
    }
   ],
   "source": [
    "e.shape"
   ]
  },
  {
   "cell_type": "code",
   "execution_count": 77,
   "id": "bb3ae57f-bf60-4d6a-a12f-230fa47eeb42",
   "metadata": {},
   "outputs": [
    {
     "data": {
      "text/plain": [
       "3"
      ]
     },
     "execution_count": 77,
     "metadata": {},
     "output_type": "execute_result"
    }
   ],
   "source": [
    "e.ndim"
   ]
  },
  {
   "cell_type": "code",
   "execution_count": 79,
   "id": "9aa77332-3d55-4224-b4b6-e2b39e960aca",
   "metadata": {},
   "outputs": [
    {
     "data": {
      "text/plain": [
       "array([55,  2,  3,  4,  5])"
      ]
     },
     "execution_count": 79,
     "metadata": {},
     "output_type": "execute_result"
    }
   ],
   "source": [
    "a = np.array([1,2,3,4,5])\n",
    "a[0]=55\n",
    "a"
   ]
  },
  {
   "cell_type": "code",
   "execution_count": 81,
   "id": "134aac27-13ec-452b-b19e-31a0f31fcea1",
   "metadata": {},
   "outputs": [
    {
     "data": {
      "text/plain": [
       "array([55,  2])"
      ]
     },
     "execution_count": 81,
     "metadata": {},
     "output_type": "execute_result"
    }
   ],
   "source": [
    "a[:2]"
   ]
  },
  {
   "cell_type": "code",
   "execution_count": 82,
   "id": "1877a7d0-3f42-4fd5-8792-e22efe4a9f24",
   "metadata": {},
   "outputs": [
    {
     "data": {
      "text/plain": [
       "array([[4, 5],\n",
       "       [9, 7],\n",
       "       [8, 6]])"
      ]
     },
     "execution_count": 82,
     "metadata": {},
     "output_type": "execute_result"
    }
   ],
   "source": [
    "b = np.array([[4,5], [9,7], [8,6]])\n",
    "b"
   ]
  },
  {
   "cell_type": "code",
   "execution_count": 84,
   "id": "6031960e-a24f-4dce-a2a9-bb3c61900442",
   "metadata": {},
   "outputs": [],
   "source": [
    "b[0][0] = 88"
   ]
  },
  {
   "cell_type": "code",
   "execution_count": 85,
   "id": "f00a877e-0f55-42bc-9faf-e4958ae42b2f",
   "metadata": {},
   "outputs": [
    {
     "data": {
      "text/plain": [
       "array([[88,  5],\n",
       "       [ 9,  7],\n",
       "       [ 8,  6]])"
      ]
     },
     "execution_count": 85,
     "metadata": {},
     "output_type": "execute_result"
    }
   ],
   "source": [
    "b"
   ]
  },
  {
   "cell_type": "code",
   "execution_count": 86,
   "id": "ba8587dd-41a7-44d3-943f-626b491b77a0",
   "metadata": {},
   "outputs": [
    {
     "ename": "SyntaxError",
     "evalue": "cannot assign to literal (109614822.py, line 1)",
     "output_type": "error",
     "traceback": [
      "\u001b[1;36m  Cell \u001b[1;32mIn[86], line 1\u001b[1;36m\u001b[0m\n\u001b[1;33m    b[0][0],[0],[1] = 99\u001b[0m\n\u001b[1;37m             ^\u001b[0m\n\u001b[1;31mSyntaxError\u001b[0m\u001b[1;31m:\u001b[0m cannot assign to literal\n"
     ]
    }
   ],
   "source": [
    "b[0][0],[0],[1] = 99"
   ]
  },
  {
   "cell_type": "code",
   "execution_count": 88,
   "id": "f8910ee5-dfb8-4123-9af9-02de2e8d0b67",
   "metadata": {},
   "outputs": [
    {
     "data": {
      "text/plain": [
       "array([[5]])"
      ]
     },
     "execution_count": 88,
     "metadata": {},
     "output_type": "execute_result"
    }
   ],
   "source": [
    "b[0:1,1:2]"
   ]
  },
  {
   "cell_type": "code",
   "execution_count": 89,
   "id": "d905f468-6215-4113-82ac-bcae85d29b60",
   "metadata": {},
   "outputs": [
    {
     "data": {
      "text/plain": [
       "array([[88,  5],\n",
       "       [ 9,  7],\n",
       "       [ 8,  6]])"
      ]
     },
     "execution_count": 89,
     "metadata": {},
     "output_type": "execute_result"
    }
   ],
   "source": [
    "b"
   ]
  },
  {
   "cell_type": "code",
   "execution_count": 90,
   "id": "5cebb5a4-5772-49a3-8f06-53276531a2eb",
   "metadata": {},
   "outputs": [
    {
     "data": {
      "text/plain": [
       "array([[5],\n",
       "       [7],\n",
       "       [6]])"
      ]
     },
     "execution_count": 90,
     "metadata": {},
     "output_type": "execute_result"
    }
   ],
   "source": [
    "b[:,1:2]"
   ]
  },
  {
   "cell_type": "code",
   "execution_count": 93,
   "id": "46dd9a95-d425-4e06-b314-7dbc783f4d12",
   "metadata": {},
   "outputs": [
    {
     "data": {
      "text/plain": [
       "array([5, 7, 6])"
      ]
     },
     "execution_count": 93,
     "metadata": {},
     "output_type": "execute_result"
    }
   ],
   "source": [
    "b[:,1]"
   ]
  },
  {
   "cell_type": "code",
   "execution_count": 94,
   "id": "9f5d6506-971b-42d7-b72e-a79e38017bf7",
   "metadata": {},
   "outputs": [
    {
     "data": {
      "text/plain": [
       "array([[88,  5],\n",
       "       [ 9,  7],\n",
       "       [ 8,  6]])"
      ]
     },
     "execution_count": 94,
     "metadata": {},
     "output_type": "execute_result"
    }
   ],
   "source": [
    "b[:,]"
   ]
  },
  {
   "cell_type": "code",
   "execution_count": 100,
   "id": "57dd3797-c64b-4fb9-9cab-c4f9dfdf1bad",
   "metadata": {},
   "outputs": [
    {
     "data": {
      "text/plain": [
       "88"
      ]
     },
     "execution_count": 100,
     "metadata": {},
     "output_type": "execute_result"
    }
   ],
   "source": [
    "b[0,0]"
   ]
  },
  {
   "cell_type": "code",
   "execution_count": 101,
   "id": "16d2c039-6811-4d66-b94f-e16c733517a8",
   "metadata": {},
   "outputs": [
    {
     "data": {
      "text/plain": [
       "5"
      ]
     },
     "execution_count": 101,
     "metadata": {},
     "output_type": "execute_result"
    }
   ],
   "source": [
    "b[0,1]"
   ]
  },
  {
   "cell_type": "code",
   "execution_count": 102,
   "id": "0b9841dd-4b16-41e4-8d5b-284c9a9e68a9",
   "metadata": {},
   "outputs": [
    {
     "data": {
      "text/plain": [
       "9"
      ]
     },
     "execution_count": 102,
     "metadata": {},
     "output_type": "execute_result"
    }
   ],
   "source": [
    "b[1,0]"
   ]
  },
  {
   "cell_type": "code",
   "execution_count": 103,
   "id": "6f8c14b3-19aa-4e9d-b305-fcc10a719d5f",
   "metadata": {},
   "outputs": [
    {
     "data": {
      "text/plain": [
       "array([[88,  5],\n",
       "       [ 9,  7],\n",
       "       [ 8,  6]])"
      ]
     },
     "execution_count": 103,
     "metadata": {},
     "output_type": "execute_result"
    }
   ],
   "source": [
    "b"
   ]
  },
  {
   "cell_type": "code",
   "execution_count": 105,
   "id": "71d2ef49-4f63-4b51-b329-f5360ba95d05",
   "metadata": {},
   "outputs": [
    {
     "data": {
      "text/plain": [
       "array([[4, 5],\n",
       "       [9, 7],\n",
       "       [8, 6]])"
      ]
     },
     "execution_count": 105,
     "metadata": {},
     "output_type": "execute_result"
    }
   ],
   "source": [
    "b = np.array([[4,5], [9,7], [8,6]], ndmin=2)\n",
    "b"
   ]
  },
  {
   "cell_type": "code",
   "execution_count": 106,
   "id": "30b15ae8-08ec-48a0-93ce-499ee4a73cfd",
   "metadata": {},
   "outputs": [
    {
     "data": {
      "text/plain": [
       "array([[[[4, 5],\n",
       "         [9, 7],\n",
       "         [8, 6]]]])"
      ]
     },
     "execution_count": 106,
     "metadata": {},
     "output_type": "execute_result"
    }
   ],
   "source": [
    "b = np.array([[4,5], [9,7], [8,6]], ndmin=4)\n",
    "b"
   ]
  },
  {
   "cell_type": "code",
   "execution_count": 107,
   "id": "14616a4e-0a2f-4c67-b9f1-da3f71ce3b82",
   "metadata": {},
   "outputs": [
    {
     "data": {
      "text/plain": [
       "array([[4, 5],\n",
       "       [9, 7],\n",
       "       [8, 6]])"
      ]
     },
     "execution_count": 107,
     "metadata": {},
     "output_type": "execute_result"
    }
   ],
   "source": [
    "b = np.array([[4,5], [9,7], [8,6]], ndmin=1)\n",
    "b"
   ]
  },
  {
   "cell_type": "code",
   "execution_count": 108,
   "id": "4ba86a5d-0634-4957-9536-7168fe6ff496",
   "metadata": {},
   "outputs": [
    {
     "data": {
      "text/plain": [
       "array([[[[4, 5],\n",
       "         [9, 7],\n",
       "         [8, 6]]]])"
      ]
     },
     "execution_count": 108,
     "metadata": {},
     "output_type": "execute_result"
    }
   ],
   "source": [
    "b = np.array([[4,5], [9,7], [8,6]], ndmin=4)\n",
    "b"
   ]
  },
  {
   "cell_type": "code",
   "execution_count": 109,
   "id": "c4ec58e5-fd6c-4b7f-9b36-d39a347506a8",
   "metadata": {},
   "outputs": [
    {
     "data": {
      "text/plain": [
       "array([[[[[4, 5],\n",
       "          [9, 7],\n",
       "          [8, 6]]]]])"
      ]
     },
     "execution_count": 109,
     "metadata": {},
     "output_type": "execute_result"
    }
   ],
   "source": [
    "b = np.array([[4,5], [9,7], [8,6]], ndmin=5)\n",
    "b"
   ]
  },
  {
   "cell_type": "code",
   "execution_count": 112,
   "id": "b3b107bb-2e83-4e52-954c-123b5c560278",
   "metadata": {},
   "outputs": [
    {
     "data": {
      "text/plain": [
       "array([[4],\n",
       "       [5],\n",
       "       [9],\n",
       "       [7],\n",
       "       [8],\n",
       "       [6]])"
      ]
     },
     "execution_count": 112,
     "metadata": {},
     "output_type": "execute_result"
    }
   ],
   "source": [
    "b = np.array([[4,5], [9,7], [8,6]])\n",
    "b = b.reshape(6,1)\n",
    "b"
   ]
  },
  {
   "cell_type": "code",
   "execution_count": 113,
   "id": "1d5e4f0e-58cd-42a5-8535-d0c9d7bc5c77",
   "metadata": {},
   "outputs": [
    {
     "data": {
      "text/plain": [
       "array([4, 5, 9, 7, 8, 6])"
      ]
     },
     "execution_count": 113,
     "metadata": {},
     "output_type": "execute_result"
    }
   ],
   "source": [
    "b = np.array([[4,5], [9,7], [8,6]])\n",
    "c = b.flatten()\n",
    "c"
   ]
  },
  {
   "cell_type": "code",
   "execution_count": 114,
   "id": "7c2accfe-fb6e-4d5f-8b62-0871fa875fab",
   "metadata": {},
   "outputs": [
    {
     "data": {
      "text/plain": [
       "array([4, 5, 9, 7, 8, 6])"
      ]
     },
     "execution_count": 114,
     "metadata": {},
     "output_type": "execute_result"
    }
   ],
   "source": [
    "b = np.array([[4,5], [9,7], [8,6]])\n",
    "c = b.reshape(-1)\n",
    "c"
   ]
  },
  {
   "cell_type": "code",
   "execution_count": 116,
   "id": "11d5e0c4-4d04-4632-87a1-90322dd7e04f",
   "metadata": {},
   "outputs": [
    {
     "data": {
      "text/plain": [
       "array([[0., 0., 0.],\n",
       "       [0., 0., 0.],\n",
       "       [0., 0., 0.],\n",
       "       [0., 0., 0.]])"
      ]
     },
     "execution_count": 116,
     "metadata": {},
     "output_type": "execute_result"
    }
   ],
   "source": [
    "a = np.zeros((4,3))\n",
    "a"
   ]
  },
  {
   "cell_type": "code",
   "execution_count": 117,
   "id": "b802b00f-d8f3-40ad-8873-abf83331f716",
   "metadata": {},
   "outputs": [
    {
     "data": {
      "text/plain": [
       "array([[1., 1., 1.],\n",
       "       [1., 1., 1.],\n",
       "       [1., 1., 1.],\n",
       "       [1., 1., 1.]])"
      ]
     },
     "execution_count": 117,
     "metadata": {},
     "output_type": "execute_result"
    }
   ],
   "source": [
    "a = np.ones((4,3))\n",
    "a"
   ]
  },
  {
   "cell_type": "code",
   "execution_count": 118,
   "id": "70b98d4a-dc7e-4dbb-9d49-e1ecf1d6b54c",
   "metadata": {},
   "outputs": [
    {
     "data": {
      "text/plain": [
       "array([[1., 0., 0., 0., 0.],\n",
       "       [0., 1., 0., 0., 0.],\n",
       "       [0., 0., 1., 0., 0.],\n",
       "       [0., 0., 0., 1., 0.],\n",
       "       [0., 0., 0., 0., 1.]])"
      ]
     },
     "execution_count": 118,
     "metadata": {},
     "output_type": "execute_result"
    }
   ],
   "source": [
    "a = np.identity(5)\n",
    "a"
   ]
  },
  {
   "cell_type": "code",
   "execution_count": 122,
   "id": "9a72a360-d458-4eb8-9022-16961ec28140",
   "metadata": {},
   "outputs": [
    {
     "data": {
      "text/plain": [
       "array([[4, 5],\n",
       "       [9, 7],\n",
       "       [8, 6]])"
      ]
     },
     "execution_count": 122,
     "metadata": {},
     "output_type": "execute_result"
    }
   ],
   "source": [
    "a = np.random.rand(10)\n",
    "b"
   ]
  },
  {
   "cell_type": "code",
   "execution_count": 124,
   "id": "3bf32f13-fceb-4257-8d8e-1bdd7d06b651",
   "metadata": {},
   "outputs": [
    {
     "data": {
      "text/plain": [
       "'0000000000'"
      ]
     },
     "execution_count": 124,
     "metadata": {},
     "output_type": "execute_result"
    }
   ],
   "source": [
    "a = np.random.rand(10)\n",
    "''.join([str(int(i)) for i in a])"
   ]
  },
  {
   "cell_type": "code",
   "execution_count": 127,
   "id": "086d2bf0-c6ce-4c41-a944-0da77f6ba7ed",
   "metadata": {},
   "outputs": [
    {
     "data": {
      "text/plain": [
       "array([[5, 6, 0, 6, 6],\n",
       "       [3, 9, 3, 8, 9]])"
      ]
     },
     "execution_count": 127,
     "metadata": {},
     "output_type": "execute_result"
    }
   ],
   "source": [
    "a = np.random.randint(10, size=(2,5))\n",
    "a"
   ]
  },
  {
   "cell_type": "code",
   "execution_count": 131,
   "id": "7edb72e1-e85b-45bf-b655-231285ee945f",
   "metadata": {},
   "outputs": [
    {
     "data": {
      "text/plain": [
       "7"
      ]
     },
     "execution_count": 131,
     "metadata": {},
     "output_type": "execute_result"
    }
   ],
   "source": [
    "a = np.random.randint(5,15)\n",
    "a"
   ]
  },
  {
   "cell_type": "code",
   "execution_count": 132,
   "id": "3a5a7298-47cf-43e9-82a4-41341e408bca",
   "metadata": {},
   "outputs": [
    {
     "data": {
      "text/plain": [
       "array([[13,  7,  5],\n",
       "       [ 7,  6, 12],\n",
       "       [ 5, 10,  8],\n",
       "       [ 6,  9,  7],\n",
       "       [ 5, 13,  9]])"
      ]
     },
     "execution_count": 132,
     "metadata": {},
     "output_type": "execute_result"
    }
   ],
   "source": [
    "a = np.random.randint(5,15, size=(5,3))\n",
    "a"
   ]
  },
  {
   "cell_type": "code",
   "execution_count": 135,
   "id": "fd0b9515-111a-43dc-b64b-402ff5f14afc",
   "metadata": {},
   "outputs": [
    {
     "data": {
      "text/plain": [
       "array([[ 5,  7, 13],\n",
       "       [ 6,  7, 12],\n",
       "       [ 5,  8, 10],\n",
       "       [ 6,  7,  9],\n",
       "       [ 5,  9, 13]])"
      ]
     },
     "execution_count": 135,
     "metadata": {},
     "output_type": "execute_result"
    }
   ],
   "source": [
    "b = np.sort(a)\n",
    "b"
   ]
  },
  {
   "cell_type": "code",
   "execution_count": 136,
   "id": "56fe96a6-1280-4759-bc43-9b8eac339f66",
   "metadata": {},
   "outputs": [],
   "source": [
    "from scipy import stats "
   ]
  },
  {
   "cell_type": "code",
   "execution_count": 137,
   "id": "ce52e0d3-c300-469c-ae92-cab6195bc9df",
   "metadata": {},
   "outputs": [
    {
     "data": {
      "text/plain": [
       "ModeResult(mode=array([ 5,  7, 13], dtype=int64), count=array([3, 3, 2], dtype=int64))"
      ]
     },
     "execution_count": 137,
     "metadata": {},
     "output_type": "execute_result"
    }
   ],
   "source": [
    "c = stats.mode(b)\n",
    "c"
   ]
  },
  {
   "cell_type": "code",
   "execution_count": 138,
   "id": "d2da7bce-60ba-407d-aedc-ac6f6a7206c2",
   "metadata": {},
   "outputs": [
    {
     "data": {
      "text/plain": [
       "8.133333333333333"
      ]
     },
     "execution_count": 138,
     "metadata": {},
     "output_type": "execute_result"
    }
   ],
   "source": [
    "np.mean(b)"
   ]
  },
  {
   "cell_type": "code",
   "execution_count": 139,
   "id": "474ace61-9bf2-4cc4-b785-17b8d0602f97",
   "metadata": {},
   "outputs": [
    {
     "data": {
      "text/plain": [
       "7.0"
      ]
     },
     "execution_count": 139,
     "metadata": {},
     "output_type": "execute_result"
    }
   ],
   "source": [
    "np.median(b)"
   ]
  },
  {
   "cell_type": "code",
   "execution_count": 140,
   "id": "1934f4d5-0e03-48b0-a1a1-8cf3de73ecae",
   "metadata": {},
   "outputs": [
    {
     "data": {
      "text/plain": [
       "2.7047283700134392"
      ]
     },
     "execution_count": 140,
     "metadata": {},
     "output_type": "execute_result"
    }
   ],
   "source": [
    "np.std(b)"
   ]
  },
  {
   "cell_type": "code",
   "execution_count": 141,
   "id": "d0140097-b845-4ba8-819e-c32314e73451",
   "metadata": {},
   "outputs": [
    {
     "data": {
      "text/plain": [
       "7.315555555555557"
      ]
     },
     "execution_count": 141,
     "metadata": {},
     "output_type": "execute_result"
    }
   ],
   "source": [
    "np.var(b)"
   ]
  },
  {
   "cell_type": "code",
   "execution_count": 151,
   "id": "846717b3-0aff-49e7-ade6-1e47994317d9",
   "metadata": {},
   "outputs": [],
   "source": [
    "A = np.array([[2,3,5],[1,-2,3]])\n",
    "B = np.array([10,15,30])"
   ]
  },
  {
   "cell_type": "code",
   "execution_count": 155,
   "id": "eb41309b-aeb2-48c1-a1ea-ff2c577b40cd",
   "metadata": {},
   "outputs": [
    {
     "data": {
      "text/plain": [
       "2.302585092994046"
      ]
     },
     "execution_count": 155,
     "metadata": {},
     "output_type": "execute_result"
    }
   ],
   "source": [
    "np.log(10)"
   ]
  },
  {
   "cell_type": "code",
   "execution_count": 156,
   "id": "ba9225f3-a963-42eb-8c16-fffa20ee17f8",
   "metadata": {},
   "outputs": [
    {
     "data": {
      "text/plain": [
       "1.0"
      ]
     },
     "execution_count": 156,
     "metadata": {},
     "output_type": "execute_result"
    }
   ],
   "source": [
    "np.log10(10)"
   ]
  },
  {
   "cell_type": "code",
   "execution_count": 157,
   "id": "17566e5d-ace8-446e-91bc-378c79f0e982",
   "metadata": {},
   "outputs": [
    {
     "data": {
      "text/plain": [
       "3.321928094887362"
      ]
     },
     "execution_count": 157,
     "metadata": {},
     "output_type": "execute_result"
    }
   ],
   "source": [
    "np.log2(10)"
   ]
  },
  {
   "cell_type": "code",
   "execution_count": 158,
   "id": "e89b2970-dcf6-45bf-8f00-6fae90d68388",
   "metadata": {},
   "outputs": [],
   "source": [
    "a = np.array([1,2,3,4,5])"
   ]
  },
  {
   "cell_type": "code",
   "execution_count": 159,
   "id": "4875137b-f36e-4c94-b754-1a495673e852",
   "metadata": {},
   "outputs": [
    {
     "data": {
      "text/plain": [
       "array([ 57.29577951, 114.59155903, 171.88733854, 229.18311805,\n",
       "       286.47889757])"
      ]
     },
     "execution_count": 159,
     "metadata": {},
     "output_type": "execute_result"
    }
   ],
   "source": [
    "b = np.rad2deg(a)\n",
    "b"
   ]
  },
  {
   "cell_type": "code",
   "execution_count": 160,
   "id": "2ccf94d1-e5c0-4e6b-8b07-33b73bbf2879",
   "metadata": {},
   "outputs": [
    {
     "data": {
      "text/plain": [
       "array([0.01745329, 0.03490659, 0.05235988, 0.06981317, 0.08726646])"
      ]
     },
     "execution_count": 160,
     "metadata": {},
     "output_type": "execute_result"
    }
   ],
   "source": [
    "c = np.radians(a)\n",
    "c"
   ]
  },
  {
   "cell_type": "code",
   "execution_count": 161,
   "id": "a1e36fa5-72f3-46d7-9fce-057fb93349c5",
   "metadata": {},
   "outputs": [
    {
     "data": {
      "text/plain": [
       "array([0.01745329, 0.03490659, 0.05235988, 0.06981317, 0.08726646])"
      ]
     },
     "execution_count": 161,
     "metadata": {},
     "output_type": "execute_result"
    }
   ],
   "source": [
    "d = np.deg2rad(a)\n",
    "d"
   ]
  },
  {
   "cell_type": "code",
   "execution_count": 162,
   "id": "c4896782-6213-45ec-aa80-f4db63a682cc",
   "metadata": {},
   "outputs": [
    {
     "data": {
      "text/plain": [
       "array([ 0.84147098,  0.90929743,  0.14112001, -0.7568025 , -0.95892427])"
      ]
     },
     "execution_count": 162,
     "metadata": {},
     "output_type": "execute_result"
    }
   ],
   "source": [
    "e = np.sin(a)\n",
    "e"
   ]
  },
  {
   "cell_type": "code",
   "execution_count": 163,
   "id": "5595d204-5ad0-484d-a66d-99848888cf80",
   "metadata": {},
   "outputs": [
    {
     "data": {
      "text/plain": [
       "array([ 0.54030231, -0.41614684, -0.9899925 , -0.65364362,  0.28366219])"
      ]
     },
     "execution_count": 163,
     "metadata": {},
     "output_type": "execute_result"
    }
   ],
   "source": [
    "d = np.cos(a)\n",
    "d"
   ]
  },
  {
   "cell_type": "code",
   "execution_count": 164,
   "id": "c79f4ebe-520a-4f97-8cfc-1ffd3f2c08b6",
   "metadata": {},
   "outputs": [
    {
     "data": {
      "text/plain": [
       "array([ 1.55740772, -2.18503986, -0.14254654,  1.15782128, -3.38051501])"
      ]
     },
     "execution_count": 164,
     "metadata": {},
     "output_type": "execute_result"
    }
   ],
   "source": [
    "f = np.tan(a)\n",
    "f"
   ]
  },
  {
   "cell_type": "code",
   "execution_count": 165,
   "id": "f191f843-2c71-4c82-9895-49692b28a377",
   "metadata": {},
   "outputs": [
    {
     "data": {
      "text/plain": [
       "array([ 0.54030231, -0.41614684, -0.9899925 , -0.65364362,  0.28366219,\n",
       "        1.55740772, -2.18503986, -0.14254654,  1.15782128, -3.38051501])"
      ]
     },
     "execution_count": 165,
     "metadata": {},
     "output_type": "execute_result"
    }
   ],
   "source": [
    "g = np.append(d,f)\n",
    "g"
   ]
  },
  {
   "cell_type": "code",
   "execution_count": 168,
   "id": "3afbe9bd-f3f5-45fe-b891-309e8434754e",
   "metadata": {},
   "outputs": [
    {
     "data": {
      "text/plain": [
       "array([ 0.54030231, -0.41614684, -0.9899925 , -0.65364362,  0.28366219,\n",
       "        1.55740772, -2.18503986, -0.14254654,  1.15782128, -3.38051501])"
      ]
     },
     "execution_count": 168,
     "metadata": {},
     "output_type": "execute_result"
    }
   ],
   "source": [
    "g = np.append(d,f).astype(float)\n",
    "g"
   ]
  },
  {
   "cell_type": "code",
   "execution_count": 169,
   "id": "dcdb1b76-f45f-46f4-bebc-0a00d3674ccb",
   "metadata": {},
   "outputs": [
    {
     "data": {
      "text/plain": [
       "array([ 0.54030231, -0.41614684, -0.9899925 , -0.65364362,  0.28366219,\n",
       "        1.55740772, -2.18503986, -0.14254654,  1.15782128, -3.38051501])"
      ]
     },
     "execution_count": 169,
     "metadata": {},
     "output_type": "execute_result"
    }
   ],
   "source": [
    "g = np.append(d,f)\n",
    "g"
   ]
  },
  {
   "cell_type": "code",
   "execution_count": 170,
   "id": "7ac31563-60e8-4692-a316-12a0fca6a858",
   "metadata": {},
   "outputs": [
    {
     "name": "stdout",
     "output_type": "stream",
     "text": [
      "0.5403023058681398\n",
      "-0.4161468365471424\n",
      "-0.9899924966004454\n",
      "-0.6536436208636119\n",
      "0.28366218546322625\n",
      "1.5574077246549023\n",
      "-2.185039863261519\n",
      "-0.1425465430742778\n",
      "1.1578212823495777\n",
      "-3.380515006246586\n"
     ]
    }
   ],
   "source": [
    "for i in np.nditer(g):\n",
    "    print(i)"
   ]
  },
  {
   "cell_type": "code",
   "execution_count": 172,
   "id": "c4bd6865-54bf-49f9-aeae-afc65c7c0b53",
   "metadata": {},
   "outputs": [
    {
     "name": "stdout",
     "output_type": "stream",
     "text": [
      "(0,) 0.5403023058681398\n",
      "(1,) -0.4161468365471424\n",
      "(2,) -0.9899924966004454\n",
      "(3,) -0.6536436208636119\n",
      "(4,) 0.28366218546322625\n",
      "(5,) 1.5574077246549023\n",
      "(6,) -2.185039863261519\n",
      "(7,) -0.1425465430742778\n",
      "(8,) 1.1578212823495777\n",
      "(9,) -3.380515006246586\n"
     ]
    }
   ],
   "source": [
    "for i,v in np.ndenumerate(g):\n",
    "    print(i,v)"
   ]
  },
  {
   "cell_type": "code",
   "execution_count": 173,
   "id": "edb64be4-cc6f-4d10-abf0-6a2ecb511bb2",
   "metadata": {},
   "outputs": [
    {
     "data": {
      "text/plain": [
       "array([ 1., -0., -0., -0.,  1.,  2., -2., -0.,  2., -3.])"
      ]
     },
     "execution_count": 173,
     "metadata": {},
     "output_type": "execute_result"
    }
   ],
   "source": [
    "np.ceil(g)"
   ]
  },
  {
   "cell_type": "code",
   "execution_count": 174,
   "id": "887d8296-655e-4d18-9ef3-2e09c5adb9b5",
   "metadata": {},
   "outputs": [
    {
     "data": {
      "text/plain": [
       "array([ 0., -1., -1., -1.,  0.,  1., -3., -1.,  1., -4.])"
      ]
     },
     "execution_count": 174,
     "metadata": {},
     "output_type": "execute_result"
    }
   ],
   "source": [
    "np.floor(g)"
   ]
  },
  {
   "cell_type": "code",
   "execution_count": 177,
   "id": "c5a09c49-9f73-4b28-9473-788981760fa5",
   "metadata": {},
   "outputs": [
    {
     "data": {
      "text/plain": [
       "array([ 0.54 , -0.416, -0.99 , -0.654,  0.284,  1.557, -2.185, -0.143,\n",
       "        1.158, -3.381])"
      ]
     },
     "execution_count": 177,
     "metadata": {},
     "output_type": "execute_result"
    }
   ],
   "source": [
    "np.round(g, decimals=3)"
   ]
  },
  {
   "cell_type": "code",
   "execution_count": 178,
   "id": "bfa1cee7-e8c6-4a28-9e0e-d4ca1f483890",
   "metadata": {},
   "outputs": [
    {
     "data": {
      "text/plain": [
       "array([ 0.54 , -0.416, -0.99 , -0.654,  0.284,  1.557, -2.185, -0.143,\n",
       "        1.158, -3.381])"
      ]
     },
     "execution_count": 178,
     "metadata": {},
     "output_type": "execute_result"
    }
   ],
   "source": [
    "np.around(g, 3)"
   ]
  },
  {
   "cell_type": "code",
   "execution_count": 180,
   "id": "8a157881-eb5d-49ee-bbf9-28d3e3aca455",
   "metadata": {},
   "outputs": [
    {
     "data": {
      "text/plain": [
       "[(0,), (1,), (2,), (3,), (4,), (5,), (6,), (7,), (8,), (9,)]"
      ]
     },
     "execution_count": 180,
     "metadata": {},
     "output_type": "execute_result"
    }
   ],
   "source": [
    "h = [i for i,v in np.ndenumerate(g)]\n",
    "h"
   ]
  },
  {
   "cell_type": "code",
   "execution_count": 181,
   "id": "3bfe165e-1882-4170-8747-8ac037e8e193",
   "metadata": {},
   "outputs": [
    {
     "data": {
      "text/plain": [
       "5"
      ]
     },
     "execution_count": 181,
     "metadata": {},
     "output_type": "execute_result"
    }
   ],
   "source": [
    "np.argmax(g)"
   ]
  },
  {
   "cell_type": "code",
   "execution_count": 183,
   "id": "ecb8f7e0-bada-499d-a8e0-654dc7b88929",
   "metadata": {},
   "outputs": [
    {
     "data": {
      "text/plain": [
       "array([-3.38051501, -2.18503986, -0.9899925 , -0.65364362, -0.41614684,\n",
       "       -0.14254654,  0.28366219,  0.54030231,  1.15782128,  1.55740772])"
      ]
     },
     "execution_count": 183,
     "metadata": {},
     "output_type": "execute_result"
    }
   ],
   "source": [
    "np.sort(g)"
   ]
  },
  {
   "cell_type": "code",
   "execution_count": 185,
   "id": "dc9cd879-50fb-4fe3-b301-2e96bc8009b5",
   "metadata": {},
   "outputs": [
    {
     "data": {
      "text/plain": [
       "array([ 1.55740772,  1.15782128,  0.54030231,  0.28366219, -0.14254654,\n",
       "       -0.41614684, -0.65364362, -0.9899925 , -2.18503986, -3.38051501])"
      ]
     },
     "execution_count": 185,
     "metadata": {},
     "output_type": "execute_result"
    }
   ],
   "source": [
    "-np.sort(-g)"
   ]
  },
  {
   "cell_type": "code",
   "execution_count": 186,
   "id": "e574d4e3-37bd-4452-a47f-c297ff8eac93",
   "metadata": {},
   "outputs": [
    {
     "data": {
      "text/plain": [
       "array([ 0.29192658,  0.17317819,  0.98008514,  0.42724998,  0.08046424,\n",
       "        2.42551882,  4.7743992 ,  0.02031952,  1.34055012, 11.42788171])"
      ]
     },
     "execution_count": 186,
     "metadata": {},
     "output_type": "execute_result"
    }
   ],
   "source": [
    "np.square(g)"
   ]
  },
  {
   "cell_type": "code",
   "execution_count": 187,
   "id": "931f1e93-6b7f-4827-8091-9bd2e89f68a3",
   "metadata": {},
   "outputs": [
    {
     "name": "stderr",
     "output_type": "stream",
     "text": [
      "C:\\Users\\LEGION\\AppData\\Local\\Temp\\ipykernel_17964\\2967301968.py:1: RuntimeWarning: invalid value encountered in sqrt\n",
      "  np.sqrt(g)\n"
     ]
    },
    {
     "data": {
      "text/plain": [
       "array([0.73505259,        nan,        nan,        nan, 0.53259946,\n",
       "       1.24796143,        nan,        nan, 1.07602104,        nan])"
      ]
     },
     "execution_count": 187,
     "metadata": {},
     "output_type": "execute_result"
    }
   ],
   "source": [
    "np.sqrt(g)"
   ]
  },
  {
   "cell_type": "code",
   "execution_count": 188,
   "id": "ba3a656d-9665-4a5c-a186-cf5d6e1dfaad",
   "metadata": {},
   "outputs": [
    {
     "data": {
      "text/plain": [
       "array([ 0.81447722, -0.74659005, -0.99665298, -0.86785468,  0.65705312,\n",
       "        1.15913524, -1.2976367 , -0.52237882,  1.05005934, -1.50081659])"
      ]
     },
     "execution_count": 188,
     "metadata": {},
     "output_type": "execute_result"
    }
   ],
   "source": [
    "np.cbrt(g)"
   ]
  },
  {
   "cell_type": "code",
   "execution_count": 192,
   "id": "21f6c13e-41d8-4647-af14-64c7705e9faa",
   "metadata": {},
   "outputs": [
    {
     "data": {
      "text/plain": [
       "[0.5403023058681398,\n",
       " -0.4161468365471424,\n",
       " -0.9899924966004454,\n",
       " -0.6536436208636119,\n",
       " 0.28366218546322625,\n",
       " 1.5574077246549023,\n",
       " -2.185039863261519,\n",
       " -0.1425465430742778,\n",
       " 1.1578212823495777,\n",
       " -3.380515006246586]"
      ]
     },
     "execution_count": 192,
     "metadata": {},
     "output_type": "execute_result"
    }
   ],
   "source": [
    "g.tolist()"
   ]
  },
  {
   "cell_type": "code",
   "execution_count": 194,
   "id": "283784a6-8b7e-4ea3-b758-dfec9bb0f59a",
   "metadata": {},
   "outputs": [
    {
     "data": {
      "text/plain": [
       "array([[5, 5, 5, 5, 5],\n",
       "       [5, 5, 5, 5, 5],\n",
       "       [5, 5, 5, 5, 5],\n",
       "       [5, 5, 5, 5, 5],\n",
       "       [5, 5, 5, 5, 5]])"
      ]
     },
     "execution_count": 194,
     "metadata": {},
     "output_type": "execute_result"
    }
   ],
   "source": [
    "l = np.full([5,5], 5)\n",
    "l"
   ]
  },
  {
   "cell_type": "code",
   "execution_count": null,
   "id": "3876f291-d0c0-450c-b3c5-bdd185652804",
   "metadata": {},
   "outputs": [],
   "source": []
  },
  {
   "cell_type": "code",
   "execution_count": 195,
   "id": "2a05c9ac-2a3c-4b97-97d2-c07c8acaa038",
   "metadata": {},
   "outputs": [],
   "source": [
    "import pandas as pd"
   ]
  },
  {
   "cell_type": "code",
   "execution_count": 199,
   "id": "aa883385-f6c6-48ac-808f-25d0fba26b69",
   "metadata": {},
   "outputs": [
    {
     "ename": "ValueError",
     "evalue": "DataFrame constructor not properly called!",
     "output_type": "error",
     "traceback": [
      "\u001b[1;31m---------------------------------------------------------------------------\u001b[0m",
      "\u001b[1;31mValueError\u001b[0m                                Traceback (most recent call last)",
      "\u001b[1;32m~\\AppData\\Local\\Temp\\ipykernel_17964\\3914677148.py\u001b[0m in \u001b[0;36m?\u001b[1;34m()\u001b[0m\n\u001b[0;32m      1\u001b[0m \u001b[0ma\u001b[0m \u001b[1;33m=\u001b[0m \u001b[0mnp\u001b[0m\u001b[1;33m.\u001b[0m\u001b[0mrandom\u001b[0m\u001b[1;33m.\u001b[0m\u001b[0mrandint\u001b[0m\u001b[1;33m(\u001b[0m\u001b[1;36m10\u001b[0m\u001b[1;33m,\u001b[0m\u001b[1;36m20\u001b[0m\u001b[1;33m)\u001b[0m\u001b[1;33m\u001b[0m\u001b[1;33m\u001b[0m\u001b[0m\n\u001b[1;32m----> 2\u001b[1;33m \u001b[0mb\u001b[0m \u001b[1;33m=\u001b[0m \u001b[0mpd\u001b[0m\u001b[1;33m.\u001b[0m\u001b[0mDataFrame\u001b[0m\u001b[1;33m(\u001b[0m\u001b[0ma\u001b[0m\u001b[1;33m,\u001b[0m\u001b[0mcolumns\u001b[0m\u001b[1;33m=\u001b[0m\u001b[1;33m[\u001b[0m\u001b[1;34m'A'\u001b[0m\u001b[1;33m,\u001b[0m\u001b[1;34m'B'\u001b[0m\u001b[1;33m]\u001b[0m\u001b[1;33m)\u001b[0m\u001b[1;33m\u001b[0m\u001b[1;33m\u001b[0m\u001b[0m\n\u001b[0m\u001b[0;32m      3\u001b[0m \u001b[0mb\u001b[0m\u001b[1;33m\u001b[0m\u001b[1;33m\u001b[0m\u001b[0m\n",
      "\u001b[1;32m~\\AppData\\Local\\Programs\\Python\\Python310\\lib\\site-packages\\pandas\\core\\frame.py\u001b[0m in \u001b[0;36m?\u001b[1;34m(self, data, index, columns, dtype, copy)\u001b[0m\n\u001b[0;32m    882\u001b[0m                 )\n\u001b[0;32m    883\u001b[0m         \u001b[1;31m# For data is scalar\u001b[0m\u001b[1;33m\u001b[0m\u001b[1;33m\u001b[0m\u001b[0m\n\u001b[0;32m    884\u001b[0m         \u001b[1;32melse\u001b[0m\u001b[1;33m:\u001b[0m\u001b[1;33m\u001b[0m\u001b[1;33m\u001b[0m\u001b[0m\n\u001b[0;32m    885\u001b[0m             \u001b[1;32mif\u001b[0m \u001b[0mindex\u001b[0m \u001b[1;32mis\u001b[0m \u001b[1;32mNone\u001b[0m \u001b[1;32mor\u001b[0m \u001b[0mcolumns\u001b[0m \u001b[1;32mis\u001b[0m \u001b[1;32mNone\u001b[0m\u001b[1;33m:\u001b[0m\u001b[1;33m\u001b[0m\u001b[1;33m\u001b[0m\u001b[0m\n\u001b[1;32m--> 886\u001b[1;33m                 \u001b[1;32mraise\u001b[0m \u001b[0mValueError\u001b[0m\u001b[1;33m(\u001b[0m\u001b[1;34m\"DataFrame constructor not properly called!\"\u001b[0m\u001b[1;33m)\u001b[0m\u001b[1;33m\u001b[0m\u001b[1;33m\u001b[0m\u001b[0m\n\u001b[0m\u001b[0;32m    887\u001b[0m \u001b[1;33m\u001b[0m\u001b[0m\n\u001b[0;32m    888\u001b[0m             \u001b[0mindex\u001b[0m \u001b[1;33m=\u001b[0m \u001b[0mensure_index\u001b[0m\u001b[1;33m(\u001b[0m\u001b[0mindex\u001b[0m\u001b[1;33m)\u001b[0m\u001b[1;33m\u001b[0m\u001b[1;33m\u001b[0m\u001b[0m\n\u001b[0;32m    889\u001b[0m             \u001b[0mcolumns\u001b[0m \u001b[1;33m=\u001b[0m \u001b[0mensure_index\u001b[0m\u001b[1;33m(\u001b[0m\u001b[0mcolumns\u001b[0m\u001b[1;33m)\u001b[0m\u001b[1;33m\u001b[0m\u001b[1;33m\u001b[0m\u001b[0m\n",
      "\u001b[1;31mValueError\u001b[0m: DataFrame constructor not properly called!"
     ]
    }
   ],
   "source": [
    "a = np.random.randint(10,20)\n",
    "b = pd.DataFrame(a,columns=['A','B'])\n",
    "b"
   ]
  },
  {
   "cell_type": "code",
   "execution_count": 200,
   "id": "5b0833d4-1518-443a-9348-4f164a578fe4",
   "metadata": {},
   "outputs": [
    {
     "data": {
      "text/html": [
       "<div>\n",
       "<style scoped>\n",
       "    .dataframe tbody tr th:only-of-type {\n",
       "        vertical-align: middle;\n",
       "    }\n",
       "\n",
       "    .dataframe tbody tr th {\n",
       "        vertical-align: top;\n",
       "    }\n",
       "\n",
       "    .dataframe thead th {\n",
       "        text-align: right;\n",
       "    }\n",
       "</style>\n",
       "<table border=\"1\" class=\"dataframe\">\n",
       "  <thead>\n",
       "    <tr style=\"text-align: right;\">\n",
       "      <th></th>\n",
       "      <th>A</th>\n",
       "      <th>B</th>\n",
       "    </tr>\n",
       "  </thead>\n",
       "  <tbody>\n",
       "    <tr>\n",
       "      <th>0</th>\n",
       "      <td>19</td>\n",
       "      <td>14</td>\n",
       "    </tr>\n",
       "    <tr>\n",
       "      <th>1</th>\n",
       "      <td>19</td>\n",
       "      <td>19</td>\n",
       "    </tr>\n",
       "    <tr>\n",
       "      <th>2</th>\n",
       "      <td>13</td>\n",
       "      <td>17</td>\n",
       "    </tr>\n",
       "    <tr>\n",
       "      <th>3</th>\n",
       "      <td>14</td>\n",
       "      <td>19</td>\n",
       "    </tr>\n",
       "    <tr>\n",
       "      <th>4</th>\n",
       "      <td>14</td>\n",
       "      <td>10</td>\n",
       "    </tr>\n",
       "  </tbody>\n",
       "</table>\n",
       "</div>"
      ],
      "text/plain": [
       "    A   B\n",
       "0  19  14\n",
       "1  19  19\n",
       "2  13  17\n",
       "3  14  19\n",
       "4  14  10"
      ]
     },
     "execution_count": 200,
     "metadata": {},
     "output_type": "execute_result"
    }
   ],
   "source": [
    "a = np.random.randint(10,20, size=(5,2))\n",
    "b = pd.DataFrame(a,columns=['A','B'])\n",
    "b"
   ]
  },
  {
   "cell_type": "code",
   "execution_count": 202,
   "id": "4d1a7981-a8a2-4574-83be-9a4f314e3d98",
   "metadata": {},
   "outputs": [
    {
     "data": {
      "text/html": [
       "<div>\n",
       "<style scoped>\n",
       "    .dataframe tbody tr th:only-of-type {\n",
       "        vertical-align: middle;\n",
       "    }\n",
       "\n",
       "    .dataframe tbody tr th {\n",
       "        vertical-align: top;\n",
       "    }\n",
       "\n",
       "    .dataframe thead th {\n",
       "        text-align: right;\n",
       "    }\n",
       "</style>\n",
       "<table border=\"1\" class=\"dataframe\">\n",
       "  <thead>\n",
       "    <tr style=\"text-align: right;\">\n",
       "      <th></th>\n",
       "      <th>0</th>\n",
       "    </tr>\n",
       "  </thead>\n",
       "  <tbody>\n",
       "    <tr>\n",
       "      <th>0</th>\n",
       "      <td>18</td>\n",
       "    </tr>\n",
       "    <tr>\n",
       "      <th>1</th>\n",
       "      <td>16</td>\n",
       "    </tr>\n",
       "    <tr>\n",
       "      <th>2</th>\n",
       "      <td>17</td>\n",
       "    </tr>\n",
       "    <tr>\n",
       "      <th>3</th>\n",
       "      <td>17</td>\n",
       "    </tr>\n",
       "    <tr>\n",
       "      <th>4</th>\n",
       "      <td>11</td>\n",
       "    </tr>\n",
       "  </tbody>\n",
       "</table>\n",
       "</div>"
      ],
      "text/plain": [
       "    0\n",
       "0  18\n",
       "1  16\n",
       "2  17\n",
       "3  17\n",
       "4  11"
      ]
     },
     "execution_count": 202,
     "metadata": {},
     "output_type": "execute_result"
    }
   ],
   "source": [
    "a = np.random.randint(10,20, size=5)\n",
    "b = pd.DataFrame(a)\n",
    "b"
   ]
  },
  {
   "cell_type": "code",
   "execution_count": 203,
   "id": "8affcf0e-806c-4205-9683-a632f11180b6",
   "metadata": {},
   "outputs": [
    {
     "data": {
      "text/plain": [
       "RangeIndex(start=0, stop=5, step=1)"
      ]
     },
     "execution_count": 203,
     "metadata": {},
     "output_type": "execute_result"
    }
   ],
   "source": [
    "b.index"
   ]
  },
  {
   "cell_type": "code",
   "execution_count": 204,
   "id": "c247302c-daa1-462e-93c8-2586307adb0c",
   "metadata": {},
   "outputs": [
    {
     "data": {
      "text/plain": [
       "RangeIndex(start=0, stop=1, step=1)"
      ]
     },
     "execution_count": 204,
     "metadata": {},
     "output_type": "execute_result"
    }
   ],
   "source": [
    "b.columns"
   ]
  },
  {
   "cell_type": "code",
   "execution_count": 205,
   "id": "1180b1ce-517b-43df-9eb8-6a4a1da710cb",
   "metadata": {},
   "outputs": [
    {
     "data": {
      "text/plain": [
       "[RangeIndex(start=0, stop=5, step=1), RangeIndex(start=0, stop=1, step=1)]"
      ]
     },
     "execution_count": 205,
     "metadata": {},
     "output_type": "execute_result"
    }
   ],
   "source": [
    "b.axes"
   ]
  },
  {
   "cell_type": "code",
   "execution_count": 206,
   "id": "c1e73da4-4c71-4022-800a-56f74c404e8d",
   "metadata": {},
   "outputs": [
    {
     "data": {
      "text/plain": [
       "0    int32\n",
       "dtype: object"
      ]
     },
     "execution_count": 206,
     "metadata": {},
     "output_type": "execute_result"
    }
   ],
   "source": [
    "b.dtypes"
   ]
  },
  {
   "cell_type": "code",
   "execution_count": 207,
   "id": "3e851c43-e507-4356-a344-f84871303e0e",
   "metadata": {},
   "outputs": [
    {
     "name": "stdout",
     "output_type": "stream",
     "text": [
      "<class 'pandas.core.frame.DataFrame'>\n",
      "RangeIndex: 5 entries, 0 to 4\n",
      "Data columns (total 1 columns):\n",
      " #   Column  Non-Null Count  Dtype\n",
      "---  ------  --------------  -----\n",
      " 0   0       5 non-null      int32\n",
      "dtypes: int32(1)\n",
      "memory usage: 148.0 bytes\n"
     ]
    }
   ],
   "source": [
    "b.info()"
   ]
  },
  {
   "cell_type": "code",
   "execution_count": 208,
   "id": "0307c822-ff90-4d9a-aa16-07d6123be11a",
   "metadata": {},
   "outputs": [
    {
     "data": {
      "text/html": [
       "<div>\n",
       "<style scoped>\n",
       "    .dataframe tbody tr th:only-of-type {\n",
       "        vertical-align: middle;\n",
       "    }\n",
       "\n",
       "    .dataframe tbody tr th {\n",
       "        vertical-align: top;\n",
       "    }\n",
       "\n",
       "    .dataframe thead th {\n",
       "        text-align: right;\n",
       "    }\n",
       "</style>\n",
       "<table border=\"1\" class=\"dataframe\">\n",
       "  <thead>\n",
       "    <tr style=\"text-align: right;\">\n",
       "      <th></th>\n",
       "      <th>0</th>\n",
       "    </tr>\n",
       "  </thead>\n",
       "  <tbody>\n",
       "    <tr>\n",
       "      <th>count</th>\n",
       "      <td>5.000000</td>\n",
       "    </tr>\n",
       "    <tr>\n",
       "      <th>mean</th>\n",
       "      <td>15.800000</td>\n",
       "    </tr>\n",
       "    <tr>\n",
       "      <th>std</th>\n",
       "      <td>2.774887</td>\n",
       "    </tr>\n",
       "    <tr>\n",
       "      <th>min</th>\n",
       "      <td>11.000000</td>\n",
       "    </tr>\n",
       "    <tr>\n",
       "      <th>25%</th>\n",
       "      <td>16.000000</td>\n",
       "    </tr>\n",
       "    <tr>\n",
       "      <th>50%</th>\n",
       "      <td>17.000000</td>\n",
       "    </tr>\n",
       "    <tr>\n",
       "      <th>75%</th>\n",
       "      <td>17.000000</td>\n",
       "    </tr>\n",
       "    <tr>\n",
       "      <th>max</th>\n",
       "      <td>18.000000</td>\n",
       "    </tr>\n",
       "  </tbody>\n",
       "</table>\n",
       "</div>"
      ],
      "text/plain": [
       "               0\n",
       "count   5.000000\n",
       "mean   15.800000\n",
       "std     2.774887\n",
       "min    11.000000\n",
       "25%    16.000000\n",
       "50%    17.000000\n",
       "75%    17.000000\n",
       "max    18.000000"
      ]
     },
     "execution_count": 208,
     "metadata": {},
     "output_type": "execute_result"
    }
   ],
   "source": [
    "b.describe()"
   ]
  },
  {
   "cell_type": "code",
   "execution_count": 211,
   "id": "da4c6c7b-8e0f-4b7b-8b10-41dcf98d82a6",
   "metadata": {},
   "outputs": [
    {
     "data": {
      "text/html": [
       "<div>\n",
       "<style scoped>\n",
       "    .dataframe tbody tr th:only-of-type {\n",
       "        vertical-align: middle;\n",
       "    }\n",
       "\n",
       "    .dataframe tbody tr th {\n",
       "        vertical-align: top;\n",
       "    }\n",
       "\n",
       "    .dataframe thead th {\n",
       "        text-align: right;\n",
       "    }\n",
       "</style>\n",
       "<table border=\"1\" class=\"dataframe\">\n",
       "  <thead>\n",
       "    <tr style=\"text-align: right;\">\n",
       "      <th></th>\n",
       "      <th>0</th>\n",
       "    </tr>\n",
       "  </thead>\n",
       "  <tbody>\n",
       "    <tr>\n",
       "      <th>0</th>\n",
       "      <td>18</td>\n",
       "    </tr>\n",
       "    <tr>\n",
       "      <th>1</th>\n",
       "      <td>16</td>\n",
       "    </tr>\n",
       "    <tr>\n",
       "      <th>2</th>\n",
       "      <td>17</td>\n",
       "    </tr>\n",
       "    <tr>\n",
       "      <th>3</th>\n",
       "      <td>17</td>\n",
       "    </tr>\n",
       "    <tr>\n",
       "      <th>4</th>\n",
       "      <td>11</td>\n",
       "    </tr>\n",
       "  </tbody>\n",
       "</table>\n",
       "</div>"
      ],
      "text/plain": [
       "    0\n",
       "0  18\n",
       "1  16\n",
       "2  17\n",
       "3  17\n",
       "4  11"
      ]
     },
     "execution_count": 211,
     "metadata": {},
     "output_type": "execute_result"
    }
   ],
   "source": [
    "b"
   ]
  },
  {
   "cell_type": "code",
   "execution_count": 210,
   "id": "80a239fc-b7aa-418b-ad0a-9bcc9884321a",
   "metadata": {},
   "outputs": [
    {
     "data": {
      "text/html": [
       "<div>\n",
       "<style scoped>\n",
       "    .dataframe tbody tr th:only-of-type {\n",
       "        vertical-align: middle;\n",
       "    }\n",
       "\n",
       "    .dataframe tbody tr th {\n",
       "        vertical-align: top;\n",
       "    }\n",
       "\n",
       "    .dataframe thead th {\n",
       "        text-align: right;\n",
       "    }\n",
       "</style>\n",
       "<table border=\"1\" class=\"dataframe\">\n",
       "  <thead>\n",
       "    <tr style=\"text-align: right;\">\n",
       "      <th></th>\n",
       "      <th>0</th>\n",
       "    </tr>\n",
       "  </thead>\n",
       "  <tbody>\n",
       "    <tr>\n",
       "      <th>0</th>\n",
       "      <td>18</td>\n",
       "    </tr>\n",
       "  </tbody>\n",
       "</table>\n",
       "</div>"
      ],
      "text/plain": [
       "    0\n",
       "0  18"
      ]
     },
     "execution_count": 210,
     "metadata": {},
     "output_type": "execute_result"
    }
   ],
   "source": [
    "b[0:1]"
   ]
  },
  {
   "cell_type": "code",
   "execution_count": 212,
   "id": "6a7f711d-a2ff-4659-955c-d46c7113925d",
   "metadata": {},
   "outputs": [
    {
     "data": {
      "text/html": [
       "<div>\n",
       "<style scoped>\n",
       "    .dataframe tbody tr th:only-of-type {\n",
       "        vertical-align: middle;\n",
       "    }\n",
       "\n",
       "    .dataframe tbody tr th {\n",
       "        vertical-align: top;\n",
       "    }\n",
       "\n",
       "    .dataframe thead th {\n",
       "        text-align: right;\n",
       "    }\n",
       "</style>\n",
       "<table border=\"1\" class=\"dataframe\">\n",
       "  <thead>\n",
       "    <tr style=\"text-align: right;\">\n",
       "      <th></th>\n",
       "      <th>0</th>\n",
       "    </tr>\n",
       "  </thead>\n",
       "  <tbody>\n",
       "    <tr>\n",
       "      <th>0</th>\n",
       "      <td>18</td>\n",
       "    </tr>\n",
       "    <tr>\n",
       "      <th>1</th>\n",
       "      <td>16</td>\n",
       "    </tr>\n",
       "    <tr>\n",
       "      <th>2</th>\n",
       "      <td>17</td>\n",
       "    </tr>\n",
       "    <tr>\n",
       "      <th>3</th>\n",
       "      <td>17</td>\n",
       "    </tr>\n",
       "    <tr>\n",
       "      <th>4</th>\n",
       "      <td>11</td>\n",
       "    </tr>\n",
       "  </tbody>\n",
       "</table>\n",
       "</div>"
      ],
      "text/plain": [
       "    0\n",
       "0  18\n",
       "1  16\n",
       "2  17\n",
       "3  17\n",
       "4  11"
      ]
     },
     "execution_count": 212,
     "metadata": {},
     "output_type": "execute_result"
    }
   ],
   "source": [
    "b[:5]"
   ]
  },
  {
   "cell_type": "code",
   "execution_count": null,
   "id": "079e12cd-ae7f-4dff-80e7-98f61c3d147a",
   "metadata": {},
   "outputs": [],
   "source": []
  },
  {
   "cell_type": "code",
   "execution_count": null,
   "id": "fc721833-c8fd-4e44-a4e1-3cf10abe09c7",
   "metadata": {},
   "outputs": [],
   "source": []
  },
  {
   "cell_type": "code",
   "execution_count": null,
   "id": "c2490fde-8582-4381-adbf-0d0543ee6251",
   "metadata": {},
   "outputs": [],
   "source": []
  },
  {
   "cell_type": "code",
   "execution_count": null,
   "id": "14487eef-ae8b-4742-8131-f17add8e1668",
   "metadata": {},
   "outputs": [],
   "source": []
  },
  {
   "cell_type": "code",
   "execution_count": null,
   "id": "cc1e93ed-4792-4f14-8326-55281af9e0b7",
   "metadata": {},
   "outputs": [],
   "source": []
  },
  {
   "cell_type": "code",
   "execution_count": null,
   "id": "a3a46917-1e5b-4388-bca0-78b9a442fd87",
   "metadata": {},
   "outputs": [],
   "source": []
  },
  {
   "cell_type": "code",
   "execution_count": null,
   "id": "523b818e-7bed-418d-b46c-54beb8815c62",
   "metadata": {},
   "outputs": [],
   "source": []
  },
  {
   "cell_type": "code",
   "execution_count": null,
   "id": "832eb802-d234-48f8-aed9-f5b0b4493784",
   "metadata": {},
   "outputs": [],
   "source": []
  },
  {
   "cell_type": "code",
   "execution_count": null,
   "id": "e84ac27c-94bd-444f-a982-2c3ffe8a8aa1",
   "metadata": {},
   "outputs": [],
   "source": []
  },
  {
   "cell_type": "code",
   "execution_count": null,
   "id": "f21a8927-2838-4307-bd71-4d08283b1835",
   "metadata": {},
   "outputs": [],
   "source": []
  },
  {
   "cell_type": "code",
   "execution_count": null,
   "id": "9a8f7fcf-97ec-4c19-83c4-54864bb6463b",
   "metadata": {},
   "outputs": [],
   "source": []
  },
  {
   "cell_type": "code",
   "execution_count": null,
   "id": "1a5ca470-e1a4-4376-b45b-39fb22243fa5",
   "metadata": {},
   "outputs": [],
   "source": []
  },
  {
   "cell_type": "code",
   "execution_count": null,
   "id": "8e61d3b0-cf40-4945-b766-7ad04b61169f",
   "metadata": {},
   "outputs": [],
   "source": []
  },
  {
   "cell_type": "code",
   "execution_count": null,
   "id": "273c0d4f-2c16-477a-9d31-19477e71ec63",
   "metadata": {},
   "outputs": [],
   "source": []
  },
  {
   "cell_type": "code",
   "execution_count": null,
   "id": "131d4b69-242f-406e-887b-cb40a598f8ec",
   "metadata": {},
   "outputs": [],
   "source": []
  }
 ],
 "metadata": {
  "kernelspec": {
   "display_name": "Python 3 (ipykernel)",
   "language": "python",
   "name": "python3"
  },
  "language_info": {
   "codemirror_mode": {
    "name": "ipython",
    "version": 3
   },
   "file_extension": ".py",
   "mimetype": "text/x-python",
   "name": "python",
   "nbconvert_exporter": "python",
   "pygments_lexer": "ipython3",
   "version": "3.10.11"
  }
 },
 "nbformat": 4,
 "nbformat_minor": 5
}
