{
 "cells": [
  {
   "cell_type": "code",
   "execution_count": 1,
   "id": "63e4f123-df74-48bd-aa74-ab7fc5b5adb1",
   "metadata": {},
   "outputs": [
    {
     "name": "stdout",
     "output_type": "stream",
     "text": [
      "Requirement already satisfied: nltk in c:\\users\\legion\\appdata\\local\\programs\\python\\python310\\lib\\site-packages (3.9.1)\n",
      "Requirement already satisfied: click in c:\\users\\legion\\appdata\\local\\programs\\python\\python310\\lib\\site-packages (from nltk) (8.1.7)\n",
      "Requirement already satisfied: joblib in c:\\users\\legion\\appdata\\local\\programs\\python\\python310\\lib\\site-packages (from nltk) (1.4.2)\n",
      "Requirement already satisfied: regex>=2021.8.3 in c:\\users\\legion\\appdata\\local\\programs\\python\\python310\\lib\\site-packages (from nltk) (2024.7.24)\n",
      "Requirement already satisfied: tqdm in c:\\users\\legion\\appdata\\local\\programs\\python\\python310\\lib\\site-packages (from nltk) (4.66.5)\n",
      "Requirement already satisfied: colorama in c:\\users\\legion\\appdata\\local\\programs\\python\\python310\\lib\\site-packages (from click->nltk) (0.4.6)\n",
      "Note: you may need to restart the kernel to use updated packages.\n"
     ]
    },
    {
     "name": "stderr",
     "output_type": "stream",
     "text": [
      "\n",
      "[notice] A new release of pip is available: 24.2 -> 24.3.1\n",
      "[notice] To update, run: python.exe -m pip install --upgrade pip\n"
     ]
    }
   ],
   "source": [
    "pip install nltk"
   ]
  },
  {
   "cell_type": "code",
   "execution_count": 2,
   "id": "f1a4db63-14c8-4b26-87c8-daa89d7c2141",
   "metadata": {},
   "outputs": [],
   "source": [
    "from nltk import word_tokenize"
   ]
  },
  {
   "cell_type": "code",
   "execution_count": 4,
   "id": "37b0484d-cf4c-4d28-b00a-2570cabed4d7",
   "metadata": {},
   "outputs": [],
   "source": [
    "a = \"\"\"With the rise of Generative AI, NLP, and Machine Learning, there is significant demand for skilled professionals, which \n",
    "further increases the salary potential for someone with your background.\"\"\""
   ]
  },
  {
   "cell_type": "code",
   "execution_count": 5,
   "id": "0116b231-1e8b-477a-8321-65d90e64258d",
   "metadata": {},
   "outputs": [
    {
     "name": "stdout",
     "output_type": "stream",
     "text": [
      "['With', 'the', 'rise', 'of', 'Generative', 'AI', ',', 'NLP', ',', 'and', 'Machine', 'Learning', ',', 'there', 'is', 'significant', 'demand', 'for', 'skilled', 'professionals', ',', 'which', 'further', 'increases', 'the', 'salary', 'potential', 'for', 'someone', 'with', 'your', 'background', '.']\n"
     ]
    }
   ],
   "source": [
    "b = word_tokenize(a)\n",
    "print(b)"
   ]
  },
  {
   "cell_type": "code",
   "execution_count": null,
   "id": "496b9662-7003-4251-a1d2-cd2a3f8da5af",
   "metadata": {},
   "outputs": [],
   "source": []
  },
  {
   "cell_type": "code",
   "execution_count": 8,
   "id": "7647aeab-abe2-43d2-a39f-b81a69e9afd1",
   "metadata": {},
   "outputs": [],
   "source": [
    "from nltk import PorterStemmer"
   ]
  },
  {
   "cell_type": "code",
   "execution_count": 9,
   "id": "cb6af84d-3d12-4ffa-8ed7-80bafbbe3360",
   "metadata": {},
   "outputs": [],
   "source": [
    "a = \"\"\"With the rise of Generative AI, NLP, and Machine Learning, there is significant demand for skilled professionals, which \n",
    "further increases the salary potential for someone with your background.\"\"\""
   ]
  },
  {
   "cell_type": "code",
   "execution_count": 10,
   "id": "c0aebd4a-abda-4e90-8c69-325b153f378e",
   "metadata": {},
   "outputs": [],
   "source": [
    "PS = PorterStemmer()"
   ]
  },
  {
   "cell_type": "code",
   "execution_count": 12,
   "id": "7a5cef29-f01f-40a8-ae4b-482d6e0a3cd4",
   "metadata": {},
   "outputs": [
    {
     "name": "stdout",
     "output_type": "stream",
     "text": [
      "['with', 'the', 'rise', 'of', 'gener', 'ai', ',', 'nlp', ',', 'and', 'machin', 'learn', ',', 'there', 'is', 'signific', 'demand', 'for', 'skill', 'profession', ',', 'which', 'further', 'increas', 'the', 'salari', 'potenti', 'for', 'someon', 'with', 'your', 'background', '.']\n"
     ]
    }
   ],
   "source": [
    "c = [PS.stem(i) for i in b]\n",
    "print(c)"
   ]
  },
  {
   "cell_type": "code",
   "execution_count": null,
   "id": "092798ac-91c2-4eda-820f-866955a5003f",
   "metadata": {},
   "outputs": [],
   "source": []
  },
  {
   "cell_type": "code",
   "execution_count": 22,
   "id": "0c3b14ba-dffb-4b0e-83ba-937006663e90",
   "metadata": {},
   "outputs": [],
   "source": [
    "from nltk import word_tokenize\n",
    "from nltk import PorterStemmer\n",
    "from nltk.corpus import stopwords\n",
    "import re "
   ]
  },
  {
   "cell_type": "code",
   "execution_count": 23,
   "id": "2024d9d0-7af2-477a-909e-249e85bf17f3",
   "metadata": {},
   "outputs": [],
   "source": [
    "a=\"\"\"Document processing involves the automated handling of textual and visual data extracted from structured, semi-structured, and unstructured documents. It typically combines technologies like Optical Character Recognition (OCR), Natural Language Processing (NLP), and Machine Learning to identify, extract, and classify key information. Applications range from invoice processing and contract analysis to sentiment extraction from reviews and data summarization. By leveraging advanced algorithms, document processing systems ensure accuracy, efficiency, and scalability, making them integral to industries like finance, healthcare, legal, and e-commerce. For example, automating financial document summarization helps streamline auditing, reporting, and decision-making processes.\"\"\""
   ]
  },
  {
   "cell_type": "code",
   "execution_count": 24,
   "id": "a1bf6cfa-352b-459d-9236-864b3c2773dd",
   "metadata": {},
   "outputs": [],
   "source": [
    "ps = PorterStemmer()"
   ]
  },
  {
   "cell_type": "code",
   "execution_count": 27,
   "id": "215161b5-97e9-4cbc-94c2-a7b4381826bb",
   "metadata": {},
   "outputs": [
    {
     "name": "stderr",
     "output_type": "stream",
     "text": [
      "[nltk_data] Downloading package stopwords to\n",
      "[nltk_data]     C:\\Users\\LEGION\\AppData\\Roaming\\nltk_data...\n",
      "[nltk_data]   Package stopwords is already up-to-date!\n",
      "[nltk_data] Downloading package punkt to\n",
      "[nltk_data]     C:\\Users\\LEGION\\AppData\\Roaming\\nltk_data...\n",
      "[nltk_data]   Package punkt is already up-to-date!\n"
     ]
    },
    {
     "data": {
      "text/plain": [
       "True"
      ]
     },
     "execution_count": 27,
     "metadata": {},
     "output_type": "execute_result"
    }
   ],
   "source": [
    "import nltk\n",
    "nltk.download('stopwords')\n",
    "nltk.download('punkt')"
   ]
  },
  {
   "cell_type": "code",
   "execution_count": 46,
   "id": "c7038f22-9f37-46f3-ae11-6cf59308abc7",
   "metadata": {},
   "outputs": [],
   "source": [
    "def clean(x):\n",
    "    a = x.lower()\n",
    "    b = re.findall('\\w+',a)\n",
    "    c = \" \".join([i for i in b if i not in stopwords.words('english')])\n",
    "    d = word_tokenize(c)\n",
    "    e = ' '.join([ps.stem(i) for i in d])\n",
    "    return e"
   ]
  },
  {
   "cell_type": "code",
   "execution_count": 47,
   "id": "95c96bbe-2d4f-48d8-abc1-484bff941cf5",
   "metadata": {},
   "outputs": [
    {
     "data": {
      "text/plain": [
       "'document process involv autom handl textual visual data extract structur semi structur unstructur document typic combin technolog like optic charact recognit ocr natur languag process nlp machin learn identifi extract classifi key inform applic rang invoic process contract analysi sentiment extract review data summar leverag advanc algorithm document process system ensur accuraci effici scalabl make integr industri like financ healthcar legal e commerc exampl autom financi document summar help streamlin audit report decis make process'"
      ]
     },
     "execution_count": 47,
     "metadata": {},
     "output_type": "execute_result"
    }
   ],
   "source": [
    "clean(a)"
   ]
  },
  {
   "cell_type": "code",
   "execution_count": null,
   "id": "140cca53-39ae-427b-806f-f2eba9839b27",
   "metadata": {},
   "outputs": [],
   "source": []
  },
  {
   "cell_type": "code",
   "execution_count": 50,
   "id": "45a4424a-cf22-4caa-a257-f2d3dcccebf3",
   "metadata": {},
   "outputs": [
    {
     "name": "stdout",
     "output_type": "stream",
     "text": [
      "Requirement already satisfied: scikit-learn in c:\\users\\legion\\appdata\\local\\programs\\python\\python310\\lib\\site-packages (1.5.1)\n",
      "Requirement already satisfied: numpy>=1.19.5 in c:\\users\\legion\\appdata\\local\\programs\\python\\python310\\lib\\site-packages (from scikit-learn) (1.23.5)\n",
      "Requirement already satisfied: scipy>=1.6.0 in c:\\users\\legion\\appdata\\local\\programs\\python\\python310\\lib\\site-packages (from scikit-learn) (1.13.1)\n",
      "Requirement already satisfied: joblib>=1.2.0 in c:\\users\\legion\\appdata\\local\\programs\\python\\python310\\lib\\site-packages (from scikit-learn) (1.4.2)\n",
      "Requirement already satisfied: threadpoolctl>=3.1.0 in c:\\users\\legion\\appdata\\local\\programs\\python\\python310\\lib\\site-packages (from scikit-learn) (3.5.0)\n",
      "Note: you may need to restart the kernel to use updated packages.\n"
     ]
    },
    {
     "name": "stderr",
     "output_type": "stream",
     "text": [
      "\n",
      "[notice] A new release of pip is available: 24.2 -> 24.3.1\n",
      "[notice] To update, run: python.exe -m pip install --upgrade pip\n"
     ]
    }
   ],
   "source": [
    "pip install scikit-learn"
   ]
  },
  {
   "cell_type": "code",
   "execution_count": 51,
   "id": "a8958556-9b2f-456b-a68a-24bd60e18da7",
   "metadata": {},
   "outputs": [],
   "source": [
    "from sklearn.feature_extraction.text import CountVectorizer"
   ]
  },
  {
   "cell_type": "code",
   "execution_count": 53,
   "id": "bb875f56-354e-4ffe-8ee9-6eea9c6dc10f",
   "metadata": {},
   "outputs": [],
   "source": [
    "x = ['document process involv autom handl textual visual data extract structur semi structur unstructur document typic combin technolog like optic charact recognit ocr natur languag process nlp machin learn identifi extract classifi key inform applic rang invoic process contract analysi sentiment extract review data summar leverag advanc algorithm document process system ensur accuraci effici scalabl make integr industri like financ healthcar legal e commerc exampl autom financi document summar help streamlin audit report decis make process']"
   ]
  },
  {
   "cell_type": "code",
   "execution_count": 54,
   "id": "17ad80ca-3996-47a9-a32e-202564bd895f",
   "metadata": {},
   "outputs": [
    {
     "name": "stdout",
     "output_type": "stream",
     "text": [
      "[[1 1 1 1 1 1 2 1 1 1 1 1 2 1 4 1 1 1 3 1 1 1 1 1 1 1 1 1 1 1 1 1 1 1 1 2\n",
      "  1 2 1 1 1 1 5 1 1 1 1 1 1 1 1 2 2 1 1 1 1 1 1]]\n"
     ]
    }
   ],
   "source": [
    "a = CountVectorizer()\n",
    "b = a.fit_transform(x)\n",
    "c = b.toarray()\n",
    "print(c)"
   ]
  },
  {
   "cell_type": "code",
   "execution_count": null,
   "id": "f954e95c-79a5-46ed-a011-91e68a40c873",
   "metadata": {},
   "outputs": [],
   "source": []
  },
  {
   "cell_type": "code",
   "execution_count": 55,
   "id": "8c1065a9-2d71-4d4d-b2ca-4786b7337445",
   "metadata": {},
   "outputs": [],
   "source": [
    "from sklearn.feature_extraction.text import TfidfVectorizer"
   ]
  },
  {
   "cell_type": "code",
   "execution_count": 56,
   "id": "1e7583e0-4b33-4d86-8354-b98301facbcb",
   "metadata": {},
   "outputs": [
    {
     "name": "stdout",
     "output_type": "stream",
     "text": [
      "[[0.08980265 0.08980265 0.08980265 0.08980265 0.08980265 0.08980265\n",
      "  0.1796053  0.08980265 0.08980265 0.08980265 0.08980265 0.08980265\n",
      "  0.1796053  0.08980265 0.3592106  0.08980265 0.08980265 0.08980265\n",
      "  0.26940795 0.08980265 0.08980265 0.08980265 0.08980265 0.08980265\n",
      "  0.08980265 0.08980265 0.08980265 0.08980265 0.08980265 0.08980265\n",
      "  0.08980265 0.08980265 0.08980265 0.08980265 0.08980265 0.1796053\n",
      "  0.08980265 0.1796053  0.08980265 0.08980265 0.08980265 0.08980265\n",
      "  0.44901326 0.08980265 0.08980265 0.08980265 0.08980265 0.08980265\n",
      "  0.08980265 0.08980265 0.08980265 0.1796053  0.1796053  0.08980265\n",
      "  0.08980265 0.08980265 0.08980265 0.08980265 0.08980265]]\n"
     ]
    }
   ],
   "source": [
    "a = TfidfVectorizer()\n",
    "c = a.fit_transform(x)\n",
    "d = c.toarray()\n",
    "print(d)"
   ]
  },
  {
   "cell_type": "code",
   "execution_count": null,
   "id": "783f38ed-dc73-4951-97c6-e127698ec242",
   "metadata": {},
   "outputs": [],
   "source": []
  },
  {
   "cell_type": "code",
   "execution_count": null,
   "id": "74617359-b53d-4b19-a126-c5091a88c757",
   "metadata": {},
   "outputs": [],
   "source": []
  },
  {
   "cell_type": "code",
   "execution_count": null,
   "id": "8fe4ab17-0af5-4283-b79b-2624908ea6f7",
   "metadata": {},
   "outputs": [],
   "source": []
  },
  {
   "cell_type": "code",
   "execution_count": null,
   "id": "04adb6f5-8403-4165-98a7-8ca25d094cc0",
   "metadata": {},
   "outputs": [],
   "source": []
  },
  {
   "cell_type": "code",
   "execution_count": null,
   "id": "a79b1b54-2e3e-47f3-80c3-9ae3d61eb220",
   "metadata": {},
   "outputs": [],
   "source": []
  },
  {
   "cell_type": "code",
   "execution_count": null,
   "id": "cea0374f-c7c1-4abb-b963-83e35a184a0a",
   "metadata": {},
   "outputs": [],
   "source": []
  },
  {
   "cell_type": "code",
   "execution_count": null,
   "id": "9e72dd19-de82-40d9-b9a3-ae033233f14a",
   "metadata": {},
   "outputs": [],
   "source": []
  },
  {
   "cell_type": "code",
   "execution_count": null,
   "id": "519e06cd-d11b-4da1-ad46-f2e29b013394",
   "metadata": {},
   "outputs": [],
   "source": []
  },
  {
   "cell_type": "code",
   "execution_count": null,
   "id": "5b7bb72e-cef8-4d35-9c14-ce9201ad7d01",
   "metadata": {},
   "outputs": [],
   "source": []
  },
  {
   "cell_type": "code",
   "execution_count": null,
   "id": "e3bc98e9-98f8-4fe3-898a-00b2b36a380e",
   "metadata": {},
   "outputs": [],
   "source": []
  },
  {
   "cell_type": "code",
   "execution_count": null,
   "id": "1e6340e4-b0a4-41d0-9d3a-b903cfda662a",
   "metadata": {},
   "outputs": [],
   "source": []
  },
  {
   "cell_type": "code",
   "execution_count": null,
   "id": "7f77ed46-ff09-4b0c-845a-74ec57be2162",
   "metadata": {},
   "outputs": [],
   "source": []
  },
  {
   "cell_type": "code",
   "execution_count": null,
   "id": "8c07ac52-0be6-4bf9-bfda-f4e305d15ecc",
   "metadata": {},
   "outputs": [],
   "source": []
  },
  {
   "cell_type": "code",
   "execution_count": null,
   "id": "16e9c1e7-be28-4072-8ffb-daa8d423bfeb",
   "metadata": {},
   "outputs": [],
   "source": []
  },
  {
   "cell_type": "code",
   "execution_count": null,
   "id": "e8c1960e-5b78-437d-829f-f95e5d83e8a0",
   "metadata": {},
   "outputs": [],
   "source": []
  },
  {
   "cell_type": "code",
   "execution_count": null,
   "id": "3bf2cf3d-a64c-4a23-9a87-6e7fac22e42b",
   "metadata": {},
   "outputs": [],
   "source": []
  },
  {
   "cell_type": "code",
   "execution_count": null,
   "id": "4505c478-2c1b-49d5-be4c-3529bf32baac",
   "metadata": {},
   "outputs": [],
   "source": []
  },
  {
   "cell_type": "code",
   "execution_count": null,
   "id": "1935b1ad-c422-41b5-b45e-5af691c85e2c",
   "metadata": {},
   "outputs": [],
   "source": []
  },
  {
   "cell_type": "code",
   "execution_count": null,
   "id": "897da6ff-4a80-4f36-bb79-2f19ef82c4d9",
   "metadata": {},
   "outputs": [],
   "source": []
  },
  {
   "cell_type": "code",
   "execution_count": null,
   "id": "011e249b-4353-4925-abb5-404d394fa1f7",
   "metadata": {},
   "outputs": [],
   "source": []
  },
  {
   "cell_type": "code",
   "execution_count": null,
   "id": "3576ac2f-259e-42a0-8155-6192b8465271",
   "metadata": {},
   "outputs": [],
   "source": []
  },
  {
   "cell_type": "code",
   "execution_count": null,
   "id": "a0879173-fabd-4fc0-b586-28d801f4c05b",
   "metadata": {},
   "outputs": [],
   "source": []
  },
  {
   "cell_type": "code",
   "execution_count": null,
   "id": "b97db8f7-ac34-4739-91d2-80285e00950f",
   "metadata": {},
   "outputs": [],
   "source": []
  },
  {
   "cell_type": "code",
   "execution_count": null,
   "id": "5545f0de-0857-4617-b285-080f7208cdd4",
   "metadata": {},
   "outputs": [],
   "source": []
  },
  {
   "cell_type": "code",
   "execution_count": null,
   "id": "5a4ae0c1-4581-4a72-ae7d-dae8d9badb02",
   "metadata": {},
   "outputs": [],
   "source": []
  },
  {
   "cell_type": "code",
   "execution_count": null,
   "id": "022afcd4-9931-4b3b-b342-86be4727d7c7",
   "metadata": {},
   "outputs": [],
   "source": []
  },
  {
   "cell_type": "code",
   "execution_count": null,
   "id": "81e07a07-f5ee-4ecb-a3a9-7b2cd3d37cf8",
   "metadata": {},
   "outputs": [],
   "source": []
  },
  {
   "cell_type": "code",
   "execution_count": null,
   "id": "f402d29d-679a-47d3-ba91-2916c2af56a7",
   "metadata": {},
   "outputs": [],
   "source": []
  },
  {
   "cell_type": "code",
   "execution_count": null,
   "id": "df4dbc28-58d9-47b0-9070-2b772cdca804",
   "metadata": {},
   "outputs": [],
   "source": []
  },
  {
   "cell_type": "code",
   "execution_count": null,
   "id": "d37bd01d-9a6b-4269-9d65-20d4511aa0ad",
   "metadata": {},
   "outputs": [],
   "source": []
  },
  {
   "cell_type": "code",
   "execution_count": null,
   "id": "10413b1e-9c93-4dac-af17-1308736bcc57",
   "metadata": {},
   "outputs": [],
   "source": []
  },
  {
   "cell_type": "code",
   "execution_count": null,
   "id": "35283677-87f3-4b6d-b1f0-619f7225fc67",
   "metadata": {},
   "outputs": [],
   "source": []
  },
  {
   "cell_type": "code",
   "execution_count": null,
   "id": "ec65eade-b6ea-4002-9035-a67cb05e4019",
   "metadata": {},
   "outputs": [],
   "source": []
  },
  {
   "cell_type": "code",
   "execution_count": null,
   "id": "4b19862d-c4c8-4e1b-acf8-01b2d75411e9",
   "metadata": {},
   "outputs": [],
   "source": []
  },
  {
   "cell_type": "code",
   "execution_count": null,
   "id": "5027c6db-b1c5-4882-9a13-3e65fdd7f4e7",
   "metadata": {},
   "outputs": [],
   "source": []
  },
  {
   "cell_type": "code",
   "execution_count": null,
   "id": "512a1fe5-e303-4b02-895b-b9a3d8476e5d",
   "metadata": {},
   "outputs": [],
   "source": []
  },
  {
   "cell_type": "code",
   "execution_count": null,
   "id": "4963cf0d-9c12-4c66-bf91-a82407f5c7ba",
   "metadata": {},
   "outputs": [],
   "source": []
  },
  {
   "cell_type": "code",
   "execution_count": null,
   "id": "ea536568-9937-4770-a6ca-d2df9642e86e",
   "metadata": {},
   "outputs": [],
   "source": []
  },
  {
   "cell_type": "code",
   "execution_count": null,
   "id": "e62f3f14-8c95-4d00-bfda-35ca76e859ab",
   "metadata": {},
   "outputs": [],
   "source": []
  },
  {
   "cell_type": "code",
   "execution_count": null,
   "id": "456beab1-8c75-4bfe-a1ba-36318ed07a73",
   "metadata": {},
   "outputs": [],
   "source": []
  },
  {
   "cell_type": "code",
   "execution_count": null,
   "id": "badda946-3c92-4c55-95fa-ea563ecae973",
   "metadata": {},
   "outputs": [],
   "source": []
  },
  {
   "cell_type": "code",
   "execution_count": null,
   "id": "ef9e462c-dfc3-49fe-a6ea-eb28a20bf75b",
   "metadata": {},
   "outputs": [],
   "source": []
  },
  {
   "cell_type": "code",
   "execution_count": null,
   "id": "22fa001a-e874-4c23-88f3-f195c5a2042a",
   "metadata": {},
   "outputs": [],
   "source": []
  },
  {
   "cell_type": "code",
   "execution_count": null,
   "id": "c470ff1b-6ab7-41f4-b013-e89e9098ec82",
   "metadata": {},
   "outputs": [],
   "source": []
  },
  {
   "cell_type": "code",
   "execution_count": null,
   "id": "f1f95f59-6503-44ff-a7c1-7386bed05fc9",
   "metadata": {},
   "outputs": [],
   "source": []
  },
  {
   "cell_type": "code",
   "execution_count": null,
   "id": "0c0dcb3c-83ab-48d0-b599-0729a80ae77d",
   "metadata": {},
   "outputs": [],
   "source": []
  },
  {
   "cell_type": "code",
   "execution_count": null,
   "id": "3b0382da-e373-463b-8d7f-ae146a3b2217",
   "metadata": {},
   "outputs": [],
   "source": []
  },
  {
   "cell_type": "code",
   "execution_count": null,
   "id": "fef65223-9bf1-4ec3-916c-e4305e594579",
   "metadata": {},
   "outputs": [],
   "source": []
  },
  {
   "cell_type": "code",
   "execution_count": null,
   "id": "813d02b1-f1c6-495c-9836-1c9655306a0e",
   "metadata": {},
   "outputs": [],
   "source": []
  },
  {
   "cell_type": "code",
   "execution_count": null,
   "id": "d184973d-6242-4f12-8b6d-c7b716193fbd",
   "metadata": {},
   "outputs": [],
   "source": []
  },
  {
   "cell_type": "code",
   "execution_count": null,
   "id": "53267142-4164-4031-8c3f-28a30ce85ba4",
   "metadata": {},
   "outputs": [],
   "source": []
  },
  {
   "cell_type": "code",
   "execution_count": null,
   "id": "2ca56d44-8370-469f-b85a-11eae949cab3",
   "metadata": {},
   "outputs": [],
   "source": []
  },
  {
   "cell_type": "code",
   "execution_count": null,
   "id": "8b104f96-243e-4400-acbc-51cb24155b29",
   "metadata": {},
   "outputs": [],
   "source": []
  },
  {
   "cell_type": "code",
   "execution_count": null,
   "id": "634abc0a-6c2f-4be7-9986-72a95486ac61",
   "metadata": {},
   "outputs": [],
   "source": []
  },
  {
   "cell_type": "code",
   "execution_count": null,
   "id": "27292a60-9f9f-40db-95b8-b00e82f714ea",
   "metadata": {},
   "outputs": [],
   "source": []
  }
 ],
 "metadata": {
  "kernelspec": {
   "display_name": "Python 3 (ipykernel)",
   "language": "python",
   "name": "python3"
  },
  "language_info": {
   "codemirror_mode": {
    "name": "ipython",
    "version": 3
   },
   "file_extension": ".py",
   "mimetype": "text/x-python",
   "name": "python",
   "nbconvert_exporter": "python",
   "pygments_lexer": "ipython3",
   "version": "3.10.11"
  }
 },
 "nbformat": 4,
 "nbformat_minor": 5
}
