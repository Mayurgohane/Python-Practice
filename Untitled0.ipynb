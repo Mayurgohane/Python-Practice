{
  "nbformat": 4,
  "nbformat_minor": 0,
  "metadata": {
    "colab": {
      "provenance": []
    },
    "kernelspec": {
      "name": "python3",
      "display_name": "Python 3"
    },
    "language_info": {
      "name": "python"
    }
  },
  "cells": [
    {
      "cell_type": "code",
      "execution_count": 5,
      "metadata": {
        "id": "w_CbbZ78DNy7"
      },
      "outputs": [],
      "source": [
        "a = ['121','PHP','131','Mayur']"
      ]
    },
    {
      "cell_type": "code",
      "source": [
        "b = list(filter(lambda x:x==x[::-1],a))"
      ],
      "metadata": {
        "id": "IggTdBQNDOTR"
      },
      "execution_count": 6,
      "outputs": []
    },
    {
      "cell_type": "code",
      "source": [
        "b"
      ],
      "metadata": {
        "colab": {
          "base_uri": "https://localhost:8080/"
        },
        "id": "p8uPXROEDOWb",
        "outputId": "e0de0551-829f-48cc-b48a-7509ab39b16f"
      },
      "execution_count": 7,
      "outputs": [
        {
          "output_type": "execute_result",
          "data": {
            "text/plain": [
              "['121', 'PHP', '131']"
            ]
          },
          "metadata": {},
          "execution_count": 7
        }
      ]
    },
    {
      "cell_type": "code",
      "source": [],
      "metadata": {
        "id": "77FOYnM8DOZs"
      },
      "execution_count": null,
      "outputs": []
    },
    {
      "cell_type": "code",
      "source": [],
      "metadata": {
        "id": "qCh6GG5YDOcr"
      },
      "execution_count": null,
      "outputs": []
    }
  ]
}