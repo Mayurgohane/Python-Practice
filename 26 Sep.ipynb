{
 "cells": [
  {
   "cell_type": "code",
   "execution_count": null,
   "id": "bf999026-fb0f-4ee6-a760-e1b01e411b0c",
   "metadata": {},
   "outputs": [],
   "source": [
    "*\n",
    "**\n",
    "***\n",
    "****\n",
    "*****"
   ]
  },
  {
   "cell_type": "code",
   "execution_count": 4,
   "id": "6416db17-945e-44ac-a5d2-ff59407d93e2",
   "metadata": {},
   "outputs": [
    {
     "name": "stdout",
     "output_type": "stream",
     "text": [
      "\n",
      "*\n",
      "**\n",
      "***\n",
      "****\n",
      "*****\n"
     ]
    }
   ],
   "source": [
    "for i in range(5+1):\n",
    "    for j in range(1,i+1):\n",
    "        print('*',end='')\n",
    "    print()"
   ]
  },
  {
   "cell_type": "code",
   "execution_count": null,
   "id": "2a45d07c-a1ee-490d-b5aa-a61b0def4f66",
   "metadata": {},
   "outputs": [],
   "source": [
    "    *\n",
    "   **\n",
    "  ***\n",
    " ****\n",
    "*****"
   ]
  },
  {
   "cell_type": "code",
   "execution_count": 6,
   "id": "d8bed28e-5ae7-4cdb-8ebf-020673f0927b",
   "metadata": {},
   "outputs": [
    {
     "name": "stdout",
     "output_type": "stream",
     "text": [
      "    *\n",
      "   **\n",
      "  ***\n",
      " ****\n",
      "*****\n"
     ]
    }
   ],
   "source": [
    "for i in range(5):\n",
    "    for j in range(5-i-1):\n",
    "        print('',end=' ')\n",
    "    for k in range(i+1):\n",
    "        print('*',end='')\n",
    "    print()"
   ]
  },
  {
   "cell_type": "code",
   "execution_count": null,
   "id": "31189a44-8bc6-4aae-a08e-eadcdd1c4d90",
   "metadata": {},
   "outputs": [],
   "source": [
    "  *\n",
    " * *\n",
    " * * *\n",
    "* * * *\n",
    "* * * * *"
   ]
  },
  {
   "cell_type": "code",
   "execution_count": 11,
   "id": "239ca4ec-5340-40a1-b934-fcd63b7fac20",
   "metadata": {},
   "outputs": [
    {
     "name": "stdout",
     "output_type": "stream",
     "text": [
      "    * \n",
      "   * * \n",
      "  * * * \n",
      " * * * * \n",
      "* * * * * \n"
     ]
    }
   ],
   "source": [
    "for i in range(5):\n",
    "    print(' '*(5-i-1) + '* '*(i+1))"
   ]
  },
  {
   "cell_type": "code",
   "execution_count": null,
   "id": "9b6467f8-4669-4d9f-8916-dfbcb4e108a7",
   "metadata": {},
   "outputs": [],
   "source": [
    "*********\n",
    " *******\n",
    "  *****\n",
    "   ***\n",
    "    *"
   ]
  },
  {
   "cell_type": "code",
   "execution_count": 16,
   "id": "2e490884-739b-4f06-8a43-8d20d2c07b93",
   "metadata": {},
   "outputs": [
    {
     "name": "stdout",
     "output_type": "stream",
     "text": [
      "* * * * * * * * * \n",
      "  * * * * * * * \n",
      "    * * * * * \n",
      "      * * * \n",
      "        * \n"
     ]
    }
   ],
   "source": [
    "for i in range(5):\n",
    "    sp = ' '*(2*i)\n",
    "    st = '* '*(2*(5-i)-1)\n",
    "    print(sp+st)"
   ]
  },
  {
   "cell_type": "code",
   "execution_count": null,
   "id": "a598547d-e60e-4c2a-a764-1c6661d04719",
   "metadata": {},
   "outputs": [],
   "source": [
    "1\n",
    "12\n",
    "123\n",
    "1234\n",
    "12345\n",
    "12345"
   ]
  },
  {
   "cell_type": "code",
   "execution_count": 18,
   "id": "7358f565-6ebd-4524-993c-9c60d358854b",
   "metadata": {},
   "outputs": [
    {
     "name": "stdout",
     "output_type": "stream",
     "text": [
      "\n",
      "1\n",
      "12\n",
      "123\n",
      "1234\n",
      "12345\n"
     ]
    }
   ],
   "source": [
    "for i in range(6):\n",
    "    for j in range(1,i+1):\n",
    "        print(j,end='')\n",
    "    print()"
   ]
  },
  {
   "cell_type": "code",
   "execution_count": null,
   "id": "3d2e030e-4f98-46de-8577-7e2b4418dda6",
   "metadata": {},
   "outputs": [],
   "source": [
    "1 \n",
    "2 3 \n",
    "4 5 6 \n",
    "7 8 9 10 \n",
    "11 12 13 14 15 "
   ]
  },
  {
   "cell_type": "code",
   "execution_count": 20,
   "id": "f3709c1c-e4d1-4a93-812b-a0d8a77082f8",
   "metadata": {},
   "outputs": [
    {
     "name": "stdout",
     "output_type": "stream",
     "text": [
      "1 \n",
      "2 3 \n",
      "4 5 6 \n",
      "7 8 9 10 \n",
      "11 12 13 14 15 \n"
     ]
    }
   ],
   "source": [
    "n=1\n",
    "for i in range(1,5+1):\n",
    "    for j in range(i):\n",
    "        print(n,end=' ')\n",
    "        n+=1\n",
    "    print()"
   ]
  },
  {
   "cell_type": "code",
   "execution_count": null,
   "id": "78832480-428c-4f8d-92ba-6aa390b303de",
   "metadata": {},
   "outputs": [],
   "source": [
    "A\n",
    "BB\n",
    "CCC\n",
    "DDDD\n",
    "EEEEE"
   ]
  },
  {
   "cell_type": "code",
   "execution_count": 21,
   "id": "ba13bc5f-98b0-488e-8f68-b1df704cab12",
   "metadata": {},
   "outputs": [
    {
     "name": "stdout",
     "output_type": "stream",
     "text": [
      "A\n",
      "BB\n",
      "CCC\n",
      "DDDD\n",
      "EEEEE\n"
     ]
    }
   ],
   "source": [
    "for i in range(5):\n",
    "    l = chr(65+i)\n",
    "    for j in range(i+1):\n",
    "        print(l,end='')\n",
    "    print()"
   ]
  },
  {
   "cell_type": "code",
   "execution_count": null,
   "id": "d5ecc0a8-ac42-4eb2-b7ba-44542a472c66",
   "metadata": {},
   "outputs": [],
   "source": [
    "A\n",
    "BC\n",
    "DEF\n",
    "GHIJ\n",
    "KLMNO"
   ]
  },
  {
   "cell_type": "code",
   "execution_count": 25,
   "id": "62415ceb-1c77-40ef-becc-e94adb879c20",
   "metadata": {},
   "outputs": [
    {
     "name": "stdout",
     "output_type": "stream",
     "text": [
      "A\n",
      "BC\n",
      "DEF\n",
      "GHIJ\n",
      "KLMNO\n"
     ]
    }
   ],
   "source": [
    "l = ord('A')\n",
    "for i in range(5):\n",
    "    for k in range(i+1):\n",
    "        print(chr(l),end='')\n",
    "        l += 1\n",
    "    print()"
   ]
  },
  {
   "cell_type": "code",
   "execution_count": null,
   "id": "5fca5a35-e280-43a0-ac74-9fd2c1ffe476",
   "metadata": {},
   "outputs": [],
   "source": [
    "K\n",
    "KK\n",
    "KKK\n",
    "KKKK\n",
    "KKKKK"
   ]
  },
  {
   "cell_type": "code",
   "execution_count": 27,
   "id": "fa1a6bd9-434e-431a-86ca-a31f29599a99",
   "metadata": {},
   "outputs": [
    {
     "name": "stdout",
     "output_type": "stream",
     "text": [
      "K\n",
      "KK\n",
      "KKK\n",
      "KKKK\n",
      "KKKKK\n"
     ]
    }
   ],
   "source": [
    "for i in range(5):\n",
    "    for k in range(i+1):\n",
    "        print('K',end='')\n",
    "    print()"
   ]
  },
  {
   "cell_type": "code",
   "execution_count": null,
   "id": "b289e605-a28b-4379-ba5c-a8a69b76a791",
   "metadata": {},
   "outputs": [],
   "source": [
    "A\n",
    "AB\n",
    "ABC\n",
    "ABCD\n",
    "ABCDE"
   ]
  },
  {
   "cell_type": "code",
   "execution_count": 29,
   "id": "c046d34f-de1b-48bd-b6be-2686f85ec6b0",
   "metadata": {},
   "outputs": [
    {
     "name": "stdout",
     "output_type": "stream",
     "text": [
      "A\n",
      "AB\n",
      "ABC\n",
      "ABCD\n",
      "ABCDE\n"
     ]
    }
   ],
   "source": [
    "l = ord('A')\n",
    "for i in range(1,5+1):\n",
    "    for j in range(i):\n",
    "        print(chr(l+j),end='')\n",
    "    print()"
   ]
  },
  {
   "cell_type": "code",
   "execution_count": null,
   "id": "4726a658-2ea5-44d6-8dd8-688f2bea0425",
   "metadata": {},
   "outputs": [],
   "source": [
    "p\n",
    "py\n",
    "pyt\n",
    "pyth\n",
    "pytho\n",
    "python"
   ]
  },
  {
   "cell_type": "code",
   "execution_count": 31,
   "id": "ad20e389-bf1f-4906-b74f-2910c6bc6105",
   "metadata": {},
   "outputs": [
    {
     "name": "stdout",
     "output_type": "stream",
     "text": [
      "\n",
      "M\n",
      "Ma\n",
      "May\n",
      "Mayu\n",
      "Mayur\n"
     ]
    }
   ],
   "source": [
    "a = 'Mayur'\n",
    "for i in range(len(a)+1):\n",
    "    print(a[:i])"
   ]
  },
  {
   "cell_type": "code",
   "execution_count": null,
   "id": "176b3bdc-fbdb-4de6-9002-0a859fb723ce",
   "metadata": {},
   "outputs": [],
   "source": [
    "11111\n",
    "2222\n",
    "333\n",
    "44\n",
    "5"
   ]
  },
  {
   "cell_type": "code",
   "execution_count": 34,
   "id": "93d1ad7b-caeb-420c-9a33-ec6f3fef3a21",
   "metadata": {},
   "outputs": [
    {
     "name": "stdout",
     "output_type": "stream",
     "text": [
      "11111\n",
      "2222\n",
      "333\n",
      "44\n",
      "5\n"
     ]
    }
   ],
   "source": [
    "p = 1\n",
    "for i in range(5):\n",
    "    for j in range(i,5):\n",
    "        print(p,end='')\n",
    "    p+= 1\n",
    "    print()"
   ]
  },
  {
   "cell_type": "code",
   "execution_count": null,
   "id": "074f55b2-135c-4022-bbd7-9b8c3903f982",
   "metadata": {},
   "outputs": [],
   "source": [
    "666666\n",
    "55555\n",
    "4444\n",
    "333\n",
    "22\n",
    "1"
   ]
  },
  {
   "cell_type": "code",
   "execution_count": 38,
   "id": "7be4ff89-7bee-4e6a-9f41-beaa2a4de596",
   "metadata": {},
   "outputs": [
    {
     "name": "stdout",
     "output_type": "stream",
     "text": [
      "666666\n",
      "55555\n",
      "4444\n",
      "333\n",
      "22\n",
      "1\n"
     ]
    }
   ],
   "source": [
    "p=6\n",
    "for i in range(6):\n",
    "    for j in range(i,6):\n",
    "        print(p,end='')\n",
    "    p-=1\n",
    "    print()"
   ]
  },
  {
   "cell_type": "code",
   "execution_count": null,
   "id": "3b345871-6b24-4f27-8acc-329b2c74ab4b",
   "metadata": {},
   "outputs": [],
   "source": [
    "1\n",
    "234\n",
    "56789"
   ]
  },
  {
   "cell_type": "code",
   "execution_count": 41,
   "id": "c10febf6-b6ab-4a47-9257-f7f9f7a254b6",
   "metadata": {},
   "outputs": [
    {
     "name": "stdout",
     "output_type": "stream",
     "text": [
      "1 \n",
      "2 3 4 \n",
      "5 6 7 8 9 \n"
     ]
    }
   ],
   "source": [
    "p=1\n",
    "for i in range(3):\n",
    "    for j in range(2*i+1):\n",
    "        print(p,end=' ')\n",
    "        p +=1\n",
    "    print()"
   ]
  },
  {
   "cell_type": "code",
   "execution_count": 45,
   "id": "1ddcee86-ca4a-489b-a5ac-482714ddd0b2",
   "metadata": {},
   "outputs": [
    {
     "name": "stdout",
     "output_type": "stream",
     "text": [
      "654321\n",
      "54321\n",
      "4321\n",
      "321\n",
      "21\n",
      "1\n"
     ]
    }
   ],
   "source": [
    "for i in range(6):\n",
    "    for k in range(6-i,0,-1):\n",
    "        print(k,end='')\n",
    "    print()"
   ]
  },
  {
   "cell_type": "code",
   "execution_count": 48,
   "id": "791657a3-95ca-4807-9ac8-42c7caea4364",
   "metadata": {},
   "outputs": [
    {
     "name": "stdout",
     "output_type": "stream",
     "text": [
      "1\n",
      "33\n",
      "555\n",
      "7777\n",
      "99999\n"
     ]
    }
   ],
   "source": [
    "p=1\n",
    "for i in range(5):\n",
    "    for j in range(i+1):\n",
    "        print(p,end='')\n",
    "    p+=2\n",
    "    print()"
   ]
  },
  {
   "cell_type": "code",
   "execution_count": 52,
   "id": "ec103c08-f73e-43c1-851e-62b6f72cf2ba",
   "metadata": {},
   "outputs": [
    {
     "name": "stdout",
     "output_type": "stream",
     "text": [
      "44444\n",
      "44444\n",
      "44444\n",
      "44444\n",
      "55555\n"
     ]
    }
   ],
   "source": [
    "for i in range(1,5+1):\n",
    "    for k in range(1,5+1):\n",
    "        if j<=i:\n",
    "            print(i,end='')\n",
    "        else:\n",
    "            print(j,end='')\n",
    "    print()"
   ]
  },
  {
   "cell_type": "markdown",
   "id": "c4630642-33c1-4d8f-b80b-015d99dc592c",
   "metadata": {},
   "source": [
    "# Assignment 5"
   ]
  },
  {
   "cell_type": "code",
   "execution_count": 59,
   "id": "f0e9b1eb-6e21-483b-a9f3-6639e89ee423",
   "metadata": {},
   "outputs": [],
   "source": [
    "#sort dict by keys\n",
    "a = {'C':20, 'Z':60, 'L':10}\n",
    "b = {}\n",
    "for i in sorted(a.keys()):\n",
    "    b[i]=a[i]"
   ]
  },
  {
   "cell_type": "code",
   "execution_count": 58,
   "id": "7557fa6c-0dd3-44a6-b492-0cae8556b9a4",
   "metadata": {},
   "outputs": [
    {
     "data": {
      "text/plain": [
       "{'C': 20, 'L': 10, 'z': 60}"
      ]
     },
     "execution_count": 58,
     "metadata": {},
     "output_type": "execute_result"
    }
   ],
   "source": [
    "b"
   ]
  },
  {
   "cell_type": "code",
   "execution_count": 60,
   "id": "d1dc17e2-6ecd-481e-afb2-716b26d4f571",
   "metadata": {},
   "outputs": [
    {
     "data": {
      "text/plain": [
       "{'L': 10, 'C': 20, 'Z': 60}"
      ]
     },
     "execution_count": 60,
     "metadata": {},
     "output_type": "execute_result"
    }
   ],
   "source": [
    "#sort dict by values\n",
    "a = {'C':20, 'Z':60, 'L':10}\n",
    "b = dict(sorted(a.items(), key=lambda x:x[1]))\n",
    "b"
   ]
  },
  {
   "cell_type": "code",
   "execution_count": 61,
   "id": "f26f2dab-3a23-4f0a-b3ce-4676c90ddba3",
   "metadata": {},
   "outputs": [
    {
     "data": {
      "text/plain": [
       "90"
      ]
     },
     "execution_count": 61,
     "metadata": {},
     "output_type": "execute_result"
    }
   ],
   "source": [
    "#sum of dict \n",
    "a ={'L': 10, 'C': 20, 'Z': 60}\n",
    "sum(a.values())"
   ]
  },
  {
   "cell_type": "code",
   "execution_count": 62,
   "id": "f1ea7375-3c35-4799-9e47-16836305d0e2",
   "metadata": {},
   "outputs": [
    {
     "data": {
      "text/plain": [
       "{'L': 10, 'Z': 60}"
      ]
     },
     "execution_count": 62,
     "metadata": {},
     "output_type": "execute_result"
    }
   ],
   "source": [
    "#remove key from dict \n",
    "a ={'L': 10, 'C': 20, 'Z': 60}\n",
    "a.pop('C')\n",
    "a"
   ]
  },
  {
   "cell_type": "code",
   "execution_count": 65,
   "id": "1158fd6c-64f1-4fb5-8c51-b300ce64fc9d",
   "metadata": {},
   "outputs": [],
   "source": [
    "#grade calculator in python \n",
    "def grade(s):\n",
    "    if s>90:\n",
    "        return \"A++\"\n",
    "    elif s>80:\n",
    "        return \"A+\"\n",
    "    else:\n",
    "        return \"Try again latter\""
   ]
  },
  {
   "cell_type": "code",
   "execution_count": 72,
   "id": "a09bb477-5ed1-499d-a856-ae920188c4ab",
   "metadata": {},
   "outputs": [],
   "source": [
    "#Anagrams are words or phrases formed by rearranging the letters of another word or phrase using all the original letters exactly once.\n",
    "a = ['tea','eat','ate','nat','bat']\n",
    "d = {}\n",
    "for i in a:\n",
    "    v = ''.join(sorted(i))\n",
    "    if v in d:\n",
    "        d[v].append(i)\n",
    "    else:\n",
    "        d[v]=[i]"
   ]
  },
  {
   "cell_type": "code",
   "execution_count": 73,
   "id": "1717b129-5bb9-4376-b7c1-d29f124e59e5",
   "metadata": {},
   "outputs": [
    {
     "data": {
      "text/plain": [
       "{'aet': ['tea', 'eat', 'ate'], 'ant': ['nat'], 'abt': ['bat']}"
      ]
     },
     "execution_count": 73,
     "metadata": {},
     "output_type": "execute_result"
    }
   ],
   "source": [
    "d"
   ]
  },
  {
   "cell_type": "code",
   "execution_count": 82,
   "id": "3e95cfaf-983c-4fe3-9302-1cc4bc6ea07c",
   "metadata": {},
   "outputs": [
    {
     "name": "stdout",
     "output_type": "stream",
     "text": [
      "('tea', 1)\n"
     ]
    }
   ],
   "source": [
    "#largest subset of anagram \n",
    "from collections import Counter\n",
    "a = ['tea','eat','ate','nat','bat','sat','lat']\n",
    "b = Counter()\n",
    "for i in a:\n",
    "    c = ''.join(sorted(i))\n",
    "    b[i] += 1\n",
    "    maxx = max(b.items())\n",
    "print(maxx)"
   ]
  },
  {
   "cell_type": "code",
   "execution_count": 92,
   "id": "be40a134-c07c-4d21-a428-799dced03141",
   "metadata": {},
   "outputs": [
    {
     "data": {
      "text/plain": [
       "('M', 1)"
      ]
     },
     "execution_count": 92,
     "metadata": {},
     "output_type": "execute_result"
    }
   ],
   "source": [
    "#find minor character in string \n",
    "from collections import Counter \n",
    "a = 'Mayur Gohane'\n",
    "b = Counter(a)\n",
    "c = min(b.items(), key=lambda x:x[1])\n",
    "c"
   ]
  },
  {
   "cell_type": "code",
   "execution_count": 95,
   "id": "5494a86d-7b29-45a3-a24f-8bb8a5c597b2",
   "metadata": {},
   "outputs": [
    {
     "data": {
      "text/plain": [
       "{1: 2, 2: 2, 3: 2, 4: 1, 5: 2, 6: 2, 7: 1, 8: 2, 52: 1}"
      ]
     },
     "execution_count": 95,
     "metadata": {},
     "output_type": "execute_result"
    }
   ],
   "source": [
    "#count frequency using dictionary \n",
    "a = [1,1,2,3,4,5,6,7,8,8,5,52,2,3,6]\n",
    "b = {}\n",
    "for i in a:\n",
    "    if i in b:\n",
    "        b[i] += 1\n",
    "    else:\n",
    "        b[i] =1\n",
    "b"
   ]
  },
  {
   "cell_type": "code",
   "execution_count": 96,
   "id": "b4980656-803a-4874-a1f0-1fc15368645b",
   "metadata": {},
   "outputs": [
    {
     "data": {
      "text/plain": [
       "{'a': 1, 'b': 2, 'c': 3}"
      ]
     },
     "execution_count": 96,
     "metadata": {},
     "output_type": "execute_result"
    }
   ],
   "source": [
    "# list of tuple to dict \n",
    "a = (('a',1),('b',2),('c',3))\n",
    "b = dict(a)\n",
    "b"
   ]
  },
  {
   "cell_type": "code",
   "execution_count": 100,
   "id": "acd5748e-8e78-4996-b1d2-f4d0059f576a",
   "metadata": {},
   "outputs": [
    {
     "data": {
      "text/plain": [
       "[(1, 1), (2, 8), (3, 27), (4, 64), (5, 125)]"
      ]
     },
     "execution_count": 100,
     "metadata": {},
     "output_type": "execute_result"
    }
   ],
   "source": [
    "#cube of tuple from list\n",
    "a = [1,2,3,4,5]\n",
    "b = [(i,i**3) for i in a]\n",
    "b"
   ]
  },
  {
   "cell_type": "code",
   "execution_count": 101,
   "id": "a0dc4d09-386b-42da-9dca-f924610d088f",
   "metadata": {},
   "outputs": [
    {
     "data": {
      "text/plain": [
       "[(4, 1), (2, 2), (1, 3)]"
      ]
     },
     "execution_count": 101,
     "metadata": {},
     "output_type": "execute_result"
    }
   ],
   "source": [
    "#sort tuple by second item \n",
    "a = ((1, 3), (4, 1), (2, 2))\n",
    "b = sorted(a, key=lambda x:x[1])\n",
    "b"
   ]
  },
  {
   "cell_type": "code",
   "execution_count": 106,
   "id": "5bb52369-63db-41a0-8946-3a54eff5abe0",
   "metadata": {},
   "outputs": [],
   "source": [
    "#Insertion Sort \n",
    "def insertion(a):\n",
    "    for i in range(1,len(a)):\n",
    "        key = a[i]\n",
    "        j = i-1\n",
    "        while j>=0 and a[j]>key:\n",
    "            a[j+1]=a[j]\n",
    "            j-= 1\n",
    "        a[j+1] = key"
   ]
  },
  {
   "cell_type": "code",
   "execution_count": 112,
   "id": "e0ac826e-4f92-4776-9045-6503d5ad4fab",
   "metadata": {},
   "outputs": [
    {
     "data": {
      "text/plain": [
       "[1, 2, 3, 5, 6]"
      ]
     },
     "execution_count": 112,
     "metadata": {},
     "output_type": "execute_result"
    }
   ],
   "source": [
    "#insertion sort \n",
    "a =[5,6,1,2,3]\n",
    "for i in range(1,len(a)):\n",
    "    key = a[i]\n",
    "    j = i-1\n",
    "    while j>=0 and a[j]>key:\n",
    "        a[j+1]=a[j]\n",
    "        j-=1\n",
    "    a[j+1]=key\n",
    "a"
   ]
  },
  {
   "cell_type": "code",
   "execution_count": 114,
   "id": "7b0b67f9-71d5-494c-a352-f9337b888f90",
   "metadata": {},
   "outputs": [
    {
     "data": {
      "text/plain": [
       "[2, 3, 4, 5, 6, 7, 8, 9, 18, 50, 99]"
      ]
     },
     "execution_count": 114,
     "metadata": {},
     "output_type": "execute_result"
    }
   ],
   "source": [
    "#Insertion sort\n",
    "a = [8,5,7,4,9,6,2,3,18,50,99]\n",
    "for i in range(1,len(a)):\n",
    "    key = a[i]\n",
    "    j = i-1\n",
    "    while j>=0 and a[j]>key:\n",
    "        a[j+1]=a[j]\n",
    "        j-=1\n",
    "    a[j+1]=key\n",
    "a"
   ]
  },
  {
   "cell_type": "code",
   "execution_count": 116,
   "id": "3dfbaded-4c14-4353-95fb-32accf76e336",
   "metadata": {},
   "outputs": [
    {
     "data": {
      "text/plain": [
       "[2, 4, 6, 5, 7, 8, 9, 3, 18, 50, 99]"
      ]
     },
     "execution_count": 116,
     "metadata": {},
     "output_type": "execute_result"
    }
   ],
   "source": [
    "#Sectional sort\n",
    "a = [8,5,7,4,9,6,2,3,18,50,99]\n",
    "for i in range(len(a)):\n",
    "    minn=i\n",
    "    for j in range(i+1,len(a)):\n",
    "        if a[j] < a[minn]:\n",
    "            minn = j\n",
    "        a[i],a[minn]=a[minn],a[i]\n",
    "a"
   ]
  },
  {
   "cell_type": "code",
   "execution_count": 119,
   "id": "0299c97e-1627-442a-9d5e-031f4b731f1e",
   "metadata": {},
   "outputs": [
    {
     "data": {
      "text/plain": [
       "[2, 3, 4, 5, 6, 7, 8, 9, 18, 50, 99]"
      ]
     },
     "execution_count": 119,
     "metadata": {},
     "output_type": "execute_result"
    }
   ],
   "source": [
    "#sectional sort\n",
    "a = [8,5,7,4,9,6,2,3,18,50,99]\n",
    "for i in range(len(a)):\n",
    "    m = i\n",
    "    for j in range(i+1,len(a)):\n",
    "        if a[j]<a[m]:\n",
    "            m=j\n",
    "    a[i],a[m]=a[m],a[i]\n",
    "a"
   ]
  },
  {
   "cell_type": "code",
   "execution_count": 121,
   "id": "933d2fe7-1570-44ca-b7f4-6b2af25cd334",
   "metadata": {},
   "outputs": [
    {
     "data": {
      "text/plain": [
       "[2, 3, 4, 5, 6, 7, 8, 9, 18, 50, 99]"
      ]
     },
     "execution_count": 121,
     "metadata": {},
     "output_type": "execute_result"
    }
   ],
   "source": [
    "#Buble sort\n",
    "a = [8,5,7,4,9,6,2,3,18,50,99]\n",
    "for i in range(len(a)):\n",
    "    for j in range(len(a)-1):\n",
    "        if a[j] > a[j+1]:\n",
    "            a[j],a[j+1]=a[j+1],a[j]\n",
    "a"
   ]
  },
  {
   "cell_type": "code",
   "execution_count": 122,
   "id": "3d8e6207-9b34-4a8c-b4f3-f8402889206e",
   "metadata": {},
   "outputs": [
    {
     "data": {
      "text/plain": [
       "[2, 3, 4, 5, 6, 7, 8, 9, 18, 50, 99]"
      ]
     },
     "execution_count": 122,
     "metadata": {},
     "output_type": "execute_result"
    }
   ],
   "source": [
    "a = [8,5,7,4,9,6,2,3,18,50,99]\n",
    "for i in range(len(a)):\n",
    "    for j in range(len(a)-1):\n",
    "        if a[j]>a[j+1]:\n",
    "            a[j],a[j+1]=a[j+1],a[j]\n",
    "a"
   ]
  },
  {
   "cell_type": "code",
   "execution_count": 125,
   "id": "063a4488-34ca-4317-9b76-448e92cddbd4",
   "metadata": {},
   "outputs": [],
   "source": [
    "#merge sort \n",
    "def merge(n):\n",
    "    if len(a) <1:\n",
    "        return a\n",
    "    mid = len(a)//2\n",
    "    left = a[:mid]\n",
    "    right = a[mid:]\n",
    "    return sorted(left+right)"
   ]
  },
  {
   "cell_type": "code",
   "execution_count": 127,
   "id": "75dd5ec5-13c4-49ed-ba5f-6c8556fe0d52",
   "metadata": {},
   "outputs": [],
   "source": [
    "def merge(n):\n",
    "    if len(a) < 2:\n",
    "        return a\n",
    "    mid = len(a)//2\n",
    "    left = merge(a[:mid])\n",
    "    right = merge(a[mid:])\n",
    "    return sorted(left+right)"
   ]
  },
  {
   "cell_type": "code",
   "execution_count": 133,
   "id": "855869b7-2828-4f9d-bde0-dfbd7b248d99",
   "metadata": {},
   "outputs": [],
   "source": [
    "#Quick sort \n",
    "def quick(a):\n",
    "    if len(a)<2:\n",
    "        return a\n",
    "    pivot = a[len(a)//2]\n",
    "    left = [i for i in a if i < pivot]\n",
    "    middle = [i for i in a if i ==pivot]\n",
    "    right = [i for i in a if i > pivot]\n",
    "    return quick(left)+middle+quick(right)"
   ]
  },
  {
   "cell_type": "code",
   "execution_count": 135,
   "id": "b2a33daf-6924-47ac-b598-17592da62b63",
   "metadata": {},
   "outputs": [],
   "source": [
    "def quick(a):\n",
    "    if len(a) < 2:\n",
    "        return a\n",
    "    p = a[len(a)//2]\n",
    "    left = [i for i in a if i <p]\n",
    "    right = [i for i in a if i >p]\n",
    "    middle = [i for i in a if i==p]\n",
    "    return quick(left) + middle + quick(rigth)"
   ]
  },
  {
   "cell_type": "code",
   "execution_count": null,
   "id": "7aad64f6-4eb2-4bee-9c3b-9755af73cb39",
   "metadata": {},
   "outputs": [],
   "source": []
  },
  {
   "cell_type": "code",
   "execution_count": null,
   "id": "10c7c0bc-0a39-4c2f-948e-4a9e28a96080",
   "metadata": {},
   "outputs": [],
   "source": [
    "#largest prime factor \n",
    "def lar(n):\n",
    "    i=2\n",
    "    while i*i<n:\n",
    "        if n5i\n"
   ]
  }
 ],
 "metadata": {
  "kernelspec": {
   "display_name": "Python 3 (ipykernel)",
   "language": "python",
   "name": "python3"
  },
  "language_info": {
   "codemirror_mode": {
    "name": "ipython",
    "version": 3
   },
   "file_extension": ".py",
   "mimetype": "text/x-python",
   "name": "python",
   "nbconvert_exporter": "python",
   "pygments_lexer": "ipython3",
   "version": "3.10.11"
  }
 },
 "nbformat": 4,
 "nbformat_minor": 5
}
