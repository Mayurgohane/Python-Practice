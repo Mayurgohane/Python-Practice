{
 "cells": [
  {
   "cell_type": "code",
   "execution_count": 5,
   "id": "e9ff8deb-a5bb-4fe2-855a-820ab8a106e7",
   "metadata": {},
   "outputs": [
    {
     "name": "stdout",
     "output_type": "stream",
     "text": [
      "Hello, Mayur\n"
     ]
    }
   ],
   "source": [
    "a = \"Mayur\"\n",
    "b = f\"Hello, {a}\"\n",
    "print(b)"
   ]
  },
  {
   "cell_type": "code",
   "execution_count": 6,
   "id": "1982d7b6-99f5-4bc0-908a-1eb2f2fdbc44",
   "metadata": {},
   "outputs": [
    {
     "name": "stdout",
     "output_type": "stream",
     "text": [
      "5\n"
     ]
    }
   ],
   "source": [
    "a = \"Mayur\"\n",
    "b = 0\n",
    "for i in a:\n",
    "    b += 1\n",
    "print(b)"
   ]
  },
  {
   "cell_type": "code",
   "execution_count": 8,
   "id": "bf13bea4-8d31-4498-aec1-dd74eaddc0bd",
   "metadata": {},
   "outputs": [
    {
     "name": "stdout",
     "output_type": "stream",
     "text": [
      "['A', 'i', 'i', 'i', 'a', 'i', 'i', 'A', 'I', 'i', 'i', 'i', 'o', 'a', 'a', 'i', 'o', 'o', 'u', 'a', 'i', 'i', 'o', 'i', 'i', 'u', 'i', 'o', 'a', 'u', 'a', 'a', 'o', 'i', 'a', 'i', 'u', 'a', 'i', 'u', 'a', 'a', 'i', 'a', 'o', 'o', 'i']\n",
      "['A', 'r', 't', 'i', 'f', 'i', 'c', 'i', 'a', 'l', 'i', 'n', 't', 'e', 'l', 'l', 'i', 'g', 'e', 'n', 'c', 'e', 'A', 'I', 'i', 's', 'i', 'n', 't', 'e', 'l', 'l', 'i', 'g', 'e', 'n', 'c', 'e', 'd', 'e', 'm', 'o', 'n', 's', 't', 'r', 'a', 't', 'e', 'd', 'b', 'y', 'm', 'a', 'c', 'h', 'i', 'n', 'e', 's', 'o', 'r', 'c', 'o', 'm', 'p', 'u', 't', 'e', 'r', 's', 't', 'h', 'a', 't', 'm', 'i', 'm', 'i', 'c', 'c', 'o', 'g', 'n', 'i', 't', 'i', 'v', 'e', 'f', 'u', 'n', 'c', 't', 'i', 'o', 'n', 's', 't', 'h', 'a', 't', 'h', 'u', 'm', 'a', 'n', 's', 'a', 's', 's', 'o', 'c', 'i', 'a', 't', 'e', 'w', 'i', 't', 'h', 't', 'h', 'e', 'h', 'u', 'm', 'a', 'n', 'm', 'i', 'n', 'd', 's', 'u', 'c', 'h', 'a', 's', 'l', 'e', 'a', 'r', 'n', 'i', 'n', 'g', 'a', 'n', 'd', 'p', 'r', 'o', 'b', 'l', 'e', 'm', 's', 'o', 'l', 'v', 'i', 'n', 'g']\n",
      "[]\n",
      "[' ', ' ', ' ', ' ', ' ', ' ', ' ', ' ', ' ', ' ', ' ', '\\n', ' ', ' ', ' ', ' ', ' ', ' ', ' ', ' ', ' ', ' ', ' ', ' ', ' ', ' ']\n"
     ]
    }
   ],
   "source": [
    "text = \"\"\"Artificial intelligence (AI) is intelligence demonstrated by machines, or computers) that mimic\n",
    "\"cognitive\" functions that humans associate with the human mind, such as \"learning\" and \"problem solving\".\"\"\"\n",
    "v = 'auiouAEIOU'\n",
    "vo = []\n",
    "c = []\n",
    "d = []\n",
    "sp =[]\n",
    "for i in text:\n",
    "    if i in v:\n",
    "        vo.append(i)\n",
    "    if i.isalpha():\n",
    "        c.append(i)\n",
    "    if i.isdigit():\n",
    "        d.append(i)\n",
    "    if i.isspace():\n",
    "        sp.append(i)\n",
    "print(vo)\n",
    "print(c)\n",
    "print(d)\n",
    "print(sp)"
   ]
  },
  {
   "cell_type": "code",
   "execution_count": null,
   "id": "de67c79e-0ad6-4a57-ba33-c557ab518255",
   "metadata": {},
   "outputs": [],
   "source": []
  },
  {
   "cell_type": "code",
   "execution_count": 9,
   "id": "22baff28-945d-44d6-9c19-479e2b38f5c9",
   "metadata": {},
   "outputs": [
    {
     "name": "stdout",
     "output_type": "stream",
     "text": [
      "eoaeaooa\n"
     ]
    }
   ],
   "source": [
    "a = 'Hello, have a good day'\n",
    "b = \"\"\n",
    "c = \"aeiou\"\n",
    "for i in a:\n",
    "    if i in c:\n",
    "        b += i\n",
    "print(b)"
   ]
  },
  {
   "cell_type": "code",
   "execution_count": 12,
   "id": "128d4248-31cb-4b6f-94b9-de9dfbc742ac",
   "metadata": {},
   "outputs": [],
   "source": [
    "#remove nth char from string \n",
    "def rm(s):\n",
    "    a = s[:n]\n",
    "    b = s[n+1:]\n",
    "    return a+b"
   ]
  },
  {
   "cell_type": "code",
   "execution_count": 14,
   "id": "38b243f5-b794-4f89-9622-7f7acc4d6d09",
   "metadata": {},
   "outputs": [
    {
     "name": "stdout",
     "output_type": "stream",
     "text": [
      "['gohane', 's', 'Mayur']\n"
     ]
    }
   ],
   "source": [
    "#chnage 1 and last word \n",
    "a = 'Mayur s gohane'\n",
    "b = a.split()\n",
    "c = [b[-1]] + b[1:-1]+ [b[0]]\n",
    "print(c)"
   ]
  },
  {
   "cell_type": "code",
   "execution_count": 16,
   "id": "0d8a981b-8542-4392-8b35-f6cbd1c07617",
   "metadata": {},
   "outputs": [
    {
     "name": "stdout",
     "output_type": "stream",
     "text": [
      "{'Artificial': 1, 'intelligence': 1, '(AI)': 1, 'is': 1, 'intelligenceanimals': 1, 'including': 1, 'humans': 1}\n"
     ]
    }
   ],
   "source": [
    "a = \"Artificial intelligence (AI) is intelligenceanimals including humans\"\n",
    "b = a.split()\n",
    "c = {}\n",
    "for i in b:\n",
    "    if i in c:\n",
    "        c[i] += 1\n",
    "    else:\n",
    "        c[i] = 1\n",
    "print(c)"
   ]
  },
  {
   "cell_type": "code",
   "execution_count": 17,
   "id": "0fa4e588-426d-4f6f-9d34-75d90c850199",
   "metadata": {},
   "outputs": [
    {
     "name": "stdout",
     "output_type": "stream",
     "text": [
      "MyrGhn\n"
     ]
    }
   ],
   "source": [
    "a = 'Mayur Gohane'\n",
    "b = ''\n",
    "for i,v in enumerate(a):\n",
    "    if i%2==0:\n",
    "        b += v\n",
    "print(b)"
   ]
  },
  {
   "cell_type": "code",
   "execution_count": 23,
   "id": "d424dd0c-c1c5-4826-b68b-1d6c8e67fee1",
   "metadata": {},
   "outputs": [],
   "source": [
    "def rev(a):\n",
    "    if len(a)%5==0:\n",
    "        return a[::-1]\n",
    "    else:\n",
    "        return a"
   ]
  },
  {
   "cell_type": "code",
   "execution_count": 32,
   "id": "168c6bce-0306-4f84-a567-21a5cbd0d147",
   "metadata": {},
   "outputs": [
    {
     "data": {
      "text/plain": [
       "'ruyaM'"
      ]
     },
     "execution_count": 32,
     "metadata": {},
     "output_type": "execute_result"
    }
   ],
   "source": [
    "final = rev('Mayur')\n",
    "final"
   ]
  },
  {
   "cell_type": "code",
   "execution_count": 33,
   "id": "90b11e21-7503-49a7-a075-a781e4e10080",
   "metadata": {},
   "outputs": [
    {
     "data": {
      "text/plain": [
       "['humans',\n",
       " 'including',\n",
       " 'animals',\n",
       " 'by',\n",
       " 'displayed',\n",
       " 'intelligence',\n",
       " 'natural',\n",
       " 'intelligence',\n",
       " 'is',\n",
       " '(AI)',\n",
       " 'intelligence',\n",
       " 'Artificial']"
      ]
     },
     "execution_count": 33,
     "metadata": {},
     "output_type": "execute_result"
    }
   ],
   "source": [
    "a = \"Artificial intelligence (AI) is intelligence natural intelligence displayed by animals including humans\"\n",
    "b = a.split()\n",
    "b.reverse()\n",
    "b"
   ]
  },
  {
   "cell_type": "code",
   "execution_count": 34,
   "id": "209c321f-02d0-4c00-b70c-20ba42a26d4f",
   "metadata": {},
   "outputs": [
    {
     "name": "stdout",
     "output_type": "stream",
     "text": [
      "Artifcal neg(I)sdmopybuh\n"
     ]
    }
   ],
   "source": [
    "a = \"Artificial intelligence (AI) is intelligence demonstrated displayed by animals including humans\"\n",
    "b = \"\"\n",
    "for i in a:\n",
    "    if i not in b:\n",
    "        b += i\n",
    "print(b)"
   ]
  },
  {
   "cell_type": "code",
   "execution_count": 35,
   "id": "5d01259a-d818-4a52-bec3-27b085b0e87c",
   "metadata": {},
   "outputs": [
    {
     "data": {
      "text/plain": [
       "55"
      ]
     },
     "execution_count": 35,
     "metadata": {},
     "output_type": "execute_result"
    }
   ],
   "source": [
    "n=5\n",
    "a=0\n",
    "for i in range(1,n+1):\n",
    "    a = a + i*i\n",
    "a"
   ]
  },
  {
   "cell_type": "code",
   "execution_count": 36,
   "id": "892ccdfa-3cf2-4fe2-b41a-6d2520b0c480",
   "metadata": {},
   "outputs": [],
   "source": [
    "#prime \n",
    "def prime(n):\n",
    "    if n<2:\n",
    "        return n\n",
    "    for i in range(2,n):\n",
    "        if n%i==0:\n",
    "            return False\n",
    "    return True "
   ]
  },
  {
   "cell_type": "code",
   "execution_count": 38,
   "id": "26faaa82-24b3-4b4d-b95c-e429d877d7c0",
   "metadata": {},
   "outputs": [
    {
     "data": {
      "text/plain": [
       "Counter({25: 2, 5: 1, 30: 1, 88: 1, 45: 1, 78: 1, 99: 1})"
      ]
     },
     "execution_count": 38,
     "metadata": {},
     "output_type": "execute_result"
    }
   ],
   "source": [
    "from collections import Counter\n",
    "a = [5, 25, 25, 30, 88, 45, 78, 99]\n",
    "b = Counter(a)\n",
    "b"
   ]
  },
  {
   "cell_type": "code",
   "execution_count": 39,
   "id": "9f97b226-16b0-4ef8-9073-2e1f681e9e14",
   "metadata": {},
   "outputs": [
    {
     "data": {
      "text/plain": [
       "[25, 625, 625, 900, 7744, 2025, 6084, 9801]"
      ]
     },
     "execution_count": 39,
     "metadata": {},
     "output_type": "execute_result"
    }
   ],
   "source": [
    "a = [5, 25, 25, 30, 88, 45, 78, 99]\n",
    "b = [i*i for i in a]\n",
    "b"
   ]
  },
  {
   "cell_type": "code",
   "execution_count": 41,
   "id": "ef565f5d-5867-4991-9ff7-e4514568a43a",
   "metadata": {},
   "outputs": [
    {
     "name": "stdout",
     "output_type": "stream",
     "text": [
      "5\n",
      "99\n"
     ]
    }
   ],
   "source": [
    "a = [5, 25, 25, 30, 88, 45, 78, 99]\n",
    "small = a[0]\n",
    "large = a[0]\n",
    "for i in a:\n",
    "    if i < small:\n",
    "        small=i\n",
    "    if i > large:\n",
    "        large = i\n",
    "print(small)\n",
    "print(large)"
   ]
  },
  {
   "cell_type": "code",
   "execution_count": 42,
   "id": "dca17f8c-b697-4fd7-85b7-fd412422f196",
   "metadata": {},
   "outputs": [
    {
     "name": "stdin",
     "output_type": "stream",
     "text": [
      "enter 1 2 3 4 5\n"
     ]
    },
    {
     "ename": "ValueError",
     "evalue": "invalid literal for int() with base 10: ' '",
     "output_type": "error",
     "traceback": [
      "\u001b[1;31m---------------------------------------------------------------------------\u001b[0m",
      "\u001b[1;31mValueError\u001b[0m                                Traceback (most recent call last)",
      "Cell \u001b[1;32mIn[42], line 2\u001b[0m\n\u001b[0;32m      1\u001b[0m a \u001b[38;5;241m=\u001b[39m \u001b[38;5;28minput\u001b[39m(\u001b[38;5;124m'\u001b[39m\u001b[38;5;124menter\u001b[39m\u001b[38;5;124m'\u001b[39m)\n\u001b[1;32m----> 2\u001b[0m b \u001b[38;5;241m=\u001b[39m [\u001b[38;5;28mint\u001b[39m(i) \u001b[38;5;28;01mfor\u001b[39;00m i \u001b[38;5;129;01min\u001b[39;00m a]\n\u001b[0;32m      3\u001b[0m c \u001b[38;5;241m-\u001b[39m \u001b[38;5;28minput\u001b[39m(\u001b[38;5;124m'\u001b[39m\u001b[38;5;124menter\u001b[39m\u001b[38;5;124m'\u001b[39m)\n\u001b[0;32m      4\u001b[0m e \u001b[38;5;241m=\u001b[39m [\u001b[38;5;28mint\u001b[39m(i) \u001b[38;5;28;01mfor\u001b[39;00m i \u001b[38;5;129;01min\u001b[39;00m c]\n",
      "Cell \u001b[1;32mIn[42], line 2\u001b[0m, in \u001b[0;36m<listcomp>\u001b[1;34m(.0)\u001b[0m\n\u001b[0;32m      1\u001b[0m a \u001b[38;5;241m=\u001b[39m \u001b[38;5;28minput\u001b[39m(\u001b[38;5;124m'\u001b[39m\u001b[38;5;124menter\u001b[39m\u001b[38;5;124m'\u001b[39m)\n\u001b[1;32m----> 2\u001b[0m b \u001b[38;5;241m=\u001b[39m [\u001b[38;5;28;43mint\u001b[39;49m\u001b[43m(\u001b[49m\u001b[43mi\u001b[49m\u001b[43m)\u001b[49m \u001b[38;5;28;01mfor\u001b[39;00m i \u001b[38;5;129;01min\u001b[39;00m a]\n\u001b[0;32m      3\u001b[0m c \u001b[38;5;241m-\u001b[39m \u001b[38;5;28minput\u001b[39m(\u001b[38;5;124m'\u001b[39m\u001b[38;5;124menter\u001b[39m\u001b[38;5;124m'\u001b[39m)\n\u001b[0;32m      4\u001b[0m e \u001b[38;5;241m=\u001b[39m [\u001b[38;5;28mint\u001b[39m(i) \u001b[38;5;28;01mfor\u001b[39;00m i \u001b[38;5;129;01min\u001b[39;00m c]\n",
      "\u001b[1;31mValueError\u001b[0m: invalid literal for int() with base 10: ' '"
     ]
    }
   ],
   "source": [
    "a = input('enter')\n",
    "b = [int(i) for i in a]\n",
    "c - input('enter')\n",
    "e = [int(i) for i in c]\n",
    "for i in b:\n",
    "    if i in e:\n",
    "        b.remove(i)\n",
    "print(b)\n",
    "print(e)"
   ]
  },
  {
   "cell_type": "code",
   "execution_count": 43,
   "id": "5f3605d0-69d6-42ad-91fb-cd991cd089bc",
   "metadata": {},
   "outputs": [
    {
     "name": "stdout",
     "output_type": "stream",
     "text": [
      "[[1], [1, 2], [2]]\n"
     ]
    }
   ],
   "source": [
    "a = [1,2]\n",
    "b = []\n",
    "for i in range(len(a)):\n",
    "    for j in range(i+1, len(a)+1):\n",
    "        b.append(a[i:j])\n",
    "print(b)"
   ]
  },
  {
   "cell_type": "code",
   "execution_count": 45,
   "id": "19d75a27-e75b-45c0-9a9d-2140fcbd33cb",
   "metadata": {},
   "outputs": [
    {
     "data": {
      "text/plain": [
       "{2, 5}"
      ]
     },
     "execution_count": 45,
     "metadata": {},
     "output_type": "execute_result"
    }
   ],
   "source": [
    "a = {1,2,3,4,5,}\n",
    "b = {6,7,8,9,10,2,5}\n",
    "a.intersection(b) #"
   ]
  },
  {
   "cell_type": "code",
   "execution_count": 46,
   "id": "47fab903-125d-4975-810a-76196226cbc9",
   "metadata": {},
   "outputs": [
    {
     "data": {
      "text/plain": [
       "{'A': 15, 'B': 10, 'D': 25}"
      ]
     },
     "execution_count": 46,
     "metadata": {},
     "output_type": "execute_result"
    }
   ],
   "source": [
    "a = {\n",
    " 'D': 25,\n",
    " 'B': 10,\n",
    " 'A':15}\n",
    "b ={}\n",
    "for i in sorted(a.keys()):\n",
    "    b[i] = a[i]\n",
    "b"
   ]
  },
  {
   "cell_type": "code",
   "execution_count": 47,
   "id": "6307ffc4-454e-4be1-85de-32052ce46095",
   "metadata": {},
   "outputs": [
    {
     "data": {
      "text/plain": [
       "{'B': 10, 'A': 15, 'D': 25}"
      ]
     },
     "execution_count": 47,
     "metadata": {},
     "output_type": "execute_result"
    }
   ],
   "source": [
    "a = {\n",
    " 'D': 25,\n",
    " 'B': 10,\n",
    " 'A':15}\n",
    "b =dict(sorted(a.items(), key=lambda x:x[1]))\n",
    "b"
   ]
  },
  {
   "cell_type": "code",
   "execution_count": 48,
   "id": "bc9a8de7-4290-4bc2-be6f-4a4cd416d390",
   "metadata": {},
   "outputs": [
    {
     "data": {
      "text/plain": [
       "50"
      ]
     },
     "execution_count": 48,
     "metadata": {},
     "output_type": "execute_result"
    }
   ],
   "source": [
    "sum(a.values())"
   ]
  },
  {
   "cell_type": "code",
   "execution_count": 51,
   "id": "e9297d88-96b8-404f-959b-cf0a662d0ed3",
   "metadata": {},
   "outputs": [
    {
     "name": "stdout",
     "output_type": "stream",
     "text": [
      "['aet', 'ant', 'abt']\n"
     ]
    }
   ],
   "source": [
    "a = ['eat','tea','tan','ate','nat','bat']\n",
    "b = {}\n",
    "for i in a:\n",
    "    c = ''.join(sorted(i))\n",
    "    if c in b:\n",
    "        b[c].append(i)\n",
    "    else:\n",
    "        b[c]=[i]\n",
    "print(list(b))"
   ]
  },
  {
   "cell_type": "code",
   "execution_count": 52,
   "id": "cd6f0698-180e-4eda-a75c-bddcfdd51208",
   "metadata": {},
   "outputs": [],
   "source": [
    "#numbers anagram \n",
    "from collections import Counter\n",
    "def ana(n1,n2):\n",
    "    b1 = bin(n1)[2:]\n",
    "    b2 = bin(n2)[2:]\n",
    "    f1 = Counter(n1)\n",
    "    f2 = Counter(n2)\n",
    "    return f1==f2"
   ]
  },
  {
   "cell_type": "code",
   "execution_count": 53,
   "id": "935917da-0810-474a-8aa5-71db84f5f5bd",
   "metadata": {},
   "outputs": [
    {
     "data": {
      "text/plain": [
       "[(1, 3), (2, 6), (3, 9), (4, 12), (5, 15)]"
      ]
     },
     "execution_count": 53,
     "metadata": {},
     "output_type": "execute_result"
    }
   ],
   "source": [
    "a = [1,2,3,4,5]\n",
    "b = [(i,i*3) for i in a]\n",
    "b"
   ]
  },
  {
   "cell_type": "code",
   "execution_count": 54,
   "id": "5a88f0b4-299f-4519-8ba0-c143c9454142",
   "metadata": {},
   "outputs": [
    {
     "data": {
      "text/plain": [
       "120"
      ]
     },
     "execution_count": 54,
     "metadata": {},
     "output_type": "execute_result"
    }
   ],
   "source": [
    "#factorial \n",
    "n=5\n",
    "f=1\n",
    "for i in range(1,n+1):\n",
    "    f = f *i\n",
    "f"
   ]
  },
  {
   "cell_type": "code",
   "execution_count": 55,
   "id": "1afb8d4f-c12e-45e1-9c2a-d5239fd9959a",
   "metadata": {},
   "outputs": [],
   "source": [
    "#if binary representation is palindrome \n",
    "def pal(n):\n",
    "    binr = bin(n)[2:]\n",
    "    return binr==binr[::-1]"
   ]
  },
  {
   "cell_type": "code",
   "execution_count": 56,
   "id": "df7d74bf-da62-4c63-9767-d6a8c4f66fb6",
   "metadata": {},
   "outputs": [],
   "source": [
    "#common divisors of 2 numbers \n",
    "def common(a,b):\n",
    "    c = []\n",
    "    d = min(a,b)\n",
    "    for i in range(1, d+1):\n",
    "        if a%i==0 and b%i==0:\n",
    "            c.append(i)\n",
    "    return c"
   ]
  },
  {
   "cell_type": "code",
   "execution_count": 57,
   "id": "c56f687a-8783-4aed-961f-bace5cfff0cb",
   "metadata": {},
   "outputs": [
    {
     "data": {
      "text/plain": [
       "Counter({'e': 10,\n",
       "         ' ': 7,\n",
       "         'r': 4,\n",
       "         't': 4,\n",
       "         'c': 4,\n",
       "         'd': 4,\n",
       "         'o': 3,\n",
       "         'f': 3,\n",
       "         'h': 2,\n",
       "         'i': 2,\n",
       "         'n': 2,\n",
       "         'H': 1,\n",
       "         '’': 1,\n",
       "         's': 1})"
      ]
     },
     "execution_count": 57,
     "metadata": {},
     "output_type": "execute_result"
    }
   ],
   "source": [
    "from collections import Counter\n",
    "a = \"Here’s the corrected code to find the difference\"\n",
    "b = Counter(a)\n",
    "b"
   ]
  },
  {
   "cell_type": "code",
   "execution_count": null,
   "id": "b9519191-464a-4a54-8865-cfdc7ea2bfb3",
   "metadata": {},
   "outputs": [],
   "source": []
  },
  {
   "cell_type": "code",
   "execution_count": null,
   "id": "5b03c61a-fb5a-40f6-bd0a-fc34076dfc26",
   "metadata": {},
   "outputs": [],
   "source": []
  },
  {
   "cell_type": "code",
   "execution_count": null,
   "id": "f8a74501-7f91-4a93-97c6-475c2e611b14",
   "metadata": {},
   "outputs": [],
   "source": []
  },
  {
   "cell_type": "code",
   "execution_count": null,
   "id": "42d3956c-be2e-4f01-a858-275577455766",
   "metadata": {},
   "outputs": [],
   "source": []
  },
  {
   "cell_type": "code",
   "execution_count": null,
   "id": "17e060a7-244c-4f0c-ba04-df9a26803a48",
   "metadata": {},
   "outputs": [],
   "source": []
  },
  {
   "cell_type": "code",
   "execution_count": null,
   "id": "e2ca8fc8-ade6-428b-bacc-0f2b06ba17a3",
   "metadata": {},
   "outputs": [],
   "source": []
  },
  {
   "cell_type": "code",
   "execution_count": null,
   "id": "0be3bf0a-5261-4d81-9849-b2955cf35b13",
   "metadata": {},
   "outputs": [],
   "source": []
  },
  {
   "cell_type": "code",
   "execution_count": null,
   "id": "e952b22f-697e-46a0-97c9-d8acdd2294ee",
   "metadata": {},
   "outputs": [],
   "source": []
  },
  {
   "cell_type": "code",
   "execution_count": null,
   "id": "230568cc-5e80-4b84-ab7c-8c0f69f55c12",
   "metadata": {},
   "outputs": [],
   "source": []
  },
  {
   "cell_type": "code",
   "execution_count": null,
   "id": "2fc7b1b7-ef28-433a-b8af-f5eb9bdd119b",
   "metadata": {},
   "outputs": [],
   "source": []
  },
  {
   "cell_type": "code",
   "execution_count": null,
   "id": "c2de00b9-b5aa-4624-8b7d-92b9a43a215a",
   "metadata": {},
   "outputs": [],
   "source": []
  },
  {
   "cell_type": "code",
   "execution_count": null,
   "id": "2cb09199-0d2d-4337-a551-97af659a7f14",
   "metadata": {},
   "outputs": [],
   "source": []
  },
  {
   "cell_type": "code",
   "execution_count": null,
   "id": "b167ac3c-4195-40af-82f2-3c57adb282cc",
   "metadata": {},
   "outputs": [],
   "source": []
  },
  {
   "cell_type": "code",
   "execution_count": null,
   "id": "1d8f01a1-22e9-4de8-9871-849f1a355e91",
   "metadata": {},
   "outputs": [],
   "source": []
  },
  {
   "cell_type": "code",
   "execution_count": null,
   "id": "c26d48d7-fce6-44b0-8d7c-01b5a0fdde19",
   "metadata": {},
   "outputs": [],
   "source": []
  },
  {
   "cell_type": "code",
   "execution_count": null,
   "id": "9f23eafc-fa88-42a9-a830-2405d5c7218a",
   "metadata": {},
   "outputs": [],
   "source": []
  },
  {
   "cell_type": "code",
   "execution_count": null,
   "id": "60401435-4be8-4545-8fd5-d6c0c20ad409",
   "metadata": {},
   "outputs": [],
   "source": []
  },
  {
   "cell_type": "code",
   "execution_count": null,
   "id": "f4a09986-8bd0-4199-b122-4a71f351fedf",
   "metadata": {},
   "outputs": [],
   "source": []
  },
  {
   "cell_type": "code",
   "execution_count": null,
   "id": "9d6e9f0f-4e39-47d4-ba66-44f675ca20a4",
   "metadata": {},
   "outputs": [],
   "source": []
  },
  {
   "cell_type": "code",
   "execution_count": null,
   "id": "08c0807f-20eb-452c-aadc-294e1bffdf25",
   "metadata": {},
   "outputs": [],
   "source": []
  },
  {
   "cell_type": "code",
   "execution_count": null,
   "id": "eb829a8e-9cf4-46a2-9954-82b5c648772f",
   "metadata": {},
   "outputs": [],
   "source": []
  },
  {
   "cell_type": "code",
   "execution_count": null,
   "id": "0972bdeb-a9f6-4ea0-a681-201727e5d345",
   "metadata": {},
   "outputs": [],
   "source": []
  },
  {
   "cell_type": "code",
   "execution_count": null,
   "id": "9bf896cf-5762-45f2-bc90-f4205924a264",
   "metadata": {},
   "outputs": [],
   "source": []
  },
  {
   "cell_type": "code",
   "execution_count": null,
   "id": "f016bda5-acd3-406e-b5ab-996204683f9c",
   "metadata": {},
   "outputs": [],
   "source": []
  },
  {
   "cell_type": "code",
   "execution_count": null,
   "id": "84454920-62d7-4dde-9ab4-2cbba9dba2e8",
   "metadata": {},
   "outputs": [],
   "source": []
  },
  {
   "cell_type": "code",
   "execution_count": null,
   "id": "3a1b0a03-1f01-4f04-826f-4357ea3adddf",
   "metadata": {},
   "outputs": [],
   "source": []
  },
  {
   "cell_type": "code",
   "execution_count": null,
   "id": "2410a669-3999-4ad8-9bea-96634dc6ec8d",
   "metadata": {},
   "outputs": [],
   "source": []
  },
  {
   "cell_type": "code",
   "execution_count": null,
   "id": "24123832-f2a3-48d9-b9a5-e453339417f0",
   "metadata": {},
   "outputs": [],
   "source": []
  },
  {
   "cell_type": "code",
   "execution_count": null,
   "id": "5c183a48-0af4-4075-ba55-d8ff460bc60d",
   "metadata": {},
   "outputs": [],
   "source": []
  },
  {
   "cell_type": "code",
   "execution_count": null,
   "id": "5b12cf86-9de2-4f7a-b801-0cee36eadb3d",
   "metadata": {},
   "outputs": [],
   "source": []
  },
  {
   "cell_type": "code",
   "execution_count": null,
   "id": "884bfd47-756e-4683-9824-816b7f127970",
   "metadata": {},
   "outputs": [],
   "source": []
  },
  {
   "cell_type": "code",
   "execution_count": null,
   "id": "f796152f-9301-4541-9720-2c5339901a6c",
   "metadata": {},
   "outputs": [],
   "source": []
  },
  {
   "cell_type": "code",
   "execution_count": null,
   "id": "0bdd12d9-631d-4bff-a25e-02eed1aa4a54",
   "metadata": {},
   "outputs": [],
   "source": []
  },
  {
   "cell_type": "code",
   "execution_count": null,
   "id": "00d6328d-b549-4f21-8569-3a1c1cd3b4a0",
   "metadata": {},
   "outputs": [],
   "source": []
  },
  {
   "cell_type": "code",
   "execution_count": null,
   "id": "86f95b6b-5778-4e8f-b06e-10176f6c2024",
   "metadata": {},
   "outputs": [],
   "source": []
  },
  {
   "cell_type": "code",
   "execution_count": null,
   "id": "6398b3b0-1a94-40d7-a243-47d1c50308d5",
   "metadata": {},
   "outputs": [],
   "source": []
  },
  {
   "cell_type": "code",
   "execution_count": null,
   "id": "953e2c0b-9083-444c-99ce-71c8f0d8a501",
   "metadata": {},
   "outputs": [],
   "source": []
  },
  {
   "cell_type": "code",
   "execution_count": null,
   "id": "ac86e90c-d2c8-4a0c-9100-7b48a6cffd1a",
   "metadata": {},
   "outputs": [],
   "source": []
  },
  {
   "cell_type": "code",
   "execution_count": null,
   "id": "60812552-c2ac-4f28-bb93-dfca97951b2d",
   "metadata": {},
   "outputs": [],
   "source": []
  },
  {
   "cell_type": "code",
   "execution_count": null,
   "id": "e48d92e1-c006-4fac-b924-05163ff80970",
   "metadata": {},
   "outputs": [],
   "source": []
  },
  {
   "cell_type": "code",
   "execution_count": null,
   "id": "b7251aaa-4626-44c4-ac5e-f4bcfc2a7ca6",
   "metadata": {},
   "outputs": [],
   "source": []
  },
  {
   "cell_type": "code",
   "execution_count": null,
   "id": "95266972-fbc6-49d9-aba7-313ea0ad7589",
   "metadata": {},
   "outputs": [],
   "source": []
  },
  {
   "cell_type": "code",
   "execution_count": null,
   "id": "2e7538cc-2801-4264-9578-9b97535ce917",
   "metadata": {},
   "outputs": [],
   "source": []
  },
  {
   "cell_type": "code",
   "execution_count": null,
   "id": "92598ee6-c940-4b86-a88b-a8b1f212968b",
   "metadata": {},
   "outputs": [],
   "source": []
  },
  {
   "cell_type": "code",
   "execution_count": null,
   "id": "bb41a9b5-d17b-4274-957d-281cff003805",
   "metadata": {},
   "outputs": [],
   "source": []
  },
  {
   "cell_type": "code",
   "execution_count": null,
   "id": "c229b8b3-c33b-4dd0-94ee-7528260b0f20",
   "metadata": {},
   "outputs": [],
   "source": []
  },
  {
   "cell_type": "code",
   "execution_count": null,
   "id": "86370a68-ad2e-4c76-b70f-297bbd7653b7",
   "metadata": {},
   "outputs": [],
   "source": []
  },
  {
   "cell_type": "code",
   "execution_count": null,
   "id": "02c57165-d910-4303-958e-acda5730a137",
   "metadata": {},
   "outputs": [],
   "source": []
  },
  {
   "cell_type": "code",
   "execution_count": null,
   "id": "48f9a83e-01ee-469a-8ac5-a56b7ab62212",
   "metadata": {},
   "outputs": [],
   "source": []
  },
  {
   "cell_type": "code",
   "execution_count": null,
   "id": "d602296f-f647-4fca-bdb9-eeaebb06eaaa",
   "metadata": {},
   "outputs": [],
   "source": []
  },
  {
   "cell_type": "code",
   "execution_count": null,
   "id": "e134a8c0-60a1-4618-af6f-37bc1ae1beb4",
   "metadata": {},
   "outputs": [],
   "source": []
  },
  {
   "cell_type": "code",
   "execution_count": null,
   "id": "82ef65b7-201d-42be-b2c1-a1375979936d",
   "metadata": {},
   "outputs": [],
   "source": []
  },
  {
   "cell_type": "code",
   "execution_count": null,
   "id": "e621e2e1-6f56-4f97-bdcc-47558ed317a9",
   "metadata": {},
   "outputs": [],
   "source": []
  },
  {
   "cell_type": "code",
   "execution_count": null,
   "id": "888c73f9-ba4e-407d-826d-cd49b9b24d8d",
   "metadata": {},
   "outputs": [],
   "source": []
  },
  {
   "cell_type": "code",
   "execution_count": null,
   "id": "fcf4803a-b5af-4f64-b6ca-d1487acae978",
   "metadata": {},
   "outputs": [],
   "source": []
  },
  {
   "cell_type": "code",
   "execution_count": null,
   "id": "9267a78a-7089-4ce3-9563-872b40f7d090",
   "metadata": {},
   "outputs": [],
   "source": []
  },
  {
   "cell_type": "code",
   "execution_count": null,
   "id": "844eb532-27e0-4b05-b905-8b7f451f249d",
   "metadata": {},
   "outputs": [],
   "source": []
  },
  {
   "cell_type": "code",
   "execution_count": null,
   "id": "b5bf0bfa-aaac-46c8-8c4d-162d1a36821f",
   "metadata": {},
   "outputs": [],
   "source": []
  },
  {
   "cell_type": "code",
   "execution_count": null,
   "id": "b6ea0e0b-6afd-4f59-90a3-9a1f18309a24",
   "metadata": {},
   "outputs": [],
   "source": []
  },
  {
   "cell_type": "code",
   "execution_count": null,
   "id": "804d573c-aaad-4cc0-98fc-bfa90150a838",
   "metadata": {},
   "outputs": [],
   "source": []
  },
  {
   "cell_type": "code",
   "execution_count": null,
   "id": "fdfed099-5b68-4b81-bf6e-bef84b94bffd",
   "metadata": {},
   "outputs": [],
   "source": []
  },
  {
   "cell_type": "code",
   "execution_count": null,
   "id": "967815a3-c35e-4336-a2da-4889e7efe236",
   "metadata": {},
   "outputs": [],
   "source": []
  },
  {
   "cell_type": "code",
   "execution_count": null,
   "id": "7a8bc87d-87c4-4c46-9c9e-848c004a411e",
   "metadata": {},
   "outputs": [],
   "source": []
  },
  {
   "cell_type": "code",
   "execution_count": null,
   "id": "bda60bcb-ab4b-492f-9711-0541379d9d62",
   "metadata": {},
   "outputs": [],
   "source": []
  },
  {
   "cell_type": "code",
   "execution_count": null,
   "id": "99d70063-e872-4b7f-8dbb-212a16a0e473",
   "metadata": {},
   "outputs": [],
   "source": []
  },
  {
   "cell_type": "code",
   "execution_count": null,
   "id": "21ba8096-67a1-4e8f-b1a8-91e93fcec16e",
   "metadata": {},
   "outputs": [],
   "source": []
  },
  {
   "cell_type": "code",
   "execution_count": null,
   "id": "0db18643-bb65-4b22-9f3e-ac3c39de5dc3",
   "metadata": {},
   "outputs": [],
   "source": []
  },
  {
   "cell_type": "code",
   "execution_count": null,
   "id": "d533b706-b609-4164-afc1-1f945df2fb5e",
   "metadata": {},
   "outputs": [],
   "source": []
  },
  {
   "cell_type": "code",
   "execution_count": null,
   "id": "d941774b-6c39-4058-9d30-36ebcd10f4d7",
   "metadata": {},
   "outputs": [],
   "source": []
  }
 ],
 "metadata": {
  "kernelspec": {
   "display_name": "Python 3 (ipykernel)",
   "language": "python",
   "name": "python3"
  },
  "language_info": {
   "codemirror_mode": {
    "name": "ipython",
    "version": 3
   },
   "file_extension": ".py",
   "mimetype": "text/x-python",
   "name": "python",
   "nbconvert_exporter": "python",
   "pygments_lexer": "ipython3",
   "version": "3.10.11"
  }
 },
 "nbformat": 4,
 "nbformat_minor": 5
}
