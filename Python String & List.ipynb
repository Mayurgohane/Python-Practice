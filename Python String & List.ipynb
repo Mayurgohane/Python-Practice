{
 "cells": [
  {
   "cell_type": "code",
   "execution_count": 4,
   "id": "453d50e6-93a0-472e-ab17-52fc28aae57b",
   "metadata": {},
   "outputs": [
    {
     "name": "stdout",
     "output_type": "stream",
     "text": [
      "[[2], [2, 3], [3]]\n"
     ]
    }
   ],
   "source": [
    "a = [1,2,3]\n",
    "b = []\n",
    "for i in a:\n",
    "    for j in range(i+1, len(a)+1):\n",
    "        b.append(a[i:j])\n",
    "print(b)"
   ]
  },
  {
   "cell_type": "code",
   "execution_count": 7,
   "id": "f67309b1-7975-4680-a45f-2cf5a9b37f60",
   "metadata": {},
   "outputs": [
    {
     "name": "stdout",
     "output_type": "stream",
     "text": [
      "[[2], [2, 3], [3]]\n"
     ]
    }
   ],
   "source": [
    "#Generate sublist of list\n",
    "a = [1,2,3]\n",
    "b = []\n",
    "for i in a:\n",
    "    for j in range(i+1, len(a)+1):\n",
    "        b.append(a[i:j])\n",
    "print(b)"
   ]
  },
  {
   "cell_type": "code",
   "execution_count": 10,
   "id": "19e0751b-03f3-4c5d-9075-70ab93b67b39",
   "metadata": {},
   "outputs": [
    {
     "name": "stdout",
     "output_type": "stream",
     "text": [
      "55\n"
     ]
    }
   ],
   "source": [
    "def fc():\n",
    "    f = 55\n",
    "    print(f)\n",
    "fc()"
   ]
  },
  {
   "cell_type": "code",
   "execution_count": 11,
   "id": "e1dc7d70-1d59-4080-932a-139d1e9125b1",
   "metadata": {},
   "outputs": [
    {
     "name": "stdout",
     "output_type": "stream",
     "text": [
      "15\n"
     ]
    }
   ],
   "source": [
    "x = 10\n",
    "def fcc():\n",
    "    b = x + 5\n",
    "    print(b)\n",
    "fcc()"
   ]
  },
  {
   "cell_type": "code",
   "execution_count": 12,
   "id": "138737cc-cdc8-431e-aa76-b8323ea6e2f5",
   "metadata": {},
   "outputs": [
    {
     "name": "stdout",
     "output_type": "stream",
     "text": [
      "5\n"
     ]
    }
   ],
   "source": [
    "a = \"Mayur\"\n",
    "b = 0\n",
    "for i in a:\n",
    "    b += 1\n",
    "print(b)"
   ]
  },
  {
   "cell_type": "code",
   "execution_count": 14,
   "id": "087ad094-461f-402f-8413-ddc1fa936870",
   "metadata": {},
   "outputs": [
    {
     "name": "stdout",
     "output_type": "stream",
     "text": [
      "auoae\n"
     ]
    }
   ],
   "source": [
    "#new string with consonants deleted from string \n",
    "a = \"Mayur Gohane\"\n",
    "v = \"aeiouAEIOU\"\n",
    "b = \"\"\n",
    "for i in a:\n",
    "    if i in v:\n",
    "        b += i\n",
    "print(b)"
   ]
  },
  {
   "cell_type": "code",
   "execution_count": 17,
   "id": "ac897095-488b-4e44-ae37-d7006065528f",
   "metadata": {},
   "outputs": [],
   "source": [
    "#remove nth char\n",
    "def rem(s,n):\n",
    "    a = s[:n]\n",
    "    b = s[n+1:]\n",
    "    return a+b"
   ]
  },
  {
   "cell_type": "code",
   "execution_count": 18,
   "id": "36f9e087-e54f-49bb-b6fc-1529cc7fbe4d",
   "metadata": {},
   "outputs": [
    {
     "data": {
      "text/plain": [
       "'Maur'"
      ]
     },
     "execution_count": 18,
     "metadata": {},
     "output_type": "execute_result"
    }
   ],
   "source": [
    "rem(\"Mayur\",2)"
   ]
  },
  {
   "cell_type": "code",
   "execution_count": 26,
   "id": "795879cb-7588-4ae2-b4c1-b20a772a0ecb",
   "metadata": {},
   "outputs": [
    {
     "name": "stdout",
     "output_type": "stream",
     "text": [
      "gohane sudh mayur\n"
     ]
    }
   ],
   "source": [
    "#chnage first & last word \n",
    "a = \"mayur sudh gohane\"\n",
    "b = a.split()\n",
    "c = [b[-1]] + b[1:-1]+ [b[0]]\n",
    "print(' '.join(c))"
   ]
  },
  {
   "cell_type": "code",
   "execution_count": 27,
   "id": "cfe04a7b-3569-4f28-804b-7d2ee8698dfc",
   "metadata": {},
   "outputs": [],
   "source": [
    "from collections import Counter"
   ]
  },
  {
   "cell_type": "code",
   "execution_count": 29,
   "id": "3788b5ee-6255-47f3-ac97-9769845fd67d",
   "metadata": {},
   "outputs": [
    {
     "data": {
      "text/plain": [
       "Counter({'mayur': 1, 'sudhakar': 1, 'gohane': 1})"
      ]
     },
     "execution_count": 29,
     "metadata": {},
     "output_type": "execute_result"
    }
   ],
   "source": [
    "a = \"mayur sudhakar gohane\"\n",
    "b = a.split()\n",
    "c = Counter(b)\n",
    "c"
   ]
  },
  {
   "cell_type": "code",
   "execution_count": 33,
   "id": "867225f3-3fe5-40cf-b0a6-88b9377a21f4",
   "metadata": {},
   "outputs": [],
   "source": [
    "a = \"mayur sudhakar gohane\"\n",
    "b = a.split()\n",
    "c = {}\n",
    "for i in b:\n",
    "    if i in c:\n",
    "        c[i] += 1\n",
    "    else:\n",
    "        c[i] = 1"
   ]
  },
  {
   "cell_type": "code",
   "execution_count": 34,
   "id": "af9b24e4-f3c5-4f42-9949-cc4bdaf4a414",
   "metadata": {},
   "outputs": [
    {
     "data": {
      "text/plain": [
       "{'mayur': 1, 'sudhakar': 1, 'gohane': 1}"
      ]
     },
     "execution_count": 34,
     "metadata": {},
     "output_type": "execute_result"
    }
   ],
   "source": [
    "c"
   ]
  },
  {
   "cell_type": "code",
   "execution_count": 37,
   "id": "3ae7eca5-9e2b-46e3-88b4-f72f9de298fc",
   "metadata": {},
   "outputs": [
    {
     "data": {
      "text/plain": [
       "4"
      ]
     },
     "execution_count": 37,
     "metadata": {},
     "output_type": "execute_result"
    }
   ],
   "source": [
    "a.count('a')"
   ]
  },
  {
   "cell_type": "code",
   "execution_count": 38,
   "id": "c20b29d6-e3e9-4e3a-8ed7-59b6754944ff",
   "metadata": {},
   "outputs": [
    {
     "data": {
      "text/plain": [
       "['sudhakar', 'gohane']"
      ]
     },
     "execution_count": 38,
     "metadata": {},
     "output_type": "execute_result"
    }
   ],
   "source": [
    "a = \"mayur sudhakar gohane\"\n",
    "b = a.split()\n",
    "b[-2:]"
   ]
  },
  {
   "cell_type": "code",
   "execution_count": 40,
   "id": "d7586602-c5c1-4279-8098-216d1509433a",
   "metadata": {},
   "outputs": [],
   "source": [
    "a = \"MAYUR gohane\"\n",
    "up = 0\n",
    "for i in a[:4]:\n",
    "    if i.isupper():\n",
    "        up +=1\n",
    "    if up>=2:\n",
    "        a = a.upper()"
   ]
  },
  {
   "cell_type": "code",
   "execution_count": 41,
   "id": "d0838a1a-9411-4025-9799-b8df1a3ba8da",
   "metadata": {},
   "outputs": [
    {
     "data": {
      "text/plain": [
       "'MAYUR GOHANE'"
      ]
     },
     "execution_count": 41,
     "metadata": {},
     "output_type": "execute_result"
    }
   ],
   "source": [
    "a"
   ]
  },
  {
   "cell_type": "code",
   "execution_count": 48,
   "id": "1c091cfc-4912-4e69-a4ab-d7a96679da79",
   "metadata": {},
   "outputs": [
    {
     "data": {
      "text/plain": [
       "'32-54-23'"
      ]
     },
     "execution_count": 48,
     "metadata": {},
     "output_type": "execute_result"
    }
   ],
   "source": [
    "a = \"32.54,23\"\n",
    "b = a.replace('.','0')\n",
    "c = b.replace(',','0')\n",
    "d = c.replace('0','-')\n",
    "d"
   ]
  },
  {
   "cell_type": "code",
   "execution_count": 50,
   "id": "ba61d414-924d-4fc6-a361-dadd0c9c7d65",
   "metadata": {},
   "outputs": [
    {
     "name": "stdout",
     "output_type": "stream",
     "text": [
      "first char is a\n"
     ]
    }
   ],
   "source": [
    "#first repeated char in string \n",
    "a = \"mayur gohane\"\n",
    "b = []\n",
    "for i in a:\n",
    "    if i in b:\n",
    "        print('first char is',i)\n",
    "        break\n",
    "    else:\n",
    "        b.append(i)\n",
    "else:\n",
    "    print('not')"
   ]
  },
  {
   "cell_type": "code",
   "execution_count": 51,
   "id": "f6e96c3e-7e92-4efc-8d2a-75b069cc6c4c",
   "metadata": {},
   "outputs": [],
   "source": [
    "a = [1,2,3]\n",
    "odd = 0\n",
    "eve = 0\n",
    "for i in a:\n",
    "    if i%2==0:\n",
    "        eve += 1\n",
    "    else:\n",
    "        odd += 1"
   ]
  },
  {
   "cell_type": "code",
   "execution_count": 52,
   "id": "024a93b8-1e51-47cf-bb38-23e567068ed0",
   "metadata": {},
   "outputs": [
    {
     "data": {
      "text/plain": [
       "2"
      ]
     },
     "execution_count": 52,
     "metadata": {},
     "output_type": "execute_result"
    }
   ],
   "source": [
    "odd"
   ]
  },
  {
   "cell_type": "code",
   "execution_count": 53,
   "id": "b8b5ba8c-2c18-4bae-a732-c8c18d895131",
   "metadata": {},
   "outputs": [
    {
     "data": {
      "text/plain": [
       "1"
      ]
     },
     "execution_count": 53,
     "metadata": {},
     "output_type": "execute_result"
    }
   ],
   "source": [
    "eve"
   ]
  },
  {
   "cell_type": "code",
   "execution_count": 58,
   "id": "64e838f7-5667-4744-9539-3adb05c55196",
   "metadata": {},
   "outputs": [],
   "source": [
    "#remove char with odd index\n",
    "a = \"mayur gohane\"\n",
    "b = ''\n",
    "for i,v in enumerate(a):\n",
    "    if i%2==0:\n",
    "        b += v"
   ]
  },
  {
   "cell_type": "code",
   "execution_count": 59,
   "id": "faa11c70-a1da-4bde-8518-8d20026d101b",
   "metadata": {},
   "outputs": [
    {
     "data": {
      "text/plain": [
       "'myrghn'"
      ]
     },
     "execution_count": 59,
     "metadata": {},
     "output_type": "execute_result"
    }
   ],
   "source": [
    "b"
   ]
  },
  {
   "cell_type": "code",
   "execution_count": 61,
   "id": "1e82f00b-a056-4eaf-ab15-6839b0e5b9b4",
   "metadata": {},
   "outputs": [],
   "source": [
    "#reverse string if multiple of 5\n",
    "def rev(s):\n",
    "    if len(s)>=5:\n",
    "        return s[::-1]\n",
    "    else:\n",
    "        return s"
   ]
  },
  {
   "cell_type": "code",
   "execution_count": 64,
   "id": "9abaa921-f6e1-4cd9-8774-50df07232adc",
   "metadata": {},
   "outputs": [
    {
     "data": {
      "text/plain": [
       "'ruyaM'"
      ]
     },
     "execution_count": 64,
     "metadata": {},
     "output_type": "execute_result"
    }
   ],
   "source": [
    "rev('Mayur')"
   ]
  },
  {
   "cell_type": "code",
   "execution_count": 68,
   "id": "4955702f-8753-428a-bae3-9e00cf9443da",
   "metadata": {},
   "outputs": [
    {
     "data": {
      "text/plain": [
       "'5.0%'"
      ]
     },
     "execution_count": 68,
     "metadata": {},
     "output_type": "execute_result"
    }
   ],
   "source": [
    "a = 0.05\n",
    "b = f\"{a:.1%}\"\n",
    "b"
   ]
  },
  {
   "cell_type": "code",
   "execution_count": 69,
   "id": "93d003cc-193a-4116-996e-5bc860b9b5d9",
   "metadata": {},
   "outputs": [],
   "source": [
    "#reverse string \n",
    "a = \"mayur gohane\"\n",
    "b = a.split()\n",
    "b.reverse()"
   ]
  },
  {
   "cell_type": "code",
   "execution_count": 70,
   "id": "6293186e-b35c-4a00-ad37-2874dd116b24",
   "metadata": {},
   "outputs": [
    {
     "data": {
      "text/plain": [
       "['gohane', 'mayur']"
      ]
     },
     "execution_count": 70,
     "metadata": {},
     "output_type": "execute_result"
    }
   ],
   "source": [
    "b"
   ]
  },
  {
   "cell_type": "code",
   "execution_count": 72,
   "id": "afe88dde-d4ac-4b75-a9ad-4b17d9085e07",
   "metadata": {},
   "outputs": [
    {
     "name": "stdout",
     "output_type": "stream",
     "text": [
      "mayur gohne\n"
     ]
    }
   ],
   "source": [
    "#remove duplicate char from string \n",
    "a = \"mayur gohane\"\n",
    "b = \"\"\n",
    "for i in a:\n",
    "    if i not in b:\n",
    "        b += i\n",
    "print(b)"
   ]
  },
  {
   "cell_type": "code",
   "execution_count": null,
   "id": "a2cc3593-e56c-4e96-8fcd-2b930eb1814f",
   "metadata": {},
   "outputs": [],
   "source": [
    "#area of circle \n",
    "import math\n",
    "area = math.pi*r**2"
   ]
  },
  {
   "cell_type": "code",
   "execution_count": 74,
   "id": "9a7c3285-77ea-49ad-a151-11ea63d135e0",
   "metadata": {},
   "outputs": [
    {
     "data": {
      "text/plain": [
       "55"
      ]
     },
     "execution_count": 74,
     "metadata": {},
     "output_type": "execute_result"
    }
   ],
   "source": [
    "#sum of squares of first natural numbers\n",
    "n = 5\n",
    "b = 0\n",
    "for i in range(1,n+1):\n",
    "    b = b + i*i\n",
    "b"
   ]
  },
  {
   "cell_type": "code",
   "execution_count": 76,
   "id": "98c070a0-ea95-409b-9edd-e5d0ce9a2ec6",
   "metadata": {},
   "outputs": [
    {
     "data": {
      "text/plain": [
       "225"
      ]
     },
     "execution_count": 76,
     "metadata": {},
     "output_type": "execute_result"
    }
   ],
   "source": [
    "#cube \n",
    "n=5\n",
    "b = 0\n",
    "for i in range(1,n+1):\n",
    "    b = b + i*i*i\n",
    "b"
   ]
  },
  {
   "cell_type": "code",
   "execution_count": 77,
   "id": "694593e3-671e-4a9a-ba77-baba9701e002",
   "metadata": {},
   "outputs": [],
   "source": [
    "#check prime number \n",
    "def prime(n):\n",
    "    if n<2:\n",
    "        return n\n",
    "    for i in range(2,n):\n",
    "        if n%i==0:\n",
    "            return False\n",
    "    return True"
   ]
  },
  {
   "cell_type": "code",
   "execution_count": 78,
   "id": "7902c26a-daa0-4f6c-90c3-6bd8241838e5",
   "metadata": {},
   "outputs": [
    {
     "data": {
      "text/plain": [
       "True"
      ]
     },
     "execution_count": 78,
     "metadata": {},
     "output_type": "execute_result"
    }
   ],
   "source": [
    "prime(11)"
   ]
  },
  {
   "cell_type": "code",
   "execution_count": 79,
   "id": "a194e9bf-a11e-4255-9e7c-8362a972fbad",
   "metadata": {},
   "outputs": [],
   "source": [
    "a = [1,2,3,4,5]\n",
    "temp = a[0]\n",
    "a[0]=a[1]\n",
    "a[1] = temp"
   ]
  },
  {
   "cell_type": "code",
   "execution_count": 80,
   "id": "dab7a983-130b-487d-9e1f-3da7753933d8",
   "metadata": {},
   "outputs": [
    {
     "data": {
      "text/plain": [
       "[2, 1, 3, 4, 5]"
      ]
     },
     "execution_count": 80,
     "metadata": {},
     "output_type": "execute_result"
    }
   ],
   "source": [
    "a"
   ]
  },
  {
   "cell_type": "code",
   "execution_count": 81,
   "id": "9b8c7c22-01fd-41cf-acd8-8c89cab89ef8",
   "metadata": {},
   "outputs": [],
   "source": [
    "a = [1,2,3]\n",
    "a.reverse()"
   ]
  },
  {
   "cell_type": "code",
   "execution_count": 82,
   "id": "ce3d942c-441c-41e2-8381-5afc410002b7",
   "metadata": {},
   "outputs": [
    {
     "data": {
      "text/plain": [
       "[3, 2, 1]"
      ]
     },
     "execution_count": 82,
     "metadata": {},
     "output_type": "execute_result"
    }
   ],
   "source": [
    "a"
   ]
  },
  {
   "cell_type": "code",
   "execution_count": 83,
   "id": "a1ed9770-8ba9-4982-ab87-e3a223f1203c",
   "metadata": {},
   "outputs": [
    {
     "data": {
      "text/plain": [
       "Counter({3: 1, 2: 1, 1: 1})"
      ]
     },
     "execution_count": 83,
     "metadata": {},
     "output_type": "execute_result"
    }
   ],
   "source": [
    "from collections import Counter\n",
    "b = Counter(a)\n",
    "b"
   ]
  },
  {
   "cell_type": "code",
   "execution_count": 84,
   "id": "693142cd-b594-4067-884b-855be06e3e22",
   "metadata": {},
   "outputs": [
    {
     "data": {
      "text/plain": [
       "[9, 4, 1]"
      ]
     },
     "execution_count": 84,
     "metadata": {},
     "output_type": "execute_result"
    }
   ],
   "source": [
    "b = [i*i for i in a]\n",
    "b"
   ]
  },
  {
   "cell_type": "code",
   "execution_count": 86,
   "id": "d72e897b-b848-46f5-bd4f-a9781a3dcc3d",
   "metadata": {},
   "outputs": [
    {
     "name": "stdout",
     "output_type": "stream",
     "text": [
      "1\n",
      "3\n"
     ]
    }
   ],
   "source": [
    "#find small & large in list \n",
    "a = [1,2,3]\n",
    "small = a[0]\n",
    "large =a[0]\n",
    "for i in a:\n",
    "    if i<small:\n",
    "        small= i\n",
    "    else:\n",
    "        large = i\n",
    "print(small)\n",
    "print(large)"
   ]
  },
  {
   "cell_type": "code",
   "execution_count": 87,
   "id": "e011efeb-1c53-4a44-8294-871fbce5015e",
   "metadata": {},
   "outputs": [
    {
     "name": "stdin",
     "output_type": "stream",
     "text": [
      "Enter 1 2 3 4 5\n",
      "Enter 1 2 3\n"
     ]
    },
    {
     "name": "stdout",
     "output_type": "stream",
     "text": [
      "[4, 5]\n",
      "[1, 2, 3]\n"
     ]
    }
   ],
   "source": [
    "a = input('Enter')\n",
    "b = [int(i) for i in a.split()]\n",
    "c = input('Enter')\n",
    "d = [int(i) for i in c.split()]\n",
    "for i in d:\n",
    "    if i in b:\n",
    "        b.remove(i)\n",
    "print(b)\n",
    "print(d)"
   ]
  },
  {
   "cell_type": "code",
   "execution_count": 88,
   "id": "fa7d4bf3-66f5-4d55-ba70-dafa6e80d352",
   "metadata": {},
   "outputs": [
    {
     "data": {
      "text/plain": [
       "[1, 4, 9, 16, 25]"
      ]
     },
     "execution_count": 88,
     "metadata": {},
     "output_type": "execute_result"
    }
   ],
   "source": [
    "a = [1,2,3,4,5]\n",
    "b = []\n",
    "for i in a:\n",
    "    b.append(i*i)\n",
    "b"
   ]
  },
  {
   "cell_type": "code",
   "execution_count": 89,
   "id": "c5507815-e7c4-4666-8486-ba8b532d2f04",
   "metadata": {},
   "outputs": [],
   "source": [
    "o = []\n",
    "e = []\n",
    "for i in range(152):\n",
    "    if i%2==0:\n",
    "        e.append(i)\n",
    "    else:\n",
    "        o.append(i)"
   ]
  },
  {
   "cell_type": "code",
   "execution_count": 90,
   "id": "e187612e-327b-4be1-8a3c-8d2c2da3fd19",
   "metadata": {},
   "outputs": [
    {
     "data": {
      "text/plain": [
       "[1,\n",
       " 3,\n",
       " 5,\n",
       " 7,\n",
       " 9,\n",
       " 11,\n",
       " 13,\n",
       " 15,\n",
       " 17,\n",
       " 19,\n",
       " 21,\n",
       " 23,\n",
       " 25,\n",
       " 27,\n",
       " 29,\n",
       " 31,\n",
       " 33,\n",
       " 35,\n",
       " 37,\n",
       " 39,\n",
       " 41,\n",
       " 43,\n",
       " 45,\n",
       " 47,\n",
       " 49,\n",
       " 51,\n",
       " 53,\n",
       " 55,\n",
       " 57,\n",
       " 59,\n",
       " 61,\n",
       " 63,\n",
       " 65,\n",
       " 67,\n",
       " 69,\n",
       " 71,\n",
       " 73,\n",
       " 75,\n",
       " 77,\n",
       " 79,\n",
       " 81,\n",
       " 83,\n",
       " 85,\n",
       " 87,\n",
       " 89,\n",
       " 91,\n",
       " 93,\n",
       " 95,\n",
       " 97,\n",
       " 99,\n",
       " 101,\n",
       " 103,\n",
       " 105,\n",
       " 107,\n",
       " 109,\n",
       " 111,\n",
       " 113,\n",
       " 115,\n",
       " 117,\n",
       " 119,\n",
       " 121,\n",
       " 123,\n",
       " 125,\n",
       " 127,\n",
       " 129,\n",
       " 131,\n",
       " 133,\n",
       " 135,\n",
       " 137,\n",
       " 139,\n",
       " 141,\n",
       " 143,\n",
       " 145,\n",
       " 147,\n",
       " 149,\n",
       " 151]"
      ]
     },
     "execution_count": 90,
     "metadata": {},
     "output_type": "execute_result"
    }
   ],
   "source": [
    "o"
   ]
  },
  {
   "cell_type": "code",
   "execution_count": 91,
   "id": "56daeb41-4ede-4a38-8e31-37b6a041360c",
   "metadata": {},
   "outputs": [
    {
     "data": {
      "text/plain": [
       "[0,\n",
       " 2,\n",
       " 4,\n",
       " 6,\n",
       " 8,\n",
       " 10,\n",
       " 12,\n",
       " 14,\n",
       " 16,\n",
       " 18,\n",
       " 20,\n",
       " 22,\n",
       " 24,\n",
       " 26,\n",
       " 28,\n",
       " 30,\n",
       " 32,\n",
       " 34,\n",
       " 36,\n",
       " 38,\n",
       " 40,\n",
       " 42,\n",
       " 44,\n",
       " 46,\n",
       " 48,\n",
       " 50,\n",
       " 52,\n",
       " 54,\n",
       " 56,\n",
       " 58,\n",
       " 60,\n",
       " 62,\n",
       " 64,\n",
       " 66,\n",
       " 68,\n",
       " 70,\n",
       " 72,\n",
       " 74,\n",
       " 76,\n",
       " 78,\n",
       " 80,\n",
       " 82,\n",
       " 84,\n",
       " 86,\n",
       " 88,\n",
       " 90,\n",
       " 92,\n",
       " 94,\n",
       " 96,\n",
       " 98,\n",
       " 100,\n",
       " 102,\n",
       " 104,\n",
       " 106,\n",
       " 108,\n",
       " 110,\n",
       " 112,\n",
       " 114,\n",
       " 116,\n",
       " 118,\n",
       " 120,\n",
       " 122,\n",
       " 124,\n",
       " 126,\n",
       " 128,\n",
       " 130,\n",
       " 132,\n",
       " 134,\n",
       " 136,\n",
       " 138,\n",
       " 140,\n",
       " 142,\n",
       " 144,\n",
       " 146,\n",
       " 148,\n",
       " 150]"
      ]
     },
     "execution_count": 91,
     "metadata": {},
     "output_type": "execute_result"
    }
   ],
   "source": [
    "e"
   ]
  },
  {
   "cell_type": "code",
   "execution_count": 94,
   "id": "1a7ba099-b9dc-4190-8559-b1c8e3e6a56a",
   "metadata": {},
   "outputs": [],
   "source": [
    "a = [1,2,3,'Myer']\n",
    "it = []\n",
    "st = []\n",
    "fl = []\n",
    "for i in a:\n",
    "    if isinstance(i,int):\n",
    "        it.append(i)\n",
    "    if isinstance(i,str):\n",
    "        st.append(i)"
   ]
  },
  {
   "cell_type": "code",
   "execution_count": 96,
   "id": "059f71fa-75d7-445a-8709-6d3cac95e57c",
   "metadata": {},
   "outputs": [
    {
     "data": {
      "text/plain": [
       "['Myer']"
      ]
     },
     "execution_count": 96,
     "metadata": {},
     "output_type": "execute_result"
    }
   ],
   "source": [
    "st"
   ]
  },
  {
   "cell_type": "code",
   "execution_count": 101,
   "id": "a0120d60-f9c9-4542-9d99-ca1acaf48cfb",
   "metadata": {},
   "outputs": [
    {
     "data": {
      "text/plain": [
       "6"
      ]
     },
     "execution_count": 101,
     "metadata": {},
     "output_type": "execute_result"
    }
   ],
   "source": [
    "a = [8,4,26,6,2]\n",
    "a.sort()\n",
    "a[2]"
   ]
  },
  {
   "cell_type": "code",
   "execution_count": 102,
   "id": "2c16c49a-d138-43b8-810c-c9a9c5ec7b65",
   "metadata": {},
   "outputs": [
    {
     "name": "stdout",
     "output_type": "stream",
     "text": [
      "True\n"
     ]
    }
   ],
   "source": [
    "#list contain sublist or not \n",
    "a = [1,2,3,4,5]\n",
    "b = [1,2,3]\n",
    "f = False\n",
    "for i in range(len(a)-len(b)+1):\n",
    "    if a[i:i + len(b)]==b:\n",
    "        f = True\n",
    "        break\n",
    "print(f)"
   ]
  },
  {
   "cell_type": "code",
   "execution_count": 103,
   "id": "5433c88f-1add-4dfd-a79f-8e346cee520b",
   "metadata": {},
   "outputs": [],
   "source": [
    "a = [1,2,3]\n",
    "b = []\n",
    "for i in a:\n",
    "    for j in range(i+1, len(a)+1):\n",
    "        b.append(a[i:j])"
   ]
  },
  {
   "cell_type": "code",
   "execution_count": 104,
   "id": "702c7af5-1d6d-44c0-a9a3-736666fb49df",
   "metadata": {},
   "outputs": [
    {
     "data": {
      "text/plain": [
       "[[2], [2, 3], [3]]"
      ]
     },
     "execution_count": 104,
     "metadata": {},
     "output_type": "execute_result"
    }
   ],
   "source": [
    "b"
   ]
  },
  {
   "cell_type": "code",
   "execution_count": 106,
   "id": "6c6b4c65-262f-41d2-ac0a-bf6c2bb7ffeb",
   "metadata": {},
   "outputs": [],
   "source": [
    "a = [1,2]\n",
    "b = [2]\n",
    "c = []\n",
    "for i in a:\n",
    "    if i in b:\n",
    "        c.append(i)"
   ]
  },
  {
   "cell_type": "code",
   "execution_count": 107,
   "id": "8495261e-fdce-4a4b-b6f1-0ed313201fb0",
   "metadata": {},
   "outputs": [
    {
     "data": {
      "text/plain": [
       "[2]"
      ]
     },
     "execution_count": 107,
     "metadata": {},
     "output_type": "execute_result"
    }
   ],
   "source": [
    "c"
   ]
  },
  {
   "cell_type": "code",
   "execution_count": 109,
   "id": "bec184dc-5bfb-4daf-8a7b-f61eb72eddb6",
   "metadata": {},
   "outputs": [],
   "source": [
    "#flatten list\n",
    "a = [[1,2],[2,3]]\n",
    "b = []\n",
    "for i in a:\n",
    "    if isinstance(i,list):\n",
    "        b.extend(i)"
   ]
  },
  {
   "cell_type": "code",
   "execution_count": 110,
   "id": "f0eb5742-cf1d-4000-a9f6-e607cf726121",
   "metadata": {},
   "outputs": [
    {
     "data": {
      "text/plain": [
       "[1, 2, 2, 3]"
      ]
     },
     "execution_count": 110,
     "metadata": {},
     "output_type": "execute_result"
    }
   ],
   "source": [
    "b"
   ]
  },
  {
   "cell_type": "code",
   "execution_count": 111,
   "id": "80df0b16-8f9c-4da3-a200-b97c8b7792ed",
   "metadata": {},
   "outputs": [
    {
     "name": "stdout",
     "output_type": "stream",
     "text": [
      "[66, 88, 99, 100]\n"
     ]
    }
   ],
   "source": [
    "a = [88,99,66,100]\n",
    "b = []\n",
    "while a:\n",
    "    minn = min(a)\n",
    "    b.append(minn)\n",
    "    a.remove(minn)\n",
    "print(b)"
   ]
  },
  {
   "cell_type": "code",
   "execution_count": 113,
   "id": "f1dc9967-4dbf-487e-8653-5ea7511f41e9",
   "metadata": {},
   "outputs": [
    {
     "name": "stdout",
     "output_type": "stream",
     "text": [
      "[100, 99, 88, 66]\n"
     ]
    }
   ],
   "source": [
    "a = [88,99,66,100]\n",
    "b = []\n",
    "while a:\n",
    "    maxx = max(a)\n",
    "    b.append(maxx)\n",
    "    a.remove(maxx)\n",
    "print(b)"
   ]
  },
  {
   "cell_type": "code",
   "execution_count": 116,
   "id": "7a5da7e1-3e4a-484c-b702-c9074ab0e920",
   "metadata": {},
   "outputs": [
    {
     "data": {
      "text/plain": [
       "[9, 8, 4, 3, 2]"
      ]
     },
     "execution_count": 116,
     "metadata": {},
     "output_type": "execute_result"
    }
   ],
   "source": [
    "a = (8,9,2,4,3)\n",
    "sorted(a, reverse=True)"
   ]
  },
  {
   "cell_type": "code",
   "execution_count": 117,
   "id": "c7cd0629-1351-45aa-b6f8-4d94c3bbf138",
   "metadata": {},
   "outputs": [
    {
     "data": {
      "text/plain": [
       "[2, 3, 4, 8, 9]"
      ]
     },
     "execution_count": 117,
     "metadata": {},
     "output_type": "execute_result"
    }
   ],
   "source": [
    "a = (8,9,2,4,3)\n",
    "sorted(a, reverse=False)"
   ]
  },
  {
   "cell_type": "code",
   "execution_count": 119,
   "id": "92c99cff-aee5-4e0e-8a3f-f2154d9edb45",
   "metadata": {},
   "outputs": [
    {
     "data": {
      "text/plain": [
       "113355"
      ]
     },
     "execution_count": 119,
     "metadata": {},
     "output_type": "execute_result"
    }
   ],
   "source": [
    "a = [11,33,55]\n",
    "b = int(''.join(map(str,a)))\n",
    "b"
   ]
  },
  {
   "cell_type": "code",
   "execution_count": 120,
   "id": "5804f44b-4fe8-48d3-9087-732f3795023b",
   "metadata": {},
   "outputs": [],
   "source": [
    "a = [1,2,3,4,5]\n",
    "del a[0]"
   ]
  },
  {
   "cell_type": "code",
   "execution_count": 121,
   "id": "72f191b6-a61d-4b99-a8eb-3a7b64bc3303",
   "metadata": {},
   "outputs": [
    {
     "data": {
      "text/plain": [
       "[2, 3, 4, 5]"
      ]
     },
     "execution_count": 121,
     "metadata": {},
     "output_type": "execute_result"
    }
   ],
   "source": [
    "a"
   ]
  },
  {
   "cell_type": "code",
   "execution_count": 125,
   "id": "0c829e4d-1879-4e9f-8880-97df55642d7c",
   "metadata": {},
   "outputs": [
    {
     "data": {
      "text/plain": [
       "[2, 3, 4, 5]"
      ]
     },
     "execution_count": 125,
     "metadata": {},
     "output_type": "execute_result"
    }
   ],
   "source": [
    "a = [1,2,3,4,5]\n",
    "a.remove(1)\n",
    "a"
   ]
  },
  {
   "cell_type": "code",
   "execution_count": 126,
   "id": "6367fe8e-d872-45c3-be62-39bfbc7285cf",
   "metadata": {},
   "outputs": [
    {
     "data": {
      "text/plain": [
       "[1, 2, 3, 4]"
      ]
     },
     "execution_count": 126,
     "metadata": {},
     "output_type": "execute_result"
    }
   ],
   "source": [
    "a = [1,2,3,4,5]\n",
    "a.pop()\n",
    "a"
   ]
  },
  {
   "cell_type": "code",
   "execution_count": null,
   "id": "1272fbc4-2339-41c2-a7a5-95ecaf3ada31",
   "metadata": {},
   "outputs": [],
   "source": []
  },
  {
   "cell_type": "code",
   "execution_count": 136,
   "id": "4c008d81-bcda-4933-94f4-aa58d0ad71c4",
   "metadata": {},
   "outputs": [
    {
     "name": "stdout",
     "output_type": "stream",
     "text": [
      "[[99, 2], [3, 4]]\n",
      "[[99, 2], [3, 4]]\n"
     ]
    }
   ],
   "source": [
    "import copy\n",
    "a = [[1, 2], [3, 4]]\n",
    "b = a.copy()\n",
    "b[0][0] = 99\n",
    "print(a)\n",
    "print(b)"
   ]
  },
  {
   "cell_type": "code",
   "execution_count": 139,
   "id": "91fd5668-3a09-433f-91d7-5e4e3af2dbaa",
   "metadata": {},
   "outputs": [
    {
     "name": "stdout",
     "output_type": "stream",
     "text": [
      "[[1, 2], [3, 4]]\n",
      "[[99, 2], [3, 4]]\n"
     ]
    }
   ],
   "source": [
    "import copy\n",
    "a = [[1, 2], [3, 4]]\n",
    "b = copy.deepcopy(a)\n",
    "b[0][0] = 99\n",
    "print(a)\n",
    "print(b)"
   ]
  },
  {
   "cell_type": "code",
   "execution_count": 140,
   "id": "2bc9d6d7-89ea-44a7-b196-d2aee7178850",
   "metadata": {},
   "outputs": [
    {
     "name": "stdout",
     "output_type": "stream",
     "text": [
      "set()\n"
     ]
    }
   ],
   "source": [
    "a = {1,2,3}\n",
    "for i in a.copy():\n",
    "    a.remove(i)\n",
    "print(a)"
   ]
  },
  {
   "cell_type": "code",
   "execution_count": 141,
   "id": "ea43fd85-daff-414e-98a6-88f5c0defd17",
   "metadata": {},
   "outputs": [
    {
     "name": "stdout",
     "output_type": "stream",
     "text": [
      "\n",
      "*\n",
      "**\n",
      "***\n",
      "****\n",
      "*****\n"
     ]
    }
   ],
   "source": [
    "for i in range(5+1):\n",
    "    for j in range(1,i+1):\n",
    "        print('*', end='')\n",
    "    print()"
   ]
  },
  {
   "cell_type": "code",
   "execution_count": 143,
   "id": "437171bb-4d8d-4c4e-aa40-16478386e4be",
   "metadata": {},
   "outputs": [
    {
     "name": "stdout",
     "output_type": "stream",
     "text": [
      "1 \n",
      "1 2 \n",
      "1 2 3 \n",
      "1 2 3 4 \n",
      "1 2 3 4 5 \n"
     ]
    }
   ],
   "source": [
    "for i in range(1,6):\n",
    "    for j in range(1, i+1):\n",
    "        print(j, end=' ')\n",
    "    print()"
   ]
  },
  {
   "cell_type": "code",
   "execution_count": 145,
   "id": "3eee15ed-3060-4787-b39a-5c36cd71936f",
   "metadata": {},
   "outputs": [
    {
     "name": "stdout",
     "output_type": "stream",
     "text": [
      "1 \n",
      "2 3 \n",
      "4 5 6 \n",
      "7 8 9 10 \n",
      "11 12 13 14 15 \n"
     ]
    }
   ],
   "source": [
    "r=5\n",
    "n=1\n",
    "for i in range(1, 5+1):\n",
    "    for j in range(i):\n",
    "        print(n, end=' ')\n",
    "        n = n+1\n",
    "    print()"
   ]
  },
  {
   "cell_type": "code",
   "execution_count": 147,
   "id": "6ad1059b-367e-4846-b5ad-219cdb080b6b",
   "metadata": {},
   "outputs": [
    {
     "name": "stdout",
     "output_type": "stream",
     "text": [
      "K \n",
      "K K \n",
      "K K K \n",
      "K K K K \n",
      "K K K K K \n",
      "K K K K K K \n"
     ]
    }
   ],
   "source": [
    "for i in range(6):\n",
    "    for j in range(i+1):\n",
    "        print('K', end=' ')\n",
    "    print()"
   ]
  },
  {
   "cell_type": "code",
   "execution_count": 151,
   "id": "18823682-c590-43bf-9878-ec71b23ae369",
   "metadata": {},
   "outputs": [
    {
     "name": "stdout",
     "output_type": "stream",
     "text": [
      "Mayur\n",
      "ayur\n",
      "yur\n",
      "ur\n",
      "r\n",
      "\n"
     ]
    }
   ],
   "source": [
    "a = \"Mayur\"\n",
    "for i in range(len(a)+1):\n",
    "    print(a[i:])"
   ]
  },
  {
   "cell_type": "code",
   "execution_count": 152,
   "id": "ee483350-d8d1-4363-a6f6-e6b17a9d0144",
   "metadata": {},
   "outputs": [
    {
     "name": "stdout",
     "output_type": "stream",
     "text": [
      "\n",
      "M\n",
      "Ma\n",
      "May\n",
      "Mayu\n",
      "Mayur\n"
     ]
    }
   ],
   "source": [
    "a = \"Mayur\"\n",
    "for i in range(len(a)+1):\n",
    "    print(a[:i])"
   ]
  },
  {
   "cell_type": "code",
   "execution_count": null,
   "id": "5ac1bd0b-29ca-4932-ba1a-99db25fb8699",
   "metadata": {},
   "outputs": [],
   "source": [
    "\n"
   ]
  },
  {
   "cell_type": "code",
   "execution_count": null,
   "id": "b5171540-5da2-4961-9c1d-5e7542d157af",
   "metadata": {},
   "outputs": [],
   "source": []
  },
  {
   "cell_type": "code",
   "execution_count": null,
   "id": "ee38086f-c8b2-4358-a8ff-82ddd268ec01",
   "metadata": {},
   "outputs": [],
   "source": []
  },
  {
   "cell_type": "code",
   "execution_count": null,
   "id": "10ecdca8-e475-48ee-b58e-ce74b0bbcab6",
   "metadata": {},
   "outputs": [],
   "source": []
  },
  {
   "cell_type": "code",
   "execution_count": null,
   "id": "8f20eeb2-185c-41a4-8e87-6b3d88845c0d",
   "metadata": {},
   "outputs": [],
   "source": []
  },
  {
   "cell_type": "code",
   "execution_count": null,
   "id": "6a6ee665-1a29-413d-af77-0396298dfb77",
   "metadata": {},
   "outputs": [],
   "source": []
  },
  {
   "cell_type": "code",
   "execution_count": null,
   "id": "72be0cb3-0402-4ca5-985f-ef8c130e4e37",
   "metadata": {},
   "outputs": [],
   "source": []
  },
  {
   "cell_type": "code",
   "execution_count": null,
   "id": "5ae40e1b-c5ae-4554-8b93-d1aa425f2a17",
   "metadata": {},
   "outputs": [],
   "source": []
  },
  {
   "cell_type": "code",
   "execution_count": null,
   "id": "4ce14f76-f87b-4797-a9b0-283d14286df9",
   "metadata": {},
   "outputs": [],
   "source": []
  },
  {
   "cell_type": "code",
   "execution_count": null,
   "id": "7dad4352-6c7c-46bd-8f49-a8b36869fc6f",
   "metadata": {},
   "outputs": [],
   "source": []
  },
  {
   "cell_type": "code",
   "execution_count": null,
   "id": "6da1a525-600a-4f0e-a565-9f937041c3a6",
   "metadata": {},
   "outputs": [],
   "source": []
  },
  {
   "cell_type": "code",
   "execution_count": null,
   "id": "6ca26652-cfb9-4d92-a787-09df624dd2bf",
   "metadata": {},
   "outputs": [],
   "source": []
  },
  {
   "cell_type": "code",
   "execution_count": null,
   "id": "43dfe89b-1f1d-4352-8724-649f4e303171",
   "metadata": {},
   "outputs": [],
   "source": []
  },
  {
   "cell_type": "code",
   "execution_count": null,
   "id": "05add5cd-2a9a-4663-b5fe-90abd05b2502",
   "metadata": {},
   "outputs": [],
   "source": []
  },
  {
   "cell_type": "code",
   "execution_count": null,
   "id": "bcd8900e-6695-458d-8293-187e9b99e7e5",
   "metadata": {},
   "outputs": [],
   "source": []
  },
  {
   "cell_type": "code",
   "execution_count": null,
   "id": "66102e58-f16c-4221-89ee-e3ae482c2cb0",
   "metadata": {},
   "outputs": [],
   "source": []
  },
  {
   "cell_type": "code",
   "execution_count": null,
   "id": "957cacf2-e828-4eae-ae36-d6f44c0683df",
   "metadata": {},
   "outputs": [],
   "source": []
  },
  {
   "cell_type": "code",
   "execution_count": null,
   "id": "7ac82266-8b35-421f-b0df-20f53fa34194",
   "metadata": {},
   "outputs": [],
   "source": []
  },
  {
   "cell_type": "code",
   "execution_count": null,
   "id": "b575374c-c355-491a-ad32-6c71bdeaeba0",
   "metadata": {},
   "outputs": [],
   "source": []
  }
 ],
 "metadata": {
  "kernelspec": {
   "display_name": "Python 3 (ipykernel)",
   "language": "python",
   "name": "python3"
  },
  "language_info": {
   "codemirror_mode": {
    "name": "ipython",
    "version": 3
   },
   "file_extension": ".py",
   "mimetype": "text/x-python",
   "name": "python",
   "nbconvert_exporter": "python",
   "pygments_lexer": "ipython3",
   "version": "3.10.11"
  }
 },
 "nbformat": 4,
 "nbformat_minor": 5
}
