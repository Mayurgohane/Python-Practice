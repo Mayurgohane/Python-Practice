{
 "cells": [
  {
   "cell_type": "code",
   "execution_count": 1,
   "id": "d7dd86ba-b4e4-41c7-af56-ba260074f140",
   "metadata": {},
   "outputs": [
    {
     "name": "stdout",
     "output_type": "stream",
     "text": [
      "Requirement already satisfied: nltk in c:\\users\\legion\\appdata\\local\\programs\\python\\python310\\lib\\site-packages (3.9.1)\n",
      "Requirement already satisfied: click in c:\\users\\legion\\appdata\\local\\programs\\python\\python310\\lib\\site-packages (from nltk) (8.1.7)\n",
      "Requirement already satisfied: joblib in c:\\users\\legion\\appdata\\local\\programs\\python\\python310\\lib\\site-packages (from nltk) (1.4.2)\n",
      "Requirement already satisfied: regex>=2021.8.3 in c:\\users\\legion\\appdata\\local\\programs\\python\\python310\\lib\\site-packages (from nltk) (2024.7.24)\n",
      "Requirement already satisfied: tqdm in c:\\users\\legion\\appdata\\local\\programs\\python\\python310\\lib\\site-packages (from nltk) (4.66.5)\n",
      "Requirement already satisfied: colorama in c:\\users\\legion\\appdata\\local\\programs\\python\\python310\\lib\\site-packages (from click->nltk) (0.4.6)\n",
      "Note: you may need to restart the kernel to use updated packages.\n"
     ]
    },
    {
     "name": "stderr",
     "output_type": "stream",
     "text": [
      "\n",
      "[notice] A new release of pip is available: 24.2 -> 24.3.1\n",
      "[notice] To update, run: python.exe -m pip install --upgrade pip\n"
     ]
    }
   ],
   "source": [
    "pip install nltk"
   ]
  },
  {
   "cell_type": "code",
   "execution_count": 3,
   "id": "1a231416-fdc1-4a7b-b609-438b2367974c",
   "metadata": {},
   "outputs": [],
   "source": [
    "from nltk import PorterStemmer\n",
    "from nltk.corpus import stopwords\n",
    "from nltk import word_tokenize\n",
    "import re "
   ]
  },
  {
   "cell_type": "code",
   "execution_count": 4,
   "id": "e04c7b67-f24a-420d-a9f9-646f4b86e970",
   "metadata": {},
   "outputs": [],
   "source": [
    "a = \"RAG (Retrieval-Augmented Generation) is a game-changer in Generative AI, seamlessly blending retrieval techniques with advanced generation models. This approach ensures responses are both accurate and contextually relevant by incorporating real-world data into the AI's outputs. Whether you're diving into NLP applications or enhancing data-driven decision-making, understanding RAG concepts is essential to staying ahead in this rapidly evolving field. A well-curated list like this simplifies the learning curve and serves as a quick reference for enthusiasts and professionals alike. 🔥\""
   ]
  },
  {
   "cell_type": "code",
   "execution_count": 5,
   "id": "e5054485-2aee-45c7-ad5f-3cc166e62231",
   "metadata": {},
   "outputs": [],
   "source": [
    "b = a.lower()"
   ]
  },
  {
   "cell_type": "code",
   "execution_count": 34,
   "id": "511777d3-e146-4485-a875-c37468917c8b",
   "metadata": {},
   "outputs": [
    {
     "data": {
      "text/plain": [
       "\"rag (retrieval-augmented generation) is a game-changer in generative ai, seamlessly blending retrieval techniques with advanced generation models. this approach ensures responses are both accurate and contextually relevant by incorporating real-world data into the ai's outputs. whether you're diving into nlp applications or enhancing data-driven decision-making, understanding rag concepts is essential to staying ahead in this rapidly evolving field. a well-curated list like this simplifies the learning curve and serves as a quick reference for enthusiasts and professionals alike. 🔥\""
      ]
     },
     "execution_count": 34,
     "metadata": {},
     "output_type": "execute_result"
    }
   ],
   "source": [
    "b"
   ]
  },
  {
   "cell_type": "code",
   "execution_count": 14,
   "id": "8ea673ef-f348-428b-83cc-9a1c48d200b3",
   "metadata": {},
   "outputs": [],
   "source": [
    "c = re.findall('\\w+',b)"
   ]
  },
  {
   "cell_type": "code",
   "execution_count": 18,
   "id": "48503ab8-cfc5-4d59-81fc-8f3462616ed5",
   "metadata": {},
   "outputs": [],
   "source": [
    "d = [i for i in c if i not in stopwords.words('english')]"
   ]
  },
  {
   "cell_type": "code",
   "execution_count": 19,
   "id": "9d591cb5-a50b-4233-b970-dbb5812f27ce",
   "metadata": {},
   "outputs": [],
   "source": [
    "PS = PorterStemmer()"
   ]
  },
  {
   "cell_type": "code",
   "execution_count": 22,
   "id": "15d1ae17-5129-4e66-b6d2-d94a7d6cad0f",
   "metadata": {},
   "outputs": [],
   "source": [
    "d = ' '.join([PS.stem(i) for i in d])"
   ]
  },
  {
   "cell_type": "code",
   "execution_count": 24,
   "id": "fb5e7d02-ecba-4c85-9add-9bb844c9fe22",
   "metadata": {},
   "outputs": [],
   "source": [
    "e = word_tokenize(d)"
   ]
  },
  {
   "cell_type": "code",
   "execution_count": null,
   "id": "79251f96-e3b1-4d97-8854-0ff65f0676cf",
   "metadata": {},
   "outputs": [],
   "source": []
  },
  {
   "cell_type": "markdown",
   "id": "17485a3f-0cd5-4005-aebb-9aa5e360e022",
   "metadata": {},
   "source": [
    "## Text Data Cleaning "
   ]
  },
  {
   "cell_type": "code",
   "execution_count": 1,
   "id": "bd31cf5d-8a16-4dce-92db-5d445facce3f",
   "metadata": {},
   "outputs": [],
   "source": [
    "import pandas as pd \n",
    "from nltk import PorterStemmer\n",
    "from nltk import word_tokenize\n",
    "from nltk.corpus import stopwords\n",
    "import re"
   ]
  },
  {
   "cell_type": "code",
   "execution_count": 2,
   "id": "e6d085f5-671a-4966-a7e2-64293cf7c223",
   "metadata": {},
   "outputs": [],
   "source": [
    "PS = PorterStemmer()"
   ]
  },
  {
   "cell_type": "code",
   "execution_count": 7,
   "id": "6cc948a6-1424-4788-8fb7-e3ee2b597c75",
   "metadata": {},
   "outputs": [],
   "source": [
    "def clean(x):\n",
    "    a = re.findall('\\w+',x)\n",
    "    b = [i.lower() for i in a]\n",
    "    c = [i for i in b if i not in stopwords.words('english')]\n",
    "    d = ' '.join([PS.stem(i) for i in c])\n",
    "    e = word_tokenize(d)\n",
    "    return e"
   ]
  },
  {
   "cell_type": "code",
   "execution_count": 8,
   "id": "71aea22f-5b9f-4182-91ee-9a4e50f9792e",
   "metadata": {},
   "outputs": [],
   "source": [
    "a = \"RAG (Retrieval-Augmented Generation) is a game-changer in Generative AI, seamlessly blending retrieval techniques with advanced generation models. This approach ensures responses are both accurate and contextually relevant by incorporating real-world data into the AI's outputs. Whether you're diving into NLP applications or enhancing data-driven decision-making, understanding RAG concepts is essential to staying ahead in this rapidly evolving field. A well-curated list like this simplifies the learning curve and serves as a quick reference for enthusiasts and professionals alike. 🔥\""
   ]
  },
  {
   "cell_type": "code",
   "execution_count": 9,
   "id": "89ad4d54-cb69-4294-bea8-f8526fa9182f",
   "metadata": {},
   "outputs": [],
   "source": [
    "final = clean(a)"
   ]
  },
  {
   "cell_type": "code",
   "execution_count": 10,
   "id": "6268c6e4-c543-4fae-bfd7-c477dd9828f0",
   "metadata": {},
   "outputs": [
    {
     "data": {
      "text/plain": [
       "['rag',\n",
       " 'retriev',\n",
       " 'augment',\n",
       " 'gener',\n",
       " 'game',\n",
       " 'changer',\n",
       " 'gener',\n",
       " 'ai',\n",
       " 'seamlessli',\n",
       " 'blend',\n",
       " 'retriev',\n",
       " 'techniqu',\n",
       " 'advanc',\n",
       " 'gener',\n",
       " 'model',\n",
       " 'approach',\n",
       " 'ensur',\n",
       " 'respons',\n",
       " 'accur',\n",
       " 'contextu',\n",
       " 'relev',\n",
       " 'incorpor',\n",
       " 'real',\n",
       " 'world',\n",
       " 'data',\n",
       " 'ai',\n",
       " 'output',\n",
       " 'whether',\n",
       " 'dive',\n",
       " 'nlp',\n",
       " 'applic',\n",
       " 'enhanc',\n",
       " 'data',\n",
       " 'driven',\n",
       " 'decis',\n",
       " 'make',\n",
       " 'understand',\n",
       " 'rag',\n",
       " 'concept',\n",
       " 'essenti',\n",
       " 'stay',\n",
       " 'ahead',\n",
       " 'rapidli',\n",
       " 'evolv',\n",
       " 'field',\n",
       " 'well',\n",
       " 'curat',\n",
       " 'list',\n",
       " 'like',\n",
       " 'simplifi',\n",
       " 'learn',\n",
       " 'curv',\n",
       " 'serv',\n",
       " 'quick',\n",
       " 'refer',\n",
       " 'enthusiast',\n",
       " 'profession',\n",
       " 'alik']"
      ]
     },
     "execution_count": 10,
     "metadata": {},
     "output_type": "execute_result"
    }
   ],
   "source": [
    "final"
   ]
  },
  {
   "cell_type": "code",
   "execution_count": null,
   "id": "9045ffe0-5226-4928-bb31-ee2383d66457",
   "metadata": {},
   "outputs": [],
   "source": []
  },
  {
   "cell_type": "code",
   "execution_count": null,
   "id": "5c1ad39e-93b4-4ea0-b4e3-0852772b7ffa",
   "metadata": {},
   "outputs": [],
   "source": []
  },
  {
   "cell_type": "code",
   "execution_count": 15,
   "id": "2efc5f81-9a0c-44e0-89e8-c4887df19d23",
   "metadata": {},
   "outputs": [],
   "source": [
    "def cleann(x):\n",
    "    a = x.lower()\n",
    "    b = re.findall('\\w+',a)\n",
    "    c = [i for i in b if i not in stopwords.words('english')]\n",
    "    d = ' '.join([PS.stem(i) for i in c])\n",
    "    e = word_tokenize(d)\n",
    "    return e"
   ]
  },
  {
   "cell_type": "code",
   "execution_count": 16,
   "id": "716fbb61-1e2f-40c4-8b00-a9c4f36eb951",
   "metadata": {},
   "outputs": [],
   "source": [
    "a = \"RAG (Retrieval-Augmented Generation) is a game-changer in Generative AI, seamlessly blending retrieval techniques with advanced generation models. This approach ensures responses are both accurate and contextually relevant by incorporating real-world data into the AI's outputs. Whether you're diving into NLP applications or enhancing data-driven decision-making, understanding RAG concepts is essential to staying ahead in this rapidly evolving field. A well-curated list like this simplifies the learning curve and serves as a quick reference for enthusiasts and professionals alike. 🔥\""
   ]
  },
  {
   "cell_type": "code",
   "execution_count": 17,
   "id": "21173461-5590-4d62-b182-2107379a8125",
   "metadata": {},
   "outputs": [],
   "source": [
    "new = cleann(a)"
   ]
  },
  {
   "cell_type": "code",
   "execution_count": null,
   "id": "ca6e2525-395e-4407-a100-9fee3140eadc",
   "metadata": {},
   "outputs": [],
   "source": [
    "new"
   ]
  },
  {
   "cell_type": "code",
   "execution_count": null,
   "id": "b3d9f8d5-7826-4997-aced-5c2652cad88d",
   "metadata": {},
   "outputs": [],
   "source": []
  },
  {
   "cell_type": "code",
   "execution_count": null,
   "id": "7fc97743-7196-469e-b374-76e95381bb83",
   "metadata": {},
   "outputs": [],
   "source": []
  },
  {
   "cell_type": "code",
   "execution_count": null,
   "id": "85839f14-5bbc-441a-9232-4a19eb435065",
   "metadata": {},
   "outputs": [],
   "source": []
  },
  {
   "cell_type": "code",
   "execution_count": 19,
   "id": "40391415-23ea-4738-a612-f223c94eb912",
   "metadata": {},
   "outputs": [
    {
     "name": "stdout",
     "output_type": "stream",
     "text": [
      "Requirement already satisfied: nltk in c:\\users\\legion\\appdata\\local\\programs\\python\\python310\\lib\\site-packages (3.9.1)\n",
      "Requirement already satisfied: click in c:\\users\\legion\\appdata\\local\\programs\\python\\python310\\lib\\site-packages (from nltk) (8.1.7)\n",
      "Requirement already satisfied: joblib in c:\\users\\legion\\appdata\\local\\programs\\python\\python310\\lib\\site-packages (from nltk) (1.4.2)\n",
      "Requirement already satisfied: regex>=2021.8.3 in c:\\users\\legion\\appdata\\local\\programs\\python\\python310\\lib\\site-packages (from nltk) (2024.7.24)\n",
      "Requirement already satisfied: tqdm in c:\\users\\legion\\appdata\\local\\programs\\python\\python310\\lib\\site-packages (from nltk) (4.66.5)\n",
      "Requirement already satisfied: colorama in c:\\users\\legion\\appdata\\local\\programs\\python\\python310\\lib\\site-packages (from click->nltk) (0.4.6)\n",
      "Note: you may need to restart the kernel to use updated packages.\n"
     ]
    },
    {
     "name": "stderr",
     "output_type": "stream",
     "text": [
      "\n",
      "[notice] A new release of pip is available: 24.2 -> 24.3.1\n",
      "[notice] To update, run: python.exe -m pip install --upgrade pip\n"
     ]
    }
   ],
   "source": [
    "pip install nltk"
   ]
  },
  {
   "cell_type": "code",
   "execution_count": 20,
   "id": "0e055737-c3b0-4d44-b796-9fa526534d52",
   "metadata": {},
   "outputs": [],
   "source": [
    "import pandas as pd \n",
    "from nltk import PorterStemmer\n",
    "from nltk import word_tokenize\n",
    "from nltk.corpus import stopwords\n",
    "import re"
   ]
  },
  {
   "cell_type": "code",
   "execution_count": 22,
   "id": "a7046238-a4bf-46e9-82f7-2d268211c129",
   "metadata": {},
   "outputs": [],
   "source": [
    "data = \"\"\"In the ever-evolving world of technology, artificial intelligence and machine learning have become indispensable tools. \n",
    "These innovations are transforming industries, from healthcare and finance to education and entertainment. By leveraging AI, \n",
    "businesses can analyze vast amounts of data, uncover hidden patterns, and make informed decisions with unprecedented accuracy. \n",
    "For instance, personalized recommendations on e-commerce platforms and content streaming services are powered by complex algorithms \n",
    "that predict user preferences based on past behavior. As AI continues to evolve, its applications are expanding rapidly, enabling \n",
    "autonomous vehicles, advanced medical diagnostics, and even creative endeavors such as music and art generation. However, with great \n",
    "power comes great responsibility. Ethical considerations, data privacy, and the potential for bias in AI systems remain critical \n",
    "challenges that must be addressed to ensure these technologies benefit all of humanity.\"\"\""
   ]
  },
  {
   "cell_type": "code",
   "execution_count": 23,
   "id": "b0418dd7-45e7-4fc9-a875-d478113517b3",
   "metadata": {},
   "outputs": [],
   "source": [
    "ps = PorterStemmer()"
   ]
  },
  {
   "cell_type": "code",
   "execution_count": 25,
   "id": "78d48a3f-1ce8-4efd-898f-7b2490ac65a4",
   "metadata": {},
   "outputs": [],
   "source": [
    "def preprocess(x):\n",
    "    a = x.lower()\n",
    "    b = re.findall('\\w+',a)\n",
    "    c = [i for i in b if i not in stopwords.words('english')]\n",
    "    e = ' '.join([ps(i) for i in c])\n",
    "    f = word_tokenize(e)\n",
    "    return f"
   ]
  },
  {
   "cell_type": "code",
   "execution_count": null,
   "id": "bf0a22a1-4778-42f3-8802-2a9a17779ac2",
   "metadata": {},
   "outputs": [],
   "source": [
    "cleaned = "
   ]
  },
  {
   "cell_type": "code",
   "execution_count": null,
   "id": "1612ad1b-5a6d-4299-aab1-c4c39c14bebf",
   "metadata": {},
   "outputs": [],
   "source": []
  }
 ],
 "metadata": {
  "kernelspec": {
   "display_name": "Python 3 (ipykernel)",
   "language": "python",
   "name": "python3"
  },
  "language_info": {
   "codemirror_mode": {
    "name": "ipython",
    "version": 3
   },
   "file_extension": ".py",
   "mimetype": "text/x-python",
   "name": "python",
   "nbconvert_exporter": "python",
   "pygments_lexer": "ipython3",
   "version": "3.10.11"
  }
 },
 "nbformat": 4,
 "nbformat_minor": 5
}
