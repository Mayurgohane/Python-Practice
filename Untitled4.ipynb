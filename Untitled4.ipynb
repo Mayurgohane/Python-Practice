{
 "cells": [
  {
   "cell_type": "code",
   "execution_count": null,
   "id": "caa65adb-7c2a-41b1-ac61-48b696f45841",
   "metadata": {},
   "outputs": [],
   "source": [
    "#Given a list of text data, write a function to count the number of unique words across all sentences in the list."
   ]
  },
  {
   "cell_type": "code",
   "execution_count": 1,
   "id": "3c2542a6-109d-4375-ac7b-1a745f0f1712",
   "metadata": {},
   "outputs": [],
   "source": [
    "from collections import Counter "
   ]
  },
  {
   "cell_type": "code",
   "execution_count": 8,
   "id": "97973c56-b74a-4465-9477-3046e8c91977",
   "metadata": {},
   "outputs": [
    {
     "name": "stdout",
     "output_type": "stream",
     "text": [
      "{'Mayur': 1, 'Good': 1, 'Evening': 1}\n"
     ]
    }
   ],
   "source": [
    "# Question 1\n",
    "from collections import Counter \n",
    "a = \"Mayur Good Evening\"\n",
    "b = a.split()\n",
    "c = dict(Counter(b))\n",
    "print(c)"
   ]
  },
  {
   "cell_type": "code",
   "execution_count": null,
   "id": "2045d847-bf8c-4223-b6df-b48315204d7f",
   "metadata": {},
   "outputs": [],
   "source": [
    "# Write a function that returns the second largest element in a list of integers. If the list has fewer than 2 unique values, return None."
   ]
  },
  {
   "cell_type": "code",
   "execution_count": 9,
   "id": "b20c5a48-81e0-4d35-bc24-f66f76745eda",
   "metadata": {},
   "outputs": [
    {
     "data": {
      "text/plain": [
       "22"
      ]
     },
     "execution_count": 9,
     "metadata": {},
     "output_type": "execute_result"
    }
   ],
   "source": [
    "# Question 2\n",
    "a = [88,22,55,66,22,14]\n",
    "a.reverse()\n",
    "a[1]"
   ]
  },
  {
   "cell_type": "code",
   "execution_count": null,
   "id": "4fcd3168-06aa-44eb-9d2e-0630d7f54bfe",
   "metadata": {},
   "outputs": [],
   "source": [
    "# Write a function that takes a list of integers and a target integer, returning the pair of numbers from the list whose sum is closest to the target."
   ]
  },
  {
   "cell_type": "code",
   "execution_count": 10,
   "id": "4070001a-a9e2-4a1e-8a2d-4c23829a53da",
   "metadata": {},
   "outputs": [
    {
     "data": {
      "text/plain": [
       "15"
      ]
     },
     "execution_count": 10,
     "metadata": {},
     "output_type": "execute_result"
    }
   ],
   "source": [
    "#Question 3\n",
    "a = [1,2,3,4,5]\n",
    "b = [4,1,5,2,3]\n",
    "sum(a)"
   ]
  },
  {
   "cell_type": "code",
   "execution_count": null,
   "id": "69a78ecb-9945-46dd-8ae1-f7617b673ae6",
   "metadata": {},
   "outputs": [],
   "source": [
    "for i in "
   ]
  }
 ],
 "metadata": {
  "kernelspec": {
   "display_name": "Python 3 (ipykernel)",
   "language": "python",
   "name": "python3"
  },
  "language_info": {
   "codemirror_mode": {
    "name": "ipython",
    "version": 3
   },
   "file_extension": ".py",
   "mimetype": "text/x-python",
   "name": "python",
   "nbconvert_exporter": "python",
   "pygments_lexer": "ipython3",
   "version": "3.10.11"
  }
 },
 "nbformat": 4,
 "nbformat_minor": 5
}
