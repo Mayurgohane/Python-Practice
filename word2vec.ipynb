{
 "cells": [
  {
   "cell_type": "code",
   "execution_count": 1,
   "id": "bbe5c218-83e8-4b0a-a1a9-2d8ea3e09019",
   "metadata": {},
   "outputs": [],
   "source": []
  },
  {
   "cell_type": "code",
   "execution_count": 15,
   "id": "ad457255-4dc4-4124-bdbc-e3139424d101",
   "metadata": {},
   "outputs": [],
   "source": [
    "a = [\n",
    "    \"I love programming in Python\",\n",
    "    \"Python is a great programming language\",\n",
    "    \"I enjoy learning new programming languages\"]"
   ]
  },
  {
   "cell_type": "code",
   "execution_count": 16,
   "id": "a9b20029-6fc5-4793-87f3-d5bda84d6947",
   "metadata": {},
   "outputs": [
    {
     "name": "stdout",
     "output_type": "stream",
     "text": [
      "[[0.         0.         0.5844829  0.         0.         0.\n",
      "  0.         0.5844829  0.         0.34520502 0.44451431]\n",
      " [0.         0.50461134 0.         0.50461134 0.50461134 0.\n",
      "  0.         0.         0.         0.29803159 0.38376993]\n",
      " [0.47952794 0.         0.         0.         0.         0.47952794\n",
      "  0.47952794 0.         0.47952794 0.28321692 0.        ]]\n",
      "['enjoy' 'great' 'in' 'is' 'language' 'languages' 'learning' 'love' 'new'\n",
      " 'programming' 'python']\n"
     ]
    }
   ],
   "source": [
    "vect = TfidfVectorizer()\n",
    "matrix = vect.fit_transform(a)\n",
    "tarray = matrix.toarray()\n",
    "features = vect.get_feature_names_out()\n",
    "print(tarray)\n",
    "print(features)"
   ]
  },
  {
   "cell_type": "markdown",
   "id": "8214190e-6bfa-4723-8b34-9f1cff650eed",
   "metadata": {},
   "source": [
    "# Tfidf"
   ]
  },
  {
   "cell_type": "code",
   "execution_count": 17,
   "id": "b714c8a7-5280-435b-8f21-7d10ce473de6",
   "metadata": {},
   "outputs": [],
   "source": [
    "text = \"hello everyon name john current explor natur languag process nlp techniqu nlp fascin field involv understand manipul human languag use machin journey focus text preprocess includ clean raw text data prepar analysi process includ remov stop word punctuat unnecessari charact excit learn appli techniqu problem\""
   ]
  },
  {
   "cell_type": "code",
   "execution_count": null,
   "id": "fe49384f-5ca3-49fd-9540-ad59166de2da",
   "metadata": {},
   "outputs": [],
   "source": [
    "from sklearn.feature_extraction.text import TfidfVectorizer"
   ]
  },
  {
   "cell_type": "code",
   "execution_count": 22,
   "id": "a713560d-26e0-4950-a183-73b816cd4e65",
   "metadata": {},
   "outputs": [
    {
     "name": "stdout",
     "output_type": "stream",
     "text": [
      "[[0.         0.         0.5844829  0.         0.         0.\n",
      "  0.         0.5844829  0.         0.34520502 0.44451431]\n",
      " [0.         0.50461134 0.         0.50461134 0.50461134 0.\n",
      "  0.         0.         0.         0.29803159 0.38376993]\n",
      " [0.47952794 0.         0.         0.         0.         0.47952794\n",
      "  0.47952794 0.         0.47952794 0.28321692 0.        ]]\n",
      "['enjoy' 'great' 'in' 'is' 'language' 'languages' 'learning' 'love' 'new'\n",
      " 'programming' 'python']\n"
     ]
    }
   ],
   "source": [
    "a = TfidfVectorizer()\n",
    "b = a.fit_transform(text)\n",
    "c = b.toarray()\n",
    "d = a.get_feature_names_out()\n",
    "print(c)\n",
    "print(d)"
   ]
  },
  {
   "cell_type": "markdown",
   "id": "74aa9b72-62bc-404d-b364-ccadfb587ed2",
   "metadata": {},
   "source": [
    "# BOW"
   ]
  },
  {
   "cell_type": "code",
   "execution_count": 30,
   "id": "9df93ef4-3fe3-46c6-a4ed-e466abcbb3ec",
   "metadata": {},
   "outputs": [
    {
     "name": "stdout",
     "output_type": "stream",
     "text": [
      "[[1 1 1 1 1 1 1 1 1 1 1]]\n",
      "['appli' 'charact' 'excit' 'focus' 'hello' 'learn' 'problem' 'punctuat'\n",
      " 'techniqu' 'unnecessari' 'word']\n"
     ]
    }
   ],
   "source": [
    "from sklearn.feature_extraction.text import CountVectorizer\n",
    "text = [\"hello  focus word punctuat unnecessari charact excit learn appli techniqu problem\"]\n",
    "a = CountVectorizer()\n",
    "b = a.fit_transform(text)\n",
    "c = b.toarray()\n",
    "d = a.get_feature_names_out()\n",
    "print(c)\n",
    "print(d)"
   ]
  },
  {
   "cell_type": "markdown",
   "id": "9f0cf86f-9c46-4ac6-8947-a1ad83c7e0e3",
   "metadata": {},
   "source": [
    "# word2vec"
   ]
  },
  {
   "cell_type": "code",
   "execution_count": 36,
   "id": "28cbaf52-21dd-424a-8835-13492415ba7b",
   "metadata": {},
   "outputs": [
    {
     "name": "stdout",
     "output_type": "stream",
     "text": [
      "Requirement already satisfied: gensim in c:\\users\\legion\\appdata\\local\\programs\\python\\python310\\lib\\site-packages (4.3.3)\n",
      "Requirement already satisfied: numpy<2.0,>=1.18.5 in c:\\users\\legion\\appdata\\local\\programs\\python\\python310\\lib\\site-packages (from gensim) (1.23.5)\n",
      "Requirement already satisfied: scipy<1.14.0,>=1.7.0 in c:\\users\\legion\\appdata\\local\\programs\\python\\python310\\lib\\site-packages (from gensim) (1.13.1)\n",
      "Requirement already satisfied: smart-open>=1.8.1 in c:\\users\\legion\\appdata\\local\\programs\\python\\python310\\lib\\site-packages (from gensim) (7.0.5)\n",
      "Requirement already satisfied: wrapt in c:\\users\\legion\\appdata\\local\\programs\\python\\python310\\lib\\site-packages (from smart-open>=1.8.1->gensim) (1.14.1)\n",
      "Note: you may need to restart the kernel to use updated packages.\n"
     ]
    },
    {
     "name": "stderr",
     "output_type": "stream",
     "text": [
      "\n",
      "[notice] A new release of pip is available: 24.2 -> 24.3.1\n",
      "[notice] To update, run: python.exe -m pip install --upgrade pip\n"
     ]
    }
   ],
   "source": [
    "pip install gensim"
   ]
  },
  {
   "cell_type": "code",
   "execution_count": 37,
   "id": "91e36572-d149-436e-83ce-706978045feb",
   "metadata": {},
   "outputs": [],
   "source": [
    "from gensim.models import Word2Vec"
   ]
  },
  {
   "cell_type": "code",
   "execution_count": 39,
   "id": "5f0174a5-e3ff-41dc-bb60-88452e159917",
   "metadata": {},
   "outputs": [
    {
     "name": "stdout",
     "output_type": "stream",
     "text": [
      "[ 0.00228461  0.02975305 -0.00324887 -0.01054882 -0.03501046 -0.00342921\n",
      "  0.01127092  0.02161245  0.02816786 -0.02281931  0.00743325  0.02439305\n",
      " -0.01918899 -0.01241221  0.02718637  0.0065495   0.00073268  0.01387704\n",
      "  0.00084063  0.0384728   0.02023969 -0.03565079 -0.02814917  0.00360041\n",
      "  0.02559006]\n",
      "[('nlp', 0.33160194754600525), ('creates', 0.30305126309394836), ('science', 0.2529262900352478)]\n"
     ]
    }
   ],
   "source": [
    "a = [\n",
    "    [\"hello\", \"everyone\", \"i\", \"love\", \"machine\", \"learning\"],\n",
    "    [\"word2vec\", \"is\", \"a\", \"technique\", \"used\", \"in\", \"nlp\"],\n",
    "    [\"word2vec\", \"creates\", \"dense\", \"vector\", \"representations\", \"of\", \"words\"],\n",
    "    [\"i\", \"enjoy\", \"learning\", \"new\", \"techniques\", \"in\", \"data\", \"science\"]]\n",
    "model = Word2Vec(a, vector_size=25, window=5, min_count=1, sg=1)\n",
    "vector = model.wv['word2vec']\n",
    "similar_words = model.wv.most_similar('word2vec', topn=3)\n",
    "print(vector)\n",
    "print(similar_words)"
   ]
  },
  {
   "cell_type": "code",
   "execution_count": null,
   "id": "9f931068-d6f3-498c-8cdb-cddd22991594",
   "metadata": {},
   "outputs": [],
   "source": []
  },
  {
   "cell_type": "code",
   "execution_count": null,
   "id": "8c76ac53-0c06-4c78-9cca-ed679d381bd2",
   "metadata": {},
   "outputs": [],
   "source": []
  },
  {
   "cell_type": "code",
   "execution_count": null,
   "id": "833a310a-579d-49dd-bb58-4048c559cf98",
   "metadata": {},
   "outputs": [],
   "source": []
  },
  {
   "cell_type": "code",
   "execution_count": 65,
   "id": "1318263c-1c46-471f-936b-b0d738010e41",
   "metadata": {},
   "outputs": [
    {
     "name": "stdout",
     "output_type": "stream",
     "text": [
      "Requirement already satisfied: gensim in c:\\users\\legion\\appdata\\local\\programs\\python\\python310\\lib\\site-packages (4.3.3)\n",
      "Requirement already satisfied: numpy<2.0,>=1.18.5 in c:\\users\\legion\\appdata\\local\\programs\\python\\python310\\lib\\site-packages (from gensim) (1.23.5)\n",
      "Requirement already satisfied: scipy<1.14.0,>=1.7.0 in c:\\users\\legion\\appdata\\local\\programs\\python\\python310\\lib\\site-packages (from gensim) (1.13.1)\n",
      "Requirement already satisfied: smart-open>=1.8.1 in c:\\users\\legion\\appdata\\local\\programs\\python\\python310\\lib\\site-packages (from gensim) (7.0.5)\n",
      "Requirement already satisfied: wrapt in c:\\users\\legion\\appdata\\local\\programs\\python\\python310\\lib\\site-packages (from smart-open>=1.8.1->gensim) (1.14.1)\n",
      "Note: you may need to restart the kernel to use updated packages.\n"
     ]
    },
    {
     "name": "stderr",
     "output_type": "stream",
     "text": [
      "\n",
      "[notice] A new release of pip is available: 24.2 -> 24.3.1\n",
      "[notice] To update, run: python.exe -m pip install --upgrade pip\n"
     ]
    }
   ],
   "source": [
    "pip install gensim "
   ]
  },
  {
   "cell_type": "code",
   "execution_count": 72,
   "id": "c3513985-4c27-46d4-9ab5-af45911d80b9",
   "metadata": {},
   "outputs": [
    {
     "name": "stdout",
     "output_type": "stream",
     "text": [
      "[-0.00856604  0.02826718  0.05401725  0.07053043 -0.05703434  0.01858922\n",
      "  0.06089198 -0.04798314 -0.03107431  0.06798003]\n",
      "[('nlp', 0.3792897164821625), ('is', 0.2755622863769531)]\n"
     ]
    }
   ],
   "source": [
    "from gensim.models import Word2Vec\n",
    "a = [[\"hello\", \"everyone\", \"i\", \"love\", \"machine\", \"learning\"],\n",
    "    [\"word2vec\", \"is\", \"a\", \"technique\", \"used\", \"in\", \"nlp\"]]\n",
    "model = Word2Vec(a, vector_size=10, window=5, min_count=1, sg=1)\n",
    "vector = model.wv['machine']\n",
    "similar = model.wv.most_similar('machine', topn=2)\n",
    "print(vector)\n",
    "print(similar)"
   ]
  },
  {
   "cell_type": "code",
   "execution_count": null,
   "id": "d5201cc7-6ce4-469f-bc64-8aa972ebb131",
   "metadata": {},
   "outputs": [],
   "source": []
  },
  {
   "cell_type": "code",
   "execution_count": null,
   "id": "9b12b654-8469-4581-8d42-cd373243f64c",
   "metadata": {},
   "outputs": [],
   "source": []
  }
 ],
 "metadata": {
  "kernelspec": {
   "display_name": "Python 3 (ipykernel)",
   "language": "python",
   "name": "python3"
  },
  "language_info": {
   "codemirror_mode": {
    "name": "ipython",
    "version": 3
   },
   "file_extension": ".py",
   "mimetype": "text/x-python",
   "name": "python",
   "nbconvert_exporter": "python",
   "pygments_lexer": "ipython3",
   "version": "3.10.11"
  }
 },
 "nbformat": 4,
 "nbformat_minor": 5
}
