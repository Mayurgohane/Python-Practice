{
  "nbformat": 4,
  "nbformat_minor": 0,
  "metadata": {
    "colab": {
      "provenance": []
    },
    "kernelspec": {
      "name": "python3",
      "display_name": "Python 3"
    },
    "language_info": {
      "name": "python"
    }
  },
  "cells": [
    {
      "cell_type": "code",
      "execution_count": null,
      "metadata": {
        "colab": {
          "base_uri": "https://localhost:8080/"
        },
        "id": "_ZelVXVKIJfe",
        "outputId": "02bf8056-b270-4e76-8cea-b16b79969953"
      },
      "outputs": [
        {
          "output_type": "stream",
          "name": "stdout",
          "text": [
            "9\n"
          ]
        }
      ],
      "source": [
        "#Function to find second highest number\n",
        "numbers = [1, 5, 8, 9, 11]\n",
        "\n",
        "def second_number(numbers):\n",
        "    numbers.sort()\n",
        "    return numbers[-2]\n",
        "print(second_number(numbers))"
      ]
    },
    {
      "cell_type": "code",
      "source": [
        "#Calculate factorial using recursion\n",
        "def factorial(n):\n",
        "  if n==0:\n",
        "    return 1\n",
        "  return n* factorial(n-1)"
      ],
      "metadata": {
        "id": "9fRG9YEQJInD"
      },
      "execution_count": null,
      "outputs": []
    },
    {
      "cell_type": "code",
      "source": [
        "#function to find Palindrones in string\n",
        "def palindromes(s):\n",
        "  S = s.lower().replace(\" \",\" \")\n",
        "  return s==s[::-1]"
      ],
      "metadata": {
        "id": "B-zGC3J1JIp6"
      },
      "execution_count": null,
      "outputs": []
    },
    {
      "cell_type": "code",
      "source": [
        "#Function to check if it Anagram of another string\n",
        "def anagram(s1,s2):\n",
        "  return sorted(s1)==sorted(s2)\n",
        "\n",
        "a1 = 'listern'\n",
        "a2 = 'silent'\n",
        "print(anagram(a1,a2))"
      ],
      "metadata": {
        "colab": {
          "base_uri": "https://localhost:8080/"
        },
        "id": "mFumqURLJIsw",
        "outputId": "859a715b-b203-4bc1-cdf5-feffcd49fa31"
      },
      "execution_count": null,
      "outputs": [
        {
          "output_type": "stream",
          "name": "stdout",
          "text": [
            "False\n"
          ]
        }
      ]
    },
    {
      "cell_type": "code",
      "source": [
        "#Function to flatten list\n",
        "def flatten_list(nested_list):\n",
        "  flat_list =[]\n",
        "  for element in nested_list:\n",
        "    if isinstance(element,list):\n",
        "      flat_list.extend(flatten_list(element))\n",
        "    else:\n",
        "      flat_list.append(element)\n",
        "  return flat_list"
      ],
      "metadata": {
        "id": "BZqGpEKsJIve"
      },
      "execution_count": null,
      "outputs": []
    },
    {
      "cell_type": "code",
      "source": [
        "#Function to retunr common in list\n",
        "def common_elements(list1,list2):\n",
        "  return list(set(list1)&set(list2))"
      ],
      "metadata": {
        "id": "aUtrE6tvJIyP"
      },
      "execution_count": null,
      "outputs": []
    },
    {
      "cell_type": "code",
      "source": [
        "#Return nnumbers of words in string\n",
        "def numbers(s):\n",
        "  return len(s.split())"
      ],
      "metadata": {
        "id": "NJcE6WabJI02"
      },
      "execution_count": null,
      "outputs": []
    },
    {
      "cell_type": "code",
      "source": [
        "#Function to merge 2 dictionaries\n",
        "def merge_dict(dict1,dict2):\n",
        "  md = dict1.copy()\n",
        "  md.update(dict2)\n",
        "  return md"
      ],
      "metadata": {
        "id": "loUGwRiMJI37"
      },
      "execution_count": null,
      "outputs": []
    },
    {
      "cell_type": "code",
      "source": [
        "#Function to find most repeated character in string\n",
        "from collections import Counter\n",
        "def most_repeated(s):\n",
        "  return Counter(s).most_common(1)[0][0]"
      ],
      "metadata": {
        "id": "8-Vguqt5SsJg"
      },
      "execution_count": null,
      "outputs": []
    },
    {
      "cell_type": "code",
      "source": [
        "#Function to check if string contains all letters of alphabet atleast once\n",
        "def alphabets(s):\n",
        "  import string\n",
        "  return set(string.ascii_lowercase).issubset(set(s.lower()))"
      ],
      "metadata": {
        "id": "uaNdKBiLWzZG"
      },
      "execution_count": null,
      "outputs": []
    },
    {
      "cell_type": "code",
      "source": [
        "#Function to check is string in valid IPv4 Address\n",
        "import ipaddress\n",
        "\n",
        "def valid_ipv(ip):\n",
        "  try:\n",
        "    ipaddress.IPv4Address(ip)\n",
        "    return True\n",
        "  except ValueError:\n",
        "    return False"
      ],
      "metadata": {
        "id": "CA3rT2TYd0QY"
      },
      "execution_count": null,
      "outputs": []
    },
    {
      "cell_type": "code",
      "source": [
        "#Fuctiton to find mean, median, mode\n",
        "from statistics import mean, median, mode\n",
        "\n",
        "def stats(numbers):\n",
        "  return mean(numbers), median(numbers), mode(numbers)"
      ],
      "metadata": {
        "id": "4tJg3er9BQ9g"
      },
      "execution_count": null,
      "outputs": []
    },
    {
      "cell_type": "code",
      "source": [
        "#Function to compute Fiboonacci series on n\n",
        "\n",
        "#Fibonacci series is a sequence of numbers where each number is the sum of the two preceding ones, usually starting with 0 and 1\n",
        "\n",
        "def fibo(n):\n",
        "  if n<=0:\n",
        "    return 0\n",
        "  elif n==1:\n",
        "    return 1\n",
        "  else:\n",
        "    return fibo(n-1)+fibo(n-2)"
      ],
      "metadata": {
        "id": "Rm5zCZu5BRDs"
      },
      "execution_count": null,
      "outputs": []
    },
    {
      "cell_type": "code",
      "source": [
        "#Function that returns first non repeated character\n",
        "\n",
        "def first_non_repeated(s):\n",
        "  for char in s:\n",
        "    if s.count(char)==1:\n",
        "      return char\n",
        "  return None"
      ],
      "metadata": {
        "id": "XJJLA9vUBRGz"
      },
      "execution_count": null,
      "outputs": []
    },
    {
      "cell_type": "code",
      "source": [
        "#Function to chech 2 string rotation of each other\n",
        "def rotation(s1,s2):\n",
        "  return len(s1)==len(s2) and s2 in s1+s1\n",
        "\n",
        "s1 = 'abcd'\n",
        "s2 = 'cdab'\n",
        "print(rotation(s1,s2))"
      ],
      "metadata": {
        "colab": {
          "base_uri": "https://localhost:8080/"
        },
        "id": "dnW7SFmvBRKQ",
        "outputId": "0ca1120e-2db6-4521-e361-e158ea85f167"
      },
      "execution_count": null,
      "outputs": [
        {
          "output_type": "stream",
          "name": "stdout",
          "text": [
            "True\n"
          ]
        }
      ]
    },
    {
      "cell_type": "code",
      "source": [
        "#Function to determine if string has Unique Characters\n",
        "def unique_characters(s):\n",
        "  return len(s)==len(set(s))"
      ],
      "metadata": {
        "id": "hPCLczg7BRfg"
      },
      "execution_count": null,
      "outputs": []
    },
    {
      "cell_type": "code",
      "source": [
        "#Function to return longest consecutive subsequence in list of numbers\n",
        "def consecutive(numbers):\n",
        "  num_set = set(numbers)\n",
        "  longest = 0\n",
        "  for num in num_set:\n",
        "    if num-1 not in num_set:\n",
        "      current = 1\n",
        "      while num+1 in num_set:\n",
        "        current+=1\n",
        "        num+=1\n",
        "      longest = max(longest,current)\n",
        "  return longest"
      ],
      "metadata": {
        "id": "7_GsF4M1BRo7"
      },
      "execution_count": null,
      "outputs": []
    },
    {
      "cell_type": "code",
      "source": [
        "#Function to calculate Square root of given non negative integer\n",
        "import math\n",
        "\n",
        "def sqrt(x):\n",
        "  return math.isqrt(x)"
      ],
      "metadata": {
        "id": "OaZiXFeeGG4K"
      },
      "execution_count": null,
      "outputs": []
    },
    {
      "cell_type": "code",
      "source": [
        "#Given list of integers move all zeros to end of list\n",
        "def move_zeros(numbers):\n",
        "  numbers.sort(key=lambda x: x==0)\n",
        "  return numbers"
      ],
      "metadata": {
        "id": "KzTneHdnGG7O"
      },
      "execution_count": null,
      "outputs": []
    },
    {
      "cell_type": "code",
      "source": [
        "#Function to return sum of 2 numbers represeneted as string\n",
        "def add_strings(num1,num2):\n",
        "  return str(int(num1)+int(num2))\n"
      ],
      "metadata": {
        "id": "c0nciFk7GG-s"
      },
      "execution_count": null,
      "outputs": []
    },
    {
      "cell_type": "code",
      "source": [
        "#Function to check if given Binary Tree Valid\n",
        "class TreeNode:\n",
        "  def __init__(self,val=0,left=None,right=None):\n",
        "    self.val = val\n",
        "    self.left = left\n",
        "    self.right = right\n",
        "\n",
        "def is_valid_bst(self,node,min_val,max_val):\n",
        "  if not node:\n",
        "    return True\n",
        "  if not min_val<node.val<max_val:\n",
        "      return False"
      ],
      "metadata": {
        "id": "qYAj9NvAGHGn"
      },
      "execution_count": null,
      "outputs": []
    },
    {
      "cell_type": "code",
      "source": [
        "#Function to find longest common preflix of list of strings\n",
        "def longest_common_prefix(strs):\n",
        "  if not strs:\n",
        "    return\n",
        "  Prefix = strs[]\n",
        "  for string in strs:\n",
        "    while not string.startswith(Prefix):\n",
        "      Prefix = Prefix[:-1]\n",
        "      if not Prefix:\n",
        "        return \"\"\n",
        "  return Prefix"
      ],
      "metadata": {
        "id": "Ukr4tmf5GHMA"
      },
      "execution_count": null,
      "outputs": []
    },
    {
      "cell_type": "code",
      "source": [
        "#Function that return intersection of 2 sorted arrays\n",
        "def intersection(nums1,nums2):\n",
        "  return list(set(nums1)&set(nums2))"
      ],
      "metadata": {
        "id": "JuFHHzrgioFh"
      },
      "execution_count": null,
      "outputs": []
    },
    {
      "cell_type": "code",
      "source": [
        "#Function to determine if 2 strings are one edit or zero edit away\n",
        "def one_edit(s1, s2):\n",
        "    if abs(len(s1) - len(s2)) > 1:\n",
        "        return False\n",
        "\n",
        "    if len(s1) > len(s2):\n",
        "        s1, s2 = s2, s1\n",
        "    found_difference = False\n",
        "    i, j = 0, 0\n",
        "\n",
        "    while i < len(s1) and j < len(s2):\n",
        "        if s1[i] != s2[j]:\n",
        "            if found_difference:\n",
        "                return False\n",
        "            found_difference = True\n",
        "            if len(s1) == len(s2):\n",
        "                i += 1  # replace\n",
        "            j += 1  # insert or delete\n",
        "        else:\n",
        "            i += 1\n",
        "            j += 1\n",
        "    return True"
      ],
      "metadata": {
        "id": "HEOng31QioIT"
      },
      "execution_count": null,
      "outputs": []
    },
    {
      "cell_type": "code",
      "source": [
        "#Function that return shortest path in a maze from start point to an end point,\n",
        "#given you can you can move only up, donw, left, right\n",
        "\n",
        "def shortest_path(maze, start, end):\n",
        "  rows, cols = len(maze), len(maze[0])\n",
        "  directions = [(0,1),(0,-1),(1,0),(-1,0)]\n",
        "  queue = [(start[0],start[1],0)]\n",
        "  visited = set()\n",
        "  while queue:\n",
        "    x,y,dist = queue.pop(0)\n",
        "    if (x,y) == end:\n",
        "      return dist\n",
        "      for dx,dy in directions:\n",
        "        nx,ny = x+dx,y+dy\n",
        "        if 0<=nx<rows and 0<=ny<cols and maze[nx][ny]==0 and (nx,ny) not in visited:\n",
        "          visited.add((nx,ny))\n",
        "          queue.append((nx,ny,dist+1))\n",
        "  return -1\n"
      ],
      "metadata": {
        "id": "qsrHcPYLlqsD"
      },
      "execution_count": null,
      "outputs": []
    },
    {
      "cell_type": "code",
      "source": [
        "#Function that return nth number in Fibonacci sequence\n",
        "def fibo(n):\n",
        "  if n<=1:\n",
        "    return n\n",
        "  else:\n",
        "    return fibo(n-1)+fibo(n-2)"
      ],
      "metadata": {
        "id": "mpW1WquBlqxF"
      },
      "execution_count": null,
      "outputs": []
    },
    {
      "cell_type": "code",
      "source": [
        "#Function to flatten nested list of integers\n",
        "def flatten(nested_list):\n",
        "  flat_list = []\n",
        "  for element in nested_list:\n",
        "    if isinstance(element,list):\n",
        "      flat_list.extend(flatten(element))\n",
        "    else:\n",
        "      flat_list.append(element)\n",
        "  return flat_list"
      ],
      "metadata": {
        "id": "uBzhI5JSnr7W"
      },
      "execution_count": null,
      "outputs": []
    },
    {
      "cell_type": "code",
      "source": [
        "#check if string is palindrome\n",
        "def palindrome(s):\n",
        "  return s==s[::-1]"
      ],
      "metadata": {
        "id": "Mwev5uoinr_Q"
      },
      "execution_count": null,
      "outputs": []
    },
    {
      "cell_type": "code",
      "source": [
        "#Find 2 numbers in list that sum up to specific target\n",
        "\n",
        "def two_sum(numbers, target):\n",
        "    num_map = {}  # Store numbers and their indices\n",
        "    for i, num in enumerate(numbers):\n",
        "        complement = target - num\n",
        "        if complement in num_map:\n",
        "            return [num_map[complement], i]\n",
        "        num_map[num] = i  # Store index of the current number\n",
        "    return []"
      ],
      "metadata": {
        "id": "t5zqe083nsDD"
      },
      "execution_count": null,
      "outputs": []
    },
    {
      "cell_type": "code",
      "source": [
        "#Function that reverse string but keep same position of all non numeric characters\n",
        "def reverse_numbers_only(s):\n",
        "  digit = [c for c in s if c.isdigit()][::-1]\n",
        "  result = ' '.join([digit.pop() if c.isdigit() else c for c in s])\n",
        "  return result"
      ],
      "metadata": {
        "id": "0DqUPpAInsGp"
      },
      "execution_count": null,
      "outputs": []
    },
    {
      "cell_type": "code",
      "source": [
        "# Find non repetative character in string\n",
        "def non_rep(s):\n",
        "  for char in s:\n",
        "    if s.count(char)==1:\n",
        "      return char\n",
        "  return None"
      ],
      "metadata": {
        "id": "vO2WQJZIt_Gs"
      },
      "execution_count": null,
      "outputs": []
    },
    {
      "cell_type": "code",
      "source": [
        "#Find all prime numbers less than given number n\n",
        "def find_prime(n):\n",
        "    primes = []\n",
        "    for num in range(2, n):\n",
        "        if all(num % i != 0 for i in range(2, int(num**0.5) + 1)):\n",
        "            primes.append(num)\n",
        "    return primes"
      ],
      "metadata": {
        "id": "97ZKYYfJt_LW"
      },
      "execution_count": null,
      "outputs": []
    },
    {
      "cell_type": "code",
      "source": [
        "#Count factorial\n",
        "def factorial(n):\n",
        "  if n==0:\n",
        "    return 1\n",
        "  return n*factorial(n-1)"
      ],
      "metadata": {
        "id": "rV7Zf8B5t_OW"
      },
      "execution_count": null,
      "outputs": []
    },
    {
      "cell_type": "code",
      "source": [
        "#Isogram check\n",
        "def isogram(s):\n",
        "  return len(s)==len(set(s))"
      ],
      "metadata": {
        "id": "SNBPZjRzt_RO"
      },
      "execution_count": null,
      "outputs": []
    },
    {
      "cell_type": "code",
      "source": [
        "#Rotate array right by K-steps\n",
        "def rotate_array(nums,k):\n",
        "  k = k%len(nums)\n",
        "  nums[:] = nums[-k:]+nums[:-k]"
      ],
      "metadata": {
        "id": "lmu3lJHYwFAj"
      },
      "execution_count": null,
      "outputs": []
    },
    {
      "cell_type": "code",
      "source": [
        "#Integer to Roman numeral\n",
        "def int_to_roman(num):\n",
        "  val = [100, 200]\n",
        "  syms =[nn, mm]\n",
        "\n",
        "  roman = ''\n",
        "  i = 0\n",
        "  while num>0:\n",
        "    for _ in range(num//val[i]):\n",
        "      roman+=syms[i]\n",
        "      num-=val[i]\n",
        "    i+=1\n",
        "  return roman"
      ],
      "metadata": {
        "id": "9Z77i6DswFJ8"
      },
      "execution_count": null,
      "outputs": []
    },
    {
      "cell_type": "code",
      "source": [
        "#Square root using Newton Raphson Method\n",
        "def sqrt_newton_raphson(x, tolerance=1e-10):\n",
        "    if x < 0:\n",
        "        raise ValueError(\"Cannot compute square root of a negative number\")\n",
        "    guess = x\n",
        "    while abs(guess * guess - x) > tolerance:\n",
        "        guess = 0.5 * (guess + x / guess)\n",
        "    return guess"
      ],
      "metadata": {
        "id": "-5Un8O7wwFPW"
      },
      "execution_count": null,
      "outputs": []
    },
    {
      "cell_type": "code",
      "source": [],
      "metadata": {
        "id": "TDLj_V1SxYB-"
      },
      "execution_count": null,
      "outputs": []
    }
  ]
}