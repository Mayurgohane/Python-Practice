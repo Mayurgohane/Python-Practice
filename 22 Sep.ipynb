{
 "cells": [
  {
   "cell_type": "code",
   "execution_count": 3,
   "id": "4c1f32b8-67c0-4d63-9b99-92a46e03165d",
   "metadata": {},
   "outputs": [
    {
     "name": "stdout",
     "output_type": "stream",
     "text": [
      "['1', '2', '3', '5', '6', '2']\n"
     ]
    }
   ],
   "source": [
    "#Re \n",
    "import re\n",
    "a = '$Helloo$ 123 562'\n",
    "b = re.findall(\"[0-9]\",a)\n",
    "print(b)"
   ]
  },
  {
   "cell_type": "code",
   "execution_count": 9,
   "id": "111d25b4-ba6b-447e-8330-62017d23a3f1",
   "metadata": {},
   "outputs": [
    {
     "name": "stdout",
     "output_type": "stream",
     "text": [
      "['H', 'e', 'l', 'l', 'o', 'o', ' ', '1', '2', '3', ' ', '5', '6', '2']\n"
     ]
    }
   ],
   "source": [
    "a = '$Helloo$ 123 562'\n",
    "b = re.findall(\"[$]\",a)\n",
    "print(b)"
   ]
  },
  {
   "cell_type": "code",
   "execution_count": null,
   "id": "4d863c5e-ec4b-48f2-a322-8f08e5b3016e",
   "metadata": {},
   "outputs": [],
   "source": [
    "1. Write a Python program to count Uppercase, Lowercase, special characters, and numeric values in a given string.\n",
    "2. Write a Python program to reverse words in a string.\n",
    "3. Write a Python program to remove the nth index character from a non-empty string.\n",
    "4. Python Program to find the largest element in the list.\n",
    "5. Python program to find the sum of elements in a list.\n",
    "6. Python program to reverse a list.\n",
    "7. Write a Python program to format a number with a percentage.\n",
    "8. Write a Python program to find the area of a circle.\n",
    "10. Write a Python program to check if all digits of a number divide it.\n",
    "11. Write a Python program to count occurrences of an element in a list.\n",
    "12. Write a Python program to read a file line by line and store it into a list.\n",
    "13. Write a Python program to append a list to a second list.\n",
    "14. Write a Python program to find the third-largest number in a list.\n",
    "15. Write a Python program to replace all occurrences of space, comma, or dot with a colon.\n",
    "16. Write a Python program to check that a string contains only a certain set of characters (a-z, A-Z, and 0-9).\n",
    "17. Write a program to search for 'inform' in a string both in uppercase & lowercase (e.g., \"INFORM\" or \"inform\").\n",
    "18. Write a Python program that matches a string that has an 'a' followed by one or more 'b's.\n",
    "19. Python Program to find the factorial of a number using a function.\n",
    "20. Python Program to find the sum of even factors of a number using a function."
   ]
  },
  {
   "cell_type": "code",
   "execution_count": 10,
   "id": "74bd1b70-66c5-49a4-9ae2-781ca5295d21",
   "metadata": {},
   "outputs": [
    {
     "name": "stdout",
     "output_type": "stream",
     "text": [
      "1 15 8 4\n"
     ]
    }
   ],
   "source": [
    "# 1. Write a Python program to count Uppercase, Lowercase, special characters, and numeric values in a given string.\n",
    "a = \"Mayur  good morning @#% 1234\"\n",
    "upper = 0\n",
    "lower = 0\n",
    "sp = 0\n",
    "num = 0\n",
    "for i in a:\n",
    "    if i.isupper():\n",
    "        upper += 1\n",
    "    elif i.islower():\n",
    "        lower += 1\n",
    "    elif i.isnumeric():\n",
    "        num += 1\n",
    "    else:\n",
    "        sp += 1\n",
    "print(upper,lower,sp,num)"
   ]
  },
  {
   "cell_type": "code",
   "execution_count": 44,
   "id": "d33c00b1-1e4d-4080-bdb1-d9865260be43",
   "metadata": {},
   "outputs": [
    {
     "data": {
      "text/plain": [
       "['1234', '@#%', 'morning', 'good', 'Mayur']"
      ]
     },
     "execution_count": 44,
     "metadata": {},
     "output_type": "execute_result"
    }
   ],
   "source": [
    "# 2. Write a Python program to reverse words in a string. #join \n",
    "a = \"Mayur  good morning @#% 1234\"\n",
    "b = a.split()\n",
    "b.reverse()\n",
    "b"
   ]
  },
  {
   "cell_type": "code",
   "execution_count": 42,
   "id": "38df400d-ea03-4682-9ec7-cabe9786dc90",
   "metadata": {},
   "outputs": [],
   "source": [
    "#3. Write a Python program to remove the nth index character from a non-empty string.\n",
    "def reverse_string(string):\n",
    "    "
   ]
  },
  {
   "cell_type": "code",
   "execution_count": null,
   "id": "8d4d04a7-4706-4db9-99c3-2e8ff0c35b11",
   "metadata": {},
   "outputs": [],
   "source": []
  },
  {
   "cell_type": "code",
   "execution_count": 12,
   "id": "ed8f3735-3d96-4362-be15-8c848fb03fbd",
   "metadata": {},
   "outputs": [
    {
     "data": {
      "text/plain": [
       "71"
      ]
     },
     "execution_count": 12,
     "metadata": {},
     "output_type": "execute_result"
    }
   ],
   "source": [
    "#4. Python Program to find the largest element in the list.\n",
    "a = [5,71,55,5]\n",
    "b = max(a)\n",
    "b"
   ]
  },
  {
   "cell_type": "code",
   "execution_count": 13,
   "id": "ee69f769-8aa5-4c0c-948b-ef9b87ed3b3f",
   "metadata": {},
   "outputs": [
    {
     "data": {
      "text/plain": [
       "136"
      ]
     },
     "execution_count": 13,
     "metadata": {},
     "output_type": "execute_result"
    }
   ],
   "source": [
    "# 5. Python program to find the sum of elements in a list.\n",
    "a = [5,71,55,5]\n",
    "b = sum(a)\n",
    "b"
   ]
  },
  {
   "cell_type": "code",
   "execution_count": 16,
   "id": "d0916be4-ce3f-496f-b60d-12faf74b8e82",
   "metadata": {},
   "outputs": [
    {
     "data": {
      "text/plain": [
       "[71, 55, 5, 5]"
      ]
     },
     "execution_count": 16,
     "metadata": {},
     "output_type": "execute_result"
    }
   ],
   "source": [
    "# 6. Python program to reverse a list.\n",
    "a = [5,71,55,5]\n",
    "a.sort(reverse=True)\n",
    "a"
   ]
  },
  {
   "cell_type": "code",
   "execution_count": 40,
   "id": "1daf294e-03a1-4eb1-8655-6b70ba94ebed",
   "metadata": {},
   "outputs": [
    {
     "data": {
      "text/plain": [
       "'20.0%'"
      ]
     },
     "execution_count": 40,
     "metadata": {},
     "output_type": "execute_result"
    }
   ],
   "source": [
    "#7. Write a Python program to format a number with a percentage.\n",
    "a = 0.2\n",
    "b = f\"{a:.1%}\"\n",
    "b"
   ]
  },
  {
   "cell_type": "code",
   "execution_count": 41,
   "id": "32fcb07d-f383-4a24-9330-7eb6ffa69ac7",
   "metadata": {},
   "outputs": [
    {
     "data": {
      "text/plain": [
       "'20.00%'"
      ]
     },
     "execution_count": 41,
     "metadata": {},
     "output_type": "execute_result"
    }
   ],
   "source": [
    "a = 0.2\n",
    "b = f\"{a:.2%}\"\n",
    "b"
   ]
  },
  {
   "cell_type": "code",
   "execution_count": null,
   "id": "7e46d367-2497-4f4c-9e86-b5c627fd6ecc",
   "metadata": {},
   "outputs": [],
   "source": [
    "#8. Write a Python program to find the area of a circle.\n",
    "import math \n",
    "Area = math.pi*r**2"
   ]
  },
  {
   "cell_type": "code",
   "execution_count": null,
   "id": "bb6c2556-24e0-4ac6-8149-8e76f23150f1",
   "metadata": {},
   "outputs": [],
   "source": [
    "#10. Write a Python program to check if all digits of a number divide it.\n",
    "def divide(n):\n",
    "    for i in range(n):\n",
    "        if i==0 and n%i==0:\n",
    "            return False\n",
    "        return True "
   ]
  },
  {
   "cell_type": "code",
   "execution_count": 17,
   "id": "fb30e730-cba4-4e14-a83d-6176bb18cfa6",
   "metadata": {},
   "outputs": [
    {
     "name": "stdout",
     "output_type": "stream",
     "text": [
      "{1: 2, 23: 1, 4: 1, 5: 1}\n"
     ]
    }
   ],
   "source": [
    "#11. Write a Python program to count occurrences of an element in a list. #add string \n",
    "a = [1,1,23,4,5]\n",
    "b ={}\n",
    "for i in a:\n",
    "    if i in b:\n",
    "        b[i] += 1\n",
    "    else:\n",
    "        b[i] = 1\n",
    "print(b)"
   ]
  },
  {
   "cell_type": "code",
   "execution_count": 45,
   "id": "da3b0e02-c61e-4aa5-8a85-a52fb3f18313",
   "metadata": {},
   "outputs": [
    {
     "data": {
      "text/plain": [
       "{'mayur': 1, 'hii': 1}"
      ]
     },
     "execution_count": 45,
     "metadata": {},
     "output_type": "execute_result"
    }
   ],
   "source": [
    "from collections import Counter\n",
    "a = ['mayur','hii']\n",
    "b = dict(Counter(a))\n",
    "b"
   ]
  },
  {
   "cell_type": "code",
   "execution_count": 46,
   "id": "576fffbd-4e3c-4f2e-b34c-9292e91189dc",
   "metadata": {},
   "outputs": [
    {
     "ename": "NameError",
     "evalue": "name 'filename' is not defined",
     "output_type": "error",
     "traceback": [
      "\u001b[1;31m---------------------------------------------------------------------------\u001b[0m",
      "\u001b[1;31mNameError\u001b[0m                                 Traceback (most recent call last)",
      "Cell \u001b[1;32mIn[46], line 2\u001b[0m\n\u001b[0;32m      1\u001b[0m \u001b[38;5;66;03m#12. Write a Python program to read a file line by line and store it into a list.\u001b[39;00m\n\u001b[1;32m----> 2\u001b[0m \u001b[38;5;28;01mwith\u001b[39;00m \u001b[38;5;28mopen\u001b[39m(\u001b[43mfilename\u001b[49m, \u001b[38;5;124m'\u001b[39m\u001b[38;5;124mr\u001b[39m\u001b[38;5;124m'\u001b[39m) \u001b[38;5;28;01mas\u001b[39;00m file:\n\u001b[0;32m      3\u001b[0m     content \u001b[38;5;241m=\u001b[39m file\u001b[38;5;241m.\u001b[39mreadlines()\n\u001b[0;32m      4\u001b[0m \u001b[38;5;28mprint\u001b[39m(content)\n",
      "\u001b[1;31mNameError\u001b[0m: name 'filename' is not defined"
     ]
    }
   ],
   "source": [
    "#12. Write a Python program to read a file line by line and store it into a list. # create file \n",
    "with open(filename, 'r') as file:\n",
    "    content = file.readlines()\n",
    "print(content)"
   ]
  },
  {
   "cell_type": "code",
   "execution_count": 19,
   "id": "24a32743-2ec8-4255-998e-8cd86628c083",
   "metadata": {},
   "outputs": [
    {
     "data": {
      "text/plain": [
       "[1, 2, 3, [2, 3, 4]]"
      ]
     },
     "execution_count": 19,
     "metadata": {},
     "output_type": "execute_result"
    }
   ],
   "source": [
    "#13. Write a Python program to append a list to a second list.\n",
    "a = [1,2,3]\n",
    "b = [2,3,4]\n",
    "a.append(b)\n",
    "a"
   ]
  },
  {
   "cell_type": "code",
   "execution_count": 21,
   "id": "31eb3cab-4fcc-481e-8ef9-3246fe8ea390",
   "metadata": {},
   "outputs": [
    {
     "data": {
      "text/plain": [
       "2"
      ]
     },
     "execution_count": 21,
     "metadata": {},
     "output_type": "execute_result"
    }
   ],
   "source": [
    "#14. Write a Python program to find the third-largest number in a list.\n",
    "a = [1,25,63,2]\n",
    "a.sort(reverse=True)\n",
    "a[2]"
   ]
  },
  {
   "cell_type": "code",
   "execution_count": 29,
   "id": "9646e584-6f6b-4894-9c3c-31ffc968f34b",
   "metadata": {},
   "outputs": [
    {
     "name": "stdout",
     "output_type": "stream",
     "text": [
      "mayur:good.morniing:\n"
     ]
    }
   ],
   "source": [
    "#15. Write a Python program to replace all occurrences of space, comma, or dot with a colon.\n",
    "a = 'mayur good.morniing,'\n",
    "b = a.replace(' ','|')\n",
    "c = b.replace(',',':')\n",
    "d = c.replace('|',':')\n",
    "print(d)"
   ]
  },
  {
   "cell_type": "code",
   "execution_count": null,
   "id": "a6f88839-a268-4721-ab6a-a76c716d342c",
   "metadata": {},
   "outputs": [],
   "source": [
    "#single"
   ]
  },
  {
   "cell_type": "code",
   "execution_count": 23,
   "id": "d3fbd972-74b6-45b7-8941-00cb7a72cbfd",
   "metadata": {},
   "outputs": [
    {
     "data": {
      "text/plain": [
       "False"
      ]
     },
     "execution_count": 23,
     "metadata": {},
     "output_type": "execute_result"
    }
   ],
   "source": [
    "#16. Write a Python program to check that a string contains only a certain set of characters (a-z, A-Z, and 0-9).\n",
    "a = \"Mayur Morning 12345\"\n",
    "b = a.isalnum()\n",
    "b"
   ]
  },
  {
   "cell_type": "code",
   "execution_count": 24,
   "id": "93ecaafc-ad1f-46ca-99d9-cc0a54ada032",
   "metadata": {},
   "outputs": [
    {
     "data": {
      "text/plain": [
       "[]"
      ]
     },
     "execution_count": 24,
     "metadata": {},
     "output_type": "execute_result"
    }
   ],
   "source": [
    "import re\n",
    "a = \"Mayur Morning 12345\"\n",
    "b = re.findall(\"[a-zA-Z][0-9]\",a)\n",
    "b"
   ]
  },
  {
   "cell_type": "code",
   "execution_count": 25,
   "id": "6a9881df-a4b5-4e71-86f3-a151c04fa1cd",
   "metadata": {},
   "outputs": [
    {
     "data": {
      "text/plain": [
       "['inform Inform']"
      ]
     },
     "execution_count": 25,
     "metadata": {},
     "output_type": "execute_result"
    }
   ],
   "source": [
    "#17. Write a program to search for 'inform' in a string both in uppercase & lowercase (e.g., \"INFORM\" or \"inform\").\n",
    "a = \"Hii inform Inform\"\n",
    "p = \"inform Inform\"\n",
    "c = re.findall(p,a)\n",
    "c"
   ]
  },
  {
   "cell_type": "code",
   "execution_count": 27,
   "id": "033bd5f1-71b6-44ff-aa3f-936b465dab0d",
   "metadata": {},
   "outputs": [
    {
     "data": {
      "text/plain": [
       "['abb', 'ab']"
      ]
     },
     "execution_count": 27,
     "metadata": {},
     "output_type": "execute_result"
    }
   ],
   "source": [
    "#18. Write a Python program that matches a string that has an 'a' followed by one or more 'b's.\n",
    "a = \"abb bba abs baaa\"\n",
    "p = \"ab+\"\n",
    "c = re.findall(p,a)\n",
    "c"
   ]
  },
  {
   "cell_type": "code",
   "execution_count": 47,
   "id": "c192efa0-2fa5-44d5-a230-e6e3239a8990",
   "metadata": {},
   "outputs": [],
   "source": [
    "#19. Python Program to find the factorial of a number using a function.\n",
    "def fact(n,fact):\n",
    "    fact = fact * n\n",
    "    return fact "
   ]
  },
  {
   "cell_type": "code",
   "execution_count": 49,
   "id": "b5e29fa6-31db-460e-984e-a6c06b36a113",
   "metadata": {},
   "outputs": [
    {
     "data": {
      "text/plain": [
       "5"
      ]
     },
     "execution_count": 49,
     "metadata": {},
     "output_type": "execute_result"
    }
   ],
   "source": [
    "fact(5,1)# check"
   ]
  },
  {
   "cell_type": "code",
   "execution_count": 26,
   "id": "eabb0d3c-a14b-474a-b186-a59c47466a21",
   "metadata": {},
   "outputs": [],
   "source": [
    "#20. Python Program to find the sum of even factors of a number using a function.\n",
    "def even_f(n):\n",
    "    sum_e = 0\n",
    "    for i in range(n):\n",
    "       if n%i==0 and i%2==0:\n",
    "           sum_e += 1\n",
    "    print(sum_e)"
   ]
  },
  {
   "cell_type": "code",
   "execution_count": null,
   "id": "612b60f0-87fe-4c68-b12e-1504219393d1",
   "metadata": {},
   "outputs": [],
   "source": [
    "even_f(20)"
   ]
  },
  {
   "cell_type": "code",
   "execution_count": null,
   "id": "b2211c1a-efbf-4274-9577-9f683f959d0a",
   "metadata": {},
   "outputs": [],
   "source": []
  },
  {
   "cell_type": "code",
   "execution_count": null,
   "id": "d4a3291c-b45b-49b8-881a-e21b87452825",
   "metadata": {},
   "outputs": [],
   "source": []
  }
 ],
 "metadata": {
  "kernelspec": {
   "display_name": "Python 3 (ipykernel)",
   "language": "python",
   "name": "python3"
  },
  "language_info": {
   "codemirror_mode": {
    "name": "ipython",
    "version": 3
   },
   "file_extension": ".py",
   "mimetype": "text/x-python",
   "name": "python",
   "nbconvert_exporter": "python",
   "pygments_lexer": "ipython3",
   "version": "3.10.11"
  }
 },
 "nbformat": 4,
 "nbformat_minor": 5
}
