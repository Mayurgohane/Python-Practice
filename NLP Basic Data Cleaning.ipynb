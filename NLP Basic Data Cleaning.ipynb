{
 "cells": [
  {
   "cell_type": "code",
   "execution_count": 26,
   "id": "3cc7e562-06db-4e1d-8324-5c5c23367049",
   "metadata": {},
   "outputs": [
    {
     "name": "stderr",
     "output_type": "stream",
     "text": [
      "[nltk_data] Downloading package punkt_tab to\n",
      "[nltk_data]     C:\\Users\\LEGION\\AppData\\Roaming\\nltk_data...\n",
      "[nltk_data]   Package punkt_tab is already up-to-date!\n"
     ]
    }
   ],
   "source": [
    "import nltk\n",
    "from nltk.corpus import stopwords\n",
    "from nltk import word_tokenize\n",
    "nltk.download('punkt_tab')\n",
    "from nltk import PorterStemmer\n",
    "import re"
   ]
  },
  {
   "cell_type": "code",
   "execution_count": 5,
   "id": "521e1a92-f12a-4faa-880e-ab0c2bceea06",
   "metadata": {},
   "outputs": [],
   "source": [
    "a = \"\"\"Hello, everyone! My name is John, and I'm currently exploring Natural Language Processing (NLP) \n",
    "techniques. NLP is a fascinating field that involves understanding and manipulating human language using machines. \n",
    "In this journey, I'm focusing on text preprocessing, which includes cleaning raw text data to prepare it for analysis. \n",
    "The process can include removing stop words, punctuation, and other unnecessary characters. \n",
    "I’m excited to learn more and apply these techniques to real-world problems!\"\"\""
   ]
  },
  {
   "cell_type": "code",
   "execution_count": 47,
   "id": "6ca479e6-bdee-4653-b554-b602ad94b0dd",
   "metadata": {},
   "outputs": [
    {
     "name": "stdout",
     "output_type": "stream",
     "text": [
      "hello everyon name john current explor natur languag process nlp techniqu nlp fascin field involv understand manipul human languag use machin journey focus text preprocess includ clean raw text data prepar analysi process includ remov stop word punctuat unnecessari charact excit learn appli techniqu problem\n"
     ]
    }
   ],
   "source": [
    "b = a.lower()  #Lower\n",
    "c = nltk.word_tokenize(b)  #Tokenize\n",
    "sw = [i for i in c if i not in stopwords.words('english')]  #Stop word removal\n",
    "PS = PorterStemmer()  \n",
    "stem = [PS.stem(i) for i in sw]  #Porter Stemmer\n",
    "clean = ' '.join([i for i in stem if i.isalpha()])  #CLean\n",
    "print(clean)"
   ]
  },
  {
   "cell_type": "code",
   "execution_count": null,
   "id": "5f0a5289-c296-4f1a-9044-6d5a8ec22df9",
   "metadata": {},
   "outputs": [],
   "source": [
    "#Lemmitization \n",
    "from nltk import WordNetLemmatizer\n",
    "lem = WordNetLemmatizer()\n",
    "lemmit = [lem.lemmatize(i) for i in sw]"
   ]
  },
  {
   "cell_type": "code",
   "execution_count": 49,
   "id": "fd13b990-0659-4ca8-bb7e-2176ea5121df",
   "metadata": {},
   "outputs": [
    {
     "name": "stderr",
     "output_type": "stream",
     "text": [
      "[nltk_data] Downloading package punkt to\n",
      "[nltk_data]     C:\\Users\\LEGION\\AppData\\Roaming\\nltk_data...\n",
      "[nltk_data]   Package punkt is already up-to-date!\n"
     ]
    },
    {
     "data": {
      "text/plain": [
       "True"
      ]
     },
     "execution_count": 49,
     "metadata": {},
     "output_type": "execute_result"
    }
   ],
   "source": [
    "import nltk\n",
    "from nltk.corpus import stopwords\n",
    "from nltk import word_tokenize\n",
    "from nltk import PorterStemmer\n",
    "import re \n",
    "nltk.download('punkt')"
   ]
  },
  {
   "cell_type": "code",
   "execution_count": null,
   "id": "42c5f58d-b900-4378-ac93-3f5faa932205",
   "metadata": {},
   "outputs": [],
   "source": []
  },
  {
   "cell_type": "code",
   "execution_count": 55,
   "id": "3c407de8-1e83-406d-88f4-dbdf5928ae65",
   "metadata": {},
   "outputs": [],
   "source": [
    "b = a.lower()\n",
    "c = word_tokenize(b)\n",
    "d = [i for i in c if i not in stopwords.words('english')]\n",
    "PS = PorterStemmer()\n",
    "pd = [PS.stem(i) for i in d]\n",
    "clean = ' '.join([i for i in pd if i.isalpha()])"
   ]
  },
  {
   "cell_type": "code",
   "execution_count": null,
   "id": "b4ca1ec3-5b6b-407b-aa57-cd25f6ea6185",
   "metadata": {},
   "outputs": [],
   "source": []
  },
  {
   "cell_type": "code",
   "execution_count": null,
   "id": "6249d452-9687-4711-a5f3-37a64f0beb93",
   "metadata": {},
   "outputs": [],
   "source": []
  },
  {
   "cell_type": "code",
   "execution_count": null,
   "id": "a4af420a-68f8-447a-8413-1e8507fda3e5",
   "metadata": {},
   "outputs": [],
   "source": []
  },
  {
   "cell_type": "code",
   "execution_count": null,
   "id": "681d0b91-0f36-48ba-a352-1d7e9122fcdf",
   "metadata": {},
   "outputs": [],
   "source": []
  },
  {
   "cell_type": "code",
   "execution_count": null,
   "id": "8a588bf4-2913-4541-8987-fab015023d24",
   "metadata": {},
   "outputs": [],
   "source": []
  },
  {
   "cell_type": "code",
   "execution_count": null,
   "id": "b6b988c8-4264-443d-8b00-0e548403ec08",
   "metadata": {},
   "outputs": [],
   "source": []
  },
  {
   "cell_type": "code",
   "execution_count": null,
   "id": "91eced0d-43c6-463c-a367-6493d74993ad",
   "metadata": {},
   "outputs": [],
   "source": []
  },
  {
   "cell_type": "code",
   "execution_count": null,
   "id": "9bfb0cef-2b21-4464-939e-4dcb98389a0f",
   "metadata": {},
   "outputs": [],
   "source": []
  },
  {
   "cell_type": "code",
   "execution_count": null,
   "id": "881487aa-d904-461a-93bb-f44c9ad23b1a",
   "metadata": {},
   "outputs": [],
   "source": []
  },
  {
   "cell_type": "code",
   "execution_count": null,
   "id": "2d58bfd2-4ac9-46b2-893e-d77e62a97829",
   "metadata": {},
   "outputs": [],
   "source": []
  },
  {
   "cell_type": "code",
   "execution_count": null,
   "id": "daa8b7e7-8d48-4623-9d88-1f1296465759",
   "metadata": {},
   "outputs": [],
   "source": []
  },
  {
   "cell_type": "code",
   "execution_count": null,
   "id": "325194d3-4330-444b-90dd-5895ace7f356",
   "metadata": {},
   "outputs": [],
   "source": []
  }
 ],
 "metadata": {
  "kernelspec": {
   "display_name": "Python 3 (ipykernel)",
   "language": "python",
   "name": "python3"
  },
  "language_info": {
   "codemirror_mode": {
    "name": "ipython",
    "version": 3
   },
   "file_extension": ".py",
   "mimetype": "text/x-python",
   "name": "python",
   "nbconvert_exporter": "python",
   "pygments_lexer": "ipython3",
   "version": "3.10.11"
  }
 },
 "nbformat": 4,
 "nbformat_minor": 5
}
