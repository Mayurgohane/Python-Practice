{
 "cells": [
  {
   "cell_type": "code",
   "execution_count": 2,
   "id": "6509f0f3-a465-4eb5-8421-239f735e439a",
   "metadata": {},
   "outputs": [],
   "source": [
    "import numpy as np"
   ]
  },
  {
   "cell_type": "code",
   "execution_count": 6,
   "id": "5277eb39-7a32-44fc-b0a7-b602efc57b2f",
   "metadata": {},
   "outputs": [
    {
     "data": {
      "text/plain": [
       "array([[1, 2, 3]])"
      ]
     },
     "execution_count": 6,
     "metadata": {},
     "output_type": "execute_result"
    }
   ],
   "source": [
    "#1d array into 2d array \n",
    "a = np.array([1,2,3,], ndmin=2)\n",
    "a"
   ]
  },
  {
   "cell_type": "code",
   "execution_count": 13,
   "id": "3598ca78-3138-4590-9ad7-11f5a192ab1b",
   "metadata": {},
   "outputs": [
    {
     "data": {
      "text/plain": [
       "array([[1, 2],\n",
       "       [3, 4],\n",
       "       [5, 6]])"
      ]
     },
     "execution_count": 13,
     "metadata": {},
     "output_type": "execute_result"
    }
   ],
   "source": [
    "#reshape\n",
    "a = np.array([1,2,3,4,5,6])\n",
    "b = a.reshape(3,2)\n",
    "b"
   ]
  },
  {
   "cell_type": "code",
   "execution_count": 14,
   "id": "f0bb53c8-b22e-4705-9392-9e4accdac686",
   "metadata": {},
   "outputs": [
    {
     "data": {
      "text/plain": [
       "array([ 1,  2,  3,  4,  5,  6, 10, 20, 30, 40, 50, 60])"
      ]
     },
     "execution_count": 14,
     "metadata": {},
     "output_type": "execute_result"
    }
   ],
   "source": [
    "#flatten list \n",
    "a = np.array([[1,2,3,4],[5,6,10,20],[30,40,50,60]])\n",
    "b = a.reshape(-1)\n",
    "b"
   ]
  },
  {
   "cell_type": "code",
   "execution_count": 16,
   "id": "b248af3a-87cb-40fb-98c6-bd8b972dee4f",
   "metadata": {},
   "outputs": [
    {
     "data": {
      "text/plain": [
       "array([ 9, 16, 25, 36, 49])"
      ]
     },
     "execution_count": 16,
     "metadata": {},
     "output_type": "execute_result"
    }
   ],
   "source": [
    "a =np.array([3,4,5,6,7])\n",
    "b = a**2\n",
    "b"
   ]
  },
  {
   "cell_type": "code",
   "execution_count": 19,
   "id": "ecce8b3d-b2a5-4b07-ab9a-bea68114f756",
   "metadata": {},
   "outputs": [
    {
     "data": {
      "text/plain": [
       "array([ 4, 10, 18])"
      ]
     },
     "execution_count": 19,
     "metadata": {},
     "output_type": "execute_result"
    }
   ],
   "source": [
    "# multi \n",
    "a = np.array([1,2,3])\n",
    "b = np.array([4,5,6])\n",
    "c = np.multiply(a,b)\n",
    "c"
   ]
  },
  {
   "cell_type": "code",
   "execution_count": 21,
   "id": "ae99408c-8c1a-4727-ab0d-2e35e2310146",
   "metadata": {},
   "outputs": [
    {
     "data": {
      "text/plain": [
       "array([0., 0., 0., 0., 0.])"
      ]
     },
     "execution_count": 21,
     "metadata": {},
     "output_type": "execute_result"
    }
   ],
   "source": [
    "#np.zeroz \n",
    "a = np.zeros(5)\n",
    "a"
   ]
  },
  {
   "cell_type": "code",
   "execution_count": 22,
   "id": "3ba3b729-739f-4333-bbda-5c34bb34fd98",
   "metadata": {},
   "outputs": [
    {
     "data": {
      "text/plain": [
       "array([[0., 0., 0.],\n",
       "       [0., 0., 0.],\n",
       "       [0., 0., 0.]])"
      ]
     },
     "execution_count": 22,
     "metadata": {},
     "output_type": "execute_result"
    }
   ],
   "source": [
    "a = np.zeros([3,3])\n",
    "a"
   ]
  },
  {
   "cell_type": "code",
   "execution_count": 23,
   "id": "0df7effc-9577-4388-9fd4-2b32d89178ad",
   "metadata": {},
   "outputs": [
    {
     "data": {
      "text/plain": [
       "array([1., 1., 1., 1., 1.])"
      ]
     },
     "execution_count": 23,
     "metadata": {},
     "output_type": "execute_result"
    }
   ],
   "source": [
    "#np.ones\n",
    "a = np.ones(5, dtype= float)\n",
    "a"
   ]
  },
  {
   "cell_type": "code",
   "execution_count": 24,
   "id": "1578bf3b-e288-4200-ab94-3530d3ff7c43",
   "metadata": {},
   "outputs": [
    {
     "data": {
      "text/plain": [
       "array([[1., 1., 1., 1., 1.],\n",
       "       [1., 1., 1., 1., 1.],\n",
       "       [1., 1., 1., 1., 1.],\n",
       "       [1., 1., 1., 1., 1.],\n",
       "       [1., 1., 1., 1., 1.]])"
      ]
     },
     "execution_count": 24,
     "metadata": {},
     "output_type": "execute_result"
    }
   ],
   "source": [
    "a = np.ones([5,5], dtype= float)\n",
    "a"
   ]
  },
  {
   "cell_type": "code",
   "execution_count": 25,
   "id": "5125f79f-a1df-4a89-9b79-2c8af52a8580",
   "metadata": {},
   "outputs": [
    {
     "data": {
      "text/plain": [
       "array([ 5,  6,  7,  8,  9, 10, 11, 12, 13, 14, 15, 16, 17, 18, 19, 20, 21,\n",
       "       22, 23, 24])"
      ]
     },
     "execution_count": 25,
     "metadata": {},
     "output_type": "execute_result"
    }
   ],
   "source": [
    "#np.arange\n",
    "a = np.arange(5,25)\n",
    "a"
   ]
  },
  {
   "cell_type": "code",
   "execution_count": 27,
   "id": "15a17883-03b9-4525-b7b6-08889499d2c5",
   "metadata": {},
   "outputs": [
    {
     "data": {
      "text/plain": [
       "array([ 5., 10., 15., 20., 25.])"
      ]
     },
     "execution_count": 27,
     "metadata": {},
     "output_type": "execute_result"
    }
   ],
   "source": [
    "#linespace\n",
    "a = np.linspace(5,25, num=5)\n",
    "a"
   ]
  },
  {
   "cell_type": "code",
   "execution_count": 28,
   "id": "90b75ed2-6661-4b0e-97fa-3af06063bdd1",
   "metadata": {},
   "outputs": [
    {
     "data": {
      "text/plain": [
       "array([[1., 0., 0., 0., 0., 0.],\n",
       "       [0., 1., 0., 0., 0., 0.],\n",
       "       [0., 0., 1., 0., 0., 0.],\n",
       "       [0., 0., 0., 1., 0., 0.],\n",
       "       [0., 0., 0., 0., 1., 0.],\n",
       "       [0., 0., 0., 0., 0., 1.]])"
      ]
     },
     "execution_count": 28,
     "metadata": {},
     "output_type": "execute_result"
    }
   ],
   "source": [
    "#eye \n",
    "a = np.eye(6)\n",
    "a"
   ]
  },
  {
   "cell_type": "code",
   "execution_count": 29,
   "id": "03595c67-6b04-4395-891c-ef823ec688bd",
   "metadata": {},
   "outputs": [
    {
     "data": {
      "text/plain": [
       "array([[1., 0., 0., 0., 0., 0.],\n",
       "       [0., 1., 0., 0., 0., 0.],\n",
       "       [0., 0., 1., 0., 0., 0.],\n",
       "       [0., 0., 0., 1., 0., 0.],\n",
       "       [0., 0., 0., 0., 1., 0.],\n",
       "       [0., 0., 0., 0., 0., 1.]])"
      ]
     },
     "execution_count": 29,
     "metadata": {},
     "output_type": "execute_result"
    }
   ],
   "source": [
    "#identify\n",
    "a = np.identity(6)\n",
    "a"
   ]
  },
  {
   "cell_type": "code",
   "execution_count": 30,
   "id": "56f726ad-b400-490c-a5b2-5d4097d3ba20",
   "metadata": {},
   "outputs": [
    {
     "data": {
      "text/plain": [
       "array([0.90191724, 0.90590407, 0.02012176, 0.75565638, 0.69760996])"
      ]
     },
     "execution_count": 30,
     "metadata": {},
     "output_type": "execute_result"
    }
   ],
   "source": [
    "#random \n",
    "a = np.random.rand(5)\n",
    "a"
   ]
  },
  {
   "cell_type": "code",
   "execution_count": 32,
   "id": "8ecf2325-4c96-4482-a698-64229d4c24a6",
   "metadata": {},
   "outputs": [
    {
     "data": {
      "text/plain": [
       "array([9, 7, 8, 5, 6])"
      ]
     },
     "execution_count": 32,
     "metadata": {},
     "output_type": "execute_result"
    }
   ],
   "source": [
    "a = np.random.randint(5,10, size=5)\n",
    "a"
   ]
  },
  {
   "cell_type": "code",
   "execution_count": 36,
   "id": "da0f39ff-fd58-4d31-ad91-4ae900e72633",
   "metadata": {},
   "outputs": [
    {
     "data": {
      "text/plain": [
       "'86576'"
      ]
     },
     "execution_count": 36,
     "metadata": {},
     "output_type": "execute_result"
    }
   ],
   "source": [
    "a = np.random.randint(5,10, size=5)\n",
    "''.join([str(i) for i in list(a)])"
   ]
  },
  {
   "cell_type": "code",
   "execution_count": 37,
   "id": "4f1a7396-12b5-4ee9-96ff-ad9ae4c83ce2",
   "metadata": {},
   "outputs": [
    {
     "data": {
      "text/plain": [
       "array([-0.287861  ,  0.32142799,  0.63665244,  0.2912567 , -1.12192049])"
      ]
     },
     "execution_count": 37,
     "metadata": {},
     "output_type": "execute_result"
    }
   ],
   "source": [
    "a = np.random.randn(5)\n",
    "a"
   ]
  },
  {
   "cell_type": "code",
   "execution_count": 38,
   "id": "00b5f50f-64ae-4959-82df-a79d274da73d",
   "metadata": {},
   "outputs": [
    {
     "data": {
      "text/plain": [
       "array([0.44342088, 0.77918333, 0.52286701, 0.39423324, 0.37913793])"
      ]
     },
     "execution_count": 38,
     "metadata": {},
     "output_type": "execute_result"
    }
   ],
   "source": [
    "a = np.random.ranf(5)\n",
    "a"
   ]
  },
  {
   "cell_type": "code",
   "execution_count": 44,
   "id": "8c50982d-61a9-4196-b390-d48c09778154",
   "metadata": {},
   "outputs": [
    {
     "data": {
      "text/plain": [
       "array([ 1,  2,  3,  4,  5,  6,  7,  8,  9, 44, 50])"
      ]
     },
     "execution_count": 44,
     "metadata": {},
     "output_type": "execute_result"
    }
   ],
   "source": [
    "#sort\n",
    "a = np.array([50,44,1,2,3,4,5,6,7,8,9])\n",
    "np.sort(a)"
   ]
  },
  {
   "cell_type": "code",
   "execution_count": 47,
   "id": "c342d20d-eadb-430a-9800-b9908569ae7f",
   "metadata": {},
   "outputs": [
    {
     "data": {
      "text/plain": [
       "array([[ 4,  2,  3],\n",
       "       [11,  5,  6]])"
      ]
     },
     "execution_count": 47,
     "metadata": {},
     "output_type": "execute_result"
    }
   ],
   "source": [
    "a = np.array([[11,2,3],[4,5,6]])\n",
    "np.sort(a, axis=0)"
   ]
  },
  {
   "cell_type": "code",
   "execution_count": 48,
   "id": "b961a506-457b-4d6b-a49c-76a07992e27e",
   "metadata": {},
   "outputs": [
    {
     "data": {
      "text/plain": [
       "array([[ 2,  3, 11],\n",
       "       [ 4,  5,  6]])"
      ]
     },
     "execution_count": 48,
     "metadata": {},
     "output_type": "execute_result"
    }
   ],
   "source": [
    "a = np.array([[11,2,3],[4,5,6]])\n",
    "np.sort(a, axis=1)"
   ]
  },
  {
   "cell_type": "code",
   "execution_count": 49,
   "id": "bf8bf94a-9603-4197-8acd-1db2379f4753",
   "metadata": {},
   "outputs": [
    {
     "data": {
      "text/plain": [
       "3.0"
      ]
     },
     "execution_count": 49,
     "metadata": {},
     "output_type": "execute_result"
    }
   ],
   "source": [
    "a = np.array([1,2,3,4,5])\n",
    "b = np.mean(a)\n",
    "b"
   ]
  },
  {
   "cell_type": "code",
   "execution_count": 51,
   "id": "83b5a45b-1672-4c89-9d63-bc2c6f02382b",
   "metadata": {},
   "outputs": [
    {
     "data": {
      "text/plain": [
       "4.0"
      ]
     },
     "execution_count": 51,
     "metadata": {},
     "output_type": "execute_result"
    }
   ],
   "source": [
    "#median\n",
    "a = np.array([1,2,3,4,5,8,9,])\n",
    "b = np.median(a)\n",
    "b"
   ]
  },
  {
   "cell_type": "code",
   "execution_count": 53,
   "id": "69ab94f3-ff7e-40d9-8a0f-55ee3209b0e8",
   "metadata": {},
   "outputs": [],
   "source": [
    "from scipy import stats"
   ]
  },
  {
   "cell_type": "code",
   "execution_count": 55,
   "id": "42c70afa-9b55-42c2-be18-0d5778dd5c5e",
   "metadata": {},
   "outputs": [
    {
     "data": {
      "text/plain": [
       "ModeResult(mode=8, count=2)"
      ]
     },
     "execution_count": 55,
     "metadata": {},
     "output_type": "execute_result"
    }
   ],
   "source": [
    "a = np.array([1,2,3,8,4,5,8,9,])\n",
    "b = stats.mode(a)\n",
    "b"
   ]
  },
  {
   "cell_type": "code",
   "execution_count": 63,
   "id": "92dd2a8e-6080-435c-acad-49a07efdd31f",
   "metadata": {},
   "outputs": [
    {
     "data": {
      "text/plain": [
       "array([[-1.66666667,  0.66666667],\n",
       "       [ 1.33333333, -0.33333333]])"
      ]
     },
     "execution_count": 63,
     "metadata": {},
     "output_type": "execute_result"
    }
   ],
   "source": [
    "#liner algerba \n",
    "a = np.array([[1,2],[4,5]])\n",
    "np.linalg.inv(a)"
   ]
  },
  {
   "cell_type": "code",
   "execution_count": 65,
   "id": "94c754d0-5595-4d33-8388-71382ee4b0b3",
   "metadata": {},
   "outputs": [
    {
     "data": {
      "text/plain": [
       "0.0"
      ]
     },
     "execution_count": 65,
     "metadata": {},
     "output_type": "execute_result"
    }
   ],
   "source": [
    "a = np.log(1)\n",
    "a"
   ]
  },
  {
   "cell_type": "code",
   "execution_count": 68,
   "id": "44cdf1b1-2a9e-4325-b014-9e8c1abd588e",
   "metadata": {},
   "outputs": [
    {
     "data": {
      "text/plain": [
       "0.6931471805599453"
      ]
     },
     "execution_count": 68,
     "metadata": {},
     "output_type": "execute_result"
    }
   ],
   "source": [
    "a = np.log(2)\n",
    "a"
   ]
  },
  {
   "cell_type": "code",
   "execution_count": 69,
   "id": "1bfa6c4f-3c8c-4bda-8b30-f1565ba30bea",
   "metadata": {},
   "outputs": [
    {
     "data": {
      "text/plain": [
       "0.3010299956639812"
      ]
     },
     "execution_count": 69,
     "metadata": {},
     "output_type": "execute_result"
    }
   ],
   "source": [
    "a = np.log10(2)\n",
    "a"
   ]
  },
  {
   "cell_type": "code",
   "execution_count": 72,
   "id": "35e91d2b-a0c3-4cb7-b611-8c54600acc3c",
   "metadata": {},
   "outputs": [
    {
     "data": {
      "text/plain": [
       "array([[0.        , 3.17805383, 1.60943791]])"
      ]
     },
     "execution_count": 72,
     "metadata": {},
     "output_type": "execute_result"
    }
   ],
   "source": [
    "a = np.array([[1,24,5]])\n",
    "b = np.log(a)\n",
    "b"
   ]
  },
  {
   "cell_type": "code",
   "execution_count": 73,
   "id": "1bfc2e7a-0e15-4ed2-b0ad-edbe176b56c3",
   "metadata": {},
   "outputs": [
    {
     "data": {
      "text/plain": [
       "array([ 57.29577951, 114.59155903, 171.88733854, 229.18311805,\n",
       "       286.47889757])"
      ]
     },
     "execution_count": 73,
     "metadata": {},
     "output_type": "execute_result"
    }
   ],
   "source": [
    "#degree to radiant\n",
    "a = np.array([1,2,3,4,5])\n",
    "b = np.rad2deg(a)\n",
    "b"
   ]
  },
  {
   "cell_type": "code",
   "execution_count": 74,
   "id": "1ee9b94a-6168-4060-acfc-32f1854bd911",
   "metadata": {},
   "outputs": [
    {
     "data": {
      "text/plain": [
       "array([0.01745329, 0.03490659, 0.05235988, 0.06981317, 0.08726646])"
      ]
     },
     "execution_count": 74,
     "metadata": {},
     "output_type": "execute_result"
    }
   ],
   "source": [
    "a = np.array([1,2,3,4,5])\n",
    "b = np.deg2rad(a)\n",
    "b"
   ]
  },
  {
   "cell_type": "code",
   "execution_count": 75,
   "id": "b20a6741-2d91-42ea-8bf1-e5d22930a8b9",
   "metadata": {},
   "outputs": [
    {
     "name": "stdout",
     "output_type": "stream",
     "text": [
      "1\n",
      "2\n",
      "3\n",
      "4\n",
      "5\n"
     ]
    }
   ],
   "source": [
    "a = np.array([1,2,3,4,5])\n",
    "for i in np.nditer(a):\n",
    "    print(i)"
   ]
  },
  {
   "cell_type": "code",
   "execution_count": 76,
   "id": "5f83065c-010b-4675-99d0-c07cb6d4efd5",
   "metadata": {},
   "outputs": [
    {
     "data": {
      "text/plain": [
       "1"
      ]
     },
     "execution_count": 76,
     "metadata": {},
     "output_type": "execute_result"
    }
   ],
   "source": [
    "a = np.array([1,2,3,4,5])\n",
    "np.min(a)"
   ]
  },
  {
   "cell_type": "code",
   "execution_count": 79,
   "id": "79160a28-e137-45ca-a028-3e31097dc8dc",
   "metadata": {},
   "outputs": [
    {
     "data": {
      "text/plain": [
       "array([  2,   3,   4,   5,   6,   7,   8,   9,  10,  12,  13,  14,  15,\n",
       "        16,  17,  18,  19, 110])"
      ]
     },
     "execution_count": 79,
     "metadata": {},
     "output_type": "execute_result"
    }
   ],
   "source": [
    "a = np.array([[[2,3,4],[5,6,7],[8,9,10]], [[12,13,14],[15,16,17],[18,19,110]]])\n",
    "a.flatten()"
   ]
  },
  {
   "cell_type": "markdown",
   "id": "fc1b8688-a90e-481c-82ea-f496ec1e3571",
   "metadata": {},
   "source": [
    "# Assignment 6"
   ]
  },
  {
   "cell_type": "code",
   "execution_count": 1,
   "id": "1fda2ef6-e317-47f0-be4e-00501cbb9131",
   "metadata": {},
   "outputs": [],
   "source": [
    "#largest prime factor of number\n",
    "def large(n):\n",
    "    i=2\n",
    "    while i*i <=n:\n",
    "        if n%i:\n",
    "            i += 1\n",
    "        else:\n",
    "            n//=i\n",
    "    return n"
   ]
  },
  {
   "cell_type": "code",
   "execution_count": 2,
   "id": "e157e913-8958-4277-87ed-4f7c365f4cdb",
   "metadata": {},
   "outputs": [],
   "source": [
    "#unique prime factors of number \n",
    "def pmu(n):\n",
    "    f = []\n",
    "    while i*i<=n:\n",
    "        if n%i:\n",
    "            i+= 1\n",
    "        else:\n",
    "            n//i\n",
    "            f.appened(i)\n",
    "    if n>1:\n",
    "        f.append(n)\n",
    "    return f "
   ]
  },
  {
   "cell_type": "code",
   "execution_count": 3,
   "id": "7acc61af-e4dc-4c95-abf5-5c5a01090db3",
   "metadata": {},
   "outputs": [
    {
     "name": "stdout",
     "output_type": "stream",
     "text": [
      "120\n"
     ]
    }
   ],
   "source": [
    "#factorial\n",
    "n=5\n",
    "f=1\n",
    "for i in range(1,n+1):\n",
    "    f = f * i\n",
    "print(f)"
   ]
  },
  {
   "cell_type": "code",
   "execution_count": 4,
   "id": "017f3932-34b4-4775-9194-5e8488502acc",
   "metadata": {},
   "outputs": [],
   "source": [
    "#sum of odd factors\n",
    "def odf(n):\n",
    "    t_s = 0\n",
    "    for i in range(1,n+1):\n",
    "        if n%i==0 and i%2!=0:\n",
    "            t_s += i\n",
    "    return t_s"
   ]
  },
  {
   "cell_type": "code",
   "execution_count": 5,
   "id": "30bbc527-5407-4596-927c-40163deefaa5",
   "metadata": {},
   "outputs": [],
   "source": [
    "def enf(n):\n",
    "    t = 0\n",
    "    for i in range(1,n+1):\n",
    "        if n%i==0 and i%2==0:\n",
    "            t += i\n",
    "    return t"
   ]
  },
  {
   "cell_type": "code",
   "execution_count": 6,
   "id": "49d4cd5f-0d52-40e1-8a2f-98dc428b28aa",
   "metadata": {},
   "outputs": [],
   "source": [
    "#chech binanary representation is palindrome \n",
    "def palin(n):\n",
    "    binr = bin(n)[2:]\n",
    "    return binr==binr[::-1]"
   ]
  },
  {
   "cell_type": "code",
   "execution_count": 8,
   "id": "f6f3690d-44a0-46d9-98b8-c37367e2f00c",
   "metadata": {},
   "outputs": [],
   "source": [
    "#common divisors of 2 numbers \n",
    "def common(a,b):\n",
    "    minn = min(a,b)\n",
    "    c =[]\n",
    "    for i in range(1,minn+1):\n",
    "        if a%i==0 and b%i==0:\n",
    "            c.append(i)\n",
    "    return c"
   ]
  },
  {
   "cell_type": "code",
   "execution_count": 9,
   "id": "f88fb094-d876-4884-9e1e-d25ba49c972a",
   "metadata": {},
   "outputs": [
    {
     "data": {
      "text/plain": [
       "[1]"
      ]
     },
     "execution_count": 9,
     "metadata": {},
     "output_type": "execute_result"
    }
   ],
   "source": [
    "common(2,5)"
   ]
  },
  {
   "cell_type": "code",
   "execution_count": 10,
   "id": "ccf31a4c-aaed-4264-8e7f-5a6662117392",
   "metadata": {},
   "outputs": [],
   "source": [
    "#check if count of divisor is odd or even \n",
    "def c_d(n):\n",
    "    c = 0\n",
    "    for i in range(1,n+1):\n",
    "        if n%i==0:\n",
    "            c += 1\n",
    "    if c%2==0:\n",
    "        print('even')\n",
    "    else:\n",
    "        print('odd')"
   ]
  },
  {
   "cell_type": "code",
   "execution_count": 11,
   "id": "892ecbe0-c260-4fde-abbc-5973e0a4e3dc",
   "metadata": {},
   "outputs": [
    {
     "name": "stdout",
     "output_type": "stream",
     "text": [
      "even\n"
     ]
    }
   ],
   "source": [
    "c_d(5)"
   ]
  },
  {
   "cell_type": "code",
   "execution_count": 13,
   "id": "b02ab47c-249c-475b-bd34-e51c788b7326",
   "metadata": {},
   "outputs": [
    {
     "data": {
      "text/plain": [
       "5"
      ]
     },
     "execution_count": 13,
     "metadata": {},
     "output_type": "execute_result"
    }
   ],
   "source": [
    "#diff b/w odd and even digits \n",
    "a = [1,2,3,4,5,6,7,8,9,10]\n",
    "od = []\n",
    "ev = []\n",
    "for i in a:\n",
    "    if i%2==0:\n",
    "        ev.append(i)\n",
    "    else:\n",
    "        od.append(i)\n",
    "sum_od = sum(od)\n",
    "sum_ev = sum(ev)\n",
    "final = sum_ev-sum_od\n",
    "final"
   ]
  },
  {
   "cell_type": "code",
   "execution_count": 21,
   "id": "fb48ca83-65f6-42bc-b9b0-d9560d67ce5e",
   "metadata": {},
   "outputs": [
    {
     "data": {
      "text/plain": [
       "[('a', 2)]"
      ]
     },
     "execution_count": 21,
     "metadata": {},
     "output_type": "execute_result"
    }
   ],
   "source": [
    "#most occuring char in string \n",
    "from collections import Counter\n",
    "a = \"Mayur Gohane\"\n",
    "b = Counter(a)\n",
    "c = b.most_common(1)\n",
    "c"
   ]
  },
  {
   "cell_type": "code",
   "execution_count": 22,
   "id": "49e981f1-f63d-4cd3-86e8-8eeaf8f84097",
   "metadata": {},
   "outputs": [],
   "source": [
    "#sum of even factors\n",
    "def c_e(n):\n",
    "    c = 0\n",
    "    for i in range(1,n+1):\n",
    "        if n%i==0 and i%2==0:\n",
    "            c +=i\n",
    "    return c"
   ]
  },
  {
   "cell_type": "code",
   "execution_count": 23,
   "id": "a6c16583-3c4e-43bc-a7a3-97c23ddb47aa",
   "metadata": {},
   "outputs": [],
   "source": [
    "#check if all digits of number divide it \n",
    "def divide(n):\n",
    "    for i in str(n):\n",
    "        if i==0 or n%int(i)!=0:\n",
    "            return False\n",
    "    return True  "
   ]
  },
  {
   "cell_type": "code",
   "execution_count": null,
   "id": "ccaf1825-8f68-44fe-8edf-188d255a96f6",
   "metadata": {},
   "outputs": [],
   "source": [
    "#copy odd lines from file\n",
    "o = []\n",
    "with open(filename,'r') as file:\n",
    "    for i,v in enumerate(file):\n",
    "        if i%2!=0:\n",
    "            c.append(v.strip())\n",
    "return ''.join(o)"
   ]
  },
  {
   "cell_type": "code",
   "execution_count": 33,
   "id": "cba3794a-895c-465e-93c0-1fa25a7f3f52",
   "metadata": {},
   "outputs": [
    {
     "data": {
      "text/plain": [
       "'Mayur gohane r'"
      ]
     },
     "execution_count": 33,
     "metadata": {},
     "output_type": "execute_result"
    }
   ],
   "source": [
    "#replace whitespace & underscore \n",
    "a = \"Mayur gohane_r\"\n",
    "b = a.replace(' ','_').replace('_','temp').replace(' ','_').replace('temp',' ')\n",
    "b"
   ]
  },
  {
   "cell_type": "code",
   "execution_count": 38,
   "id": "0f91c9f6-2139-4634-95c2-0608f3b3dc35",
   "metadata": {},
   "outputs": [
    {
     "data": {
      "text/plain": [
       "'06-09-23'"
      ]
     },
     "execution_count": 38,
     "metadata": {},
     "output_type": "execute_result"
    }
   ],
   "source": [
    "#yy-mm-dd to dd-mm-yy\n",
    "d = \"23-09-06\"\n",
    "yy,mm,dd=d.split('-')\n",
    "c = f\"{dd}-{mm}-{yy}\"\n",
    "c"
   ]
  },
  {
   "cell_type": "code",
   "execution_count": 40,
   "id": "eb580b7a-c71a-4607-8156-cbf2a5602a90",
   "metadata": {},
   "outputs": [
    {
     "data": {
      "text/plain": [
       "Counter({' ': 4,\n",
       "         'a': 3,\n",
       "         'r': 2,\n",
       "         'm': 1,\n",
       "         's': 1,\n",
       "         'y': 1,\n",
       "         'u': 1,\n",
       "         'g': 1,\n",
       "         'o': 1,\n",
       "         'h': 1,\n",
       "         'n': 1,\n",
       "         'e': 1,\n",
       "         'i': 1})"
      ]
     },
     "execution_count": 40,
     "metadata": {},
     "output_type": "execute_result"
    }
   ],
   "source": [
    "#count a & e\n",
    "from collections import Counter\n",
    "a = \"masyur gohaner a i \"\n",
    "b = Counter(a)\n",
    "b"
   ]
  },
  {
   "cell_type": "code",
   "execution_count": 42,
   "id": "4cc0432a-5ab8-4943-b27b-23c310a2530b",
   "metadata": {},
   "outputs": [
    {
     "data": {
      "text/plain": [
       "False"
      ]
     },
     "execution_count": 42,
     "metadata": {},
     "output_type": "execute_result"
    }
   ],
   "source": [
    "#check list sorted using lambda \n",
    "a = [8,7441,23,34,12,2]\n",
    "b = lambda x:x==sorted(x)\n",
    "b(a)"
   ]
  },
  {
   "cell_type": "code",
   "execution_count": 50,
   "id": "0b9eb474-c503-4c5d-a986-4b4c98db2fab",
   "metadata": {},
   "outputs": [
    {
     "name": "stdout",
     "output_type": "stream",
     "text": [
      "['1', '2', '3', '4']\n"
     ]
    }
   ],
   "source": [
    "#convert given list of intgers & tuple ot integers in a list of string\n",
    "a = [1,2]\n",
    "b = (3,4)\n",
    "c = list(map(str,a))\n",
    "d = list(map(str,b))\n",
    "final = c+d\n",
    "print(final)"
   ]
  },
  {
   "cell_type": "markdown",
   "id": "40f57875-a920-4366-b22c-1895dac03b93",
   "metadata": {},
   "source": [
    "# Assignment 11 "
   ]
  },
  {
   "cell_type": "code",
   "execution_count": 52,
   "id": "225539e2-0af4-43c2-afcf-82061755df11",
   "metadata": {},
   "outputs": [],
   "source": [
    "import numpy as np"
   ]
  },
  {
   "cell_type": "code",
   "execution_count": 55,
   "id": "0cda2a72-037f-419b-8f42-759fe8965235",
   "metadata": {},
   "outputs": [
    {
     "data": {
      "text/plain": [
       "array([0., 0., 0., 0., 0., 0., 0., 0., 0., 0.])"
      ]
     },
     "execution_count": 55,
     "metadata": {},
     "output_type": "execute_result"
    }
   ],
   "source": [
    "#vector of zero \n",
    "a = np.zeros(10)\n",
    "a"
   ]
  },
  {
   "cell_type": "code",
   "execution_count": 56,
   "id": "0bebb0bf-1243-4d3c-bfe7-f9852387aae9",
   "metadata": {},
   "outputs": [
    {
     "data": {
      "text/plain": [
       "80"
      ]
     },
     "execution_count": 56,
     "metadata": {},
     "output_type": "execute_result"
    }
   ],
   "source": [
    "#memoroy size of array\n",
    "a = np.zeros(10)\n",
    "b = a.nbytes\n",
    "b"
   ]
  },
  {
   "cell_type": "code",
   "execution_count": 60,
   "id": "3ad69bfb-c04e-40a0-ab66-dc020e0bba2b",
   "metadata": {},
   "outputs": [
    {
     "data": {
      "text/plain": [
       "array([0., 0., 0., 0., 1., 0., 0., 0., 0., 0.])"
      ]
     },
     "execution_count": 60,
     "metadata": {},
     "output_type": "execute_result"
    }
   ],
   "source": [
    "#null vector of size 10 but the fifth value which is 1\n",
    "a = np.zeros(10)\n",
    "a[4]=1\n",
    "a"
   ]
  },
  {
   "cell_type": "code",
   "execution_count": 61,
   "id": "3a384e9d-7993-434b-9deb-ba5c9f1f26f5",
   "metadata": {},
   "outputs": [
    {
     "data": {
      "text/plain": [
       "array([15, 16, 17, 18, 19, 20, 21, 22, 23, 24, 25, 26, 27, 28, 29, 30, 31,\n",
       "       32, 33, 34, 35, 36, 37, 38, 39, 40, 41, 42, 43, 44])"
      ]
     },
     "execution_count": 61,
     "metadata": {},
     "output_type": "execute_result"
    }
   ],
   "source": [
    "#vector with values ranging from 15 to 45\n",
    "a = np.arange(15,45)\n",
    "a"
   ]
  },
  {
   "cell_type": "code",
   "execution_count": 62,
   "id": "f368e32c-eaaa-4ad5-bd18-9b3a0583f0aa",
   "metadata": {},
   "outputs": [
    {
     "data": {
      "text/plain": [
       "array([5, 4, 3, 2, 1])"
      ]
     },
     "execution_count": 62,
     "metadata": {},
     "output_type": "execute_result"
    }
   ],
   "source": [
    "#Reverse a vector\n",
    "a = np.array([1,2,3,4,5])\n",
    "a[::-1]"
   ]
  },
  {
   "cell_type": "code",
   "execution_count": 63,
   "id": "820aa565-33ae-491c-adb5-f378b96340b2",
   "metadata": {},
   "outputs": [
    {
     "name": "stdout",
     "output_type": "stream",
     "text": [
      "[-4 -4 -4 -4] [ 5 12 21 32] [0.2        0.33333333 0.42857143 0.5       ]\n"
     ]
    }
   ],
   "source": [
    "#add, subtract, multiply, divide arguments element-wise\n",
    "a = np.array([1, 2, 3, 4])\n",
    "b = np.array([5, 6, 7, 8])\n",
    "sub = np.subtract(a,b)\n",
    "mult = np.multiply(a,b)\n",
    "div = np.divide(a,b)\n",
    "print(sub,mult,div)"
   ]
  },
  {
   "cell_type": "code",
   "execution_count": 64,
   "id": "d5349087-8729-4756-9343-07af7aade87f",
   "metadata": {},
   "outputs": [
    {
     "data": {
      "text/plain": [
       "array([3., 3., 8., 5., 1.])"
      ]
     },
     "execution_count": 64,
     "metadata": {},
     "output_type": "execute_result"
    }
   ],
   "source": [
    "#round elements of the array to the nearest integer\n",
    "a = np.array([3.14, 2.71, 7.65, 5.49, 1.23])\n",
    "b = np.round(a)\n",
    "b"
   ]
  },
  {
   "cell_type": "code",
   "execution_count": 65,
   "id": "13eadec1-b41f-49e7-9325-8f06d53e347f",
   "metadata": {},
   "outputs": [
    {
     "name": "stdout",
     "output_type": "stream",
     "text": [
      "[4. 3. 8. 6. 2.] [4. 3. 8. 6. 2.]\n"
     ]
    }
   ],
   "source": [
    "#floor and ceiling values of the elements\n",
    "a = np.array([3.14, 2.71, 7.65, 5.49, 1.23])\n",
    "b = np.ceil(a)\n",
    "c = np.array(b)\n",
    "print(b,c)"
   ]
  },
  {
   "cell_type": "code",
   "execution_count": 71,
   "id": "8d9747be-259c-431d-aa3a-ed27e409429e",
   "metadata": {},
   "outputs": [
    {
     "name": "stdout",
     "output_type": "stream",
     "text": [
      "[1253.33333333   10.66666667] [   5.  3726.5   28.5   19.5    6.5    6. ]\n"
     ]
    }
   ],
   "source": [
    "# mean across dimensions, in a 2D NumPy array.\n",
    "a = np.array([[8, 2], [7441, 12], [23, 34], [34, 5], [12, 1], [2, 10]])\n",
    "m_r = np.mean(a, axis=0) #column\n",
    "m_c = np.mean(a, axis=1) #row\n",
    "print(m_r,m_c)"
   ]
  },
  {
   "cell_type": "code",
   "execution_count": 72,
   "id": "457ac608-8020-4bf8-a70a-48f447799585",
   "metadata": {},
   "outputs": [
    {
     "data": {
      "text/plain": [
       "array([0.        , 0.52359878, 0.78539816, 1.04719755, 1.57079633,\n",
       "       3.14159265, 4.71238898, 6.28318531])"
      ]
     },
     "execution_count": 72,
     "metadata": {},
     "output_type": "execute_result"
    }
   ],
   "source": [
    "# degrees to radians\n",
    "a = np.array([0, 30, 45, 60, 90, 180, 270, 360])\n",
    "b = np.deg2rad(a)\n",
    "b"
   ]
  },
  {
   "cell_type": "code",
   "execution_count": 73,
   "id": "5551e50b-2a93-4440-bbc9-0d471a88a1d5",
   "metadata": {},
   "outputs": [
    {
     "data": {
      "text/plain": [
       "array([    0.        ,  1718.87338539,  2578.31007809,  3437.74677078,\n",
       "        5156.62015618, 10313.24031235, 15469.86046853, 20626.48062471])"
      ]
     },
     "execution_count": 73,
     "metadata": {},
     "output_type": "execute_result"
    }
   ],
   "source": [
    "a = np.array([0, 30, 45, 60, 90, 180, 270, 360])\n",
    "b = np.rad2deg(a)\n",
    "b"
   ]
  },
  {
   "cell_type": "code",
   "execution_count": 75,
   "id": "a2783880-8da5-4ab9-b3d3-14c2280da4c2",
   "metadata": {},
   "outputs": [
    {
     "data": {
      "text/plain": [
       "array([[0, 1, 2],\n",
       "       [3, 4, 5],\n",
       "       [6, 7, 8]])"
      ]
     },
     "execution_count": 75,
     "metadata": {},
     "output_type": "execute_result"
    }
   ],
   "source": [
    "#3x3 matrix with values ranging from 0 to 8\n",
    "a = np.arange(9).reshape(3,3)\n",
    "a"
   ]
  },
  {
   "cell_type": "code",
   "execution_count": 76,
   "id": "12d03d10-3568-445a-bc70-b0bdadf5602b",
   "metadata": {},
   "outputs": [
    {
     "data": {
      "text/plain": [
       "array([[8, 7, 6],\n",
       "       [5, 4, 3],\n",
       "       [2, 1, 0]])"
      ]
     },
     "execution_count": 76,
     "metadata": {},
     "output_type": "execute_result"
    }
   ],
   "source": [
    "#reverse the columns of a 2D array\n",
    "a = np.array([[2,1,0],[5,4,3],[8,7,6]])\n",
    "b = np.flip(a, axis=0)\n",
    "b"
   ]
  },
  {
   "cell_type": "code",
   "execution_count": 77,
   "id": "aaf9d355-5376-4331-829b-4220e37c0f19",
   "metadata": {},
   "outputs": [
    {
     "data": {
      "text/plain": [
       "array([[0, 1, 2],\n",
       "       [3, 4, 5],\n",
       "       [6, 7, 8]])"
      ]
     },
     "execution_count": 77,
     "metadata": {},
     "output_type": "execute_result"
    }
   ],
   "source": [
    "a = np.array([[2,1,0],[5,4,3],[8,7,6]])\n",
    "b = np.flip(a, axis=1)\n",
    "b"
   ]
  },
  {
   "cell_type": "code",
   "execution_count": 78,
   "id": "e6e817d1-f3ff-4a4d-9ce9-6037d35b9bb7",
   "metadata": {},
   "outputs": [
    {
     "data": {
      "text/plain": [
       "array([0, 1, 4], dtype=int64)"
      ]
     },
     "execution_count": 78,
     "metadata": {},
     "output_type": "execute_result"
    }
   ],
   "source": [
    "#Find indices of non-zero elements from [1,2,0,0,4,0]\n",
    "a = np.array([1, 2, 0, 0, 4, 0])\n",
    "b = np.nonzero(a)[0]\n",
    "b"
   ]
  },
  {
   "cell_type": "code",
   "execution_count": 79,
   "id": "1e3591cd-a987-4edc-8147-5530df06581f",
   "metadata": {},
   "outputs": [
    {
     "data": {
      "text/plain": [
       "0.0"
      ]
     },
     "execution_count": 79,
     "metadata": {},
     "output_type": "execute_result"
    }
   ],
   "source": [
    "#determinant of an array\n",
    "a = np.array([[1,2,3],[4,5,6],[7,8,9]])\n",
    "b = np.linalg.det(a)\n",
    "b"
   ]
  },
  {
   "cell_type": "code",
   "execution_count": 82,
   "id": "b0da55b4-c67d-4cd3-94a8-784e1f224c9f",
   "metadata": {},
   "outputs": [
    {
     "data": {
      "text/plain": [
       "array([[-0.66666667, -0.14285714,  0.23809524],\n",
       "       [-0.16666667,  0.28571429,  0.02380952],\n",
       "       [ 0.66666667, -0.14285714, -0.0952381 ]])"
      ]
     },
     "execution_count": 82,
     "metadata": {},
     "output_type": "execute_result"
    }
   ],
   "source": [
    "#inverse of a given matrix\n",
    "a = np.array([[1,2,3],[0,4,1],[7,8,9]])\n",
    "b = np.linalg.inv(a)\n",
    "b"
   ]
  },
  {
   "cell_type": "code",
   "execution_count": 86,
   "id": "fb4983a0-04ec-49ab-bfeb-8dfa3692094f",
   "metadata": {},
   "outputs": [
    {
     "data": {
      "text/plain": [
       "0.5308022286955711"
      ]
     },
     "execution_count": 86,
     "metadata": {},
     "output_type": "execute_result"
    }
   ],
   "source": [
    "#random vector of size 30 and find the mean value\n",
    "a = np.random.rand(30)\n",
    "b = np.mean(a)\n",
    "b"
   ]
  },
  {
   "cell_type": "code",
   "execution_count": 88,
   "id": "a21685d2-31b1-45d6-b62c-957be1aad2d7",
   "metadata": {},
   "outputs": [
    {
     "data": {
      "text/plain": [
       "array([30, 35, 40])"
      ]
     },
     "execution_count": 88,
     "metadata": {},
     "output_type": "execute_result"
    }
   ],
   "source": [
    "# extract all numbers between a given range\n",
    "a = np.array([10, 15, 20, 25, 30, 35, 40, 45, 50])\n",
    "up = 40\n",
    "lo = 30\n",
    "c = a[(a>=lo) & (a<= up)]\n",
    "c"
   ]
  },
  {
   "cell_type": "code",
   "execution_count": 89,
   "id": "7520147e-2c95-4f1f-be8a-e255cf5e56bd",
   "metadata": {},
   "outputs": [
    {
     "data": {
      "text/plain": [
       "array([0.03413383, 0.35064288, 0.65025122, 0.93707532, 0.19019864,\n",
       "       0.99928927, 0.10854056, 0.10892917, 0.43736194, 0.80880918,\n",
       "       0.01686827, 0.28945856, 0.31411092, 0.64802575, 0.83709861,\n",
       "       0.8444271 , 0.2199541 , 0.94594839, 0.31851563, 0.76199384,\n",
       "       0.15788051, 0.95379003, 0.1878714 , 0.83079881, 0.043983  ,\n",
       "       0.93128092, 0.55792437, 0.50964103, 0.69287486, 0.14119696])"
      ]
     },
     "execution_count": 89,
     "metadata": {},
     "output_type": "execute_result"
    }
   ],
   "source": [
    "#3x3x3 array with random values\n",
    "a = np.random.rand(30)\n",
    "a"
   ]
  },
  {
   "cell_type": "code",
   "execution_count": 93,
   "id": "7336df11-fdd4-475c-a24e-1aa986835a16",
   "metadata": {},
   "outputs": [
    {
     "name": "stdout",
     "output_type": "stream",
     "text": [
      "0.4533378202812586 0.9919789548756905\n"
     ]
    }
   ],
   "source": [
    "# 10x10 array with random values and find the minimum and maximum values\n",
    "a = np.random.rand(10,10)\n",
    "minn = np.mean(a)\n",
    "maxx = np.max(a)\n",
    "print(minn,maxx)"
   ]
  },
  {
   "cell_type": "code",
   "execution_count": 97,
   "id": "bb9548f1-861f-48bf-b89b-4f8a1d7b75a4",
   "metadata": {},
   "outputs": [
    {
     "data": {
      "text/plain": [
       "array([[1., 1., 1., 1., 1.],\n",
       "       [1., 0., 0., 0., 1.],\n",
       "       [1., 0., 0., 0., 1.],\n",
       "       [1., 0., 0., 0., 1.],\n",
       "       [1., 1., 1., 1., 1.]])"
      ]
     },
     "execution_count": 97,
     "metadata": {},
     "output_type": "execute_result"
    }
   ],
   "source": [
    "# Create a 2d array with 1 on the border and 0 inside\n",
    "a = np.ones((5,5))\n",
    "a[1:-1,1:-1]=0\n",
    "a"
   ]
  },
  {
   "cell_type": "code",
   "execution_count": null,
   "id": "d2c56df6-2cac-46a3-af8f-1bdc9a4883f4",
   "metadata": {},
   "outputs": [],
   "source": [
    "#5x5 matrix with values 1,2,3,4 just below the diagonal"
   ]
  },
  {
   "cell_type": "code",
   "execution_count": 101,
   "id": "fa6c0d73-2525-4d08-ad75-d309750822c1",
   "metadata": {},
   "outputs": [
    {
     "data": {
      "text/plain": [
       "array([[0., 0., 0., 0., 0.],\n",
       "       [1., 0., 0., 0., 0.],\n",
       "       [0., 2., 0., 0., 0.],\n",
       "       [0., 0., 3., 0., 0.],\n",
       "       [0., 0., 0., 4., 0.]])"
      ]
     },
     "execution_count": 101,
     "metadata": {},
     "output_type": "execute_result"
    }
   ],
   "source": [
    "a = np.zeros((5,5))\n",
    "np.fill_diagonal(a[1:],[1,2,3,4])\n",
    "a"
   ]
  },
  {
   "cell_type": "code",
   "execution_count": 102,
   "id": "c99ecab6-d4a4-4830-a200-ce49009713ed",
   "metadata": {},
   "outputs": [
    {
     "data": {
      "text/plain": [
       "array([[1., 0., 0.],\n",
       "       [0., 1., 0.],\n",
       "       [0., 0., 1.]])"
      ]
     },
     "execution_count": 102,
     "metadata": {},
     "output_type": "execute_result"
    }
   ],
   "source": [
    "#Create a 3x3 identity matrix\n",
    "a = np.eye(3)\n",
    "a"
   ]
  },
  {
   "cell_type": "code",
   "execution_count": null,
   "id": "a90de99b-849b-408a-bf3d-0b41b3973630",
   "metadata": {},
   "outputs": [],
   "source": [
    "#8x8 matrix and fill it with a checkerboard pattern"
   ]
  },
  {
   "cell_type": "code",
   "execution_count": 104,
   "id": "e11e627f-498f-4f7e-b8dc-14a8af7e10d1",
   "metadata": {},
   "outputs": [
    {
     "data": {
      "text/plain": [
       "array([[0, 1, 0, 1, 0, 1, 0, 1],\n",
       "       [1, 0, 1, 0, 1, 0, 1, 0],\n",
       "       [0, 1, 0, 1, 0, 1, 0, 1],\n",
       "       [1, 0, 1, 0, 1, 0, 1, 0],\n",
       "       [0, 1, 0, 1, 0, 1, 0, 1],\n",
       "       [1, 0, 1, 0, 1, 0, 1, 0],\n",
       "       [0, 1, 0, 1, 0, 1, 0, 1],\n",
       "       [1, 0, 1, 0, 1, 0, 1, 0]])"
      ]
     },
     "execution_count": 104,
     "metadata": {},
     "output_type": "execute_result"
    }
   ],
   "source": [
    "a = np.tile([[0,1],[1,0]],(4,4))\n",
    "a"
   ]
  },
  {
   "cell_type": "code",
   "execution_count": 107,
   "id": "6bbaaa63-6895-4c05-9f16-ca131fe375cc",
   "metadata": {},
   "outputs": [
    {
     "data": {
      "text/plain": [
       "array([[0.48204336, 1.23091767],\n",
       "       [0.22209471, 0.85424407],\n",
       "       [0.17452212, 1.0118257 ],\n",
       "       [0.39047103, 0.75684642],\n",
       "       [0.49695268, 1.35232005]])"
      ]
     },
     "execution_count": 107,
     "metadata": {},
     "output_type": "execute_result"
    }
   ],
   "source": [
    "#Multiply a 5x3 matrix by a 3x2 matrix (real matrix product)\n",
    "a = np.random.rand(5,3)\n",
    "b = np.random.rand(3,2)\n",
    "c = np.dot(a,b)\n",
    "c"
   ]
  },
  {
   "cell_type": "code",
   "execution_count": 108,
   "id": "29b64e19-372f-4e71-9d56-c497c63e3b15",
   "metadata": {},
   "outputs": [
    {
     "data": {
      "text/plain": [
       "array([ 1,  2,  3,  4,  5,  6,  7,  8,  9, 10, 11])"
      ]
     },
     "execution_count": 108,
     "metadata": {},
     "output_type": "execute_result"
    }
   ],
   "source": [
    "# 1D array, negate all elements which are between 3 and 8, in place\n",
    "a = np.array([1,2,3,4,5,6,7,8,9,10,11])\n",
    "a[(a>=3) & (a<=8)]\n",
    "a"
   ]
  },
  {
   "cell_type": "code",
   "execution_count": 109,
   "id": "0d672e2d-2468-40f6-9d11-a9cb651117c6",
   "metadata": {},
   "outputs": [
    {
     "data": {
      "text/plain": [
       "array([ 2.,  3., -4., -5.])"
      ]
     },
     "execution_count": 109,
     "metadata": {},
     "output_type": "execute_result"
    }
   ],
   "source": [
    "#How to round away from zero a float array?\n",
    "a = np.array([1.2,2.5,-3.7,-4.2])\n",
    "b = np.where(a >0, np.ceil(a), np.floor(a))\n",
    "b"
   ]
  },
  {
   "cell_type": "code",
   "execution_count": 110,
   "id": "6d54da42-816f-4fbe-a237-635f94429389",
   "metadata": {},
   "outputs": [
    {
     "data": {
      "text/plain": [
       "array([3, 4, 5])"
      ]
     },
     "execution_count": 110,
     "metadata": {},
     "output_type": "execute_result"
    }
   ],
   "source": [
    "#How to find common values between the two arrays?\n",
    "a = np.array([1,2,3,4,5])\n",
    "b = np.array([6,3,4,5])\n",
    "c = np.intersect1d(a,b)\n",
    "c"
   ]
  },
  {
   "cell_type": "code",
   "execution_count": 112,
   "id": "17ea396d-b573-463e-8e90-c2f8867b5dc0",
   "metadata": {},
   "outputs": [
    {
     "data": {
      "text/plain": [
       "array([0.09090909, 0.18181818, 0.27272727, 0.36363636, 0.45454545,\n",
       "       0.54545455, 0.63636364, 0.72727273, 0.81818182, 0.90909091])"
      ]
     },
     "execution_count": 112,
     "metadata": {},
     "output_type": "execute_result"
    }
   ],
   "source": [
    "#Create a vector of size 10 with values ranging from 0 to 1, both excluded\n",
    "a = np.linspace(0,1,12)[1:-1]\n",
    "a"
   ]
  },
  {
   "cell_type": "code",
   "execution_count": 113,
   "id": "55be608e-441e-43d9-8d12-f31509f58bb3",
   "metadata": {},
   "outputs": [
    {
     "data": {
      "text/plain": [
       "array([0.01221485, 0.16695237, 0.19473559, 0.2002271 , 0.23660545,\n",
       "       0.35053485, 0.73965822, 0.81127223, 0.81432157, 0.83862174])"
      ]
     },
     "execution_count": 113,
     "metadata": {},
     "output_type": "execute_result"
    }
   ],
   "source": [
    "#random vector of size 10 and sort it\n",
    "a = np.random.rand(10)\n",
    "b = np.sort(a)\n",
    "b"
   ]
  },
  {
   "cell_type": "code",
   "execution_count": 117,
   "id": "42c57c15-43fc-40ad-b148-b6d421d854aa",
   "metadata": {},
   "outputs": [
    {
     "data": {
      "text/plain": [
       "array([[0, 1, 2, 3, 4],\n",
       "       [0, 1, 2, 3, 4],\n",
       "       [0, 1, 2, 3, 4],\n",
       "       [0, 1, 2, 3, 4],\n",
       "       [0, 1, 2, 3, 4]])"
      ]
     },
     "execution_count": 117,
     "metadata": {},
     "output_type": "execute_result"
    }
   ],
   "source": [
    "#Create a 5x5 matrix with row values ranging from 0 to 4\n",
    "a = np.tile(np.arange(5),(5,1))\n",
    "a"
   ]
  },
  {
   "cell_type": "code",
   "execution_count": 118,
   "id": "93b3024f-682e-4e62-8980-90c28dda05a7",
   "metadata": {},
   "outputs": [
    {
     "data": {
      "text/plain": [
       "False"
      ]
     },
     "execution_count": 118,
     "metadata": {},
     "output_type": "execute_result"
    }
   ],
   "source": [
    "#two random arrays A and B, check if they are equal\n",
    "a = np.random.rand(10)\n",
    "b = np.random.rand(10)\n",
    "c = np.array_equal(a,b)\n",
    "c"
   ]
  },
  {
   "cell_type": "code",
   "execution_count": 124,
   "id": "16ae24c7-efd7-4ec7-abd5-9b581c5bf3c2",
   "metadata": {},
   "outputs": [
    {
     "data": {
      "text/plain": [
       "array([0.54238789, 0.93301323, 0.        , 0.36947594, 0.31964932,\n",
       "       0.90361399, 0.56359284, 0.01031073, 0.12788198, 0.22333033])"
      ]
     },
     "execution_count": 124,
     "metadata": {},
     "output_type": "execute_result"
    }
   ],
   "source": [
    "# random vector of size 10 and replace the maximum value by 0\n",
    "a = np.random.rand(10)\n",
    "b = np.argmax(a)\n",
    "a[b]=0\n",
    "a"
   ]
  },
  {
   "cell_type": "code",
   "execution_count": 125,
   "id": "84623395-d18d-4752-b8f0-98c116ac5390",
   "metadata": {},
   "outputs": [
    {
     "data": {
      "text/plain": [
       "(array([0, 7], dtype=int64),)"
      ]
     },
     "execution_count": 125,
     "metadata": {},
     "output_type": "execute_result"
    }
   ],
   "source": [
    "#How to find out multiple indices of an item?\n",
    "a = np.array([1,2,3,4,5,6,2,1,3])\n",
    "b = np.where(a==1)\n",
    "b"
   ]
  },
  {
   "cell_type": "code",
   "execution_count": 126,
   "id": "4074a9b0-3d26-4327-a96f-be7acd379236",
   "metadata": {},
   "outputs": [
    {
     "name": "stdout",
     "output_type": "stream",
     "text": [
      "(0, 0) 10\n",
      "(0, 1) 20\n",
      "(0, 2) 30\n",
      "(1, 0) 40\n",
      "(1, 1) 50\n",
      "(1, 2) 60\n"
     ]
    }
   ],
   "source": [
    "# enumerate\n",
    "a = np.array([[10,20,30],[40,50,60]])\n",
    "for i,v in np.ndenumerate(a):\n",
    "    print(i,v)"
   ]
  },
  {
   "cell_type": "code",
   "execution_count": null,
   "id": "30296ef4-bf8b-44e7-b283-781cdd4dc3a6",
   "metadata": {},
   "outputs": [],
   "source": [
    "#How to sort an array by the nth column?"
   ]
  },
  {
   "cell_type": "code",
   "execution_count": 127,
   "id": "6f478034-8422-4380-84f5-ce18b96e4a9f",
   "metadata": {},
   "outputs": [
    {
     "data": {
      "text/plain": [
       "array([[ 4,  5,  6],\n",
       "       [ 7,  8,  9],\n",
       "       [10, 12, 13]])"
      ]
     },
     "execution_count": 127,
     "metadata": {},
     "output_type": "execute_result"
    }
   ],
   "source": [
    "a = np.array([[10,12,13],[4,5,6],[7,8,9]])\n",
    "b = a[a[:,1].argsort()]\n",
    "b"
   ]
  },
  {
   "cell_type": "code",
   "execution_count": 128,
   "id": "206c157e-cf83-4438-bf76-bab79f96d18c",
   "metadata": {},
   "outputs": [
    {
     "data": {
      "text/plain": [
       "array([[7, 8, 9],\n",
       "       [4, 5, 6],\n",
       "       [1, 2, 3]])"
      ]
     },
     "execution_count": 128,
     "metadata": {},
     "output_type": "execute_result"
    }
   ],
   "source": [
    "#How to swap two rows of an array?\n",
    "a = np.array([[1,2,3],[4,5,6],[7,8,9]])\n",
    "a[[0,2]]=a[[2,0]]\n",
    "a"
   ]
  },
  {
   "cell_type": "code",
   "execution_count": 132,
   "id": "96c62ab3-a6ea-4aa6-a76a-d1cd3d49aec2",
   "metadata": {},
   "outputs": [],
   "source": [
    "#compute the mean of a NumPy array\n",
    "a =np.array([[7, 8, 9],\n",
    "       [4, 5, 6],\n",
    "       [1, 2, 3]])\n",
    "all_mean = np.mean(a)\n",
    "mean_row = np.mean(a, axis=1)\n",
    "mans_col = np.mean(a, axis=0)"
   ]
  },
  {
   "cell_type": "code",
   "execution_count": 133,
   "id": "88c9ecac-6266-40b8-9fc6-76cfdb0dca77",
   "metadata": {},
   "outputs": [
    {
     "data": {
      "text/plain": [
       "5.0"
      ]
     },
     "execution_count": 133,
     "metadata": {},
     "output_type": "execute_result"
    }
   ],
   "source": [
    "#median\n",
    "a =np.array([[7, 8, 9],\n",
    "       [4, 5, 6],\n",
    "       [1, 2, 3]])\n",
    "b = np.median(a)\n",
    "b"
   ]
  },
  {
   "cell_type": "code",
   "execution_count": 134,
   "id": "17381320-6ef3-444b-91da-e6b3c7d0fafa",
   "metadata": {},
   "outputs": [
    {
     "data": {
      "text/plain": [
       "2.581988897471611"
      ]
     },
     "execution_count": 134,
     "metadata": {},
     "output_type": "execute_result"
    }
   ],
   "source": [
    "#standard deviation\n",
    "a =np.array([[7, 8, 9],\n",
    "       [4, 5, 6],\n",
    "       [1, 2, 3]])\n",
    "b = np.std(a)\n",
    "b"
   ]
  },
  {
   "cell_type": "code",
   "execution_count": 135,
   "id": "54b9f97b-f56a-41fc-98cf-9a1d65122227",
   "metadata": {},
   "outputs": [
    {
     "data": {
      "text/plain": [
       "ModeResult(mode=array([1, 2, 3], dtype=int64), count=array([1, 1, 1], dtype=int64))"
      ]
     },
     "execution_count": 135,
     "metadata": {},
     "output_type": "execute_result"
    }
   ],
   "source": [
    "#mode\n",
    "from scipy import stats \n",
    "a =np.array([[7, 8, 9],\n",
    "       [4, 5, 6],\n",
    "       [1, 2, 3]])\n",
    "b = stats.mode(a)\n",
    "b"
   ]
  },
  {
   "cell_type": "code",
   "execution_count": 139,
   "id": "50db6ebf-05d3-4f3c-97d2-4a9c0c339ada",
   "metadata": {},
   "outputs": [
    {
     "data": {
      "text/plain": [
       "array([1.12, 2.23, 3.35, 4.46])"
      ]
     },
     "execution_count": 139,
     "metadata": {},
     "output_type": "execute_result"
    }
   ],
   "source": [
    "#print only 3 decimal places\n",
    "a = np.array([1.123456, 2.234567, 3.345678, 4.456789])\n",
    "np.set_printoptions(precision=2)\n",
    "a"
   ]
  },
  {
   "cell_type": "code",
   "execution_count": 140,
   "id": "413715af-dc95-460e-83d9-6d58ea495328",
   "metadata": {},
   "outputs": [
    {
     "data": {
      "text/plain": [
       "array([[-24.,  18.,   5.],\n",
       "       [ 20., -15.,  -4.],\n",
       "       [ -5.,   4.,   1.]])"
      ]
     },
     "execution_count": 140,
     "metadata": {},
     "output_type": "execute_result"
    }
   ],
   "source": [
    "# inverse of a given matrix\n",
    "a = np.array([[1, 2, 3],[0, 1, 4],[5, 6, 0]])\n",
    "b = np.linalg.inv(a)\n",
    "b"
   ]
  },
  {
   "cell_type": "code",
   "execution_count": 141,
   "id": "7aa7ca7c-0918-4130-9ea0-b6871eaa67a8",
   "metadata": {},
   "outputs": [
    {
     "data": {
      "text/plain": [
       "array([[ 2.5, -2.5],\n",
       "       [-2.5,  2.5]])"
      ]
     },
     "execution_count": 141,
     "metadata": {},
     "output_type": "execute_result"
    }
   ],
   "source": [
    "#covariance matrix of two given arrays\n",
    "a = np.array([1, 2, 3, 4, 5])\n",
    "b = np.array([5, 4, 3, 2, 1])\n",
    "c = np.cov(a,b)\n",
    "c"
   ]
  },
  {
   "cell_type": "code",
   "execution_count": 143,
   "id": "9c35f23c-d3c8-4100-8b66-d96ef2c760b0",
   "metadata": {},
   "outputs": [
    {
     "data": {
      "text/plain": [
       "{1: 1, 2: 2, 3: 1, 4: 3, 5: 1}"
      ]
     },
     "execution_count": 143,
     "metadata": {},
     "output_type": "execute_result"
    }
   ],
   "source": [
    "#most frequent value\n",
    "from collections import Counter\n",
    "a = np.array([1, 2, 2, 3, 4, 4, 4, 5])\n",
    "b = dict(Counter(a))\n",
    "b"
   ]
  },
  {
   "cell_type": "code",
   "execution_count": 144,
   "id": "8b14d009-79b5-490e-b49e-801df9c5691e",
   "metadata": {},
   "outputs": [
    {
     "data": {
      "text/plain": [
       "ModeResult(mode=4, count=3)"
      ]
     },
     "execution_count": 144,
     "metadata": {},
     "output_type": "execute_result"
    }
   ],
   "source": [
    "from scipy import stats\n",
    "a = np.array([1, 2, 2, 3, 4, 4, 4, 5])\n",
    "b = stats.mode(a)\n",
    "b"
   ]
  },
  {
   "cell_type": "code",
   "execution_count": 150,
   "id": "7be1c3ba-ba39-492b-a012-7a926efb4897",
   "metadata": {},
   "outputs": [
    {
     "data": {
      "text/plain": [
       "array([[[ 1,  2],\n",
       "        [ 3,  4],\n",
       "        [ 5,  6]],\n",
       "\n",
       "       [[ 7,  8],\n",
       "        [ 9, 10],\n",
       "        [11, 12]]])"
      ]
     },
     "execution_count": 150,
     "metadata": {},
     "output_type": "execute_result"
    }
   ],
   "source": [
    "#1D array to 3D array\n",
    "a = np.array([1, 2, 3, 4, 5, 6, 7, 8, 9, 10, 11, 12])\n",
    "b = a.reshape((2,3,2))\n",
    "b"
   ]
  },
  {
   "cell_type": "code",
   "execution_count": 152,
   "id": "54877000-28c0-4f69-90e7-6df6d93d41d1",
   "metadata": {},
   "outputs": [
    {
     "data": {
      "text/plain": [
       "array([[0.06, 0.82, 0.4 , 0.23, 0.93, 0.09, 0.86, 0.56, 0.22, 0.13, 0.43,\n",
       "        0.55, 0.58, 0.69, 0.11, 0.36, 0.59, 0.8 , 0.68, 0.23],\n",
       "       [0.82, 0.09, 0.59, 0.04, 0.55, 0.45, 0.71, 0.48, 0.01, 0.73, 0.47,\n",
       "        0.51, 0.14, 0.09, 0.04, 0.23, 0.8 , 0.61, 0.1 , 0.25],\n",
       "       [0.47, 0.42, 0.3 , 0.5 , 0.97, 0.39, 0.99, 0.57, 0.24, 0.9 , 0.06,\n",
       "        0.17, 0.38, 0.35, 0.87, 0.13, 0.26, 0.56, 0.58, 0.01],\n",
       "       [0.52, 0.27, 0.11, 0.63, 0.85, 0.67, 0.02, 0.13, 0.84, 0.55, 0.68,\n",
       "        0.1 , 0.33, 0.05, 0.18, 0.36, 0.76, 0.33, 0.26, 0.43],\n",
       "       [0.71, 0.2 , 0.35, 0.21, 0.45, 0.25, 0.67, 0.71, 0.04, 0.76, 0.94,\n",
       "        0.72, 0.45, 0.57, 0.67, 0.17, 0.48, 0.98, 0.45, 0.32],\n",
       "       [0.41, 0.44, 0.09, 0.45, 0.23, 0.29, 0.56, 0.61, 0.52, 0.51, 0.5 ,\n",
       "        0.44, 0.72, 0.46, 0.32, 0.34, 0.73, 0.36, 0.09, 0.94]])"
      ]
     },
     "execution_count": 152,
     "metadata": {},
     "output_type": "execute_result"
    }
   ],
   "source": [
    "#4D array to 2D array\n",
    "a = np.random.rand(2,3,4,5)\n",
    "b = a.reshape(6,20)\n",
    "b"
   ]
  },
  {
   "cell_type": "code",
   "execution_count": 153,
   "id": "f1c56049-7203-4c90-934e-f49962271fa9",
   "metadata": {},
   "outputs": [
    {
     "data": {
      "text/plain": [
       "array([0., 0., 0., 0., 0.])"
      ]
     },
     "execution_count": 153,
     "metadata": {},
     "output_type": "execute_result"
    }
   ],
   "source": [
    "#array filled with all zeros\n",
    "a = np.zeros(5)\n",
    "a"
   ]
  },
  {
   "cell_type": "code",
   "execution_count": 154,
   "id": "6fc39694-41b7-4c1e-b648-9e74cf8a41cc",
   "metadata": {},
   "outputs": [
    {
     "data": {
      "text/plain": [
       "array([[0., 0., 0., 0., 0.],\n",
       "       [0., 0., 0., 0., 0.],\n",
       "       [0., 0., 0., 0., 0.],\n",
       "       [0., 0., 0., 0., 0.],\n",
       "       [0., 0., 0., 0., 0.]])"
      ]
     },
     "execution_count": 154,
     "metadata": {},
     "output_type": "execute_result"
    }
   ],
   "source": [
    "a = np.zeros((5,5))\n",
    "a"
   ]
  },
  {
   "cell_type": "code",
   "execution_count": 155,
   "id": "40d1f17a-ea7a-462e-a3f6-79055cc81a5c",
   "metadata": {},
   "outputs": [
    {
     "data": {
      "text/plain": [
       "array([[1., 1., 1., 1., 1.],\n",
       "       [1., 1., 1., 1., 1.],\n",
       "       [1., 1., 1., 1., 1.],\n",
       "       [1., 1., 1., 1., 1.],\n",
       "       [1., 1., 1., 1., 1.]])"
      ]
     },
     "execution_count": 155,
     "metadata": {},
     "output_type": "execute_result"
    }
   ],
   "source": [
    "a = np.ones((5,5))\n",
    "a"
   ]
  },
  {
   "cell_type": "code",
   "execution_count": 156,
   "id": "573a49f1-ec4f-4549-abfb-9b25dc55acfb",
   "metadata": {},
   "outputs": [
    {
     "name": "stdout",
     "output_type": "stream",
     "text": [
      "3 3\n"
     ]
    }
   ],
   "source": [
    "#Find the number of rows and columns of a given matrix\n",
    "a = np.array([[1, 2, 3],[4, 5, 6],[7, 8, 9]])\n",
    "r,c = a.shape\n",
    "print(r,c)"
   ]
  },
  {
   "cell_type": "code",
   "execution_count": null,
   "id": "9c6d5bae-d380-4c12-988a-7923330ad478",
   "metadata": {},
   "outputs": [],
   "source": []
  },
  {
   "cell_type": "code",
   "execution_count": null,
   "id": "d0521c0b-957d-485b-89ad-f15943ba8c37",
   "metadata": {},
   "outputs": [],
   "source": []
  }
 ],
 "metadata": {
  "kernelspec": {
   "display_name": "Python 3 (ipykernel)",
   "language": "python",
   "name": "python3"
  },
  "language_info": {
   "codemirror_mode": {
    "name": "ipython",
    "version": 3
   },
   "file_extension": ".py",
   "mimetype": "text/x-python",
   "name": "python",
   "nbconvert_exporter": "python",
   "pygments_lexer": "ipython3",
   "version": "3.10.11"
  }
 },
 "nbformat": 4,
 "nbformat_minor": 5
}
