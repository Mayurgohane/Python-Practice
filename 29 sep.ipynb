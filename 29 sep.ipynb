{
 "cells": [
  {
   "cell_type": "code",
   "execution_count": 3,
   "id": "3e58f054-2b13-4108-a51f-62bfe116ce74",
   "metadata": {},
   "outputs": [
    {
     "name": "stdout",
     "output_type": "stream",
     "text": [
      "price is 500\n"
     ]
    }
   ],
   "source": [
    "# example of self \n",
    "class car:\n",
    "    pass\n",
    "\n",
    "    def price(self):\n",
    "        p = 500\n",
    "        print(\"price is\", p)\n",
    "\n",
    "obj = car()\n",
    "obj.price()"
   ]
  },
  {
   "cell_type": "code",
   "execution_count": null,
   "id": "cf4dc955-92ad-44c1-b502-deea28977bca",
   "metadata": {},
   "outputs": [],
   "source": []
  }
 ],
 "metadata": {
  "kernelspec": {
   "display_name": "Python 3 (ipykernel)",
   "language": "python",
   "name": "python3"
  },
  "language_info": {
   "codemirror_mode": {
    "name": "ipython",
    "version": 3
   },
   "file_extension": ".py",
   "mimetype": "text/x-python",
   "name": "python",
   "nbconvert_exporter": "python",
   "pygments_lexer": "ipython3",
   "version": "3.10.11"
  }
 },
 "nbformat": 4,
 "nbformat_minor": 5
}
