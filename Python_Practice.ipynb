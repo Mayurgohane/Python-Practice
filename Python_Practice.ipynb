{
  "nbformat": 4,
  "nbformat_minor": 0,
  "metadata": {
    "colab": {
      "provenance": []
    },
    "kernelspec": {
      "name": "python3",
      "display_name": "Python 3"
    },
    "language_info": {
      "name": "python"
    }
  },
  "cells": [
    {
      "cell_type": "code",
      "execution_count": null,
      "metadata": {
        "id": "EV4oHV1PQrzx"
      },
      "outputs": [],
      "source": [
        "#Print every character of a string entered by the user in a new line using a loop\n",
        "str=input(\"Enter a string: \")\n",
        "for i in str:\n",
        "    print(i)"
      ]
    },
    {
      "cell_type": "code",
      "source": [
        "#Length of the string \"machine learning\" with and without using len function\n",
        "str=\"machine learning\"\n",
        "count=0\n",
        "for i in str:\n",
        "    count+=1\n",
        "print(\"Length of the string is: \",count)\n"
      ],
      "metadata": {
        "id": "OwivkP1GRGiT"
      },
      "execution_count": null,
      "outputs": []
    },
    {
      "cell_type": "code",
      "source": [
        "#check if the word 'orange' is present in the \"This is orange juice\"\n",
        "str=\"This is orange juice\"\n",
        "if \"orange\" in str:\n",
        "    print(\"orange is present\")\n",
        "else:\n",
        "    print(\"orange is not present\")"
      ],
      "metadata": {
        "id": "FekIpBMCRgqm"
      },
      "execution_count": null,
      "outputs": []
    },
    {
      "cell_type": "code",
      "source": [
        "#Find the number of vowels, consonants, digits, and white space characters in a string\n",
        "def count_character(text):\n",
        "  vowels = 0\n",
        "  consonants = 0\n",
        "  digits = 0\n",
        "  spaces = 0\n",
        "\n",
        "  for char in text:\n",
        "    if char in 'aeiouAEIOU':\n",
        "      vowels += 1\n",
        "    elif char.isalpha():\n",
        "      consonants += 1\n",
        "    elif char.isdigit():\n",
        "      digits += 1\n",
        "    elif char.isspace():\n",
        "      spaces += 1"
      ],
      "metadata": {
        "id": "tptvh75fRg7z"
      },
      "execution_count": null,
      "outputs": []
    },
    {
      "cell_type": "code",
      "source": [
        "#Count Uppercase, Lowercase, special character and numeric values in a given string\n",
        "def count_character(text):\n",
        "  upper = 0\n",
        "  lower = 0\n",
        "  special = 0\n",
        "  numeric = 0\n",
        "\n",
        "  for char in text:\n",
        "    if char.isupper():\n",
        "      upper += 1\n",
        "    elif char.islower():\n",
        "      lower += 1\n",
        "    elif char.isdigit():\n",
        "      numeric += 1\n",
        "    else:\n",
        "      special += 1\n",
        "  return upper, lower, special, numeric"
      ],
      "metadata": {
        "id": "8PZCstl_Rg_L"
      },
      "execution_count": null,
      "outputs": []
    },
    {
      "cell_type": "code",
      "source": [
        "#Make a new string with all consonants deleted from string \"Hello, have a good day\"\n",
        "def remove_consonants(text):\n",
        "  vovels = 'aeiouAEIOU'\n",
        "  new_string = ''\n",
        "\n",
        "  for char in text:\n",
        "    if char in vovels:\n",
        "      new_text += char\n",
        "  return new_string"
      ],
      "metadata": {
        "id": "nkkOZCIMUavg"
      },
      "execution_count": null,
      "outputs": []
    },
    {
      "cell_type": "code",
      "source": [
        "#Remove the nth index character from a non-empty string\n",
        "def remove_nth_character(text, n):\n",
        "    new_string = text[:n] + text[n+1:]\n",
        "    return new_string"
      ],
      "metadata": {
        "id": "dUJhqrbZRhCr"
      },
      "execution_count": null,
      "outputs": []
    },
    {
      "cell_type": "code",
      "source": [
        "#Change a given string to a new string where first and last characters have been exchanged\n",
        "def swap_first_last(text):\n",
        "  if len(text) <= 1:\n",
        "    return text\n",
        "  else:\n",
        "    return text[-1] + text[1:-1] + text[0]"
      ],
      "metadata": {
        "id": "V8LO7fOfUaj3"
      },
      "execution_count": null,
      "outputs": []
    },
    {
      "cell_type": "code",
      "source": [
        "#Count the occurrences of each word in a given sentence\n",
        "def word_count(sentence):\n",
        "  words = sentence.split()\n",
        "  word_count = {}\n",
        "\n",
        "  for word in words:\n",
        "    if word in word_count:\n",
        "      word_count[word] += 1\n",
        "    else:\n",
        "      word_count[word] = 1\n",
        "  return word_count"
      ],
      "metadata": {
        "id": "bq3h04QORfmC"
      },
      "execution_count": null,
      "outputs": []
    },
    {
      "cell_type": "code",
      "source": [
        "#Count the occurrence of a given character in a string\n",
        "def count_character(text, char):\n",
        "    return text.count(char)\n",
        "\n",
        "# Example usage:\n",
        "result = count_character(\"Hello, world!\", 'o')\n",
        "print(result)"
      ],
      "metadata": {
        "colab": {
          "base_uri": "https://localhost:8080/"
        },
        "id": "1lq7MymARfr9",
        "outputId": "60381706-2ebf-42a4-82b9-55f111d5d11e"
      },
      "execution_count": null,
      "outputs": [
        {
          "output_type": "stream",
          "name": "stdout",
          "text": [
            "2\n"
          ]
        }
      ]
    },
    {
      "cell_type": "code",
      "source": [
        "# Find last 10 characters of a string\n",
        "def last_10_characters(text):\n",
        "  return text[-10:]"
      ],
      "metadata": {
        "id": "VKr_eUxNY72F"
      },
      "execution_count": null,
      "outputs": []
    },
    {
      "cell_type": "code",
      "source": [
        "#convert a given string to all uppercase if it contains at least 2 uppercase characters in the first 4 characters\n",
        "def uppercase(text):\n",
        "  count = 0\n",
        "  for char in text[:4]:\n",
        "    if char.isupper():\n",
        "      count += 1\n",
        "  if count >= 2:\n",
        "    return text.upper()\n",
        "  else:\n",
        "    return text"
      ],
      "metadata": {
        "id": "CFPWpeq8Y8EB"
      },
      "execution_count": null,
      "outputs": []
    },
    {
      "cell_type": "code",
      "source": [
        "# Remove a newline in Python\n",
        "str1='hello\\n'\n",
        "print(str1)\n",
        "print(str1.rstrip())"
      ],
      "metadata": {
        "id": "gxhbmTzfY8HJ"
      },
      "execution_count": null,
      "outputs": []
    },
    {
      "cell_type": "code",
      "source": [
        "#Python program to swap commas and dots in a string\n",
        "#Sample string: \"32.054,23\"\n",
        "#Expected Output: \"32,054.23\"\n",
        "\n",
        "def swap_commas_dots(text):\n",
        "    # Replace commas with a temporary placeholder\n",
        "    temp_text = text.replace(',', '#')\n",
        "    # Replace dots with commas\n",
        "    temp_text = temp_text.replace('.', ',')\n",
        "    # Replace the temporary placeholder with dots\n",
        "    swapped_text = temp_text.replace('#', '.')\n",
        "    return swapped_text"
      ],
      "metadata": {
        "id": "U_kN0dW8Y8Ko"
      },
      "execution_count": null,
      "outputs": []
    },
    {
      "cell_type": "code",
      "source": [
        "# Find the first repeated character in a given string\n",
        "def first_repeated_character(text):\n",
        "  for char in text:\n",
        "    if text.count(char) > 1:\n",
        "      return char\n",
        "  return None"
      ],
      "metadata": {
        "id": "RRCNidRAY8r7"
      },
      "execution_count": null,
      "outputs": []
    },
    {
      "cell_type": "code",
      "source": [
        "# Find the 2 most repeated word in a given string\n",
        "from collections import Counter\n",
        "\n",
        "def repeated_word(text):\n",
        "    words = text.lower().split()\n",
        "\n",
        "    word_counts = Counter(words)\n",
        "\n",
        "    most_common = word_counts.most_common()\n",
        "\n",
        "    if len(most_common) < 2:\n",
        "        return None\n",
        "    return most_common[1][0]"
      ],
      "metadata": {
        "id": "a6yyjQlDY8vF"
      },
      "execution_count": null,
      "outputs": []
    },
    {
      "cell_type": "code",
      "source": [
        "# Count Even and Odd numbers in a string\n",
        "def count_even_odd(text):\n",
        "  even_count = 0\n",
        "  odd_count = 0\n",
        "  for char in text:\n",
        "    if char.isdigit():\n",
        "      num = int(char)\n",
        "      if num % 2 == 0:\n",
        "        even_count += 1\n",
        "      else:\n",
        "        odd_count += 1\n",
        "  return even_count, odd_count"
      ],
      "metadata": {
        "id": "sDrx36q-c_Pw"
      },
      "execution_count": null,
      "outputs": []
    },
    {
      "cell_type": "code",
      "source": [
        "# Check if a string contains only digits\n",
        "def contains_only_digits(text):\n",
        "  return text.isdigit()"
      ],
      "metadata": {
        "id": "Ca3ygTFvc_Xz"
      },
      "execution_count": null,
      "outputs": []
    },
    {
      "cell_type": "code",
      "source": [
        "# Remove a given character/word from String\n",
        "def remove_word(text, word):\n",
        "    # Replace the given word with an empty string\n",
        "    return text.replace(word, '')"
      ],
      "metadata": {
        "id": "s-6j2HvXc_e9"
      },
      "execution_count": null,
      "outputs": []
    },
    {
      "cell_type": "code",
      "source": [
        "# Remove the characters which have odd index values of a given string\n",
        "def remove_odd_index(text):\n",
        "  return text[::2]"
      ],
      "metadata": {
        "id": "J85EmylFc_kk"
      },
      "execution_count": null,
      "outputs": []
    },
    {
      "cell_type": "code",
      "source": [
        "# Reverses a string if its length is a multiple of 5\n",
        "def reverse_string(text):\n",
        "  if len(text) % 5 == 0:\n",
        "    return text[::-1]\n",
        "  else:\n",
        "    return text"
      ],
      "metadata": {
        "id": "YK691wBvh6bx"
      },
      "execution_count": null,
      "outputs": []
    },
    {
      "cell_type": "code",
      "source": [
        "# Format a number with a percentage(0.05 >> 5%)\n",
        "def format_percentage(number):\n",
        "  return \"{:.0%}\".format(number)"
      ],
      "metadata": {
        "id": "9kjVFtm7h6eu"
      },
      "execution_count": null,
      "outputs": []
    },
    {
      "cell_type": "code",
      "source": [
        "# Reverse words in a string\n",
        "def reverse_words(text):\n",
        "  words = text.split()\n",
        "  reversed_words = words[::-1]\n",
        "  return ' '.join(reversed_words)"
      ],
      "metadata": {
        "id": "lj0lmhnXh6hq"
      },
      "execution_count": null,
      "outputs": []
    },
    {
      "cell_type": "code",
      "source": [
        "# Swap cases of a given string\n",
        "def swap_cases(text):\n",
        "  return text.swapcase()"
      ],
      "metadata": {
        "id": "ngbTF-5ph6kl"
      },
      "execution_count": null,
      "outputs": []
    },
    {
      "cell_type": "code",
      "source": [
        "# Remove spaces from a given string\n",
        "def remove_spaces(text):\n",
        "  return text.replace(' ', '')"
      ],
      "metadata": {
        "id": "GrkezGLUjfrb"
      },
      "execution_count": null,
      "outputs": []
    },
    {
      "cell_type": "code",
      "source": [
        "# Remove duplicate characters of a given string\n",
        "def remove_duplicates(text):\n",
        "  result = ''\n",
        "  for char in text:\n",
        "    if char not in result:\n",
        "      result += char\n",
        "  return result"
      ],
      "metadata": {
        "id": "0l572qVwjgHu"
      },
      "execution_count": null,
      "outputs": []
    },
    {
      "cell_type": "code",
      "source": [
        "# Find the area of a circle\n",
        "import math\n",
        "\n",
        "def area_of_circle(radius):\n",
        "  return math.pi * radius ** 2"
      ],
      "metadata": {
        "id": "4_-XziJAjgKu"
      },
      "execution_count": null,
      "outputs": []
    },
    {
      "cell_type": "code",
      "source": [
        "#  Sum of squares of first n natural numbers\n",
        "def sum_of_squares(n):\n",
        "  return (n * (n + 1) * (2 * n + 1)) // 6"
      ],
      "metadata": {
        "id": "Z5GoE4wukvsD"
      },
      "execution_count": null,
      "outputs": []
    },
    {
      "cell_type": "code",
      "source": [
        "# Cube sum of first n natural numbers\n",
        "def cube_sum(n):\n",
        "  return (n * (n + 1) // 2) ** 2"
      ],
      "metadata": {
        "id": "A8W-DIz0kvu0"
      },
      "execution_count": null,
      "outputs": []
    },
    {
      "cell_type": "code",
      "source": [
        "#  Simple interest and compound interest\n",
        "def simple_interest(principal, rate, time):\n",
        "    return (principal * rate * time) / 100\n",
        "\n",
        "def compound_interest(principal, rate, time):\n",
        "    amount = principal * (1 + rate / 100) ** time\n",
        "    return amount - principal"
      ],
      "metadata": {
        "id": "wXqjVkjOkvyU"
      },
      "execution_count": null,
      "outputs": []
    },
    {
      "cell_type": "code",
      "source": [
        "# Whether a number is Prime or not\n",
        "def is_prime(n):\n",
        "    # Numbers less than 2 are not prime\n",
        "    if n < 2:\n",
        "        return False\n",
        "\n",
        "    # Check divisibility from 2 up to n-1\n",
        "    for i in range(2, n):\n",
        "        if n % i == 0:\n",
        "            return False\n",
        "\n",
        "    return True"
      ],
      "metadata": {
        "id": "hLvO4Z5Dkv2i"
      },
      "execution_count": null,
      "outputs": []
    }
  ]
}