{
 "cells": [
  {
   "cell_type": "code",
   "execution_count": 7,
   "id": "88086340-f0ce-468a-aaca-bf82506e5cc1",
   "metadata": {},
   "outputs": [
    {
     "data": {
      "text/plain": [
       "\"Mayur's Gohane\""
      ]
     },
     "execution_count": 7,
     "metadata": {},
     "output_type": "execute_result"
    }
   ],
   "source": [
    "#Escape characher is strings\n",
    "a = \"Mayur's Gohane\"\n",
    "a"
   ]
  },
  {
   "cell_type": "code",
   "execution_count": 8,
   "id": "48bb07da-3841-4544-add8-03f35b5719ee",
   "metadata": {},
   "outputs": [
    {
     "data": {
      "text/plain": [
       "'Hii Mayur'"
      ]
     },
     "execution_count": 8,
     "metadata": {},
     "output_type": "execute_result"
    }
   ],
   "source": [
    "#string fomatting\n",
    "a = \"Mayur\"\n",
    "f\"Hii {a}\""
   ]
  },
  {
   "cell_type": "code",
   "execution_count": 9,
   "id": "788f2fa1-6174-4b9b-8327-4b016e3247ed",
   "metadata": {},
   "outputs": [
    {
     "name": "stdin",
     "output_type": "stream",
     "text": [
      "Enter Mayur\n"
     ]
    },
    {
     "name": "stdout",
     "output_type": "stream",
     "text": [
      "M\n",
      "a\n",
      "y\n",
      "u\n",
      "r\n"
     ]
    }
   ],
   "source": [
    "a = input(\"Enter\")\n",
    "for i in a:\n",
    "    print(i)"
   ]
  },
  {
   "cell_type": "code",
   "execution_count": 11,
   "id": "bd59d472-cc8f-49ad-8f3f-2eb07f64054b",
   "metadata": {},
   "outputs": [
    {
     "name": "stdout",
     "output_type": "stream",
     "text": [
      "12\n"
     ]
    }
   ],
   "source": [
    "#Count len of string \n",
    "a = \"Mayur Gohane\"\n",
    "b = 0\n",
    "for i in a:\n",
    "    b += 1\n",
    "print(b)"
   ]
  },
  {
   "cell_type": "code",
   "execution_count": 14,
   "id": "7cc2d55e-e4b8-451f-859b-8b952c7d3ba4",
   "metadata": {},
   "outputs": [
    {
     "name": "stdout",
     "output_type": "stream",
     "text": [
      "7 22 0 2\n"
     ]
    }
   ],
   "source": [
    "a = \"Mayur gohaner wertyugfdg\"\n",
    "v = \"aeiouAEIOU\"\n",
    "vo = 0\n",
    "co = 0\n",
    "dig = 0\n",
    "sp = 0\n",
    "for i in a:\n",
    "    if i in v:\n",
    "        vo += 1\n",
    "    if i.isnumeric():\n",
    "        dig += 1\n",
    "    if i.isspace():\n",
    "        sp += 1\n",
    "    else:\n",
    "        co += 1\n",
    "print(vo, co, dig, sp)"
   ]
  },
  {
   "cell_type": "code",
   "execution_count": 16,
   "id": "c3336be7-04e3-4fff-9639-bb776ce5cdec",
   "metadata": {},
   "outputs": [
    {
     "name": "stdout",
     "output_type": "stream",
     "text": [
      "auoaeeu\n"
     ]
    }
   ],
   "source": [
    "#delete consonant\n",
    "a = \"Mayur gohaner wertyugfdg\"\n",
    "b = \"\"\n",
    "v = \"aeiouAEIOU\"\n",
    "for i in a:\n",
    "    if i in v:\n",
    "        b += i\n",
    "print(b)"
   ]
  },
  {
   "cell_type": "code",
   "execution_count": 17,
   "id": "f776c95d-2dfe-46a9-8ac8-8fd2f23d57b0",
   "metadata": {},
   "outputs": [],
   "source": [
    "#remove nth index char form string \n",
    "def ss(s,n):\n",
    "    a = s[:n]\n",
    "    b = s[n+1:]\n",
    "    return a+b"
   ]
  },
  {
   "cell_type": "code",
   "execution_count": 22,
   "id": "8c5179a0-5dd6-406c-a0fe-da1dcb0835dc",
   "metadata": {},
   "outputs": [
    {
     "data": {
      "text/plain": [
       "'myur'"
      ]
     },
     "execution_count": 22,
     "metadata": {},
     "output_type": "execute_result"
    }
   ],
   "source": [
    "ss(\"mayur\",1)"
   ]
  },
  {
   "cell_type": "code",
   "execution_count": 33,
   "id": "679f3056-b481-4601-888e-9c95748b5550",
   "metadata": {},
   "outputs": [
    {
     "name": "stdout",
     "output_type": "stream",
     "text": [
      "Gohane Sudha Mayur\n"
     ]
    }
   ],
   "source": [
    "#exchnage first & last char of string \n",
    "a = \"Mayur Sudha Gohane\"\n",
    "b = a.split()\n",
    "c = [b[-1]] + b[1:-1]+[b[0]]\n",
    "print(' '.join(c))"
   ]
  },
  {
   "cell_type": "code",
   "execution_count": 39,
   "id": "2e0c8f7e-dc06-4ef7-8c86-fd80d36d52e6",
   "metadata": {},
   "outputs": [
    {
     "data": {
      "text/plain": [
       "{'Mayur': 1, 'Sudha': 1, 'Gohane': 1}"
      ]
     },
     "execution_count": 39,
     "metadata": {},
     "output_type": "execute_result"
    }
   ],
   "source": [
    "from collections import Counter\n",
    "a = \"Mayur Sudha Gohane\"\n",
    "b = a.split()\n",
    "c = dict(Counter(b))\n",
    "c"
   ]
  },
  {
   "cell_type": "code",
   "execution_count": 40,
   "id": "12861b0d-2aea-4d9c-93ae-54ad8ab111ef",
   "metadata": {},
   "outputs": [
    {
     "data": {
      "text/plain": [
       "3"
      ]
     },
     "execution_count": 40,
     "metadata": {},
     "output_type": "execute_result"
    }
   ],
   "source": [
    "#count occurance of words \n",
    "a = \"Mayur Sudha Gohane\"\n",
    "b = a.count('a')\n",
    "b"
   ]
  },
  {
   "cell_type": "code",
   "execution_count": 42,
   "id": "dd575365-22a0-4416-a59b-dc2fd012ae34",
   "metadata": {},
   "outputs": [
    {
     "data": {
      "text/plain": [
       "['dfjg', 'djgh', 'jbb', 'jgie', 'ioer', 'yhd', 'ydb', 'od', 'wy', 'ub']"
      ]
     },
     "execution_count": 42,
     "metadata": {},
     "output_type": "execute_result"
    }
   ],
   "source": [
    "#Last 10 char of string \n",
    "a = \"Mayur goihane sefg rji jdgj fgdg dfjg djgh jbb jgie ioer yhd ydb od wy ub\"\n",
    "b = a.split()\n",
    "b[-10:]"
   ]
  },
  {
   "cell_type": "code",
   "execution_count": 45,
   "id": "000f1ea5-5379-4309-9d72-49858b681bbc",
   "metadata": {},
   "outputs": [
    {
     "name": "stdout",
     "output_type": "stream",
     "text": [
      "MAYUR GOHANE\n"
     ]
    }
   ],
   "source": [
    "a = \"MAYUR gohane\"\n",
    "b = 0\n",
    "for i in a[:4]:\n",
    "    if i.isupper():\n",
    "        b += 1\n",
    "    if b>=2:\n",
    "        a = a.upper()\n",
    "print(a)"
   ]
  },
  {
   "cell_type": "code",
   "execution_count": 47,
   "id": "6cccbf3f-89c4-432e-97e2-0c2d927ca4f6",
   "metadata": {},
   "outputs": [
    {
     "data": {
      "text/plain": [
       "'Mayur000GOhane'"
      ]
     },
     "execution_count": 47,
     "metadata": {},
     "output_type": "execute_result"
    }
   ],
   "source": [
    "#remove newline \n",
    "a = \"Mayur\\nGOhane\"\n",
    "b = a.replace('\\n','000')\n",
    "b"
   ]
  },
  {
   "cell_type": "code",
   "execution_count": 48,
   "id": "885a926c-24a8-4c85-b353-ad09fbd7294b",
   "metadata": {},
   "outputs": [
    {
     "name": "stdout",
     "output_type": "stream",
     "text": [
      "repeated char is a\n"
     ]
    }
   ],
   "source": [
    "#first repeated char in string \n",
    "a = \"Mayur Gohane\"\n",
    "b = []\n",
    "for i in a:\n",
    "    if i in b:\n",
    "        print(\"repeated char is\",i)\n",
    "        break\n",
    "    else:\n",
    "        b.append(i)\n",
    "else:\n",
    "    print('No')"
   ]
  },
  {
   "cell_type": "code",
   "execution_count": 56,
   "id": "681b6bc1-5449-4298-b9f3-37fa337de3a1",
   "metadata": {},
   "outputs": [
    {
     "data": {
      "text/plain": [
       "{'Mayur': 1, 'Gohane': 1, 'hii': 2}"
      ]
     },
     "execution_count": 56,
     "metadata": {},
     "output_type": "execute_result"
    }
   ],
   "source": [
    "#second most repeated char in string \n",
    "from collections import Counter\n",
    "a = \"Mayur Gohane hii hii\"\n",
    "b = a.split()\n",
    "c = dict(Counter(b))\n",
    "c"
   ]
  },
  {
   "cell_type": "code",
   "execution_count": 57,
   "id": "a563f7f0-8a09-4828-8f21-54703fb7f66b",
   "metadata": {},
   "outputs": [
    {
     "data": {
      "text/plain": [
       "False"
      ]
     },
     "execution_count": 57,
     "metadata": {},
     "output_type": "execute_result"
    }
   ],
   "source": [
    "a = \"Mayur Gohane hii hii\"\n",
    "b = a.isdigit()\n",
    "b"
   ]
  },
  {
   "cell_type": "code",
   "execution_count": 58,
   "id": "059a6557-19f9-40b8-8411-a3a82cb46e77",
   "metadata": {},
   "outputs": [
    {
     "data": {
      "text/plain": [
       "'MyrGhn i i'"
      ]
     },
     "execution_count": 58,
     "metadata": {},
     "output_type": "execute_result"
    }
   ],
   "source": [
    "#remove char with odd index \n",
    "a = \"Mayur Gohane hii hii\"\n",
    "b = \"\"\n",
    "for i,v in enumerate(a):\n",
    "    if i%2==0:\n",
    "        b += v\n",
    "b"
   ]
  },
  {
   "cell_type": "code",
   "execution_count": 63,
   "id": "25a85fd9-7874-47ba-922a-fb44527d1fe6",
   "metadata": {},
   "outputs": [],
   "source": [
    "#reverse string if multiple of 5 \n",
    "def reve(a):\n",
    "    if len(a)>=5:\n",
    "        return a[::-1]\n",
    "    else:\n",
    "        a"
   ]
  },
  {
   "cell_type": "code",
   "execution_count": 64,
   "id": "9e295615-8b50-444d-a51e-4999d6fbce26",
   "metadata": {},
   "outputs": [
    {
     "data": {
      "text/plain": [
       "'ruyaM'"
      ]
     },
     "execution_count": 64,
     "metadata": {},
     "output_type": "execute_result"
    }
   ],
   "source": [
    "reve(\"Mayur\")"
   ]
  },
  {
   "cell_type": "code",
   "execution_count": 66,
   "id": "78bb0288-90dd-4e69-af87-7e8fa061168d",
   "metadata": {},
   "outputs": [
    {
     "data": {
      "text/plain": [
       "'hii hii Gohane Mayur'"
      ]
     },
     "execution_count": 66,
     "metadata": {},
     "output_type": "execute_result"
    }
   ],
   "source": [
    "#reverse words in string \n",
    "a = \"Mayur Gohane hii hii\"\n",
    "b = a.split()\n",
    "b.reverse()\n",
    "' '.join(b)"
   ]
  },
  {
   "cell_type": "code",
   "execution_count": 67,
   "id": "60f77183-71d5-4248-85fb-eca696b2b6b2",
   "metadata": {},
   "outputs": [
    {
     "data": {
      "text/plain": [
       "'Mayur Gohnei'"
      ]
     },
     "execution_count": 67,
     "metadata": {},
     "output_type": "execute_result"
    }
   ],
   "source": [
    "#remove duplicates char from string \n",
    "a = \"Mayur Gohane hii hii\"\n",
    "b = \"\"\n",
    "for i in a:\n",
    "    if i not in b:\n",
    "        b += i\n",
    "b"
   ]
  },
  {
   "cell_type": "code",
   "execution_count": null,
   "id": "11e46553-1fb1-4dd9-82e9-6d6a4135badc",
   "metadata": {},
   "outputs": [],
   "source": [
    "#area of circle \n",
    "import math \n",
    "Area = math.pi*r**2"
   ]
  },
  {
   "cell_type": "code",
   "execution_count": 69,
   "id": "bc26a82e-d2f9-4091-8639-daab93ee0e17",
   "metadata": {},
   "outputs": [
    {
     "data": {
      "text/plain": [
       "55"
      ]
     },
     "execution_count": 69,
     "metadata": {},
     "output_type": "execute_result"
    }
   ],
   "source": [
    "#sum of sqaure of first n natural numbers \n",
    "n=5\n",
    "b = 0\n",
    "for i in range(1,n+1):\n",
    "    b = b + i*i\n",
    "b"
   ]
  },
  {
   "cell_type": "code",
   "execution_count": 70,
   "id": "cc3aef9e-05c3-4666-9136-050f91212d5b",
   "metadata": {},
   "outputs": [
    {
     "data": {
      "text/plain": [
       "225"
      ]
     },
     "execution_count": 70,
     "metadata": {},
     "output_type": "execute_result"
    }
   ],
   "source": [
    "#sum of cube of first n natural numbers \n",
    "n=5\n",
    "b=0\n",
    "for i in range(1, n+1):\n",
    "    b = b + i*i*i\n",
    "b"
   ]
  },
  {
   "cell_type": "code",
   "execution_count": 71,
   "id": "e1bec186-3278-4b1e-b72c-47568cf8ab3f",
   "metadata": {},
   "outputs": [],
   "source": [
    "#check prime number or not \n",
    "def prime(n):\n",
    "    if n <2:\n",
    "        return False\n",
    "    for i in range(2,n):\n",
    "        if n%i==0:\n",
    "            return False\n",
    "    return True"
   ]
  },
  {
   "cell_type": "code",
   "execution_count": 72,
   "id": "07835b45-735a-44a1-9d89-9094cdc2be4a",
   "metadata": {},
   "outputs": [
    {
     "data": {
      "text/plain": [
       "True"
      ]
     },
     "execution_count": 72,
     "metadata": {},
     "output_type": "execute_result"
    }
   ],
   "source": [
    "prime(5)"
   ]
  },
  {
   "cell_type": "code",
   "execution_count": 73,
   "id": "071bb8e5-5f69-4437-91c2-a3a4de09302e",
   "metadata": {},
   "outputs": [
    {
     "name": "stdout",
     "output_type": "stream",
     "text": [
      "2\n",
      "8\n"
     ]
    }
   ],
   "source": [
    "a = [8,2,3,4,5,6,7]\n",
    "small=a[0]\n",
    "large=a[0]\n",
    "for i in a:\n",
    "    if i< small:\n",
    "        small= i\n",
    "    if i > large:\n",
    "        large = i\n",
    "print(small)\n",
    "print(large)"
   ]
  },
  {
   "cell_type": "code",
   "execution_count": 74,
   "id": "fa9b392a-299f-4ca1-99c4-8fc02269d590",
   "metadata": {},
   "outputs": [
    {
     "data": {
      "text/plain": [
       "[2, 1, 3, 4, 5]"
      ]
     },
     "execution_count": 74,
     "metadata": {},
     "output_type": "execute_result"
    }
   ],
   "source": [
    "a = [1,2,3,4,5]\n",
    "temp = a[0]\n",
    "a[0]=a[1]\n",
    "a[1]= temp\n",
    "a"
   ]
  },
  {
   "cell_type": "code",
   "execution_count": 75,
   "id": "77308d53-8e64-4f2c-99df-0be0d48c66f0",
   "metadata": {},
   "outputs": [
    {
     "data": {
      "text/plain": [
       "[5, 4, 3, 1, 2]"
      ]
     },
     "execution_count": 75,
     "metadata": {},
     "output_type": "execute_result"
    }
   ],
   "source": [
    "a.reverse()\n",
    "a"
   ]
  },
  {
   "cell_type": "code",
   "execution_count": 77,
   "id": "e0a20e61-ad45-4d0e-a8e8-4810f358588e",
   "metadata": {},
   "outputs": [
    {
     "data": {
      "text/plain": [
       "Counter({5: 1, 4: 1, 3: 1, 1: 1, 2: 1})"
      ]
     },
     "execution_count": 77,
     "metadata": {},
     "output_type": "execute_result"
    }
   ],
   "source": [
    "from collections import Counter\n",
    "b = Counter(a)\n",
    "b"
   ]
  },
  {
   "cell_type": "code",
   "execution_count": 79,
   "id": "9e060124-8c27-474e-910d-90f23619c95f",
   "metadata": {},
   "outputs": [
    {
     "data": {
      "text/plain": [
       "15"
      ]
     },
     "execution_count": 79,
     "metadata": {},
     "output_type": "execute_result"
    }
   ],
   "source": [
    "sum(a)"
   ]
  },
  {
   "cell_type": "code",
   "execution_count": 80,
   "id": "e195ab13-2554-4294-9de8-e3772265cadd",
   "metadata": {},
   "outputs": [
    {
     "data": {
      "text/plain": [
       "[1, 4, 9, 16, 25]"
      ]
     },
     "execution_count": 80,
     "metadata": {},
     "output_type": "execute_result"
    }
   ],
   "source": [
    "a = [1,2,3,4,5]\n",
    "b = [i*i for i in a]\n",
    "b"
   ]
  },
  {
   "cell_type": "code",
   "execution_count": 81,
   "id": "8a899286-41de-4e84-b4c1-37a6555fdc0c",
   "metadata": {},
   "outputs": [
    {
     "data": {
      "text/plain": [
       "5"
      ]
     },
     "execution_count": 81,
     "metadata": {},
     "output_type": "execute_result"
    }
   ],
   "source": [
    "len(b)"
   ]
  },
  {
   "cell_type": "code",
   "execution_count": 82,
   "id": "dc5dd627-d0d7-481d-85dd-351ba51270d4",
   "metadata": {},
   "outputs": [
    {
     "data": {
      "text/plain": [
       "[1, 2, 3, [4, 5]]"
      ]
     },
     "execution_count": 82,
     "metadata": {},
     "output_type": "execute_result"
    }
   ],
   "source": [
    "a = [1,2,3]\n",
    "a.append([4,5])\n",
    "a"
   ]
  },
  {
   "cell_type": "code",
   "execution_count": 83,
   "id": "169cae7c-9d75-43db-bd93-41fba33b1840",
   "metadata": {},
   "outputs": [
    {
     "data": {
      "text/plain": [
       "[1, 2, 3, 4, 5]"
      ]
     },
     "execution_count": 83,
     "metadata": {},
     "output_type": "execute_result"
    }
   ],
   "source": [
    "a = [1,2,3]\n",
    "a.extend([4,5])\n",
    "a"
   ]
  },
  {
   "cell_type": "code",
   "execution_count": 84,
   "id": "5d6e52bd-892d-4a6f-94af-e1b44d90795b",
   "metadata": {},
   "outputs": [
    {
     "data": {
      "text/plain": [
       "[1, 2, 3]"
      ]
     },
     "execution_count": 84,
     "metadata": {},
     "output_type": "execute_result"
    }
   ],
   "source": [
    "a = [1,2,3]\n",
    "b = []\n",
    "for i in a:\n",
    "    b.append(i)\n",
    "b"
   ]
  },
  {
   "cell_type": "code",
   "execution_count": 85,
   "id": "dcfe0be9-60ce-445f-8fd6-191cfec1f7fc",
   "metadata": {},
   "outputs": [
    {
     "data": {
      "text/plain": [
       "[1, 2, 5, 7, 9]"
      ]
     },
     "execution_count": 85,
     "metadata": {},
     "output_type": "execute_result"
    }
   ],
   "source": [
    "a = [7,2,1,5,9]\n",
    "sorted(a)"
   ]
  },
  {
   "cell_type": "code",
   "execution_count": 86,
   "id": "39ae8923-8ea0-419e-8cdc-e8596a8827ad",
   "metadata": {},
   "outputs": [
    {
     "data": {
      "text/plain": [
       "{7: 1, 2: 1, 1: 1, 5: 1, 9: 1}"
      ]
     },
     "execution_count": 86,
     "metadata": {},
     "output_type": "execute_result"
    }
   ],
   "source": [
    "b = {}\n",
    "for i in a:\n",
    "    if i in b:\n",
    "        b[i] += 1\n",
    "    else:\n",
    "        b[i] = 1\n",
    "b"
   ]
  },
  {
   "cell_type": "code",
   "execution_count": 87,
   "id": "a3cbd753-6c15-46cb-9bf2-20479be0f3c3",
   "metadata": {},
   "outputs": [
    {
     "data": {
      "text/plain": [
       "True"
      ]
     },
     "execution_count": 87,
     "metadata": {},
     "output_type": "execute_result"
    }
   ],
   "source": [
    "#check list contain sublist or not \n",
    "a = [1,2,4,5]\n",
    "b = [1,2]\n",
    "f = False\n",
    "for i in range(len(a)-len(b)+1):\n",
    "    if a[i:i + len(b)]==b:\n",
    "        f = True\n",
    "        break\n",
    "f"
   ]
  },
  {
   "cell_type": "code",
   "execution_count": 88,
   "id": "f571ca5c-cbe3-46e2-aced-33499571d4c8",
   "metadata": {},
   "outputs": [],
   "source": [
    "a = [1,2,4,5]\n",
    "b = [1,2]\n",
    "c = []\n",
    "for i in a:\n",
    "    if i in b:\n",
    "        c.append(i)"
   ]
  },
  {
   "cell_type": "code",
   "execution_count": 89,
   "id": "3960490d-40b9-40f9-992f-b6f5ea63c98d",
   "metadata": {},
   "outputs": [
    {
     "data": {
      "text/plain": [
       "[1, 2]"
      ]
     },
     "execution_count": 89,
     "metadata": {},
     "output_type": "execute_result"
    }
   ],
   "source": [
    "c"
   ]
  },
  {
   "cell_type": "code",
   "execution_count": 90,
   "id": "da54ce0b-44a2-4f8f-89e4-2d4868948584",
   "metadata": {},
   "outputs": [],
   "source": [
    "a= [[1,2],[3,4]]\n",
    "b = []\n",
    "for i in a:\n",
    "    if isinstance(i,list):\n",
    "        b.extend(i)"
   ]
  },
  {
   "cell_type": "code",
   "execution_count": 91,
   "id": "d5e3225d-bc09-44b2-a379-c528f8006ccc",
   "metadata": {},
   "outputs": [
    {
     "data": {
      "text/plain": [
       "[1, 2, 3, 4]"
      ]
     },
     "execution_count": 91,
     "metadata": {},
     "output_type": "execute_result"
    }
   ],
   "source": [
    "b"
   ]
  },
  {
   "cell_type": "code",
   "execution_count": 92,
   "id": "716ef078-b401-4f3c-88aa-b6ff86080ab3",
   "metadata": {},
   "outputs": [
    {
     "data": {
      "text/plain": [
       "[1, 5, 7, 8, 9]"
      ]
     },
     "execution_count": 92,
     "metadata": {},
     "output_type": "execute_result"
    }
   ],
   "source": [
    "a = (8,5,1,9,7)\n",
    "sorted(a)"
   ]
  },
  {
   "cell_type": "code",
   "execution_count": 93,
   "id": "2c51c4ad-1078-4136-bcef-182c8feecd57",
   "metadata": {},
   "outputs": [
    {
     "data": {
      "text/plain": [
       "[9, 8, 7, 5, 1]"
      ]
     },
     "execution_count": 93,
     "metadata": {},
     "output_type": "execute_result"
    }
   ],
   "source": [
    "a = (8,5,1,9,7)\n",
    "sorted(a, reverse=True)"
   ]
  },
  {
   "cell_type": "code",
   "execution_count": 94,
   "id": "c2e9d917-2860-4910-b70b-151615ab5b67",
   "metadata": {},
   "outputs": [
    {
     "data": {
      "text/plain": [
       "113355"
      ]
     },
     "execution_count": 94,
     "metadata": {},
     "output_type": "execute_result"
    }
   ],
   "source": [
    "a = [11,33,55]\n",
    "b = int(''.join(map(str,a)))\n",
    "b"
   ]
  },
  {
   "cell_type": "code",
   "execution_count": 97,
   "id": "62a99b4a-fc10-4c0d-8cf1-13ae6d6596df",
   "metadata": {},
   "outputs": [
    {
     "data": {
      "text/plain": [
       "113355"
      ]
     },
     "execution_count": 97,
     "metadata": {},
     "output_type": "execute_result"
    }
   ],
   "source": [
    "a = [11,33,55]\n",
    "b = int(''.join(map(str,a)))\n",
    "b"
   ]
  },
  {
   "cell_type": "code",
   "execution_count": 100,
   "id": "19408154-d205-4205-9e73-69ae8f760b14",
   "metadata": {},
   "outputs": [],
   "source": [
    "a = [1,2,3]\n",
    "b = []\n",
    "for i in range(len(a)):\n",
    "    for j in range(i+1,len(a)+1):\n",
    "        b.append(a[i:j])"
   ]
  },
  {
   "cell_type": "code",
   "execution_count": 101,
   "id": "efc41020-6370-4614-9d3e-51a4a6506725",
   "metadata": {},
   "outputs": [
    {
     "data": {
      "text/plain": [
       "[[1], [1, 2], [1, 2, 3], [2], [2, 3], [3]]"
      ]
     },
     "execution_count": 101,
     "metadata": {},
     "output_type": "execute_result"
    }
   ],
   "source": [
    "b"
   ]
  },
  {
   "cell_type": "code",
   "execution_count": 102,
   "id": "97ba607a-8276-4212-a663-95c45472bcc5",
   "metadata": {},
   "outputs": [
    {
     "name": "stdout",
     "output_type": "stream",
     "text": [
      "<class 'set'>\n"
     ]
    }
   ],
   "source": [
    "a = {1,2}\n",
    "print(type(a))"
   ]
  },
  {
   "cell_type": "code",
   "execution_count": 103,
   "id": "1cc71ddf-68c9-41d0-8e7c-37ba35a67198",
   "metadata": {},
   "outputs": [],
   "source": [
    "a = {1,2}\n",
    "b = {4,5}\n",
    "a.update(b)"
   ]
  },
  {
   "cell_type": "code",
   "execution_count": 104,
   "id": "c33dbb6e-8dbc-49c4-b6d5-e964181f7f58",
   "metadata": {},
   "outputs": [
    {
     "data": {
      "text/plain": [
       "{1, 2, 4, 5}"
      ]
     },
     "execution_count": 104,
     "metadata": {},
     "output_type": "execute_result"
    }
   ],
   "source": [
    "a"
   ]
  },
  {
   "cell_type": "code",
   "execution_count": 105,
   "id": "be83ff46-75dd-4523-9792-25d33c7a278a",
   "metadata": {},
   "outputs": [],
   "source": [
    "a.remove(5)"
   ]
  },
  {
   "cell_type": "code",
   "execution_count": 106,
   "id": "b3979645-dcf5-4401-a052-7f63b3f8bbd1",
   "metadata": {},
   "outputs": [
    {
     "data": {
      "text/plain": [
       "{1, 2, 4}"
      ]
     },
     "execution_count": 106,
     "metadata": {},
     "output_type": "execute_result"
    }
   ],
   "source": [
    "a"
   ]
  },
  {
   "cell_type": "code",
   "execution_count": 107,
   "id": "42bc36d6-45b5-47e7-a014-d5470768dce5",
   "metadata": {},
   "outputs": [],
   "source": [
    "a = {1, 2, 4, 5}\n",
    "for i in a.copy():\n",
    "    a.remove(i)"
   ]
  },
  {
   "cell_type": "code",
   "execution_count": 108,
   "id": "9cdfa5b1-a234-4530-ac24-b63308306f48",
   "metadata": {},
   "outputs": [
    {
     "data": {
      "text/plain": [
       "set()"
      ]
     },
     "execution_count": 108,
     "metadata": {},
     "output_type": "execute_result"
    }
   ],
   "source": [
    "a"
   ]
  },
  {
   "cell_type": "code",
   "execution_count": 111,
   "id": "70bb2d3e-d26b-40e0-afc5-940227fa87b3",
   "metadata": {},
   "outputs": [
    {
     "data": {
      "text/plain": [
       "{4, 5}"
      ]
     },
     "execution_count": 111,
     "metadata": {},
     "output_type": "execute_result"
    }
   ],
   "source": [
    "a = {1,2,4,5}\n",
    "b = {4,5,8}\n",
    "a.intersection(b)"
   ]
  },
  {
   "cell_type": "code",
   "execution_count": 112,
   "id": "0960fda8-f3f0-4b0b-b74c-6fda0404af0c",
   "metadata": {},
   "outputs": [
    {
     "data": {
      "text/plain": [
       "{1, 2, 4, 5, 8}"
      ]
     },
     "execution_count": 112,
     "metadata": {},
     "output_type": "execute_result"
    }
   ],
   "source": [
    "a = {1,2,4,5}\n",
    "b = {4,5,8}\n",
    "a.union(b)"
   ]
  },
  {
   "cell_type": "code",
   "execution_count": 114,
   "id": "4ccf45df-0d65-4053-8f1f-7478946b3ad2",
   "metadata": {},
   "outputs": [
    {
     "data": {
      "text/plain": [
       "{1, 2}"
      ]
     },
     "execution_count": 114,
     "metadata": {},
     "output_type": "execute_result"
    }
   ],
   "source": [
    "a = {1,2,4,5}\n",
    "b = {4,5,8}\n",
    "a.difference(b)"
   ]
  },
  {
   "cell_type": "code",
   "execution_count": 116,
   "id": "dd40e827-6dba-4859-9452-8f79cc9509d6",
   "metadata": {},
   "outputs": [
    {
     "data": {
      "text/plain": [
       "{1, 2, 8}"
      ]
     },
     "execution_count": 116,
     "metadata": {},
     "output_type": "execute_result"
    }
   ],
   "source": [
    "a = {1,2,4,5}\n",
    "b = {4,5,8}\n",
    "a.symmetric_difference(b)"
   ]
  },
  {
   "cell_type": "code",
   "execution_count": 117,
   "id": "0831a7fe-bdc2-4f56-9d0c-b54a894d57a1",
   "metadata": {},
   "outputs": [
    {
     "data": {
      "text/plain": [
       "False"
      ]
     },
     "execution_count": 117,
     "metadata": {},
     "output_type": "execute_result"
    }
   ],
   "source": [
    "a = {1,2,4,5}\n",
    "b = {4,5,8}\n",
    "b.issubset(a)"
   ]
  },
  {
   "cell_type": "code",
   "execution_count": 118,
   "id": "09e72567-9202-4547-832a-b38e50694d91",
   "metadata": {},
   "outputs": [
    {
     "data": {
      "text/plain": [
       "{1, 2, 4, 5}"
      ]
     },
     "execution_count": 118,
     "metadata": {},
     "output_type": "execute_result"
    }
   ],
   "source": [
    "import copy \n",
    "a = {1,2,4,5}\n",
    "b = a.copy()\n",
    "b"
   ]
  },
  {
   "cell_type": "code",
   "execution_count": 119,
   "id": "8c4e455b-99d3-43e4-852b-703fab429c60",
   "metadata": {},
   "outputs": [
    {
     "data": {
      "text/plain": [
       "frozenset({1, 2, 4, 5})"
      ]
     },
     "execution_count": 119,
     "metadata": {},
     "output_type": "execute_result"
    }
   ],
   "source": [
    "a = {1,2,4,5}\n",
    "b = frozenset(a)\n",
    "b"
   ]
  },
  {
   "cell_type": "code",
   "execution_count": 120,
   "id": "70d53e02-6acc-4471-852d-bc6739f7d354",
   "metadata": {},
   "outputs": [
    {
     "data": {
      "text/plain": [
       "5"
      ]
     },
     "execution_count": 120,
     "metadata": {},
     "output_type": "execute_result"
    }
   ],
   "source": [
    "max(a)"
   ]
  },
  {
   "cell_type": "code",
   "execution_count": 121,
   "id": "42172ef9-8f05-4933-8c79-0aa6d5bf3e85",
   "metadata": {},
   "outputs": [
    {
     "data": {
      "text/plain": [
       "1"
      ]
     },
     "execution_count": 121,
     "metadata": {},
     "output_type": "execute_result"
    }
   ],
   "source": [
    "min(a)"
   ]
  },
  {
   "cell_type": "code",
   "execution_count": 125,
   "id": "ed8331a8-4a0a-48a0-b7f6-f7649ad5d032",
   "metadata": {},
   "outputs": [
    {
     "data": {
      "text/plain": [
       "{1, 2, 3, 8}"
      ]
     },
     "execution_count": 125,
     "metadata": {},
     "output_type": "execute_result"
    }
   ],
   "source": [
    "a = {1,2,3,'b',8}\n",
    "b = {i for i in a if isinstance(i,int)}\n",
    "b"
   ]
  },
  {
   "cell_type": "code",
   "execution_count": null,
   "id": "c2ab1e65-dc8c-4af6-b66e-000e47399c4e",
   "metadata": {},
   "outputs": [],
   "source": []
  },
  {
   "cell_type": "code",
   "execution_count": null,
   "id": "3730d61b-a98f-462b-ab94-ec630bd4f950",
   "metadata": {},
   "outputs": [],
   "source": []
  },
  {
   "cell_type": "code",
   "execution_count": null,
   "id": "8b1ff4b6-e50a-4723-b5d1-e89898bcf920",
   "metadata": {},
   "outputs": [],
   "source": []
  },
  {
   "cell_type": "code",
   "execution_count": null,
   "id": "c87f868b-6637-4549-ae37-97af59f35e24",
   "metadata": {},
   "outputs": [],
   "source": []
  },
  {
   "cell_type": "code",
   "execution_count": null,
   "id": "9a1fdc91-7814-48a6-8562-ae8a14e9dfc0",
   "metadata": {},
   "outputs": [],
   "source": []
  },
  {
   "cell_type": "code",
   "execution_count": null,
   "id": "b3c35f9f-e7b4-4b5a-8b8d-88a49ba8764f",
   "metadata": {},
   "outputs": [],
   "source": []
  },
  {
   "cell_type": "code",
   "execution_count": null,
   "id": "6b8eef18-40bf-4b89-ab72-d6e418fd18d2",
   "metadata": {},
   "outputs": [],
   "source": []
  }
 ],
 "metadata": {
  "kernelspec": {
   "display_name": "Python 3 (ipykernel)",
   "language": "python",
   "name": "python3"
  },
  "language_info": {
   "codemirror_mode": {
    "name": "ipython",
    "version": 3
   },
   "file_extension": ".py",
   "mimetype": "text/x-python",
   "name": "python",
   "nbconvert_exporter": "python",
   "pygments_lexer": "ipython3",
   "version": "3.10.11"
  }
 },
 "nbformat": 4,
 "nbformat_minor": 5
}
