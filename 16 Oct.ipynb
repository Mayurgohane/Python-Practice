{
 "cells": [
  {
   "cell_type": "code",
   "execution_count": 1,
   "id": "886b4ac2-fe46-4361-9e4c-d8911ecd5e35",
   "metadata": {},
   "outputs": [
    {
     "data": {
      "text/plain": [
       "{1, 2, 3, 4, 5}"
      ]
     },
     "execution_count": 1,
     "metadata": {},
     "output_type": "execute_result"
    }
   ],
   "source": [
    "a = {1,1,2,3,4,5}\n",
    "a"
   ]
  },
  {
   "cell_type": "code",
   "execution_count": 4,
   "id": "d3ad69f8-017b-484d-b42d-11ece9785700",
   "metadata": {},
   "outputs": [
    {
     "name": "stdout",
     "output_type": "stream",
     "text": [
      "1 2 3 4 5 "
     ]
    }
   ],
   "source": [
    "a = {1,1,2,3,4,5}\n",
    "for i in a:\n",
    "    print(i,end=' ')"
   ]
  },
  {
   "cell_type": "code",
   "execution_count": 6,
   "id": "2233b14a-87bf-46ce-a69b-2a00beed1a9a",
   "metadata": {},
   "outputs": [
    {
     "data": {
      "text/plain": [
       "{1, 2}"
      ]
     },
     "execution_count": 6,
     "metadata": {},
     "output_type": "execute_result"
    }
   ],
   "source": [
    "a = {1}\n",
    "b = {2}\n",
    "a.update(b)\n",
    "a"
   ]
  },
  {
   "cell_type": "code",
   "execution_count": 7,
   "id": "066641f4-82e5-4905-a290-45535aab3208",
   "metadata": {},
   "outputs": [
    {
     "data": {
      "text/plain": [
       "{2, 3, 4, 5}"
      ]
     },
     "execution_count": 7,
     "metadata": {},
     "output_type": "execute_result"
    }
   ],
   "source": [
    "a = {1,2,3,4,5}\n",
    "a.remove(1)\n",
    "a"
   ]
  },
  {
   "cell_type": "code",
   "execution_count": 8,
   "id": "8d268b27-4bfc-4efb-bff0-e7023b128785",
   "metadata": {},
   "outputs": [
    {
     "data": {
      "text/plain": [
       "set()"
      ]
     },
     "execution_count": 8,
     "metadata": {},
     "output_type": "execute_result"
    }
   ],
   "source": [
    "a = {1,2,3,4,5}\n",
    "for i in a.copy():\n",
    "    a.remove(i)\n",
    "a"
   ]
  },
  {
   "cell_type": "code",
   "execution_count": 9,
   "id": "883ccf93-4fd4-4aa3-8e60-1578fce6ce85",
   "metadata": {},
   "outputs": [
    {
     "data": {
      "text/plain": [
       "{2, 5}"
      ]
     },
     "execution_count": 9,
     "metadata": {},
     "output_type": "execute_result"
    }
   ],
   "source": [
    "a = {1,2,3,4,5,}\n",
    "b = {6,7,8,9,10,2,5}\n",
    "c = a.intersection(b)\n",
    "c"
   ]
  },
  {
   "cell_type": "code",
   "execution_count": 10,
   "id": "181e2f26-320e-42a1-b11f-fd80bb8c95ed",
   "metadata": {},
   "outputs": [
    {
     "data": {
      "text/plain": [
       "{1, 2, 3, 4, 5, 6, 7, 8, 9, 10}"
      ]
     },
     "execution_count": 10,
     "metadata": {},
     "output_type": "execute_result"
    }
   ],
   "source": [
    "a = {1,2,3,4,5,}\n",
    "b = {6,7,8,9,10,2,5}\n",
    "a.union(b)"
   ]
  },
  {
   "cell_type": "code",
   "execution_count": 11,
   "id": "cc213db8-28a3-42f8-9e0d-81c4e7115151",
   "metadata": {},
   "outputs": [
    {
     "data": {
      "text/plain": [
       "{1, 3, 4}"
      ]
     },
     "execution_count": 11,
     "metadata": {},
     "output_type": "execute_result"
    }
   ],
   "source": [
    "a = {1,2,3,4,5,}\n",
    "b = {6,7,8,9,10,2,5}\n",
    "a.difference(b)"
   ]
  },
  {
   "cell_type": "code",
   "execution_count": 12,
   "id": "8127f174-8f97-4751-9afb-a7ecbedf7401",
   "metadata": {},
   "outputs": [
    {
     "data": {
      "text/plain": [
       "{1, 3, 4, 6, 7, 8, 9, 10}"
      ]
     },
     "execution_count": 12,
     "metadata": {},
     "output_type": "execute_result"
    }
   ],
   "source": [
    "a = {1,2,3,4,5,}\n",
    "b = {6,7,8,9,10,2,5}\n",
    "a.symmetric_difference(b)"
   ]
  },
  {
   "cell_type": "code",
   "execution_count": 13,
   "id": "d4d4c965-13ff-471e-a8f4-578408f33fc4",
   "metadata": {},
   "outputs": [
    {
     "data": {
      "text/plain": [
       "False"
      ]
     },
     "execution_count": 13,
     "metadata": {},
     "output_type": "execute_result"
    }
   ],
   "source": [
    "a = {1,2,3,4,5,}\n",
    "b = {6,7,8,9,10,2,5}\n",
    "a.issubset(b)"
   ]
  },
  {
   "cell_type": "code",
   "execution_count": 15,
   "id": "f7d70da7-fd79-4a2b-a2f1-1d206f486f16",
   "metadata": {},
   "outputs": [
    {
     "data": {
      "text/plain": [
       "True"
      ]
     },
     "execution_count": 15,
     "metadata": {},
     "output_type": "execute_result"
    }
   ],
   "source": [
    "a = {1,2,3,4,5,}\n",
    "b = {1,2,3}\n",
    "b.issubset(a)"
   ]
  },
  {
   "cell_type": "code",
   "execution_count": 16,
   "id": "094b2139-de2c-41fb-8b9c-39ef1fbadefd",
   "metadata": {},
   "outputs": [
    {
     "data": {
      "text/plain": [
       "{1, 2, 3, 4, 5}"
      ]
     },
     "execution_count": 16,
     "metadata": {},
     "output_type": "execute_result"
    }
   ],
   "source": [
    "import copy \n",
    "a = {1,2,3,4,5,}\n",
    "b = copy.copy(a)\n",
    "b"
   ]
  },
  {
   "cell_type": "code",
   "execution_count": 17,
   "id": "772a2a81-672f-4626-a9e8-966cb7e6c4fc",
   "metadata": {},
   "outputs": [
    {
     "name": "stdout",
     "output_type": "stream",
     "text": [
      "<class 'frozenset'>\n"
     ]
    }
   ],
   "source": [
    "a = {1,2,3,4,5,}\n",
    "b = frozenset(a)\n",
    "print(type(b))"
   ]
  },
  {
   "cell_type": "code",
   "execution_count": 18,
   "id": "b611e05c-77fc-4d13-833d-afa715822be4",
   "metadata": {},
   "outputs": [
    {
     "data": {
      "text/plain": [
       "1"
      ]
     },
     "execution_count": 18,
     "metadata": {},
     "output_type": "execute_result"
    }
   ],
   "source": [
    "a = {1,2,3,4,5,}\n",
    "min(a)"
   ]
  },
  {
   "cell_type": "code",
   "execution_count": 19,
   "id": "8510a3bc-a267-4631-a303-bb0ca6792b5f",
   "metadata": {},
   "outputs": [
    {
     "data": {
      "text/plain": [
       "5"
      ]
     },
     "execution_count": 19,
     "metadata": {},
     "output_type": "execute_result"
    }
   ],
   "source": [
    "a = {1,2,3,4,5,}\n",
    "max(a)"
   ]
  },
  {
   "cell_type": "code",
   "execution_count": 20,
   "id": "36b2261e-6156-4bcf-8abc-b4d2fe03d1eb",
   "metadata": {},
   "outputs": [
    {
     "data": {
      "text/plain": [
       "1"
      ]
     },
     "execution_count": 20,
     "metadata": {},
     "output_type": "execute_result"
    }
   ],
   "source": [
    "a = {1, 2, 'b', 9, 'z', 7}\n",
    "b = {i for i in a if isinstance(i,int)}\n",
    "min(b)"
   ]
  },
  {
   "cell_type": "code",
   "execution_count": 21,
   "id": "2060c44b-c9fd-4f1b-bef9-917e645dbd72",
   "metadata": {},
   "outputs": [
    {
     "data": {
      "text/plain": [
       "9"
      ]
     },
     "execution_count": 21,
     "metadata": {},
     "output_type": "execute_result"
    }
   ],
   "source": [
    "c={i for i in a if isinstance(i,int)}\n",
    "max(c)"
   ]
  },
  {
   "cell_type": "code",
   "execution_count": 22,
   "id": "65fc56b8-03af-4365-bd53-6becad8a7d58",
   "metadata": {},
   "outputs": [
    {
     "data": {
      "text/plain": [
       "6"
      ]
     },
     "execution_count": 22,
     "metadata": {},
     "output_type": "execute_result"
    }
   ],
   "source": [
    "a = {1, 2, 'b', 9, 'z', 7}\n",
    "len(a)"
   ]
  },
  {
   "cell_type": "code",
   "execution_count": 23,
   "id": "7769d44c-c5bc-466a-a712-995c755a68dd",
   "metadata": {},
   "outputs": [
    {
     "data": {
      "text/plain": [
       "{1: 1, 2: 1, 'z': 1, 7: 1, 9: 1, 'b': 1}"
      ]
     },
     "execution_count": 23,
     "metadata": {},
     "output_type": "execute_result"
    }
   ],
   "source": [
    "from collections import Counter \n",
    "a = {1, 2, 'b', 9, 'z', 7}\n",
    "b = dict(Counter(a))\n",
    "b"
   ]
  },
  {
   "cell_type": "code",
   "execution_count": 24,
   "id": "04b93a33-64a4-4040-8adb-14db595b5137",
   "metadata": {},
   "outputs": [
    {
     "name": "stdout",
     "output_type": "stream",
     "text": [
      "present\n"
     ]
    }
   ],
   "source": [
    "a = {1, 2, 'b', 9, 'z', 7}\n",
    "b = [2]\n",
    "for i in b:\n",
    "    if i in a:\n",
    "        print('present')\n",
    "    else:\n",
    "        print('no')"
   ]
  },
  {
   "cell_type": "code",
   "execution_count": 26,
   "id": "b673dbe0-dae4-4a99-8ced-81696921b194",
   "metadata": {},
   "outputs": [
    {
     "name": "stdout",
     "output_type": "stream",
     "text": [
      "\n",
      "* \n",
      "* * \n",
      "* * * \n",
      "* * * * \n",
      "* * * * * \n"
     ]
    }
   ],
   "source": [
    "for i in range(5+1):\n",
    "    for j in range(1,i+1):\n",
    "        print('*',end=' ')\n",
    "    print()"
   ]
  },
  {
   "cell_type": "code",
   "execution_count": 28,
   "id": "e6683722-9a0d-48d6-8236-cf8fffaadcfb",
   "metadata": {},
   "outputs": [
    {
     "name": "stdout",
     "output_type": "stream",
     "text": [
      "        * \n",
      "      * * \n",
      "    * * * \n",
      "  * * * * \n",
      "* * * * * \n"
     ]
    }
   ],
   "source": [
    "n=5\n",
    "for i in range(n):\n",
    "    for k in range(n-i-1):\n",
    "        print(' ',end=' ')\n",
    "    for m in range(i+1):\n",
    "        print('*',end=' ')\n",
    "    print()"
   ]
  },
  {
   "cell_type": "code",
   "execution_count": 31,
   "id": "c04bcf7c-2cc9-4fd6-b884-05da86369db4",
   "metadata": {},
   "outputs": [
    {
     "name": "stdout",
     "output_type": "stream",
     "text": [
      "\n",
      "1 \n",
      "1 2 \n",
      "1 2 3 \n",
      "1 2 3 4 \n",
      "1 2 3 4 5 \n"
     ]
    }
   ],
   "source": [
    "n=6\n",
    "for i in range(n):\n",
    "    for j in range(1,i+1):\n",
    "        print(j,end=' ')\n",
    "    print()"
   ]
  },
  {
   "cell_type": "code",
   "execution_count": 33,
   "id": "344cc1f8-e8a5-487e-b6c4-79d342f47176",
   "metadata": {},
   "outputs": [
    {
     "name": "stdout",
     "output_type": "stream",
     "text": [
      "A \n",
      "B B \n",
      "C C C \n",
      "D D D D \n",
      "E E E E E \n"
     ]
    }
   ],
   "source": [
    "for i in range(5):\n",
    "    l = chr(65+i)\n",
    "    for j in range(i+1):\n",
    "        print(l,end=' ')\n",
    "    print()"
   ]
  },
  {
   "cell_type": "code",
   "execution_count": 34,
   "id": "976d93bc-0840-48e6-a60c-2c3f41f71e68",
   "metadata": {},
   "outputs": [
    {
     "name": "stdout",
     "output_type": "stream",
     "text": [
      "k \n",
      "k k \n",
      "k k k \n",
      "k k k k \n",
      "k k k k k \n"
     ]
    }
   ],
   "source": [
    "for i in range(5):\n",
    "    for j in range(i+1):\n",
    "        print('k',end=' ')\n",
    "    print()"
   ]
  },
  {
   "cell_type": "code",
   "execution_count": 35,
   "id": "d29a997c-3b25-437e-a231-e974b6557e18",
   "metadata": {},
   "outputs": [
    {
     "name": "stdout",
     "output_type": "stream",
     "text": [
      "\n",
      "M\n",
      "Ma\n",
      "May\n",
      "Mayu\n",
      "Mayur\n"
     ]
    }
   ],
   "source": [
    "a='Mayur'\n",
    "for i in range(len(a)+1):\n",
    "    print(a[:i])"
   ]
  },
  {
   "cell_type": "code",
   "execution_count": 37,
   "id": "2c636601-4667-4efa-8832-d54e569c784d",
   "metadata": {},
   "outputs": [
    {
     "data": {
      "text/plain": [
       "{'A': 15, 'B': 10, 'D': 25}"
      ]
     },
     "execution_count": 37,
     "metadata": {},
     "output_type": "execute_result"
    }
   ],
   "source": [
    "a = {\n",
    "    'D': 25,\n",
    "    'B': 10,\n",
    "    'A':15}\n",
    "b ={}\n",
    "for i in sorted(a.keys()):\n",
    "    b[i]=a[i]\n",
    "b"
   ]
  },
  {
   "cell_type": "code",
   "execution_count": 39,
   "id": "8e5b82d1-0c7a-4144-a9fe-514e6622dbeb",
   "metadata": {},
   "outputs": [
    {
     "data": {
      "text/plain": [
       "{'B': 10, 'A': 15, 'D': 25}"
      ]
     },
     "execution_count": 39,
     "metadata": {},
     "output_type": "execute_result"
    }
   ],
   "source": [
    "a = {\n",
    "    'D': 25,\n",
    "    'B': 10,\n",
    "    'A':15}\n",
    "b = dict(sorted(a.items(), key=lambda x: x[1]))\n",
    "b"
   ]
  },
  {
   "cell_type": "code",
   "execution_count": 40,
   "id": "4e0dfc40-597a-4823-805b-9b3e023f9a9d",
   "metadata": {},
   "outputs": [
    {
     "data": {
      "text/plain": [
       "50"
      ]
     },
     "execution_count": 40,
     "metadata": {},
     "output_type": "execute_result"
    }
   ],
   "source": [
    "a = {\n",
    "    'D': 25,\n",
    "    'B': 10,\n",
    "    'A':15}\n",
    "sum(a.values())"
   ]
  },
  {
   "cell_type": "code",
   "execution_count": 42,
   "id": "228bb2ac-252a-4b37-87f6-a383b68373cd",
   "metadata": {},
   "outputs": [],
   "source": [
    "a = {\n",
    "    'D': 25,\n",
    "    'B': 10,\n",
    "    'A':15}"
   ]
  },
  {
   "cell_type": "code",
   "execution_count": 43,
   "id": "e8c4065d-8855-4a25-bf2d-69ea89c50749",
   "metadata": {},
   "outputs": [
    {
     "data": {
      "text/plain": [
       "25"
      ]
     },
     "execution_count": 43,
     "metadata": {},
     "output_type": "execute_result"
    }
   ],
   "source": [
    "a.pop('D')"
   ]
  },
  {
   "cell_type": "code",
   "execution_count": 44,
   "id": "2500809c-155c-47ff-8b2b-aee35bd9ac77",
   "metadata": {},
   "outputs": [
    {
     "data": {
      "text/plain": [
       "{'B': 10, 'A': 15}"
      ]
     },
     "execution_count": 44,
     "metadata": {},
     "output_type": "execute_result"
    }
   ],
   "source": [
    "a"
   ]
  },
  {
   "cell_type": "code",
   "execution_count": 46,
   "id": "fa97c792-0280-48ca-8f8e-32dbc1d879a2",
   "metadata": {},
   "outputs": [
    {
     "name": "stdout",
     "output_type": "stream",
     "text": [
      "['aet', 'ant', 'abt']\n"
     ]
    }
   ],
   "source": [
    "a = ['eat','tea','tan','ate','nat','bat']\n",
    "b = {}\n",
    "for i in a:\n",
    "    c = ''.join(sorted(i))\n",
    "    if c in b:\n",
    "        b[c].append(i)\n",
    "    else:\n",
    "        b[c]=[i]\n",
    "print(list(b))"
   ]
  },
  {
   "cell_type": "code",
   "execution_count": 48,
   "id": "4fce8a2b-8b56-4ffd-a8fa-7a7bc8fd7f64",
   "metadata": {},
   "outputs": [],
   "source": [
    "from collections import Counter \n",
    "def check(n1,n2):\n",
    "    bin1=bin(n1)[2:]\n",
    "    bin2=bin(n2)[2:]\n",
    "    f1=Counter(bin1)\n",
    "    f2=Counter(bin2)\n",
    "    return f1==f2"
   ]
  },
  {
   "cell_type": "code",
   "execution_count": 49,
   "id": "9391311d-0095-4ff8-89ce-4b44663acf05",
   "metadata": {},
   "outputs": [
    {
     "data": {
      "text/plain": [
       "True"
      ]
     },
     "execution_count": 49,
     "metadata": {},
     "output_type": "execute_result"
    }
   ],
   "source": [
    "check(5,6)"
   ]
  },
  {
   "cell_type": "code",
   "execution_count": 50,
   "id": "5b1ca6cb-821c-4451-8ee6-5136b002e2f6",
   "metadata": {},
   "outputs": [],
   "source": [
    "from collections import Counter \n",
    "def ana(words):\n",
    "    b = Counter()\n",
    "    for i in words:\n",
    "        c= ''.join(sorted(i))\n",
    "        b[i] += 1\n",
    "    maxx=max(b.items())\n",
    "    return maxx"
   ]
  },
  {
   "cell_type": "code",
   "execution_count": 51,
   "id": "292f52da-b41c-48c0-8d34-8f56497df83c",
   "metadata": {},
   "outputs": [
    {
     "name": "stdout",
     "output_type": "stream",
     "text": [
      "('world', 1)\n"
     ]
    }
   ],
   "source": [
    "words = [\"listen\", \"silent\", \"enlist\", \"hello\", \"world\", \"test\", \"tset\"]\n",
    "print(ana(words))"
   ]
  },
  {
   "cell_type": "code",
   "execution_count": 52,
   "id": "ff7d8852-cca0-4591-9b31-a82b3735dbd2",
   "metadata": {},
   "outputs": [],
   "source": [
    "from collections import Counter \n",
    "def ana(words):\n",
    "    b = Counter()\n",
    "    for i in words:\n",
    "        c= ''.join(sorted(i))\n",
    "        b[i] += 1\n",
    "    maxx=min(b.items())\n",
    "    return maxx"
   ]
  },
  {
   "cell_type": "code",
   "execution_count": 53,
   "id": "465e92df-50e7-4b0a-bcd4-f47e4152ed38",
   "metadata": {},
   "outputs": [
    {
     "name": "stdout",
     "output_type": "stream",
     "text": [
      "('enlist', 1)\n"
     ]
    }
   ],
   "source": [
    "words = [\"listen\", \"silent\", \"enlist\", \"hello\", \"world\", \"test\", \"tset\"]\n",
    "print(ana(words))"
   ]
  },
  {
   "cell_type": "code",
   "execution_count": 54,
   "id": "4ec46d49-5868-4eda-ba75-019fbbfc5785",
   "metadata": {},
   "outputs": [
    {
     "data": {
      "text/plain": [
       "{1: 1, 2: 2, 3: 3, 4: 4, 'Mayur': 1, 'apple': 2, 'banana': 1}"
      ]
     },
     "execution_count": 54,
     "metadata": {},
     "output_type": "execute_result"
    }
   ],
   "source": [
    "from collections import Counter \n",
    "a = [1, 2, 2, 3, 3, 3, 4, 4, 4, 4,'Mayur', 'apple', 'banana', 'apple']\n",
    "b = dict(Counter(a))\n",
    "b"
   ]
  },
  {
   "cell_type": "code",
   "execution_count": 56,
   "id": "7d94d1fa-56f8-4110-999f-97bdb9dde46e",
   "metadata": {},
   "outputs": [
    {
     "data": {
      "text/plain": [
       "{1: 1, 2: 2, 3: 3, 4: 4, 'Mayur': 1, 'apple': 2, 'banana': 1}"
      ]
     },
     "execution_count": 56,
     "metadata": {},
     "output_type": "execute_result"
    }
   ],
   "source": [
    "b={}\n",
    "for i in a:\n",
    "    if i in b:\n",
    "        b[i] += 1\n",
    "    else:\n",
    "        b[i] = 1\n",
    "b"
   ]
  },
  {
   "cell_type": "code",
   "execution_count": 57,
   "id": "44d54aa8-1966-405e-8baa-47a4c7d4797a",
   "metadata": {},
   "outputs": [
    {
     "data": {
      "text/plain": [
       "{'a': 1, 'b': 2, 'c': 3, 'd': 4}"
      ]
     },
     "execution_count": 57,
     "metadata": {},
     "output_type": "execute_result"
    }
   ],
   "source": [
    "a = [('a', 1), ('b', 2), ('c', 3), ('d', 4)]\n",
    "b = dict(a)\n",
    "b"
   ]
  },
  {
   "cell_type": "code",
   "execution_count": 59,
   "id": "d1bdf529-c182-4276-9a94-1792baa666ba",
   "metadata": {},
   "outputs": [
    {
     "data": {
      "text/plain": [
       "[(1, 1), (2, 8), (3, 27), (4, 64), (5, 125)]"
      ]
     },
     "execution_count": 59,
     "metadata": {},
     "output_type": "execute_result"
    }
   ],
   "source": [
    "a = [1,2,3,4,5]\n",
    "b = [(i,i**3) for i in a]\n",
    "b"
   ]
  },
  {
   "cell_type": "code",
   "execution_count": 61,
   "id": "b1a3172c-a31e-41a4-bbba-cb18fcb56aa4",
   "metadata": {},
   "outputs": [
    {
     "data": {
      "text/plain": [
       "[(4, 1), (2, 2), (1, 4), (3, 5)]"
      ]
     },
     "execution_count": 61,
     "metadata": {},
     "output_type": "execute_result"
    }
   ],
   "source": [
    "a = [(1, 4), (2, 2), (3, 5), (4, 1)]\n",
    "b = sorted(a,key=lambda x:x[1])\n",
    "b"
   ]
  },
  {
   "cell_type": "code",
   "execution_count": 62,
   "id": "7cc662f3-9864-4d93-9f8c-be1af7ba1eb1",
   "metadata": {},
   "outputs": [
    {
     "data": {
      "text/plain": [
       "[(1, 4), (2, 2), (3, 5), (4, 1)]"
      ]
     },
     "execution_count": 62,
     "metadata": {},
     "output_type": "execute_result"
    }
   ],
   "source": [
    "a = [(1, 4), (2, 2), (3, 5), (4, 1)]\n",
    "b = sorted(a,key=lambda x:x[0])\n",
    "b"
   ]
  },
  {
   "cell_type": "code",
   "execution_count": 66,
   "id": "2c26575a-eee9-4e2a-b537-ab966e3c900f",
   "metadata": {},
   "outputs": [],
   "source": [
    "#insertion sort \n",
    "def insertion(a):\n",
    "    for i in range(1,len(a)):\n",
    "        key=a[i]\n",
    "        j=i-1\n",
    "        while j>=0 and a[j]>key:\n",
    "            a[j+1]=a[j]\n",
    "            j-=1\n",
    "        a[j+1]=key\n",
    "    return a"
   ]
  },
  {
   "cell_type": "code",
   "execution_count": 68,
   "id": "bb8efa4e-6c87-4bf1-b7e2-33128a988cd2",
   "metadata": {},
   "outputs": [
    {
     "name": "stdout",
     "output_type": "stream",
     "text": [
      "[1, 2, 3, 5, 7, 9]\n"
     ]
    }
   ],
   "source": [
    "arr = [5, 2, 9, 1, 7, 3]\n",
    "print(insertion(arr))"
   ]
  },
  {
   "cell_type": "code",
   "execution_count": null,
   "id": "d5b15c50-53f9-42aa-b3ad-00fe0b230ebe",
   "metadata": {},
   "outputs": [],
   "source": [
    "#sectional \n",
    "def selection(n):\n",
    "    for i in range(len(a)):\n",
    "        m=i\n",
    "    for j in range(i+1,len(a)):\n",
    "        if a[j]<a[m]:\n",
    "            m=j\n",
    "    "
   ]
  },
  {
   "cell_type": "code",
   "execution_count": 70,
   "id": "40f28635-b8a6-4ac9-80b1-96231c966c87",
   "metadata": {},
   "outputs": [],
   "source": [
    "#buble sort \n",
    "def buble(n):\n",
    "    for i in range(len(a)):\n",
    "        for j in range(len(a)-1):\n",
    "            if a[j]>a[j+1]:\n",
    "                a[j],a[j+1]=a[j+1],a[j]"
   ]
  },
  {
   "cell_type": "code",
   "execution_count": 71,
   "id": "a4146c47-4ae5-4333-ac0f-b7833e559623",
   "metadata": {},
   "outputs": [],
   "source": [
    "#merge sort \n",
    "def merge(n):\n",
    "    if len(n)<=1:\n",
    "        return n\n",
    "    mid=len(n)//2\n",
    "    left=merge(n[:mid])\n",
    "    right=merge(n[mid:])\n",
    "    return sorted(left+right)"
   ]
  },
  {
   "cell_type": "code",
   "execution_count": 72,
   "id": "fed4f166-79e9-4273-a320-60dd0f60be05",
   "metadata": {},
   "outputs": [],
   "source": [
    "#quick sort \n",
    "def quick(n):\n",
    "    if len(n)<=1:\n",
    "        return n\n",
    "    p = n[len(n)//2]\n",
    "    l = [i for i in n if i < p]\n",
    "    m = [i for i in n if i == p]\n",
    "    r = [i for i in n if i > p]\n",
    "    return quick(l)+m+quick(r)"
   ]
  },
  {
   "cell_type": "code",
   "execution_count": 73,
   "id": "d066b79e-493a-4460-a341-77669e9f9e75",
   "metadata": {},
   "outputs": [],
   "source": [
    "def large(n):\n",
    "    i=2\n",
    "    while i*i <=n:\n",
    "        if n%i:\n",
    "            i += 1\n",
    "        else:\n",
    "            n//=i\n",
    "    return n"
   ]
  },
  {
   "cell_type": "code",
   "execution_count": 74,
   "id": "ab95790c-30ad-4318-bc3b-bf23ebca79a3",
   "metadata": {},
   "outputs": [
    {
     "data": {
      "text/plain": [
       "17"
      ]
     },
     "execution_count": 74,
     "metadata": {},
     "output_type": "execute_result"
    }
   ],
   "source": [
    "large(255)"
   ]
  },
  {
   "cell_type": "code",
   "execution_count": 75,
   "id": "f46458ea-0b76-4498-a601-290b36507e92",
   "metadata": {},
   "outputs": [
    {
     "data": {
      "text/plain": [
       "3628800"
      ]
     },
     "execution_count": 75,
     "metadata": {},
     "output_type": "execute_result"
    }
   ],
   "source": [
    "n=10\n",
    "f=1\n",
    "for i in range(1,n+1):\n",
    "    f *= i\n",
    "f"
   ]
  },
  {
   "cell_type": "code",
   "execution_count": 76,
   "id": "975db7fb-15f3-40d9-91f6-3ca6d0e1a492",
   "metadata": {},
   "outputs": [
    {
     "data": {
      "text/plain": [
       "120"
      ]
     },
     "execution_count": 76,
     "metadata": {},
     "output_type": "execute_result"
    }
   ],
   "source": [
    "n=5\n",
    "f=1\n",
    "for i in range(1,n+1):\n",
    "    f *=i\n",
    "f"
   ]
  },
  {
   "cell_type": "code",
   "execution_count": 77,
   "id": "24112490-b94e-4d77-8899-5d985963d738",
   "metadata": {},
   "outputs": [],
   "source": [
    "#fins sumof odd factors of numbers \n",
    "def oddf(n):\n",
    "    summ=0\n",
    "    for i in range(1,n+1):\n",
    "        if n%i==0 and i%2!=0:\n",
    "            summ += i\n",
    "    return summ"
   ]
  },
  {
   "cell_type": "code",
   "execution_count": 78,
   "id": "2c6cd84f-57e6-49ba-bead-95860deec6b0",
   "metadata": {},
   "outputs": [],
   "source": [
    "def binary(n):\n",
    "    binr=bin(n)[2:]\n",
    "    return binr==binr[::-1]"
   ]
  },
  {
   "cell_type": "code",
   "execution_count": 80,
   "id": "c4d1d414-10ee-49ef-b9c7-ae05269f8ca3",
   "metadata": {},
   "outputs": [],
   "source": [
    "#common divisor of 2 numbers \n",
    "def common(a,b):\n",
    "    c =[]\n",
    "    minn=min(a,b)\n",
    "    for i in range(1,minn+1):\n",
    "        if a%i==0 and b%i==0:\n",
    "            c.append(i)\n",
    "    return c"
   ]
  },
  {
   "cell_type": "code",
   "execution_count": 81,
   "id": "363cc828-eda0-4ee1-bb60-b9649ffd5688",
   "metadata": {},
   "outputs": [],
   "source": [
    "def countd(n):\n",
    "    c = 0\n",
    "    for i in range(1,n+1):\n",
    "        if n%i==0:\n",
    "            c += 1\n",
    "    if c%2==0:\n",
    "        print('e')\n",
    "    else:\n",
    "        print('o')"
   ]
  },
  {
   "cell_type": "code",
   "execution_count": null,
   "id": "3d5d5b62-e770-4a83-81a8-f66e99386a81",
   "metadata": {},
   "outputs": [],
   "source": []
  },
  {
   "cell_type": "code",
   "execution_count": 82,
   "id": "d54e321d-3d39-4e92-98ce-2de8b3288287",
   "metadata": {},
   "outputs": [],
   "source": [
    "#find min sum of factors of numbers \n",
    "def sumf(n):\n",
    "    summ=0\n",
    "    for i in range(1,n+1):\n",
    "        if n%i==0:\n",
    "            summ += i\n",
    "    return summ"
   ]
  },
  {
   "cell_type": "code",
   "execution_count": 84,
   "id": "11abd11b-dcae-4e93-b3de-4b32bc3d70d0",
   "metadata": {},
   "outputs": [
    {
     "data": {
      "text/plain": [
       "-2"
      ]
     },
     "execution_count": 84,
     "metadata": {},
     "output_type": "execute_result"
    }
   ],
   "source": [
    "n = [1,2,3,4,5,6,7,8,9,10]\n",
    "oo = 0\n",
    "ee = 0\n",
    "for i in range(len(a)):\n",
    "    if i%2==0:\n",
    "        ee += i\n",
    "    else:\n",
    "        oo += i\n",
    "final = ee-oo\n",
    "final"
   ]
  },
  {
   "cell_type": "code",
   "execution_count": 87,
   "id": "cd6a9b7e-1a82-4f10-a858-e367f357ff58",
   "metadata": {},
   "outputs": [
    {
     "data": {
      "text/plain": [
       "43.30127018922193"
      ]
     },
     "execution_count": 87,
     "metadata": {},
     "output_type": "execute_result"
    }
   ],
   "source": [
    "#area of tehrahedron\n",
    "import math \n",
    "a = math.sqrt(3)*(5*5)\n",
    "a"
   ]
  },
  {
   "cell_type": "code",
   "execution_count": null,
   "id": "1e5cf39e-7db9-4373-b02c-e38fd8c0a048",
   "metadata": {},
   "outputs": [],
   "source": [
    "#area of tehrahedron\n",
    "import math \n",
    "a = math.sqrt(3)*(side*side)\n",
    "a"
   ]
  },
  {
   "cell_type": "code",
   "execution_count": null,
   "id": "e2166f0b-1e76-445b-9589-abebca5d4525",
   "metadata": {},
   "outputs": [],
   "source": [
    "#perimeter of cylinder \n",
    "a = 2*(d+h)"
   ]
  },
  {
   "cell_type": "code",
   "execution_count": 89,
   "id": "1de762da-d6fa-4b60-a835-5ade863a446a",
   "metadata": {},
   "outputs": [
    {
     "data": {
      "text/plain": [
       "24"
      ]
     },
     "execution_count": 89,
     "metadata": {},
     "output_type": "execute_result"
    }
   ],
   "source": [
    "a = 2*(5+7)\n",
    "a"
   ]
  },
  {
   "cell_type": "code",
   "execution_count": 91,
   "id": "2c3bfd73-425b-43bd-a648-2234f7a048b9",
   "metadata": {},
   "outputs": [
    {
     "data": {
      "text/plain": [
       "Counter({'the': 4,\n",
       "         'Here’s': 1,\n",
       "         'corrected': 1,\n",
       "         'code': 1,\n",
       "         'to': 1,\n",
       "         'find': 1,\n",
       "         'difference': 1,\n",
       "         'between': 1,\n",
       "         'sum': 1,\n",
       "         'of': 1,\n",
       "         'even': 1,\n",
       "         'and': 1,\n",
       "         'odd': 1,\n",
       "         'digits': 1,\n",
       "         'in': 1,\n",
       "         'list': 1})"
      ]
     },
     "execution_count": 91,
     "metadata": {},
     "output_type": "execute_result"
    }
   ],
   "source": [
    "#most occuring \n",
    "from collections import Counter \n",
    "a = \"Here’s the corrected code to find the difference between the sum of even and odd digits in the list\"\n",
    "b = a.split()\n",
    "c = Counter(b)\n",
    "c"
   ]
  },
  {
   "cell_type": "code",
   "execution_count": 92,
   "id": "60b2528b-3e62-475e-b098-f0b08cd0e68b",
   "metadata": {},
   "outputs": [
    {
     "data": {
      "text/plain": [
       "12"
      ]
     },
     "execution_count": 92,
     "metadata": {},
     "output_type": "execute_result"
    }
   ],
   "source": [
    "#sum of even number \n",
    "n=12\n",
    "c=0\n",
    "for i in range(1,n):\n",
    "    if n%i==0 and i%2==0:\n",
    "        c += i\n",
    "c"
   ]
  },
  {
   "cell_type": "code",
   "execution_count": 93,
   "id": "c50c4369-41c3-4cc2-a449-7e20bdb35490",
   "metadata": {},
   "outputs": [
    {
     "data": {
      "text/plain": [
       "4"
      ]
     },
     "execution_count": 93,
     "metadata": {},
     "output_type": "execute_result"
    }
   ],
   "source": [
    "n=12\n",
    "c=0\n",
    "for i in range(1,n):\n",
    "    if n%i==0 and i%2!=0:\n",
    "        c += i\n",
    "c"
   ]
  },
  {
   "cell_type": "code",
   "execution_count": 98,
   "id": "13f5109b-3e64-49eb-a38e-7264b78e1160",
   "metadata": {},
   "outputs": [],
   "source": [
    "#check all digit of number divide it or not \n",
    "def divide(n):\n",
    "    for i in range(n):\n",
    "        if i==0 or n%i!=0:\n",
    "            return False\n",
    "    return True"
   ]
  },
  {
   "cell_type": "code",
   "execution_count": 99,
   "id": "fe09eded-9139-4a9a-9544-0d25a4847e47",
   "metadata": {},
   "outputs": [
    {
     "data": {
      "text/plain": [
       "False"
      ]
     },
     "execution_count": 99,
     "metadata": {},
     "output_type": "execute_result"
    }
   ],
   "source": [
    "divide(91)"
   ]
  },
  {
   "cell_type": "code",
   "execution_count": 103,
   "id": "d3251e02-9459-4a01-b539-e7b7d926f85e",
   "metadata": {},
   "outputs": [
    {
     "data": {
      "text/plain": [
       "'115'"
      ]
     },
     "execution_count": 103,
     "metadata": {},
     "output_type": "execute_result"
    }
   ],
   "source": [
    "#float to decimal \n",
    "a = 77.77\n",
    "b = int(a)\n",
    "c = oct(b)\n",
    "c[2:]"
   ]
  },
  {
   "cell_type": "code",
   "execution_count": 104,
   "id": "f5464788-803a-4c0b-8a45-08ae36542b67",
   "metadata": {},
   "outputs": [
    {
     "data": {
      "text/plain": [
       "'0o115'"
      ]
     },
     "execution_count": 104,
     "metadata": {},
     "output_type": "execute_result"
    }
   ],
   "source": [
    "a = 77.77\n",
    "b = int(a)\n",
    "c = oct(b)\n",
    "c"
   ]
  },
  {
   "cell_type": "code",
   "execution_count": null,
   "id": "344a448c-8689-4513-a86e-fbb03ae2714f",
   "metadata": {},
   "outputs": [],
   "source": [
    "#copy odd line from 1 file to another \n",
    "b=[]\n",
    "with open(filename,'r') as file:\n",
    "    for i,v in enumerate(file):\n",
    "        if i%2==0:\n",
    "            b.append(v)\n",
    "with open(newfile,'r') as new:\n",
    "    new.write(''.join(b))"
   ]
  },
  {
   "cell_type": "code",
   "execution_count": 105,
   "id": "49af44bb-04fd-4372-9b7e-ff50605ab38e",
   "metadata": {},
   "outputs": [
    {
     "data": {
      "text/plain": [
       "'This_ is_ an example_ text'"
      ]
     },
     "execution_count": 105,
     "metadata": {},
     "output_type": "execute_result"
    }
   ],
   "source": [
    "a=\"This is an_example text\"\n",
    "b = ''\n",
    "for i in a:\n",
    "    if i==' ':\n",
    "        b +='_'\n",
    "    if i=='_':\n",
    "        b+=' '\n",
    "    else:\n",
    "        b += i\n",
    "b"
   ]
  },
  {
   "cell_type": "code",
   "execution_count": 106,
   "id": "e152f882-5502-457d-9a46-3834aead257e",
   "metadata": {},
   "outputs": [
    {
     "data": {
      "text/plain": [
       "'06-09-23'"
      ]
     },
     "execution_count": 106,
     "metadata": {},
     "output_type": "execute_result"
    }
   ],
   "source": [
    "d=\"23-09-06\"\n",
    "yy,mm,dd=d.split('-')\n",
    "d = f\"{dd}-{mm}-{yy}\"\n",
    "d"
   ]
  },
  {
   "cell_type": "code",
   "execution_count": 107,
   "id": "8a0f80f4-1d3b-40ff-ad82-17f1ebeae6fc",
   "metadata": {},
   "outputs": [
    {
     "data": {
      "text/plain": [
       "{'a': 0, 'e': 4}"
      ]
     },
     "execution_count": 107,
     "metadata": {},
     "output_type": "execute_result"
    }
   ],
   "source": [
    "a = \"Hello, welcome to the world of AI!\"\n",
    "b = {'a':0, 'e':0}\n",
    "for i in a:\n",
    "    if i=='a' or i=='e':\n",
    "        b[i]+= 1\n",
    "b"
   ]
  },
  {
   "cell_type": "code",
   "execution_count": null,
   "id": "6718bdc1-6235-433a-8b19-98a3f75435c6",
   "metadata": {},
   "outputs": [],
   "source": []
  },
  {
   "cell_type": "code",
   "execution_count": null,
   "id": "7083a7e1-5104-4aee-bac6-fa7cdd695367",
   "metadata": {},
   "outputs": [],
   "source": []
  },
  {
   "cell_type": "code",
   "execution_count": null,
   "id": "ec8e6b16-015a-433e-929f-0654a3660fe0",
   "metadata": {},
   "outputs": [],
   "source": []
  },
  {
   "cell_type": "code",
   "execution_count": null,
   "id": "a58a6b36-83a8-418b-90fc-6fc5821f5c30",
   "metadata": {},
   "outputs": [],
   "source": []
  },
  {
   "cell_type": "code",
   "execution_count": null,
   "id": "eda631b8-c256-424a-a29f-49ba9730d9b8",
   "metadata": {},
   "outputs": [],
   "source": []
  },
  {
   "cell_type": "code",
   "execution_count": null,
   "id": "69a93a96-031b-4790-b8d4-82665256916b",
   "metadata": {},
   "outputs": [],
   "source": []
  },
  {
   "cell_type": "code",
   "execution_count": null,
   "id": "b567be6f-6cc2-44c9-9a7f-bbbd0496878a",
   "metadata": {},
   "outputs": [],
   "source": []
  },
  {
   "cell_type": "code",
   "execution_count": null,
   "id": "a0ee33a7-4c64-4f42-ab0c-2b826345c724",
   "metadata": {},
   "outputs": [],
   "source": []
  },
  {
   "cell_type": "code",
   "execution_count": null,
   "id": "34f1d13c-09ed-4d61-b277-19801fadc769",
   "metadata": {},
   "outputs": [],
   "source": []
  },
  {
   "cell_type": "code",
   "execution_count": null,
   "id": "89a5f99c-bf7f-4aa9-96c2-b40e1445dbac",
   "metadata": {},
   "outputs": [],
   "source": []
  },
  {
   "cell_type": "code",
   "execution_count": null,
   "id": "0761a502-837c-42e1-b0ad-12fee1813730",
   "metadata": {},
   "outputs": [],
   "source": []
  },
  {
   "cell_type": "code",
   "execution_count": null,
   "id": "dac104f9-d101-41e1-9b8e-a911a66932f6",
   "metadata": {},
   "outputs": [],
   "source": []
  },
  {
   "cell_type": "code",
   "execution_count": null,
   "id": "d6c729ee-cf8a-4656-a991-c03a2fcd08a9",
   "metadata": {},
   "outputs": [],
   "source": []
  },
  {
   "cell_type": "code",
   "execution_count": null,
   "id": "d75c522c-da6d-41e2-8452-124154ef1f32",
   "metadata": {},
   "outputs": [],
   "source": []
  }
 ],
 "metadata": {
  "kernelspec": {
   "display_name": "Python 3 (ipykernel)",
   "language": "python",
   "name": "python3"
  },
  "language_info": {
   "codemirror_mode": {
    "name": "ipython",
    "version": 3
   },
   "file_extension": ".py",
   "mimetype": "text/x-python",
   "name": "python",
   "nbconvert_exporter": "python",
   "pygments_lexer": "ipython3",
   "version": "3.10.11"
  }
 },
 "nbformat": 4,
 "nbformat_minor": 5
}
