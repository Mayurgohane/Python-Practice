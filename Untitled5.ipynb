{
 "cells": [
  {
   "cell_type": "code",
   "execution_count": null,
   "id": "881e8924-c222-4fbe-89af-e2714d4b5298",
   "metadata": {},
   "outputs": [],
   "source": [
    "x=[1,2,3,4,5,6]  output=[1,'x',3,'x',5,'x']"
   ]
  },
  {
   "cell_type": "code",
   "execution_count": 3,
   "id": "95a001ff-d607-40df-b169-c7134b38e7d1",
   "metadata": {},
   "outputs": [
    {
     "name": "stdout",
     "output_type": "stream",
     "text": [
      "[1, 2, 3, 4, 5, 6]\n"
     ]
    }
   ],
   "source": [
    "x=[1,2,3,4,5,6]\n",
    "for i in x:\n",
    "    if i==2:\n",
    "        i='x'\n",
    "    if i==4:\n",
    "        i='x'\n",
    "    if i==6:\n",
    "        i='x'\n",
    "print(x)"
   ]
  },
  {
   "cell_type": "code",
   "execution_count": null,
   "id": "ed29ec3f-fc46-44ee-902a-d092c912fa08",
   "metadata": {},
   "outputs": [],
   "source": [
    "x=[1,2,3,4,5,6]  output=[1,'x',3,'x',5,'x']"
   ]
  },
  {
   "cell_type": "code",
   "execution_count": 15,
   "id": "7c3b8fd1-b66f-41ef-b58b-43db25e188a1",
   "metadata": {},
   "outputs": [
    {
     "name": "stdout",
     "output_type": "stream",
     "text": [
      "[1, 2, 3, 4, 5, 6]\n"
     ]
    }
   ],
   "source": [
    "x=[1,2,3,4,5,6]\n",
    "for i,v in enumerate(x):\n",
    "    if v%2==0:\n",
    "        i='x'\n",
    "print(x)"
   ]
  },
  {
   "cell_type": "code",
   "execution_count": null,
   "id": "357adb83-f551-4978-9496-f8fa643f998b",
   "metadata": {},
   "outputs": [],
   "source": []
  },
  {
   "cell_type": "code",
   "execution_count": 10,
   "id": "8d158cfa-d820-4269-9f4d-b230e2d43dba",
   "metadata": {},
   "outputs": [],
   "source": [
    "a = [1,2,3,4,5,6]\n",
    "a[1]='x'"
   ]
  },
  {
   "cell_type": "code",
   "execution_count": 12,
   "id": "5c367deb-135c-4376-94b2-07d0957e2647",
   "metadata": {},
   "outputs": [],
   "source": [
    "a[3]=x"
   ]
  },
  {
   "cell_type": "code",
   "execution_count": 14,
   "id": "a59ead45-8db0-4300-a2c5-db49216640c7",
   "metadata": {},
   "outputs": [
    {
     "data": {
      "text/plain": [
       "[1, 'x', 3, [1, 2, 3, 4, 5, 6], 5, 6]"
      ]
     },
     "execution_count": 14,
     "metadata": {},
     "output_type": "execute_result"
    }
   ],
   "source": []
  },
  {
   "cell_type": "code",
   "execution_count": null,
   "id": "a00adafd-90d4-445c-b7f0-a782cdef79b9",
   "metadata": {},
   "outputs": [],
   "source": []
  },
  {
   "cell_type": "code",
   "execution_count": 20,
   "id": "ba828769-d510-4d53-b653-cf4dcf56ec77",
   "metadata": {},
   "outputs": [],
   "source": [
    "s3='aba'"
   ]
  },
  {
   "cell_type": "code",
   "execution_count": 21,
   "id": "d423f3f7-21c9-4d82-ac24-9b65f5b31768",
   "metadata": {},
   "outputs": [],
   "source": [
    "s1='aabaa'"
   ]
  },
  {
   "cell_type": "code",
   "execution_count": 22,
   "id": "b2af18fd-b435-4956-a0ee-6acabfe7789f",
   "metadata": {},
   "outputs": [],
   "source": [
    "s2='abbc' "
   ]
  },
  {
   "cell_type": "code",
   "execution_count": 28,
   "id": "b48b5680-656b-445e-ab36-9b1e9d80eaa3",
   "metadata": {},
   "outputs": [],
   "source": [
    "def pal(x):\n",
    "    if x==x[::-1]:\n",
    "        print(\"Yes Pal\")\n",
    "    else:\n",
    "        print('No')"
   ]
  },
  {
   "cell_type": "code",
   "execution_count": 30,
   "id": "51aca20f-c9a0-4e4c-9634-eb22aa15d407",
   "metadata": {},
   "outputs": [
    {
     "name": "stdout",
     "output_type": "stream",
     "text": [
      "No\n"
     ]
    }
   ],
   "source": [
    "pal(s2)"
   ]
  },
  {
   "cell_type": "code",
   "execution_count": 27,
   "id": "752ef738-a101-4040-96f4-c80c8c4ae67c",
   "metadata": {},
   "outputs": [
    {
     "data": {
      "text/plain": [
       "'cbba'"
      ]
     },
     "execution_count": 27,
     "metadata": {},
     "output_type": "execute_result"
    }
   ],
   "source": [
    "pal(s2)"
   ]
  },
  {
   "cell_type": "code",
   "execution_count": null,
   "id": "5fe60caa-a91b-4dbc-94de-fc06ed8270b6",
   "metadata": {},
   "outputs": [],
   "source": [
    "a = ['aba','aabaa']"
   ]
  },
  {
   "cell_type": "code",
   "execution_count": null,
   "id": "33cc5215-1f79-41b2-82b8-a2df5818baae",
   "metadata": {},
   "outputs": [],
   "source": []
  },
  {
   "cell_type": "code",
   "execution_count": null,
   "id": "bc322ce7-d7d2-407d-9e38-b2dbaf4b9160",
   "metadata": {},
   "outputs": [],
   "source": []
  },
  {
   "cell_type": "code",
   "execution_count": 31,
   "id": "81fa545d-7168-4d51-9d5c-4850a617f791",
   "metadata": {},
   "outputs": [],
   "source": [
    "a={'A':{'b':[1,2,3]}}"
   ]
  },
  {
   "cell_type": "code",
   "execution_count": 33,
   "id": "48f6f352-fe14-4baa-9b08-3086e587441e",
   "metadata": {},
   "outputs": [
    {
     "data": {
      "text/plain": [
       "dict_values([{'b': [1, 2, 3]}])"
      ]
     },
     "execution_count": 33,
     "metadata": {},
     "output_type": "execute_result"
    }
   ],
   "source": [
    "a.values()"
   ]
  },
  {
   "cell_type": "code",
   "execution_count": 36,
   "id": "8368e3cf-3e86-4169-86a7-8c0013bccf52",
   "metadata": {},
   "outputs": [
    {
     "name": "stdout",
     "output_type": "stream",
     "text": [
      "A\n"
     ]
    }
   ],
   "source": [
    "for i in a:\n",
    "    print(i)"
   ]
  },
  {
   "cell_type": "code",
   "execution_count": 40,
   "id": "f414ea76-01f2-47b6-b46c-56823ed1d6bf",
   "metadata": {},
   "outputs": [],
   "source": [
    "a.get(3)"
   ]
  },
  {
   "cell_type": "code",
   "execution_count": 41,
   "id": "89844bbd-fa68-4256-8751-e1b4970c8e1e",
   "metadata": {},
   "outputs": [
    {
     "data": {
      "text/plain": [
       "{'A': {'b': [1, 2, 3]}}"
      ]
     },
     "execution_count": 41,
     "metadata": {},
     "output_type": "execute_result"
    }
   ],
   "source": [
    "a"
   ]
  },
  {
   "cell_type": "code",
   "execution_count": null,
   "id": "0f842d5c-5288-4345-a434-73e1b0b3dc7e",
   "metadata": {},
   "outputs": [],
   "source": []
  },
  {
   "cell_type": "code",
   "execution_count": 43,
   "id": "8025d96d-ea9e-4c2e-8524-a36b5ad83f11",
   "metadata": {},
   "outputs": [
    {
     "name": "stdout",
     "output_type": "stream",
     "text": [
      "A\n"
     ]
    }
   ],
   "source": [
    "for i,v in enumerate(a):\n",
    "    print(v)"
   ]
  },
  {
   "cell_type": "code",
   "execution_count": null,
   "id": "2ad2e05b-69d0-49a9-9598-be63278923ac",
   "metadata": {},
   "outputs": [],
   "source": []
  }
 ],
 "metadata": {
  "kernelspec": {
   "display_name": "Python 3 (ipykernel)",
   "language": "python",
   "name": "python3"
  },
  "language_info": {
   "codemirror_mode": {
    "name": "ipython",
    "version": 3
   },
   "file_extension": ".py",
   "mimetype": "text/x-python",
   "name": "python",
   "nbconvert_exporter": "python",
   "pygments_lexer": "ipython3",
   "version": "3.10.11"
  }
 },
 "nbformat": 4,
 "nbformat_minor": 5
}
