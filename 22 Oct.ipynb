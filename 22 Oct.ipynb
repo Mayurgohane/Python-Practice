{
 "cells": [
  {
   "cell_type": "code",
   "execution_count": 2,
   "id": "a5a84a0f-5728-496d-a480-7d50b68677fc",
   "metadata": {},
   "outputs": [
    {
     "name": "stdout",
     "output_type": "stream",
     "text": [
      "100\n"
     ]
    }
   ],
   "source": [
    "a = 100\n",
    "print(\"%d\" %a)"
   ]
  },
  {
   "cell_type": "code",
   "execution_count": 7,
   "id": "fde01e45-89fc-4971-9601-09d2df9006aa",
   "metadata": {},
   "outputs": [],
   "source": [
    "#Global function \n",
    "a = 500\n",
    "def cal():\n",
    "    x = 200\n",
    "    print(\"value is\", a+x)"
   ]
  },
  {
   "cell_type": "code",
   "execution_count": 8,
   "id": "0bc569de-807d-4d88-8636-43420dcd753f",
   "metadata": {},
   "outputs": [
    {
     "name": "stdout",
     "output_type": "stream",
     "text": [
      "value is 700\n"
     ]
    }
   ],
   "source": [
    "cal()"
   ]
  },
  {
   "cell_type": "code",
   "execution_count": 9,
   "id": "3b9c380e-7529-4115-abaf-c8f2d790f591",
   "metadata": {},
   "outputs": [
    {
     "data": {
      "text/plain": [
       "22.0"
      ]
     },
     "execution_count": 9,
     "metadata": {},
     "output_type": "execute_result"
    }
   ],
   "source": [
    "a = 22\n",
    "b = float(a)\n",
    "b"
   ]
  },
  {
   "cell_type": "code",
   "execution_count": 10,
   "id": "c4d98771-1580-4a5d-afbd-b5fb21159799",
   "metadata": {},
   "outputs": [
    {
     "data": {
      "text/plain": [
       "(22+0j)"
      ]
     },
     "execution_count": 10,
     "metadata": {},
     "output_type": "execute_result"
    }
   ],
   "source": [
    "c = complex(a)\n",
    "c"
   ]
  },
  {
   "cell_type": "code",
   "execution_count": 12,
   "id": "2375eed8-12b1-4931-8d94-d21c95059dea",
   "metadata": {},
   "outputs": [
    {
     "data": {
      "text/plain": [
       "22"
      ]
     },
     "execution_count": 12,
     "metadata": {},
     "output_type": "execute_result"
    }
   ],
   "source": [
    "d = int(a)\n",
    "d"
   ]
  },
  {
   "cell_type": "code",
   "execution_count": 14,
   "id": "67e24487-64ed-49b2-b4d5-912d39349d52",
   "metadata": {},
   "outputs": [
    {
     "ename": "SyntaxError",
     "evalue": "unterminated string literal (detected at line 1) (2102547998.py, line 1)",
     "output_type": "error",
     "traceback": [
      "\u001b[1;36m  Cell \u001b[1;32mIn[14], line 1\u001b[1;36m\u001b[0m\n\u001b[1;33m    a = 'Mayur's Gohane'\u001b[0m\n\u001b[1;37m                       ^\u001b[0m\n\u001b[1;31mSyntaxError\u001b[0m\u001b[1;31m:\u001b[0m unterminated string literal (detected at line 1)\n"
     ]
    }
   ],
   "source": [
    "a = 'Mayur's Gohane'\n",
    "a"
   ]
  },
  {
   "cell_type": "code",
   "execution_count": 15,
   "id": "9c85cdae-3a53-493a-a8f2-68807ea19c4f",
   "metadata": {},
   "outputs": [
    {
     "data": {
      "text/plain": [
       "\"Mayur's Gohane\""
      ]
     },
     "execution_count": 15,
     "metadata": {},
     "output_type": "execute_result"
    }
   ],
   "source": [
    "a = \"Mayur's Gohane\"\n",
    "a"
   ]
  },
  {
   "cell_type": "code",
   "execution_count": 16,
   "id": "e5bb0e6c-6920-4635-ac1d-505b8c14d8bc",
   "metadata": {},
   "outputs": [
    {
     "data": {
      "text/plain": [
       "\"Mayur's Gohane\""
      ]
     },
     "execution_count": 16,
     "metadata": {},
     "output_type": "execute_result"
    }
   ],
   "source": [
    "a = 'Mayur\\'s Gohane'\n",
    "a"
   ]
  },
  {
   "cell_type": "code",
   "execution_count": 18,
   "id": "d9b537c5-f1ea-4cc3-8b93-d6672462e6f2",
   "metadata": {},
   "outputs": [
    {
     "name": "stdout",
     "output_type": "stream",
     "text": [
      "Mayur's \tGohane\n"
     ]
    }
   ],
   "source": [
    "a = \"Mayur's \\tGohane\"\n",
    "print(a)"
   ]
  },
  {
   "cell_type": "code",
   "execution_count": 21,
   "id": "23a60a4b-fe52-4670-83d0-4e92b421d29b",
   "metadata": {},
   "outputs": [
    {
     "data": {
      "text/plain": [
       "'gninraeL enihcaM'"
      ]
     },
     "execution_count": 21,
     "metadata": {},
     "output_type": "execute_result"
    }
   ],
   "source": [
    "#access lasy char of string \n",
    "a = \"Machine Learning\"\n",
    "a[::-1]"
   ]
  },
  {
   "cell_type": "code",
   "execution_count": 22,
   "id": "020e7a9c-1b96-4679-8497-2bbe4164071b",
   "metadata": {},
   "outputs": [
    {
     "data": {
      "text/plain": [
       "'Learning'"
      ]
     },
     "execution_count": 22,
     "metadata": {},
     "output_type": "execute_result"
    }
   ],
   "source": [
    "a = \"Machine Learning\"\n",
    "b = a.split()\n",
    "b[-1]"
   ]
  },
  {
   "cell_type": "code",
   "execution_count": 23,
   "id": "cc118164-a6a9-4e53-bee8-0b5c4dbba101",
   "metadata": {},
   "outputs": [
    {
     "data": {
      "text/plain": [
       "['Learning', 'Machine']"
      ]
     },
     "execution_count": 23,
     "metadata": {},
     "output_type": "execute_result"
    }
   ],
   "source": [
    "a = \"Machine Learning\"\n",
    "b = a.split()\n",
    "b[::-1]"
   ]
  },
  {
   "cell_type": "code",
   "execution_count": 24,
   "id": "20a4bcab-ca1f-4743-a58a-0c2dd3381162",
   "metadata": {},
   "outputs": [
    {
     "name": "stdout",
     "output_type": "stream",
     "text": [
      "M\n",
      "a\n",
      "c\n",
      "h\n",
      "i\n",
      "n\n",
      "e\n",
      " \n",
      "L\n",
      "e\n",
      "a\n",
      "r\n",
      "n\n",
      "i\n",
      "n\n",
      "g\n"
     ]
    }
   ],
   "source": [
    "for i in a:\n",
    "    print(i)"
   ]
  },
  {
   "cell_type": "code",
   "execution_count": 25,
   "id": "0d7b57e0-4a3f-47ad-8318-a694f2dd6ac1",
   "metadata": {},
   "outputs": [
    {
     "name": "stdout",
     "output_type": "stream",
     "text": [
      "0 M\n",
      "1 a\n",
      "2 c\n",
      "3 h\n",
      "4 i\n",
      "5 n\n",
      "6 e\n",
      "7  \n",
      "8 L\n",
      "9 e\n",
      "10 a\n",
      "11 r\n",
      "12 n\n",
      "13 i\n",
      "14 n\n",
      "15 g\n"
     ]
    }
   ],
   "source": [
    "for i,v in enumerate(a):\n",
    "    print(i,v)"
   ]
  },
  {
   "cell_type": "code",
   "execution_count": 26,
   "id": "0d55a595-259b-448c-96a7-4ea926022c8a",
   "metadata": {},
   "outputs": [
    {
     "data": {
      "text/plain": [
       "'Machine Learning'"
      ]
     },
     "execution_count": 26,
     "metadata": {},
     "output_type": "execute_result"
    }
   ],
   "source": [
    "a"
   ]
  },
  {
   "cell_type": "code",
   "execution_count": 27,
   "id": "a90c0484-54d0-47ea-a5a9-b97730c92b13",
   "metadata": {},
   "outputs": [
    {
     "name": "stdout",
     "output_type": "stream",
     "text": [
      "yes\n"
     ]
    }
   ],
   "source": [
    "if \"Machine\" in a:\n",
    "    print('yes')\n",
    "else:\n",
    "    print('no')"
   ]
  },
  {
   "cell_type": "code",
   "execution_count": 28,
   "id": "dfb8a40c-bf42-4a16-a3f7-71b43e465841",
   "metadata": {},
   "outputs": [],
   "source": [
    "a = 'mayur gohane'"
   ]
  },
  {
   "cell_type": "code",
   "execution_count": 29,
   "id": "b728ef1f-8daa-4b9d-b5b2-e647d4ec4368",
   "metadata": {},
   "outputs": [
    {
     "data": {
      "text/plain": [
       "'Mayur gohane'"
      ]
     },
     "execution_count": 29,
     "metadata": {},
     "output_type": "execute_result"
    }
   ],
   "source": [
    "b = a.capitalize()\n",
    "b"
   ]
  },
  {
   "cell_type": "code",
   "execution_count": 30,
   "id": "5003a3b0-0b85-4a59-8922-043779bc8190",
   "metadata": {},
   "outputs": [
    {
     "data": {
      "text/plain": [
       "'MAYUR GOHANE'"
      ]
     },
     "execution_count": 30,
     "metadata": {},
     "output_type": "execute_result"
    }
   ],
   "source": [
    "b = a.upper()\n",
    "b"
   ]
  },
  {
   "cell_type": "code",
   "execution_count": 31,
   "id": "013ad3af-0368-4b37-9173-fc557880eb82",
   "metadata": {},
   "outputs": [
    {
     "data": {
      "text/plain": [
       "'mayur gohane'"
      ]
     },
     "execution_count": 31,
     "metadata": {},
     "output_type": "execute_result"
    }
   ],
   "source": [
    "b = a.lower()\n",
    "b"
   ]
  },
  {
   "cell_type": "code",
   "execution_count": 32,
   "id": "db198e51-ae93-471e-ac8c-d0ba83003d27",
   "metadata": {},
   "outputs": [
    {
     "data": {
      "text/plain": [
       "'Mayur Gohane'"
      ]
     },
     "execution_count": 32,
     "metadata": {},
     "output_type": "execute_result"
    }
   ],
   "source": [
    "b = a.title()\n",
    "b"
   ]
  },
  {
   "cell_type": "code",
   "execution_count": 33,
   "id": "9a66a423-694f-42e1-9702-91a3fb9c8557",
   "metadata": {},
   "outputs": [
    {
     "data": {
      "text/plain": [
       "'MAYUR GOHANE'"
      ]
     },
     "execution_count": 33,
     "metadata": {},
     "output_type": "execute_result"
    }
   ],
   "source": [
    "b = a.swapcase()\n",
    "b"
   ]
  },
  {
   "cell_type": "code",
   "execution_count": 35,
   "id": "68fa38d0-1dae-426c-9704-622c489c684a",
   "metadata": {},
   "outputs": [
    {
     "name": "stdout",
     "output_type": "stream",
     "text": [
      "m\n",
      "a\n",
      "y\n",
      "u\n",
      "r\n",
      " \n",
      "g\n",
      "o\n",
      "h\n",
      "a\n",
      "n\n",
      "e\n"
     ]
    }
   ],
   "source": [
    "for i,v in enumerate(a):\n",
    "    print(v)"
   ]
  },
  {
   "cell_type": "code",
   "execution_count": 36,
   "id": "c4049c39-8741-44d6-b5dd-0819411de590",
   "metadata": {},
   "outputs": [
    {
     "name": "stdout",
     "output_type": "stream",
     "text": [
      "0 m\n",
      "1 a\n",
      "2 y\n",
      "3 u\n",
      "4 r\n",
      "5  \n",
      "6 g\n",
      "7 o\n",
      "8 h\n",
      "9 a\n",
      "10 n\n",
      "11 e\n"
     ]
    }
   ],
   "source": [
    "for i,v in enumerate(a):\n",
    "    print(i,v)"
   ]
  },
  {
   "cell_type": "code",
   "execution_count": 40,
   "id": "bc589b0b-d89e-4e98-8665-6b68bfb54fb2",
   "metadata": {},
   "outputs": [],
   "source": [
    "a = \"Machine Learning\"\n",
    "#output = \"eciencS\""
   ]
  },
  {
   "cell_type": "code",
   "execution_count": 41,
   "id": "1fec0b44-72fd-441d-910f-6e1f323a734d",
   "metadata": {},
   "outputs": [
    {
     "data": {
      "text/plain": [
       "'gachine LearninM'"
      ]
     },
     "execution_count": 41,
     "metadata": {},
     "output_type": "execute_result"
    }
   ],
   "source": [
    "b = a[-1] + a[1:-1]+a[0]\n",
    "b"
   ]
  },
  {
   "cell_type": "code",
   "execution_count": 42,
   "id": "643bd1a8-9a63-484d-92ee-608bf1ad6d14",
   "metadata": {},
   "outputs": [
    {
     "data": {
      "text/plain": [
       "'Machine Learning'"
      ]
     },
     "execution_count": 42,
     "metadata": {},
     "output_type": "execute_result"
    }
   ],
   "source": [
    "a"
   ]
  },
  {
   "cell_type": "code",
   "execution_count": 43,
   "id": "cd4e4ac9-042f-4e17-b6e2-ec61223e7ef4",
   "metadata": {},
   "outputs": [
    {
     "data": {
      "text/plain": [
       "'AA Learning'"
      ]
     },
     "execution_count": 43,
     "metadata": {},
     "output_type": "execute_result"
    }
   ],
   "source": [
    "b = a.replace('Machine','AA')\n",
    "b"
   ]
  },
  {
   "cell_type": "code",
   "execution_count": 44,
   "id": "1c04f790-adb8-43f4-a822-3e5e22fc407b",
   "metadata": {},
   "outputs": [
    {
     "data": {
      "text/plain": [
       "1"
      ]
     },
     "execution_count": 44,
     "metadata": {},
     "output_type": "execute_result"
    }
   ],
   "source": [
    "b = a.count('M')\n",
    "b"
   ]
  },
  {
   "cell_type": "code",
   "execution_count": 45,
   "id": "e8287c15-4651-4c4e-a05c-5d0312ed40e0",
   "metadata": {},
   "outputs": [
    {
     "data": {
      "text/plain": [
       "0"
      ]
     },
     "execution_count": 45,
     "metadata": {},
     "output_type": "execute_result"
    }
   ],
   "source": [
    "a.index('M')"
   ]
  },
  {
   "cell_type": "code",
   "execution_count": 46,
   "id": "54ce8840-c4db-453e-ab2f-b16d9f8b406e",
   "metadata": {},
   "outputs": [
    {
     "data": {
      "text/plain": [
       "0"
      ]
     },
     "execution_count": 46,
     "metadata": {},
     "output_type": "execute_result"
    }
   ],
   "source": [
    "a.find(\"M\")"
   ]
  },
  {
   "cell_type": "code",
   "execution_count": 49,
   "id": "0e90a1ff-06c2-4eaa-ac5b-df111344c6aa",
   "metadata": {},
   "outputs": [
    {
     "data": {
      "text/plain": [
       "'Machine intelligence'"
      ]
     },
     "execution_count": 49,
     "metadata": {},
     "output_type": "execute_result"
    }
   ],
   "source": [
    "a = ['Machine', 'intelligence']\n",
    "b = ' '.join(a)\n",
    "b"
   ]
  },
  {
   "cell_type": "code",
   "execution_count": null,
   "id": "b066583f-f89f-4678-9fd1-9fd56a3ca348",
   "metadata": {},
   "outputs": [],
   "source": [
    "import os \n",
    "path = \"gdfgd\"\n",
    "follist = os.listdir(path)\n",
    "for i in follist:\n",
    "    if i.endswith('.txt'):\n",
    "        print(i)\n",
    "    else:\n",
    "        print('no')"
   ]
  },
  {
   "cell_type": "code",
   "execution_count": 50,
   "id": "fbedd697-2195-4d73-9dcf-df51dcae92d4",
   "metadata": {},
   "outputs": [
    {
     "data": {
      "text/plain": [
       "[1, 7, 8, 9, 'Mayur']"
      ]
     },
     "execution_count": 50,
     "metadata": {},
     "output_type": "execute_result"
    }
   ],
   "source": [
    "a = {1,7,8,9,'Mayur'}\n",
    "b = list(a)\n",
    "b"
   ]
  },
  {
   "cell_type": "code",
   "execution_count": 52,
   "id": "89635567-1036-4c19-bdff-6247172026f7",
   "metadata": {},
   "outputs": [
    {
     "data": {
      "text/plain": [
       "[100, 7, 8, 9, 'Mayur']"
      ]
     },
     "execution_count": 52,
     "metadata": {},
     "output_type": "execute_result"
    }
   ],
   "source": [
    "b[0]=100\n",
    "b"
   ]
  },
  {
   "cell_type": "code",
   "execution_count": 53,
   "id": "6b1bb44e-fecf-4230-a22e-7ee5c61be97a",
   "metadata": {},
   "outputs": [
    {
     "data": {
      "text/plain": [
       "[100, 7]"
      ]
     },
     "execution_count": 53,
     "metadata": {},
     "output_type": "execute_result"
    }
   ],
   "source": [
    "b[0:2]"
   ]
  },
  {
   "cell_type": "code",
   "execution_count": 56,
   "id": "d0300321-d8dd-44ae-be98-9b845673762e",
   "metadata": {},
   "outputs": [
    {
     "name": "stdout",
     "output_type": "stream",
     "text": [
      "1 7 8 9 Mayur "
     ]
    }
   ],
   "source": [
    "for i in a:\n",
    "    print(i, end=' ')"
   ]
  },
  {
   "cell_type": "code",
   "execution_count": 60,
   "id": "a4ca07cc-b6b5-42b9-ac71-1b47b8f1791f",
   "metadata": {},
   "outputs": [
    {
     "data": {
      "text/plain": [
       "[100, 8, 'Mayur']"
      ]
     },
     "execution_count": 60,
     "metadata": {},
     "output_type": "execute_result"
    }
   ],
   "source": [
    "b[::2] #all list with step size of 2"
   ]
  },
  {
   "cell_type": "code",
   "execution_count": 62,
   "id": "d1023fb1-0bda-451c-b7d2-95a3d40c9a87",
   "metadata": {},
   "outputs": [
    {
     "data": {
      "text/plain": [
       "[1, 7, 8, 9, 'Mayur', [100]]"
      ]
     },
     "execution_count": 62,
     "metadata": {},
     "output_type": "execute_result"
    }
   ],
   "source": [
    "a = [1, 7, 8, 9, 'Mayur']\n",
    "a.append([100])\n",
    "a"
   ]
  },
  {
   "cell_type": "code",
   "execution_count": 63,
   "id": "12170794-e339-44f6-a3f9-c261152b3598",
   "metadata": {},
   "outputs": [
    {
     "data": {
      "text/plain": [
       "[1, 7, 8, 9, 'Mayur', 100]"
      ]
     },
     "execution_count": 63,
     "metadata": {},
     "output_type": "execute_result"
    }
   ],
   "source": [
    "a = [1, 7, 8, 9, 'Mayur']\n",
    "a.extend([100])\n",
    "a"
   ]
  },
  {
   "cell_type": "code",
   "execution_count": 64,
   "id": "51b6dda4-1871-45fe-96c5-bc2559aba1fe",
   "metadata": {},
   "outputs": [
    {
     "data": {
      "text/plain": [
       "[500, 1, 7, 8, 9, 'Mayur']"
      ]
     },
     "execution_count": 64,
     "metadata": {},
     "output_type": "execute_result"
    }
   ],
   "source": [
    "a = [1, 7, 8, 9, 'Mayur']\n",
    "a.insert(0,500)\n",
    "a"
   ]
  },
  {
   "cell_type": "code",
   "execution_count": 65,
   "id": "fd7c98cd-16f9-47ce-b004-ade969d72f48",
   "metadata": {},
   "outputs": [
    {
     "data": {
      "text/plain": [
       "[1, 7, 8, 9, 'Mayur']"
      ]
     },
     "execution_count": 65,
     "metadata": {},
     "output_type": "execute_result"
    }
   ],
   "source": [
    "a.remove(500)\n",
    "a"
   ]
  },
  {
   "cell_type": "code",
   "execution_count": 67,
   "id": "0bd9a320-342d-46a5-975b-36da9a6ddc77",
   "metadata": {},
   "outputs": [
    {
     "data": {
      "text/plain": [
       "[1, 7, 8]"
      ]
     },
     "execution_count": 67,
     "metadata": {},
     "output_type": "execute_result"
    }
   ],
   "source": [
    "a.pop() #remove last index item\n",
    "a"
   ]
  },
  {
   "cell_type": "code",
   "execution_count": 68,
   "id": "c93f0353-4608-4135-a473-45c8bcdd0d91",
   "metadata": {},
   "outputs": [
    {
     "data": {
      "text/plain": [
       "[1, 7, 8]"
      ]
     },
     "execution_count": 68,
     "metadata": {},
     "output_type": "execute_result"
    }
   ],
   "source": [
    "a"
   ]
  },
  {
   "cell_type": "code",
   "execution_count": 70,
   "id": "8a0ac8bd-65de-4f95-beec-77011478353d",
   "metadata": {},
   "outputs": [
    {
     "data": {
      "text/plain": [
       "[1, 7]"
      ]
     },
     "execution_count": 70,
     "metadata": {},
     "output_type": "execute_result"
    }
   ],
   "source": [
    "a.pop(2)\n",
    "a"
   ]
  },
  {
   "cell_type": "code",
   "execution_count": 72,
   "id": "b5ac87a5-82c4-4e7c-ab9f-0c2335db57a1",
   "metadata": {},
   "outputs": [
    {
     "data": {
      "text/plain": [
       "[10, 20, 25, 36, 80]"
      ]
     },
     "execution_count": 72,
     "metadata": {},
     "output_type": "execute_result"
    }
   ],
   "source": [
    "a = [10,20,80,25,36]\n",
    "a.sort()\n",
    "a"
   ]
  },
  {
   "cell_type": "code",
   "execution_count": 73,
   "id": "fd6c9362-47d1-491e-a2a5-65cfe27af221",
   "metadata": {},
   "outputs": [
    {
     "data": {
      "text/plain": [
       "[80, 36, 25, 20, 10]"
      ]
     },
     "execution_count": 73,
     "metadata": {},
     "output_type": "execute_result"
    }
   ],
   "source": [
    "a = [10,20,80,25,36]\n",
    "a.sort(reverse=True)\n",
    "a"
   ]
  },
  {
   "cell_type": "code",
   "execution_count": 74,
   "id": "9cc39de8-0d59-48c8-b9f8-aa2a8d654787",
   "metadata": {},
   "outputs": [
    {
     "data": {
      "text/plain": [
       "[10, 20, 25, 36, 80]"
      ]
     },
     "execution_count": 74,
     "metadata": {},
     "output_type": "execute_result"
    }
   ],
   "source": [
    "a = [10,20,80,25,36]\n",
    "b = sorted(a)\n",
    "b"
   ]
  },
  {
   "cell_type": "code",
   "execution_count": 75,
   "id": "92e547f2-2096-4d4c-a128-ced4ac11d05b",
   "metadata": {},
   "outputs": [
    {
     "data": {
      "text/plain": [
       "[80, 36, 25, 20, 10]"
      ]
     },
     "execution_count": 75,
     "metadata": {},
     "output_type": "execute_result"
    }
   ],
   "source": [
    "a = [10,20,80,25,36]\n",
    "b = sorted(a, reverse=True)\n",
    "b"
   ]
  },
  {
   "cell_type": "code",
   "execution_count": 76,
   "id": "0d383ec0-7f3f-4e0b-913b-c0f8ba2ae8bf",
   "metadata": {},
   "outputs": [
    {
     "data": {
      "text/plain": [
       "[10, 20, 80, 25, 36]"
      ]
     },
     "execution_count": 76,
     "metadata": {},
     "output_type": "execute_result"
    }
   ],
   "source": [
    "a"
   ]
  },
  {
   "cell_type": "code",
   "execution_count": 77,
   "id": "4875535e-2f65-4689-9449-dcbb3d1e2f6f",
   "metadata": {},
   "outputs": [
    {
     "data": {
      "text/plain": [
       "[36, 25, 80, 20, 10]"
      ]
     },
     "execution_count": 77,
     "metadata": {},
     "output_type": "execute_result"
    }
   ],
   "source": [
    "a.reverse()\n",
    "a"
   ]
  },
  {
   "cell_type": "code",
   "execution_count": 79,
   "id": "65129c4a-80b0-4a49-b158-607bb1413b03",
   "metadata": {},
   "outputs": [
    {
     "data": {
      "text/plain": [
       "[10, 20, 80, 25, 36]"
      ]
     },
     "execution_count": 79,
     "metadata": {},
     "output_type": "execute_result"
    }
   ],
   "source": [
    "b = reversed(a)\n",
    "list(b)"
   ]
  },
  {
   "cell_type": "code",
   "execution_count": 81,
   "id": "cae92c72-18b4-402c-b840-ed4075e804b8",
   "metadata": {},
   "outputs": [
    {
     "data": {
      "text/plain": [
       "[36, 25, 80, 20, 10]"
      ]
     },
     "execution_count": 81,
     "metadata": {},
     "output_type": "execute_result"
    }
   ],
   "source": [
    "a"
   ]
  },
  {
   "cell_type": "code",
   "execution_count": 86,
   "id": "55b7ae22-dca6-4d55-91a6-b33f05541974",
   "metadata": {},
   "outputs": [
    {
     "data": {
      "text/plain": [
       "0"
      ]
     },
     "execution_count": 86,
     "metadata": {},
     "output_type": "execute_result"
    }
   ],
   "source": [
    "a.index(36)"
   ]
  },
  {
   "cell_type": "code",
   "execution_count": 87,
   "id": "690547d8-8d0d-40ab-91f4-f0287ce1054d",
   "metadata": {},
   "outputs": [
    {
     "data": {
      "text/plain": [
       "1"
      ]
     },
     "execution_count": 87,
     "metadata": {},
     "output_type": "execute_result"
    }
   ],
   "source": [
    "a.count(25)"
   ]
  },
  {
   "cell_type": "code",
   "execution_count": 88,
   "id": "b2fd3c5d-b72d-43f6-a81c-cc35354b23b7",
   "metadata": {},
   "outputs": [
    {
     "data": {
      "text/plain": [
       "80"
      ]
     },
     "execution_count": 88,
     "metadata": {},
     "output_type": "execute_result"
    }
   ],
   "source": [
    "max(a)"
   ]
  },
  {
   "cell_type": "code",
   "execution_count": 90,
   "id": "916243fb-1e5c-42fd-aaca-4fce98e0a68e",
   "metadata": {},
   "outputs": [
    {
     "data": {
      "text/plain": [
       "10"
      ]
     },
     "execution_count": 90,
     "metadata": {},
     "output_type": "execute_result"
    }
   ],
   "source": [
    "c=min(a)\n",
    "c"
   ]
  },
  {
   "cell_type": "code",
   "execution_count": 91,
   "id": "7b42b63e-e061-40a1-9c67-4fc79a5bcec9",
   "metadata": {},
   "outputs": [],
   "source": [
    "a = [36, 25, 80, 20, 10, 2]\n",
    "b = []\n",
    "while a:\n",
    "    small = min(a)\n",
    "    b.append(small)\n",
    "    a.remove(small)"
   ]
  },
  {
   "cell_type": "code",
   "execution_count": 92,
   "id": "4b8a0bbe-4ded-4bc7-9301-641e760fcfa3",
   "metadata": {},
   "outputs": [
    {
     "data": {
      "text/plain": [
       "[2, 10, 20, 25, 36, 80]"
      ]
     },
     "execution_count": 92,
     "metadata": {},
     "output_type": "execute_result"
    }
   ],
   "source": [
    "b"
   ]
  },
  {
   "cell_type": "code",
   "execution_count": 94,
   "id": "1f2a6b67-82b6-4af9-8190-6b14faa731a0",
   "metadata": {},
   "outputs": [],
   "source": [
    "a = [36, 25, 80, 20, 10, 2]\n",
    "b = []\n",
    "while a:\n",
    "    maxx=max(a)\n",
    "    b.append(maxx)\n",
    "    a.remove(maxx)"
   ]
  },
  {
   "cell_type": "code",
   "execution_count": 95,
   "id": "b8a77edf-ffe2-41f6-b224-86dab227ffe0",
   "metadata": {},
   "outputs": [
    {
     "data": {
      "text/plain": [
       "[80, 36, 25, 20, 10, 2]"
      ]
     },
     "execution_count": 95,
     "metadata": {},
     "output_type": "execute_result"
    }
   ],
   "source": [
    "b"
   ]
  },
  {
   "cell_type": "code",
   "execution_count": 99,
   "id": "466b6375-dbbb-48b3-af0e-714fa8e3a6ba",
   "metadata": {},
   "outputs": [
    {
     "data": {
      "text/plain": [
       "[1296, 625, 6400, 400, 100, 4]"
      ]
     },
     "execution_count": 99,
     "metadata": {},
     "output_type": "execute_result"
    }
   ],
   "source": [
    "a = [36, 25, 80, 20, 10, 2]\n",
    "b = []\n",
    "for i in a:\n",
    "    b.append(i**2)\n",
    "b"
   ]
  },
  {
   "cell_type": "code",
   "execution_count": 101,
   "id": "28bf134c-1fcd-43c5-ace3-f1c0095f7cbf",
   "metadata": {},
   "outputs": [
    {
     "data": {
      "text/plain": [
       "[(36, 1296), (25, 625), (80, 6400), (20, 400), (10, 100), (2, 4)]"
      ]
     },
     "execution_count": 101,
     "metadata": {},
     "output_type": "execute_result"
    }
   ],
   "source": [
    "a = [36, 25, 80, 20, 10, 2]\n",
    "b = [(i,i**2) for i in a]\n",
    "b"
   ]
  },
  {
   "cell_type": "code",
   "execution_count": 103,
   "id": "12a11a1c-1019-4edc-8538-b6df41069862",
   "metadata": {},
   "outputs": [
    {
     "data": {
      "text/plain": [
       "[1296, 625, 6400, 400, 100, 4]"
      ]
     },
     "execution_count": 103,
     "metadata": {},
     "output_type": "execute_result"
    }
   ],
   "source": [
    "a = [36, 25, 80, 20, 10, 2]\n",
    "b = [i**2 for i in a]\n",
    "b"
   ]
  },
  {
   "cell_type": "code",
   "execution_count": 105,
   "id": "8c793107-4efb-4ba2-90eb-c12c33ab384f",
   "metadata": {},
   "outputs": [
    {
     "data": {
      "text/plain": [
       "[25]"
      ]
     },
     "execution_count": 105,
     "metadata": {},
     "output_type": "execute_result"
    }
   ],
   "source": [
    "a = [36, 25, 80, 20, 10, 2]\n",
    "b = [i for i in a if i%2!=0]\n",
    "b"
   ]
  },
  {
   "cell_type": "code",
   "execution_count": 106,
   "id": "ef5784d9-e3b5-497c-adcf-fd62948b4754",
   "metadata": {},
   "outputs": [
    {
     "data": {
      "text/plain": [
       "[36, 80, 20, 10, 2]"
      ]
     },
     "execution_count": 106,
     "metadata": {},
     "output_type": "execute_result"
    }
   ],
   "source": [
    "a = [36, 25, 80, 20, 10, 2]\n",
    "b = [i for i in a if i%2==0]\n",
    "b"
   ]
  },
  {
   "cell_type": "code",
   "execution_count": 107,
   "id": "7a3766e4-b9a0-4f66-8380-2e2ec177bd4c",
   "metadata": {},
   "outputs": [
    {
     "data": {
      "text/plain": [
       "['MAYUR']"
      ]
     },
     "execution_count": 107,
     "metadata": {},
     "output_type": "execute_result"
    }
   ],
   "source": [
    "a = ['Mayur']\n",
    "b = [i.upper() for i in a]\n",
    "b"
   ]
  },
  {
   "cell_type": "code",
   "execution_count": 110,
   "id": "b63ee645-b00e-4f5d-bf22-f8a0f953f76d",
   "metadata": {},
   "outputs": [
    {
     "name": "stdout",
     "output_type": "stream",
     "text": [
      "[36, 25, 80, 20, 10, 2]\n",
      "[555, 25, 80, 20, 10, 2]\n"
     ]
    }
   ],
   "source": [
    "a = [36, 25, 80, 20, 10, 2]\n",
    "b = a.copy()\n",
    "b[0]=555\n",
    "print(a)\n",
    "print(b)"
   ]
  },
  {
   "cell_type": "code",
   "execution_count": 113,
   "id": "e5e2f4d3-d18e-4817-98d0-152751dd0476",
   "metadata": {},
   "outputs": [
    {
     "data": {
      "text/plain": [
       "[2, 3, 3, 4, 4, 5, 6, 7]"
      ]
     },
     "execution_count": 113,
     "metadata": {},
     "output_type": "execute_result"
    }
   ],
   "source": [
    "a = [[2,3],[3,4],[4,5],[6,7]]\n",
    "b = []\n",
    "for i in a:\n",
    "    if isinstance(i,list):\n",
    "        b.extend(i)\n",
    "b"
   ]
  },
  {
   "cell_type": "code",
   "execution_count": 115,
   "id": "3802da45-f8ab-4edb-926a-127050f862f7",
   "metadata": {},
   "outputs": [],
   "source": [
    "import copy\n",
    "a = [2, 3, 3, 4, 4, 5, 6, 7]\n",
    "b = copy.deepcopy(a)"
   ]
  },
  {
   "cell_type": "code",
   "execution_count": 117,
   "id": "eee42137-9bc6-42b7-94e2-0a04543bcfc0",
   "metadata": {},
   "outputs": [
    {
     "data": {
      "text/plain": [
       "(5, 6, 8, 9, 10)"
      ]
     },
     "execution_count": 117,
     "metadata": {},
     "output_type": "execute_result"
    }
   ],
   "source": [
    "b = (5,6,8,9,10)\n",
    "b"
   ]
  },
  {
   "cell_type": "code",
   "execution_count": 118,
   "id": "1dd0ef92-d7d2-47a7-974f-514b5462d3fd",
   "metadata": {},
   "outputs": [
    {
     "ename": "TypeError",
     "evalue": "'tuple' object does not support item assignment",
     "output_type": "error",
     "traceback": [
      "\u001b[1;31m---------------------------------------------------------------------------\u001b[0m",
      "\u001b[1;31mTypeError\u001b[0m                                 Traceback (most recent call last)",
      "Cell \u001b[1;32mIn[118], line 1\u001b[0m\n\u001b[1;32m----> 1\u001b[0m \u001b[43mb\u001b[49m\u001b[43m[\u001b[49m\u001b[38;5;241;43m0\u001b[39;49m\u001b[43m]\u001b[49m\u001b[38;5;241m=\u001b[39m\u001b[38;5;241m55\u001b[39m\n",
      "\u001b[1;31mTypeError\u001b[0m: 'tuple' object does not support item assignment"
     ]
    }
   ],
   "source": [
    "b[0]=55"
   ]
  },
  {
   "cell_type": "code",
   "execution_count": 121,
   "id": "357b2aa3-57c5-4417-8e7c-f83fca0a7bf7",
   "metadata": {},
   "outputs": [
    {
     "name": "stdout",
     "output_type": "stream",
     "text": [
      "['Python', 'Class']\n",
      "[2, 3, 4, 5]\n",
      "[10.25, 4.5]\n"
     ]
    }
   ],
   "source": [
    "a = [2,3,4,5, \"Python\", \"Class\", 10.25, 4.5]\n",
    "st = []\n",
    "it = []\n",
    "flt =[]\n",
    "for i in a:\n",
    "    if isinstance(i, str):\n",
    "        st.append(i)\n",
    "    if isinstance(i,int):\n",
    "        it.append(i)\n",
    "    if isinstance(i, float):\n",
    "        flt.append(i)\n",
    "print(st)\n",
    "print(it)\n",
    "print(flt)"
   ]
  },
  {
   "cell_type": "code",
   "execution_count": 122,
   "id": "728298eb-100f-4195-b6ea-a7eea9166d9e",
   "metadata": {},
   "outputs": [],
   "source": [
    "def fibo(n):\n",
    "    f = 0\n",
    "    s = 1\n",
    "    for i in range(n):\n",
    "        f,s = s, f+s\n",
    "        print(f)"
   ]
  },
  {
   "cell_type": "code",
   "execution_count": 123,
   "id": "1bfeb089-4684-4892-a99b-e020fb99e023",
   "metadata": {},
   "outputs": [
    {
     "name": "stdout",
     "output_type": "stream",
     "text": [
      "1\n",
      "1\n",
      "2\n",
      "3\n",
      "5\n"
     ]
    }
   ],
   "source": [
    "fibo(5)"
   ]
  },
  {
   "cell_type": "code",
   "execution_count": 124,
   "id": "78b14133-668b-4fb9-ba2b-0df47a522130",
   "metadata": {},
   "outputs": [
    {
     "name": "stdout",
     "output_type": "stream",
     "text": [
      "1\n",
      "1\n",
      "2\n",
      "3\n",
      "5\n"
     ]
    }
   ],
   "source": [
    "f = 0\n",
    "s = 1\n",
    "n = 5\n",
    "for i in range(n):\n",
    "    f,s=s, f+s\n",
    "    print(f)"
   ]
  },
  {
   "cell_type": "code",
   "execution_count": 125,
   "id": "beefb820-50db-49b8-8665-d77e32cc0ed0",
   "metadata": {},
   "outputs": [
    {
     "name": "stdout",
     "output_type": "stream",
     "text": [
      "<class 'set'>\n"
     ]
    }
   ],
   "source": [
    "a = {1,2,3}\n",
    "print(type(a))"
   ]
  },
  {
   "cell_type": "code",
   "execution_count": 128,
   "id": "194b0b7d-096f-4b4f-b322-79c88c17a0e3",
   "metadata": {},
   "outputs": [
    {
     "data": {
      "text/plain": [
       "{1, 2, 3}"
      ]
     },
     "execution_count": 128,
     "metadata": {},
     "output_type": "execute_result"
    }
   ],
   "source": [
    "a = {1,2,3,3}\n",
    "a #No duplicates"
   ]
  },
  {
   "cell_type": "code",
   "execution_count": 130,
   "id": "b8c8ae72-885d-4aab-b8d1-d38129753b75",
   "metadata": {},
   "outputs": [
    {
     "data": {
      "text/plain": [
       "{1, 2, 3, 8, 9}"
      ]
     },
     "execution_count": 130,
     "metadata": {},
     "output_type": "execute_result"
    }
   ],
   "source": [
    "a = {1,2,3,3}\n",
    "a.update({8,9})\n",
    "a"
   ]
  },
  {
   "cell_type": "code",
   "execution_count": 131,
   "id": "5b83ad28-f810-48f9-b50b-743053b7d3ec",
   "metadata": {},
   "outputs": [
    {
     "data": {
      "text/plain": [
       "{1, 2, 3, 4, 5}"
      ]
     },
     "execution_count": 131,
     "metadata": {},
     "output_type": "execute_result"
    }
   ],
   "source": [
    "a = {1, 2, 3}\n",
    "b = {3, 4, 5}\n",
    "a.union(b)"
   ]
  },
  {
   "cell_type": "code",
   "execution_count": 134,
   "id": "a9e04a15-56b7-4cd6-8133-ccc706937841",
   "metadata": {},
   "outputs": [
    {
     "data": {
      "text/plain": [
       "{3}"
      ]
     },
     "execution_count": 134,
     "metadata": {},
     "output_type": "execute_result"
    }
   ],
   "source": [
    "c = a.intersection(b)\n",
    "c"
   ]
  },
  {
   "cell_type": "code",
   "execution_count": 135,
   "id": "574b31c6-8026-49aa-b649-2fb572780d60",
   "metadata": {},
   "outputs": [
    {
     "name": "stdout",
     "output_type": "stream",
     "text": [
      "{'Name': 'Shubhman', 'Age': 28, 'Score': 126}\n"
     ]
    }
   ],
   "source": [
    "a = {\"Name\": \"Shubhman\", \"Age\":28, \"Score\": 126}\n",
    "print(a)"
   ]
  },
  {
   "cell_type": "code",
   "execution_count": 136,
   "id": "780baf4a-2e5a-4cf8-a18e-14a0ae23f5d7",
   "metadata": {},
   "outputs": [
    {
     "data": {
      "text/plain": [
       "'Shubhman'"
      ]
     },
     "execution_count": 136,
     "metadata": {},
     "output_type": "execute_result"
    }
   ],
   "source": [
    "a['Name']"
   ]
  },
  {
   "cell_type": "code",
   "execution_count": 137,
   "id": "0e8527f5-42c1-47b9-9a8c-e49ba446d929",
   "metadata": {},
   "outputs": [
    {
     "data": {
      "text/plain": [
       "'Shubhman'"
      ]
     },
     "execution_count": 137,
     "metadata": {},
     "output_type": "execute_result"
    }
   ],
   "source": [
    "a.get('Name')"
   ]
  },
  {
   "cell_type": "code",
   "execution_count": 138,
   "id": "13aaefc0-53e5-4805-ac96-0ac095d51cf2",
   "metadata": {},
   "outputs": [
    {
     "data": {
      "text/plain": [
       "dict_keys(['Name', 'Age', 'Score'])"
      ]
     },
     "execution_count": 138,
     "metadata": {},
     "output_type": "execute_result"
    }
   ],
   "source": [
    "a.keys()"
   ]
  },
  {
   "cell_type": "code",
   "execution_count": 139,
   "id": "104bf2ca-e205-4bbb-b2c2-c7960ec309be",
   "metadata": {},
   "outputs": [
    {
     "data": {
      "text/plain": [
       "dict_values(['Shubhman', 28, 126])"
      ]
     },
     "execution_count": 139,
     "metadata": {},
     "output_type": "execute_result"
    }
   ],
   "source": [
    "a.values()"
   ]
  },
  {
   "cell_type": "code",
   "execution_count": 140,
   "id": "98036080-ecc0-4ad0-ab30-9cb7604eb6a9",
   "metadata": {},
   "outputs": [
    {
     "data": {
      "text/plain": [
       "dict_items([('Name', 'Shubhman'), ('Age', 28), ('Score', 126)])"
      ]
     },
     "execution_count": 140,
     "metadata": {},
     "output_type": "execute_result"
    }
   ],
   "source": [
    "a.items()"
   ]
  },
  {
   "cell_type": "code",
   "execution_count": 141,
   "id": "2eedf019-debe-4b5e-b437-d0cacd163abf",
   "metadata": {},
   "outputs": [
    {
     "data": {
      "text/plain": [
       "{'Name': 'Shubhman', 'Age': 28, 'Score': 126}"
      ]
     },
     "execution_count": 141,
     "metadata": {},
     "output_type": "execute_result"
    }
   ],
   "source": [
    "a"
   ]
  },
  {
   "cell_type": "code",
   "execution_count": 143,
   "id": "0253f6e3-d0bc-4e45-8658-6f73929546c6",
   "metadata": {},
   "outputs": [
    {
     "name": "stdout",
     "output_type": "stream",
     "text": [
      "Name Shubhman\n",
      "Age 28\n",
      "Score 126\n"
     ]
    }
   ],
   "source": [
    "for i,v in a.items():\n",
    "    print(i,v)"
   ]
  },
  {
   "cell_type": "code",
   "execution_count": 144,
   "id": "ced8448b-0233-4b83-a4e9-0c0465e3035e",
   "metadata": {},
   "outputs": [
    {
     "name": "stdout",
     "output_type": "stream",
     "text": [
      "Name\n",
      "Age\n",
      "Score\n"
     ]
    }
   ],
   "source": [
    "for i in a.keys():\n",
    "    print(i)"
   ]
  },
  {
   "cell_type": "code",
   "execution_count": 146,
   "id": "d2525c4b-4eb7-486f-868f-20d9deaf460d",
   "metadata": {},
   "outputs": [
    {
     "name": "stdout",
     "output_type": "stream",
     "text": [
      "('Name', 'Shubhman')\n",
      "('Age', 28)\n",
      "('Score', 126)\n"
     ]
    }
   ],
   "source": [
    "for i in a.items():\n",
    "    print(i)"
   ]
  },
  {
   "cell_type": "code",
   "execution_count": 148,
   "id": "a266bc00-61f5-4868-bc77-5a1425f55133",
   "metadata": {},
   "outputs": [
    {
     "data": {
      "text/plain": [
       "{'hello,': 1,\n",
       " 'world!': 1,\n",
       " 'welcome': 1,\n",
       " 'to': 1,\n",
       " 'python': 1,\n",
       " 'programming.': 1}"
      ]
     },
     "execution_count": 148,
     "metadata": {},
     "output_type": "execute_result"
    }
   ],
   "source": [
    "#count word from string \n",
    "from collections import Counter\n",
    "a = \"Hello, world! Welcome to Python programming.\"\n",
    "b = a.lower().split()\n",
    "c = dict(Counter(b))\n",
    "c"
   ]
  },
  {
   "cell_type": "code",
   "execution_count": 151,
   "id": "0e0ffd58-e2f0-4e26-9069-96a923fedb35",
   "metadata": {},
   "outputs": [
    {
     "name": "stdout",
     "output_type": "stream",
     "text": [
      "A 5\n",
      "B 6\n",
      "D 7\n"
     ]
    }
   ],
   "source": [
    "a = {'D':7, 'B':6, 'A':5}\n",
    "for i,v in sorted(a.items()):\n",
    "    print(i,v)"
   ]
  },
  {
   "cell_type": "code",
   "execution_count": 153,
   "id": "908d20fc-ce09-418e-84d7-45032b98da67",
   "metadata": {},
   "outputs": [
    {
     "data": {
      "text/plain": [
       "{'A': 5, 'B': 6, 'D': 7}"
      ]
     },
     "execution_count": 153,
     "metadata": {},
     "output_type": "execute_result"
    }
   ],
   "source": [
    "#sprt list using lambda \n",
    "a = {'D':7, 'B':6, 'A':5}\n",
    "b = dict(sorted(a.items(), key=lambda x: x[1]))\n",
    "b"
   ]
  },
  {
   "cell_type": "code",
   "execution_count": 154,
   "id": "54809e40-9156-4cef-ae2b-e0e0ae81bb58",
   "metadata": {},
   "outputs": [
    {
     "data": {
      "text/plain": [
       "{'a': 5, 'b': 5, 'c': 5}"
      ]
     },
     "execution_count": 154,
     "metadata": {},
     "output_type": "execute_result"
    }
   ],
   "source": [
    "a = dict.fromkeys(['a','b','c'], 5)\n",
    "a"
   ]
  },
  {
   "cell_type": "code",
   "execution_count": 156,
   "id": "50a8e30c-2c33-4b16-9baf-0f31b1426974",
   "metadata": {},
   "outputs": [],
   "source": [
    "b = a.setdefault('A',500)\n",
    "b"
   ]
  },
  {
   "cell_type": "code",
   "execution_count": 157,
   "id": "8b817cb6-ca22-463e-99c9-65a32a5f5b6b",
   "metadata": {},
   "outputs": [],
   "source": [
    "b"
   ]
  },
  {
   "cell_type": "code",
   "execution_count": null,
   "id": "8b48463e-8cff-433e-8742-2ea843f9806c",
   "metadata": {},
   "outputs": [],
   "source": []
  },
  {
   "cell_type": "code",
   "execution_count": null,
   "id": "ea19f787-651b-4de1-a943-c01d9d4045cf",
   "metadata": {},
   "outputs": [],
   "source": []
  },
  {
   "cell_type": "code",
   "execution_count": null,
   "id": "b07dfe10-5ae0-471b-a3d0-7e81a65df5ff",
   "metadata": {},
   "outputs": [],
   "source": []
  }
 ],
 "metadata": {
  "kernelspec": {
   "display_name": "Python 3 (ipykernel)",
   "language": "python",
   "name": "python3"
  },
  "language_info": {
   "codemirror_mode": {
    "name": "ipython",
    "version": 3
   },
   "file_extension": ".py",
   "mimetype": "text/x-python",
   "name": "python",
   "nbconvert_exporter": "python",
   "pygments_lexer": "ipython3",
   "version": "3.10.11"
  }
 },
 "nbformat": 4,
 "nbformat_minor": 5
}
