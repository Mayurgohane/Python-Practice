{
 "cells": [
  {
   "cell_type": "code",
   "execution_count": null,
   "id": "e0deaa73-994a-48e8-bec2-aa46567052ef",
   "metadata": {},
   "outputs": [],
   "source": [
    "#Datatypes\n",
    "string = 'Hello'\n",
    "list = []\n",
    "dict = {}\n",
    "tuple = ()\n",
    "set = {}\n",
    "frozenset = ()\n",
    "Int\n",
    "float\n",
    "complex\n",
    "Boolean"
   ]
  },
  {
   "cell_type": "code",
   "execution_count": 1,
   "id": "a2cb08b5-03bf-4a58-97ef-aef56e25e7da",
   "metadata": {},
   "outputs": [
    {
     "data": {
      "text/plain": [
       "'Hello'"
      ]
     },
     "execution_count": 1,
     "metadata": {},
     "output_type": "execute_result"
    }
   ],
   "source": [
    "s = 'Hello'\n",
    "s"
   ]
  },
  {
   "cell_type": "code",
   "execution_count": 2,
   "id": "0233367b-36d6-448a-972e-533f91b723f9",
   "metadata": {},
   "outputs": [
    {
     "data": {
      "text/plain": [
       "[5, 10, 25, 45]"
      ]
     },
     "execution_count": 2,
     "metadata": {},
     "output_type": "execute_result"
    }
   ],
   "source": [
    "lst = [5, 10, 25, 45]\n",
    "lst"
   ]
  },
  {
   "cell_type": "code",
   "execution_count": 4,
   "id": "dd960467-ef84-483f-95f1-cfa6150e61e6",
   "metadata": {},
   "outputs": [
    {
     "data": {
      "text/plain": [
       "4"
      ]
     },
     "execution_count": 4,
     "metadata": {},
     "output_type": "execute_result"
    }
   ],
   "source": [
    "len(lst)"
   ]
  },
  {
   "cell_type": "code",
   "execution_count": 6,
   "id": "f09d83f7-2366-4139-89f3-3049afd4a8bd",
   "metadata": {},
   "outputs": [
    {
     "data": {
      "text/plain": [
       "{'A': 5, 'B': 6}"
      ]
     },
     "execution_count": 6,
     "metadata": {},
     "output_type": "execute_result"
    }
   ],
   "source": [
    "d2 = {'A': 5,\n",
    "    'B':6}\n",
    "\n",
    "d2"
   ]
  },
  {
   "cell_type": "code",
   "execution_count": 10,
   "id": "5bcc651e-604c-4268-a2da-7072b10730cb",
   "metadata": {},
   "outputs": [],
   "source": [
    "d3={'C':5,\n",
    "   'D':8}"
   ]
  },
  {
   "cell_type": "code",
   "execution_count": 12,
   "id": "b337323a-bd5d-4ea4-b319-0dbbb9a2de8b",
   "metadata": {},
   "outputs": [
    {
     "data": {
      "text/plain": [
       "{'A': 5, 'B': 6, 'C': 5, 'D': 8}"
      ]
     },
     "execution_count": 12,
     "metadata": {},
     "output_type": "execute_result"
    }
   ],
   "source": [
    "d2.update(d3)\n",
    "d2"
   ]
  },
  {
   "cell_type": "code",
   "execution_count": 20,
   "id": "f2d18985-b709-4cb0-a253-dff1bdaa3dbc",
   "metadata": {},
   "outputs": [
    {
     "data": {
      "text/plain": [
       "6"
      ]
     },
     "execution_count": 20,
     "metadata": {},
     "output_type": "execute_result"
    }
   ],
   "source": [
    "d2.get('B')"
   ]
  },
  {
   "cell_type": "code",
   "execution_count": 22,
   "id": "b0348fc9-663f-4367-8b94-6a7168a590c0",
   "metadata": {},
   "outputs": [
    {
     "data": {
      "text/plain": [
       "{'A': 5, 'C': 5, 'D': 8}"
      ]
     },
     "execution_count": 22,
     "metadata": {},
     "output_type": "execute_result"
    }
   ],
   "source": [
    "d2.pop('B')\n",
    "d2"
   ]
  },
  {
   "cell_type": "code",
   "execution_count": 23,
   "id": "c4a0a433-8189-4453-8530-d69d867b4067",
   "metadata": {},
   "outputs": [
    {
     "data": {
      "text/plain": [
       "{'A': 5, 'C': 5, 'D': 8}"
      ]
     },
     "execution_count": 23,
     "metadata": {},
     "output_type": "execute_result"
    }
   ],
   "source": [
    "d2"
   ]
  },
  {
   "cell_type": "code",
   "execution_count": 25,
   "id": "a26ffefa-6f37-41a4-bde0-6583f2a89b72",
   "metadata": {},
   "outputs": [
    {
     "data": {
      "text/plain": [
       "{'A': 5, 'C': 5}"
      ]
     },
     "execution_count": 25,
     "metadata": {},
     "output_type": "execute_result"
    }
   ],
   "source": [
    "d2.pop('D')\n",
    "d2"
   ]
  },
  {
   "cell_type": "code",
   "execution_count": null,
   "id": "dfa2bcd5-5556-4ef7-ab9e-0cc292c1f3fa",
   "metadata": {},
   "outputs": [],
   "source": [
    "d2.popitem('A', 'D')"
   ]
  },
  {
   "cell_type": "code",
   "execution_count": 27,
   "id": "e11f52ad-2d20-4494-b11d-56cc6b229fee",
   "metadata": {},
   "outputs": [
    {
     "name": "stdout",
     "output_type": "stream",
     "text": [
      "Help on built-in function print in module builtins:\n",
      "\n",
      "print(...)\n",
      "    print(value, ..., sep=' ', end='\\n', file=sys.stdout, flush=False)\n",
      "    \n",
      "    Prints the values to a stream, or to sys.stdout by default.\n",
      "    Optional keyword arguments:\n",
      "    file:  a file-like object (stream); defaults to the current sys.stdout.\n",
      "    sep:   string inserted between values, default a space.\n",
      "    end:   string appended after the last value, default a newline.\n",
      "    flush: whether to forcibly flush the stream.\n",
      "\n"
     ]
    }
   ],
   "source": [
    "help(print)"
   ]
  },
  {
   "cell_type": "code",
   "execution_count": 28,
   "id": "1d09c484-7d08-4c3b-b116-d3779389e717",
   "metadata": {},
   "outputs": [
    {
     "ename": "NameError",
     "evalue": "name 'pop' is not defined",
     "output_type": "error",
     "traceback": [
      "\u001b[1;31m---------------------------------------------------------------------------\u001b[0m",
      "\u001b[1;31mNameError\u001b[0m                                 Traceback (most recent call last)",
      "Cell \u001b[1;32mIn[28], line 1\u001b[0m\n\u001b[1;32m----> 1\u001b[0m \u001b[38;5;28mprint\u001b[39m(\u001b[43mpop\u001b[49m)\n",
      "\u001b[1;31mNameError\u001b[0m: name 'pop' is not defined"
     ]
    }
   ],
   "source": [
    "print(pop)"
   ]
  },
  {
   "cell_type": "code",
   "execution_count": 29,
   "id": "6b21ae96-c63c-486e-810d-303d667634fe",
   "metadata": {},
   "outputs": [
    {
     "name": "stdout",
     "output_type": "stream",
     "text": [
      "Help on method_descriptor:\n",
      "\n",
      "pop(...)\n",
      "    D.pop(k[,d]) -> v, remove specified key and return the corresponding value.\n",
      "    \n",
      "    If the key is not found, return the default if given; otherwise,\n",
      "    raise a KeyError.\n",
      "\n"
     ]
    }
   ],
   "source": [
    "help(dict.pop)"
   ]
  },
  {
   "cell_type": "code",
   "execution_count": 31,
   "id": "efbda69a-7a3d-4cb2-8c6f-c8a1610327bf",
   "metadata": {},
   "outputs": [
    {
     "data": {
      "text/plain": [
       "{'A': 5, 'C': 5}"
      ]
     },
     "execution_count": 31,
     "metadata": {},
     "output_type": "execute_result"
    }
   ],
   "source": [
    "d2."
   ]
  },
  {
   "cell_type": "code",
   "execution_count": 32,
   "id": "fe3d0c19-afd0-4d90-bc51-4b301459647d",
   "metadata": {},
   "outputs": [
    {
     "data": {
      "text/plain": [
       "{}"
      ]
     },
     "execution_count": 32,
     "metadata": {},
     "output_type": "execute_result"
    }
   ],
   "source": [
    "d2.pop('A')\n",
    "d2.pop('C')\n",
    "d2"
   ]
  },
  {
   "cell_type": "code",
   "execution_count": null,
   "id": "05e08b44-0d9e-4b82-baf0-7302426a8728",
   "metadata": {},
   "outputs": [],
   "source": [
    "d2."
   ]
  },
  {
   "cell_type": "code",
   "execution_count": null,
   "id": "9eb54fd7-3116-437e-9061-39e5b4256056",
   "metadata": {},
   "outputs": [],
   "source": []
  },
  {
   "cell_type": "code",
   "execution_count": null,
   "id": "feda4944-80a2-43e2-8ac1-6df33dc80c9f",
   "metadata": {},
   "outputs": [],
   "source": []
  },
  {
   "cell_type": "code",
   "execution_count": null,
   "id": "3454a0b7-67c6-4fe2-9776-0ff248ad310b",
   "metadata": {},
   "outputs": [],
   "source": []
  },
  {
   "cell_type": "code",
   "execution_count": 7,
   "id": "9cd1e3f1-af56-4ba9-9caa-b66680c5cc30",
   "metadata": {},
   "outputs": [
    {
     "data": {
      "text/plain": [
       "(5, 12, 'M', 5)"
      ]
     },
     "execution_count": 7,
     "metadata": {},
     "output_type": "execute_result"
    }
   ],
   "source": [
    "t1 = (5, 12, 'M',5)\n",
    "t1"
   ]
  },
  {
   "cell_type": "code",
   "execution_count": null,
   "id": "efce82a4-f51c-47fc-adef-e14c41be2037",
   "metadata": {},
   "outputs": [],
   "source": []
  },
  {
   "cell_type": "code",
   "execution_count": null,
   "id": "9933505a-5330-4e4f-887f-f2fd7234385c",
   "metadata": {},
   "outputs": [],
   "source": []
  },
  {
   "cell_type": "code",
   "execution_count": null,
   "id": "ed796ad8-8ff9-4f10-84d8-3d5427c4468f",
   "metadata": {},
   "outputs": [],
   "source": []
  },
  {
   "cell_type": "code",
   "execution_count": null,
   "id": "ab09d6d9-6b48-453a-a0d6-e896064b76cd",
   "metadata": {},
   "outputs": [],
   "source": []
  },
  {
   "cell_type": "code",
   "execution_count": null,
   "id": "f918f554-7f31-41e3-9826-39246e177d64",
   "metadata": {},
   "outputs": [],
   "source": []
  },
  {
   "cell_type": "code",
   "execution_count": null,
   "id": "a1b73df3-54a3-46cc-8527-88a6dc869f46",
   "metadata": {},
   "outputs": [],
   "source": [
    "+ \n",
    "-\n",
    "=\n",
    "/\n",
    "//\n",
    "**"
   ]
  },
  {
   "cell_type": "code",
   "execution_count": null,
   "id": "51949d28-47b9-441d-af56-f9c22c573f07",
   "metadata": {},
   "outputs": [],
   "source": [
    "s = ''"
   ]
  },
  {
   "cell_type": "markdown",
   "id": "9dea2228-0d9e-4a61-a893-51b6da2679e9",
   "metadata": {},
   "source": [
    "## 26. Write a Python program to find common items from two lists"
   ]
  },
  {
   "cell_type": "code",
   "execution_count": 43,
   "id": "bcd7fa4a-aeeb-455c-99ad-b0ffc6e8cb25",
   "metadata": {},
   "outputs": [
    {
     "name": "stdout",
     "output_type": "stream",
     "text": [
      "[2, 5]\n"
     ]
    }
   ],
   "source": [
    "a = [2, 5, 8, 9]\n",
    "b = [2, 5, 10, 55]\n",
    "n = []\n",
    "\n",
    "for i in a:\n",
    "    if i in b:\n",
    "        n.append(i)\n",
    "print(n)"
   ]
  },
  {
   "cell_type": "code",
   "execution_count": null,
   "id": "12ea9467-771a-4969-a1f3-500559669a58",
   "metadata": {},
   "outputs": [],
   "source": []
  },
  {
   "cell_type": "code",
   "execution_count": 4,
   "id": "a542f7e0-5e60-47a4-94ba-bc4eb22b6a29",
   "metadata": {},
   "outputs": [
    {
     "data": {
      "text/plain": [
       "{'A': 222, 'D': 15, 'E': 100}"
      ]
     },
     "execution_count": 4,
     "metadata": {},
     "output_type": "execute_result"
    }
   ],
   "source": [
    "#sort dict by key\n",
    "a = {'D':15,'E':100,'A':222}\n",
    "b = {}\n",
    "for i in sorted(a.keys()):\n",
    "    b[i]=a[i]\n",
    "b"
   ]
  },
  {
   "cell_type": "code",
   "execution_count": 8,
   "id": "0d185e82-944a-4a01-91f4-3fe0ce44c440",
   "metadata": {},
   "outputs": [
    {
     "data": {
      "text/plain": [
       "{'E': 100, 'A': 222, 'D': 335}"
      ]
     },
     "execution_count": 8,
     "metadata": {},
     "output_type": "execute_result"
    }
   ],
   "source": [
    "#sort dict by value\n",
    "a = {'D':335,'E':100,'A':222}\n",
    "b = dict(sorted(a.items(), key=lambda x : x[1]))\n",
    "b"
   ]
  },
  {
   "cell_type": "code",
   "execution_count": 11,
   "id": "3c07f368-bf1c-4af4-bc8c-ba59dab4cf75",
   "metadata": {},
   "outputs": [
    {
     "data": {
      "text/plain": [
       "657"
      ]
     },
     "execution_count": 11,
     "metadata": {},
     "output_type": "execute_result"
    }
   ],
   "source": [
    "#sum \n",
    "#sort dict by value\n",
    "a = {'D':335,'E':100,'A':222}\n",
    "sum(a.values())"
   ]
  },
  {
   "cell_type": "code",
   "execution_count": 14,
   "id": "701bcc42-de68-4443-82c4-b18e828fb070",
   "metadata": {},
   "outputs": [
    {
     "data": {
      "text/plain": [
       "{'D': 335, 'A': 222}"
      ]
     },
     "execution_count": 14,
     "metadata": {},
     "output_type": "execute_result"
    }
   ],
   "source": [
    "#remove key \n",
    "a = {'D':335,'E':100,'A':222}\n",
    "a.pop('E')\n",
    "a"
   ]
  },
  {
   "cell_type": "code",
   "execution_count": 16,
   "id": "bf798f07-49ed-4300-a314-4bd10066b532",
   "metadata": {},
   "outputs": [
    {
     "data": {
      "text/plain": [
       "{'D': 335, 'E': 100, 'A': 222, 'C': 25, 'F': 55, 'W': 852}"
      ]
     },
     "execution_count": 16,
     "metadata": {},
     "output_type": "execute_result"
    }
   ],
   "source": [
    "#merge 2 dict \n",
    "a = {'D':335,'E':100,'A':222}\n",
    "b = {'C':25, 'F':55, 'W':852}\n",
    "a.update(b)\n",
    "a"
   ]
  },
  {
   "cell_type": "code",
   "execution_count": 17,
   "id": "fc9f8caf-84d2-48bf-b9c5-c636c7ae2725",
   "metadata": {},
   "outputs": [],
   "source": [
    "#grade calculator \n",
    "def grade(score):\n",
    "    if score > 95:\n",
    "        return 'A+'\n",
    "    elif score > 90:\n",
    "        return 'A'\n",
    "    elif score > 80:\n",
    "        return 'B'"
   ]
  },
  {
   "cell_type": "code",
   "execution_count": 20,
   "id": "a21c0161-c20b-48b6-9630-5a270aac97d4",
   "metadata": {},
   "outputs": [
    {
     "name": "stdout",
     "output_type": "stream",
     "text": [
      "['aet', 'ant', 'abt']\n"
     ]
    }
   ],
   "source": [
    "#print anagramd using list \n",
    "a = ['eat','tea','tan','nat','bat']\n",
    "b = {}\n",
    "for i in a:\n",
    "    c = ''.join(sorted(i))\n",
    "    if c in b:\n",
    "        b[c].append(i)\n",
    "    else:\n",
    "        b[c]=[i]\n",
    "print(list(b))"
   ]
  },
  {
   "cell_type": "code",
   "execution_count": 22,
   "id": "35f6e798-f1de-4d2e-9713-24b2874c73ea",
   "metadata": {},
   "outputs": [],
   "source": [
    "#2 numbers anagrams \n",
    "from collections import Counter\n",
    "def ananum(a1,a2):\n",
    "    b1=bin(a1)[2:]\n",
    "    b2=bin(a2)[2:]\n",
    "    f1=Counter(b1)\n",
    "    f2=Counter(b2)\n",
    "    return f1==f2"
   ]
  },
  {
   "cell_type": "code",
   "execution_count": 24,
   "id": "ad67eb91-bc7e-4768-9915-766d8ca9d26e",
   "metadata": {},
   "outputs": [],
   "source": [
    "#largest subset of anagram word \n",
    "from collections import Counter\n",
    "def large(words):\n",
    "    b = Counter()\n",
    "    for i in words:\n",
    "        c = ''.join(sorted(i))\n",
    "        b[i] += 1\n",
    "    maxx=max(b.items())\n",
    "    maxx"
   ]
  },
  {
   "cell_type": "code",
   "execution_count": 27,
   "id": "867c0aef-fe19-4ba7-9e90-a636f7ecd593",
   "metadata": {},
   "outputs": [],
   "source": [
    "#minor character in string \n",
    "def minor(string):\n",
    "    b = {}\n",
    "    for i in string:\n",
    "        if i in b:\n",
    "            b[i] += 1\n",
    "        else:\n",
    "            b[i] = 1\n",
    "    minn = min(b, key=b.get)\n",
    "    minn"
   ]
  },
  {
   "cell_type": "code",
   "execution_count": 28,
   "id": "4439e738-9fa3-4e18-b912-16da488efac1",
   "metadata": {},
   "outputs": [],
   "source": [
    "#list of tuple with cube \n",
    "def cube(lst):\n",
    "    return [(i,i**3) for i in lst]"
   ]
  },
  {
   "cell_type": "code",
   "execution_count": 30,
   "id": "f99021f5-04df-41b6-bfc1-b10d73d1767a",
   "metadata": {},
   "outputs": [
    {
     "data": {
      "text/plain": [
       "[(7, 8), (2, 55), (1, 55)]"
      ]
     },
     "execution_count": 30,
     "metadata": {},
     "output_type": "execute_result"
    }
   ],
   "source": [
    "#sort list of tuple by second item \n",
    "a = [(2,55),(1,55),(7,8)]\n",
    "b = sorted(a, key=lambda x: x[1])\n",
    "b"
   ]
  },
  {
   "cell_type": "code",
   "execution_count": 31,
   "id": "37664bdb-cf21-414d-acd8-6a5adc0cbe2b",
   "metadata": {},
   "outputs": [],
   "source": [
    "#selection sort\n",
    "def ss(arr):\n",
    "    for i in range(len(arr)):\n",
    "        minn = i\n",
    "        for j in range(i+1,len(arr)):\n",
    "            if arr[j] < arr[minn]:\n",
    "                minn = j\n",
    "            temp = arr[i]\n",
    "            arr[i]= arr[minn]\n",
    "            arr[minn]=temp\n",
    "            "
   ]
  },
  {
   "cell_type": "code",
   "execution_count": 32,
   "id": "3e687339-cd73-4364-98ae-30f637ceaee9",
   "metadata": {},
   "outputs": [],
   "source": [
    "#Buble sort\n",
    "def buble(arr):\n",
    "    for i in range(len(arr)-1,0,-1):\n",
    "        for j in range(i):\n",
    "            if arr[j] > arr[j+1]:\n",
    "                temp = arr[j]\n",
    "                arr[j]=arr[j+1]\n",
    "                arr[j+1]=temp"
   ]
  },
  {
   "cell_type": "code",
   "execution_count": 33,
   "id": "af50bb40-3131-4157-8460-c6ea2aceef1f",
   "metadata": {},
   "outputs": [],
   "source": [
    "#merge sort\n",
    "def merge(arr):\n",
    "    if len(arr)<=1:\n",
    "        return arr\n",
    "    mid = len(arr)//2\n",
    "    left = merge(arr[:mid])\n",
    "    right = merge(arr[mid:])\n",
    "    return sorted(left+right)"
   ]
  },
  {
   "cell_type": "code",
   "execution_count": 34,
   "id": "7b2d5290-3c16-4d5c-8492-54be0d5c4296",
   "metadata": {},
   "outputs": [],
   "source": [
    "#largest prime factor of number \n",
    "def largefact(n):\n",
    "    i = 2\n",
    "    while i*i <=n:\n",
    "        if n%i:\n",
    "            i += 1\n",
    "        else:\n",
    "            n//=i\n",
    "    return n"
   ]
  },
  {
   "cell_type": "code",
   "execution_count": 35,
   "id": "132ca201-644f-40e2-92ae-ca3229d48ea7",
   "metadata": {},
   "outputs": [],
   "source": [
    "#Unique pime factors of number \n",
    "def pm(n):\n",
    "    i=2\n",
    "    f=[]\n",
    "    while i*i<=n:\n",
    "        if n%i:\n",
    "            i+=1\n",
    "        else:\n",
    "            n//=i\n",
    "            f.append(i)\n",
    "    if n>1:\n",
    "        f.append(n)\n",
    "    return f"
   ]
  },
  {
   "cell_type": "code",
   "execution_count": 36,
   "id": "31a55377-0e89-4ce5-851a-7935aac16d7c",
   "metadata": {},
   "outputs": [
    {
     "name": "stdout",
     "output_type": "stream",
     "text": [
      "3628800\n"
     ]
    }
   ],
   "source": [
    "#find factorail \n",
    "n=10\n",
    "f = 1\n",
    "for i in range(1,n+1):\n",
    "    f = f *i\n",
    "print(f)"
   ]
  },
  {
   "cell_type": "code",
   "execution_count": 38,
   "id": "93bced06-2870-4d32-92ea-b975ecb77e50",
   "metadata": {},
   "outputs": [],
   "source": [
    "#finf sum of odd factor of number \n",
    "def odd_fact(n):\n",
    "    total = 0\n",
    "    for i in range(1,n+1):\n",
    "        if n%i==0 and i%2==0:\n",
    "            total += 1\n",
    "    total"
   ]
  },
  {
   "cell_type": "code",
   "execution_count": 41,
   "id": "0ec18ea1-c9ae-4d08-a1ca-d1f0a5db7e16",
   "metadata": {},
   "outputs": [],
   "source": [
    "#number of elements with odd factors in gievn range\n",
    "import math \n",
    "def odd_fact(a,b):\n",
    "    asq = math.ceil(math.sqrt(a))\n",
    "    bsq = math.floor(math.sqrt(b))\n",
    "    return max(0, asq-bsq+1)"
   ]
  },
  {
   "cell_type": "code",
   "execution_count": 42,
   "id": "2127a958-ade9-4161-8939-3b08afd229b9",
   "metadata": {},
   "outputs": [],
   "source": [
    "#common divisors of number \n",
    "def common(a,b):\n",
    "    d = []\n",
    "    minn =min(a,b)\n",
    "    for i in range(1,minn+1):\n",
    "        if a%i==0 and b%i==0:\n",
    "            c.append(i)\n",
    "    d"
   ]
  },
  {
   "cell_type": "code",
   "execution_count": 43,
   "id": "7f6d8e30-7aff-463a-bf26-e49093e6fa03",
   "metadata": {},
   "outputs": [],
   "source": [
    "#check if count of divisors is even or odd\n",
    "def count_d(n):\n",
    "    count = 0\n",
    "    for i in range(1,n+1):\n",
    "        if n%i==0:\n",
    "            count += 1\n",
    "    return count "
   ]
  },
  {
   "cell_type": "code",
   "execution_count": 45,
   "id": "413dd79b-2144-46ad-8957-ad9a5f1bf919",
   "metadata": {},
   "outputs": [],
   "source": [
    "#min sum of factors of number \n",
    "def sum_fact(n):\n",
    "    total = 0\n",
    "    for i in range(1,n+1):\n",
    "        if n%i==0:\n",
    "            total += i\n",
    "    return total "
   ]
  },
  {
   "cell_type": "code",
   "execution_count": 54,
   "id": "c488fd9c-98d6-4457-8c8b-517e2e7f0434",
   "metadata": {},
   "outputs": [],
   "source": [
    "#diff bw odd & evn digits\n",
    "def diff(n):\n",
    "    odd = 0\n",
    "    even = 0\n",
    "    for i in str(n):\n",
    "        if int(i)%2==0:\n",
    "            even += 1\n",
    "        else:\n",
    "            odd += 1\n",
    "    return odd-even "
   ]
  },
  {
   "cell_type": "code",
   "execution_count": 56,
   "id": "ed8c2c48-1c1a-4e97-96d7-d97eee391122",
   "metadata": {},
   "outputs": [],
   "source": [
    "# Largest K digit divisible by x \n",
    "def large(K,X):\n",
    "    maxx= pow(10,K)-1\n",
    "    return maxx-(maxx%X)"
   ]
  },
  {
   "cell_type": "code",
   "execution_count": 57,
   "id": "9939f171-a7b3-4609-8565-bf9ac8262fdb",
   "metadata": {},
   "outputs": [],
   "source": [
    "def small(k,x):\n",
    "    minn=pow(10,k-1)\n",
    "    if minn % x==0:\n",
    "        return minn\n",
    "    else:\n",
    "        minn + (x-(minn%x))"
   ]
  },
  {
   "cell_type": "code",
   "execution_count": 59,
   "id": "548c7566-8051-4055-aff6-bcbd8b5d4c6b",
   "metadata": {},
   "outputs": [],
   "source": [
    "#area of Tehrahedrom \n",
    "import math \n",
    "def tehr(side):\n",
    "    return math.sqrt(3)*(side*side)"
   ]
  },
  {
   "cell_type": "code",
   "execution_count": 60,
   "id": "161ce0b1-281d-4a71-80d5-75378aa85e0d",
   "metadata": {},
   "outputs": [],
   "source": [
    "#perimeter of cylinder \n",
    "def per(d,h):\n",
    "    return 2*(d+h)"
   ]
  },
  {
   "cell_type": "code",
   "execution_count": 64,
   "id": "e2f14798-f7a3-4175-a0ca-6c45beb00356",
   "metadata": {},
   "outputs": [],
   "source": [
    "#most occuring char and count\n",
    "from collections import Counter \n",
    "def ms(string):\n",
    "    Count = Counter(string)\n",
    "    m_c, m_cc = Count.most_common(1)[0]\n",
    "    return m_c,m_cc"
   ]
  },
  {
   "cell_type": "code",
   "execution_count": 65,
   "id": "8acc67fa-62f3-4dd2-ac8b-aad87bbcf80b",
   "metadata": {},
   "outputs": [
    {
     "data": {
      "text/plain": [
       "('a', 2)"
      ]
     },
     "execution_count": 65,
     "metadata": {},
     "output_type": "execute_result"
    }
   ],
   "source": [
    "ms('maayur')"
   ]
  },
  {
   "cell_type": "code",
   "execution_count": 67,
   "id": "4c618480-ad4a-48f5-8ccf-e59107f39f09",
   "metadata": {},
   "outputs": [],
   "source": [
    "#check if all digit of number divide it \n",
    "def divide(n):\n",
    "    for i in str(n):\n",
    "        if i=='0' or n%int(i)!=0:\n",
    "            return False\n",
    "    return True"
   ]
  },
  {
   "cell_type": "code",
   "execution_count": 68,
   "id": "55e00f43-3d0b-481d-a4a0-4209dde1c797",
   "metadata": {},
   "outputs": [
    {
     "data": {
      "text/plain": [
       "True"
      ]
     },
     "execution_count": 68,
     "metadata": {},
     "output_type": "execute_result"
    }
   ],
   "source": [
    "divide(55)"
   ]
  },
  {
   "cell_type": "code",
   "execution_count": 1,
   "id": "086e2e9b-112f-48a6-a674-c8fe3262f3b9",
   "metadata": {},
   "outputs": [],
   "source": [
    "#float decimal to octal number \n",
    "def octt(n):\n",
    "    b = int(n)\n",
    "    return oct(b)[2:]"
   ]
  },
  {
   "cell_type": "code",
   "execution_count": 2,
   "id": "b988574d-540f-4f8f-8f81-e179c80d3926",
   "metadata": {},
   "outputs": [
    {
     "data": {
      "text/plain": [
       "'115'"
      ]
     },
     "execution_count": 2,
     "metadata": {},
     "output_type": "execute_result"
    }
   ],
   "source": [
    "octt(77.77)"
   ]
  },
  {
   "cell_type": "code",
   "execution_count": 3,
   "id": "fba7e5f8-34da-4d2c-a7aa-2e1a083b9b99",
   "metadata": {},
   "outputs": [],
   "source": [
    "#copy odd line inot another file \n",
    "def oddfile(file):\n",
    "    odd = []\n",
    "    with open (file,'r') as file:\n",
    "        for i,v in enumerate(file):\n",
    "            if i%2!=0:\n",
    "                odd.append(v.strip())\n",
    "    return '/n'.join(odd)"
   ]
  },
  {
   "cell_type": "code",
   "execution_count": 6,
   "id": "795b821d-39a8-4d11-930b-bbf9bf873079",
   "metadata": {},
   "outputs": [],
   "source": [
    "#Replace whitespace & blankspace\n",
    "def mod(text):\n",
    "    a = ''\n",
    "    for i in text:\n",
    "        if i==' ':\n",
    "            a += '_'\n",
    "        elif i=='_':\n",
    "            a += ' '\n",
    "        else:\n",
    "            a += i\n",
    "    return a"
   ]
  },
  {
   "cell_type": "code",
   "execution_count": 7,
   "id": "8c14c3b9-8f85-46de-b27f-78bdefff0afa",
   "metadata": {},
   "outputs": [],
   "source": [
    "#YY-MM-DD to DD-MM-YY\n",
    "def date(date):\n",
    "    yy,mm,dd = date.split('-')\n",
    "    a = f'{dd}-{mm}={yy}'\n",
    "    return a"
   ]
  },
  {
   "cell_type": "code",
   "execution_count": 8,
   "id": "de743c89-3a12-41b8-bda6-eababb39315d",
   "metadata": {},
   "outputs": [
    {
     "name": "stdout",
     "output_type": "stream",
     "text": [
      "{'a': 0, 'b': 0}\n"
     ]
    }
   ],
   "source": [
    "# find 'a' or 'e' in string \n",
    "string = ''\n",
    "b = {'a':0,'b':0}\n",
    "for i in string:\n",
    "    if i=='a' or i=='e':\n",
    "        b[i] += 1\n",
    "print(b)"
   ]
  },
  {
   "cell_type": "code",
   "execution_count": null,
   "id": "65453772-dc75-46cf-a1e5-c62abae179c7",
   "metadata": {},
   "outputs": [],
   "source": []
  },
  {
   "cell_type": "code",
   "execution_count": 10,
   "id": "8e7cbf15-d20f-4c7b-9996-3c436b2b2434",
   "metadata": {},
   "outputs": [
    {
     "data": {
      "text/plain": [
       "[(1, 'T'), (10, 'D'), (55, 'R')]"
      ]
     },
     "execution_count": 10,
     "metadata": {},
     "output_type": "execute_result"
    }
   ],
   "source": [
    "#sort list of tuple using lambda \n",
    "a = [(10,'D'),(55,'R'),(1,'T')]\n",
    "b = sorted(a, key=lambda x: x[0])\n",
    "b"
   ]
  },
  {
   "cell_type": "code",
   "execution_count": 12,
   "id": "0fb0cd0c-9b8a-4809-ba5b-ce00775c03cd",
   "metadata": {},
   "outputs": [
    {
     "data": {
      "text/plain": [
       "[{'C': 'F', 'Age': 20}, {'A': 'D', 'Age': 25}, {'B': 'E', 'Age': 63}]"
      ]
     },
     "execution_count": 12,
     "metadata": {},
     "output_type": "execute_result"
    }
   ],
   "source": [
    "# sort list of dict \n",
    "a = [{'A': 'D', 'Age': 25},\n",
    "    {'B': 'E', 'Age': 63},\n",
    "    {'C': 'F', 'Age': 20}]\n",
    "b = sorted(a, key=lambda x:x['Age'])\n",
    "b"
   ]
  },
  {
   "cell_type": "code",
   "execution_count": 14,
   "id": "a3cb86f2-ab62-4aa0-a8f9-6aa923c41b9f",
   "metadata": {},
   "outputs": [
    {
     "data": {
      "text/plain": [
       "[1, 8, 27, 64, 125]"
      ]
     },
     "execution_count": 14,
     "metadata": {},
     "output_type": "execute_result"
    }
   ],
   "source": [
    "#cube using lambda \n",
    "a = [1,2,3,4,5]\n",
    "b = list(map(lambda x: x**3,a))\n",
    "b"
   ]
  },
  {
   "cell_type": "code",
   "execution_count": 17,
   "id": "c47a91db-3e07-40e6-baae-c0dfe2025380",
   "metadata": {},
   "outputs": [
    {
     "data": {
      "text/plain": [
       "True"
      ]
     },
     "execution_count": 17,
     "metadata": {},
     "output_type": "execute_result"
    }
   ],
   "source": [
    "#chech is tring start with \n",
    "a = lambda start,char : start[0]==char\n",
    "a('Mayur','M')"
   ]
  },
  {
   "cell_type": "code",
   "execution_count": 22,
   "id": "a9278b4d-d3a2-4629-a4b8-820ef741ad20",
   "metadata": {},
   "outputs": [
    {
     "data": {
      "text/plain": [
       "False"
      ]
     },
     "execution_count": 22,
     "metadata": {},
     "output_type": "execute_result"
    }
   ],
   "source": [
    "#string is number or not using lambda \n",
    "a = lambda x: x.isdigit()\n",
    "a('8551 Mayur')"
   ]
  },
  {
   "cell_type": "code",
   "execution_count": 25,
   "id": "9a90b98f-f9ff-4aef-ade1-44fa6b3e0030",
   "metadata": {},
   "outputs": [
    {
     "name": "stdout",
     "output_type": "stream",
     "text": [
      "0\n",
      "1\n",
      "1\n",
      "2\n",
      "3\n",
      "5\n",
      "8\n",
      "13\n",
      "21\n",
      "34\n"
     ]
    }
   ],
   "source": [
    "#Fibonaci using lambda \n",
    "a = lambda x: x if x<2 else a(x-1) + a(x-2)\n",
    "for i in range(10):\n",
    "    print(a(i))"
   ]
  },
  {
   "cell_type": "code",
   "execution_count": 27,
   "id": "4676f533-ede7-434c-9721-4d3c18c8f490",
   "metadata": {},
   "outputs": [
    {
     "data": {
      "text/plain": [
       "[True, True, True, True, False]"
      ]
     },
     "execution_count": 27,
     "metadata": {},
     "output_type": "execute_result"
    }
   ],
   "source": [
    "#intersection of list using lambda \n",
    "a = [1,2,3,4,5]\n",
    "b = [2,3,4,5,6]\n",
    "c = list(map(lambda x: x in a,b))\n",
    "c"
   ]
  },
  {
   "cell_type": "code",
   "execution_count": 33,
   "id": "25ef440e-07d6-406c-a5c9-10d959b29fcf",
   "metadata": {},
   "outputs": [
    {
     "data": {
      "text/plain": [
       "[-1, -5, -8, -88, 12, 9, 524, 1]"
      ]
     },
     "execution_count": 33,
     "metadata": {},
     "output_type": "execute_result"
    }
   ],
   "source": [
    "#Rearrnage -ve & +ve using lambda\n",
    "a = [-1,-5,-8,12,-88,9,524,1]\n",
    "b = sorted(a,key=lambda x: x>0)\n",
    "b"
   ]
  },
  {
   "cell_type": "code",
   "execution_count": 40,
   "id": "b6e68f97-5d9c-4c03-bd89-79325afc47fe",
   "metadata": {},
   "outputs": [
    {
     "name": "stdout",
     "output_type": "stream",
     "text": [
      "4\n",
      "5\n"
     ]
    }
   ],
   "source": [
    "#odd & even using lambda \n",
    "a = [1,2,3,4,5,6,7,8,9]\n",
    "b = len(list(filter(lambda x: x%2==0,a)))\n",
    "c = len(list(filter(lambda x: x%2!=0,a)))\n",
    "print(b)\n",
    "print(c)"
   ]
  },
  {
   "cell_type": "code",
   "execution_count": 41,
   "id": "64294741-2d30-4db5-aac9-219ba8e24532",
   "metadata": {},
   "outputs": [
    {
     "name": "stdout",
     "output_type": "stream",
     "text": [
      "[2, 4, 6, 8]\n",
      "[1, 3, 5, 7, 9]\n"
     ]
    }
   ],
   "source": [
    "a = [1,2,3,4,5,6,7,8,9]\n",
    "b = list(filter(lambda x: x%2==0,a))\n",
    "c = list(filter(lambda x: x%2!=0,a))\n",
    "print(b)\n",
    "print(c)"
   ]
  },
  {
   "cell_type": "code",
   "execution_count": 48,
   "id": "74489ee0-ecb0-403b-8a6d-a85ffb5e5cfd",
   "metadata": {},
   "outputs": [
    {
     "data": {
      "text/plain": [
       "[26, 19, 130, 190]"
      ]
     },
     "execution_count": 48,
     "metadata": {},
     "output_type": "execute_result"
    }
   ],
   "source": [
    "#no. divide by 13 & 19 \n",
    "a = [25,96,33,66,85,77,36,26,19,45,1230,130,190]\n",
    "b = list(filter(lambda x: x%13==0 or x%19==0,a))\n",
    "b"
   ]
  },
  {
   "cell_type": "code",
   "execution_count": 49,
   "id": "724b3c71-c0cc-43de-9ce7-132b355e10db",
   "metadata": {},
   "outputs": [
    {
     "data": {
      "text/plain": [
       "['radar', 'level', 'madam']"
      ]
     },
     "execution_count": 49,
     "metadata": {},
     "output_type": "execute_result"
    }
   ],
   "source": [
    "#Palindrome using lambda \n",
    "a = [\"radar\", \"python\", \"level\", \"hello\", \"madam\"]\n",
    "b = list(filter(lambda x: x==x[::-1],a))\n",
    "b"
   ]
  },
  {
   "cell_type": "code",
   "execution_count": 52,
   "id": "1652add3-a5a9-4361-9d99-f7e902085fd0",
   "metadata": {},
   "outputs": [],
   "source": [
    "#check anagram using lambda \n",
    "a = lambda x1,x2:sorted(x1)==sorted(x2)"
   ]
  },
  {
   "cell_type": "code",
   "execution_count": 53,
   "id": "5e521906-34c1-4f12-8447-857780bf04f6",
   "metadata": {},
   "outputs": [
    {
     "data": {
      "text/plain": [
       "True"
      ]
     },
     "execution_count": 53,
     "metadata": {},
     "output_type": "execute_result"
    }
   ],
   "source": [
    "a('cat', 'tac')"
   ]
  },
  {
   "cell_type": "code",
   "execution_count": 57,
   "id": "a1e33fe3-4b71-4cfe-ba96-d69d932119e7",
   "metadata": {},
   "outputs": [
    {
     "data": {
      "text/plain": [
       "[2, 4, 6, 8, 10]"
      ]
     },
     "execution_count": 57,
     "metadata": {},
     "output_type": "execute_result"
    }
   ],
   "source": [
    "#multiply number using lambda \n",
    "a = [1,2,3,4,5]\n",
    "b = list(map(lambda x: x*2,a))\n",
    "b"
   ]
  },
  {
   "cell_type": "code",
   "execution_count": 62,
   "id": "637c9604-5f6c-43d9-a5bc-0b7cd1e2ada0",
   "metadata": {},
   "outputs": [
    {
     "name": "stdout",
     "output_type": "stream",
     "text": [
      "[1, 3, 9, 8] [-2, -2]\n"
     ]
    }
   ],
   "source": [
    "#+ve & -ve numbers using lambda\n",
    "a = [1,-2,3,-2,9,8]\n",
    "b = list(filter(lambda x: x >0,a))\n",
    "c = list(filter(lambda x: x <0,a))\n",
    "print(b,c)"
   ]
  },
  {
   "cell_type": "code",
   "execution_count": 64,
   "id": "ac8d0574-0642-40d2-943f-7bc83a129208",
   "metadata": {},
   "outputs": [
    {
     "name": "stdout",
     "output_type": "stream",
     "text": [
      "[7, 8, 9, 10] [6]\n"
     ]
    }
   ],
   "source": [
    "#max & min list using lambda \n",
    "a = [[1, 2], [3, 4, 5], [6], [7, 8, 9, 10]]\n",
    "b = max(a, key=lambda x:len(x))\n",
    "c = min(a, key=lambda x:len(x))\n",
    "print(b,c)"
   ]
  },
  {
   "cell_type": "code",
   "execution_count": 72,
   "id": "251944d8-7076-4d37-8da2-e77c53cbc2f0",
   "metadata": {},
   "outputs": [
    {
     "data": {
      "text/plain": [
       "False"
      ]
     },
     "execution_count": 72,
     "metadata": {},
     "output_type": "execute_result"
    }
   ],
   "source": [
    "#check list sorted or not using lambda \n",
    "a = [1, 2, 3, 4, 77, 8, 66, 12, 25]\n",
    "b = lambda a: a == sorted(a)\n",
    "b(a)"
   ]
  },
  {
   "cell_type": "code",
   "execution_count": 74,
   "id": "96572230-0a16-4e08-a281-45a3f86e35f9",
   "metadata": {},
   "outputs": [
    {
     "data": {
      "text/plain": [
       "[1, 3, 5]"
      ]
     },
     "execution_count": 74,
     "metadata": {},
     "output_type": "execute_result"
    }
   ],
   "source": [
    "#element present in a & not in b\n",
    "a = [1, 2, 3, 4, 5, 6]\n",
    "b = [2, 4, 6]\n",
    "c = list(filter(lambda x: x not in b,a))\n",
    "c"
   ]
  },
  {
   "cell_type": "code",
   "execution_count": 75,
   "id": "4fb63bc8-00e1-44d3-bb2f-49cb0ad5aacc",
   "metadata": {},
   "outputs": [
    {
     "data": {
      "text/plain": [
       "[]"
      ]
     },
     "execution_count": 75,
     "metadata": {},
     "output_type": "execute_result"
    }
   ],
   "source": [
    "a = [1, 2, 3, 4, 5, 6]\n",
    "b = [2, 4, 6]\n",
    "c = list(filter(lambda x: x not in a,b))\n",
    "c"
   ]
  },
  {
   "cell_type": "code",
   "execution_count": 77,
   "id": "36912847-bcc7-4b72-8afa-cc68ab1dd7f0",
   "metadata": {},
   "outputs": [
    {
     "data": {
      "text/plain": [
       "(1, 2, 3, 4, 5)"
      ]
     },
     "execution_count": 77,
     "metadata": {},
     "output_type": "execute_result"
    }
   ],
   "source": [
    "#convert string in tuple to integer \n",
    "a = ('1', '2', '3', '4', '5')\n",
    "b = tuple(map(lambda x: int(x),a))\n",
    "b"
   ]
  },
  {
   "cell_type": "code",
   "execution_count": 78,
   "id": "993d2292-d102-402d-b513-b2819d3babf1",
   "metadata": {},
   "outputs": [
    {
     "data": {
      "text/plain": [
       "{1: 1, 2: 2, 3: 1, 4: 3, 5: 1, 6: 2}"
      ]
     },
     "execution_count": 78,
     "metadata": {},
     "output_type": "execute_result"
    }
   ],
   "source": [
    "#Count occurance using dict \n",
    "from collections import Counter\n",
    "a = [1, 2, 2, 3, 4, 4, 4, 5, 6, 6]\n",
    "b = dict(Counter(a))\n",
    "b"
   ]
  },
  {
   "cell_type": "code",
   "execution_count": 79,
   "id": "762fc2d8-987e-4136-a267-af69f617bbc3",
   "metadata": {},
   "outputs": [
    {
     "data": {
      "text/plain": [
       "[12, 15, 18]"
      ]
     },
     "execution_count": 79,
     "metadata": {},
     "output_type": "execute_result"
    }
   ],
   "source": [
    "a = [1, 2, 3]\n",
    "b = [4, 5, 6]\n",
    "c = [7, 8, 9]\n",
    "d = list(map(lambda x,y,z:x+y+z, a,b,c))\n",
    "d"
   ]
  },
  {
   "cell_type": "code",
   "execution_count": 80,
   "id": "9a865f76-f8a1-48a2-b5f6-6c16548eaba7",
   "metadata": {},
   "outputs": [
    {
     "data": {
      "text/plain": [
       "[['h', 'e', 'l', 'l', 'o'],\n",
       " ['w', 'o', 'r', 'l', 'd'],\n",
       " ['p', 'y', 't', 'h', 'o', 'n']]"
      ]
     },
     "execution_count": 80,
     "metadata": {},
     "output_type": "execute_result"
    }
   ],
   "source": [
    "#listify string \n",
    "a = ['hello', 'world', 'python']\n",
    "b = list(map(list,a))\n",
    "b"
   ]
  },
  {
   "cell_type": "code",
   "execution_count": 88,
   "id": "1267d4b0-34a1-4e0d-bd23-d4a836ccc9ba",
   "metadata": {},
   "outputs": [
    {
     "data": {
      "text/plain": [
       "[1, 4, 9, 16, 25]"
      ]
     },
     "execution_count": 88,
     "metadata": {},
     "output_type": "execute_result"
    }
   ],
   "source": [
    "#Square using lambda & map()\n",
    "a = [1,2,3,4,5]\n",
    "b = list(map(lambda x: x**2,a))\n",
    "b"
   ]
  },
  {
   "cell_type": "code",
   "execution_count": 89,
   "id": "1a5383a9-8700-4145-a0d1-44d943ba61d0",
   "metadata": {},
   "outputs": [
    {
     "name": "stdout",
     "output_type": "stream",
     "text": [
      "[11, 22, 33, 44] [9, 18, 27, 36]\n"
     ]
    }
   ],
   "source": [
    "#Add 2 list & find difference \n",
    "a = [10, 20, 30, 40]\n",
    "b = [1, 2, 3, 4]\n",
    "c = list(map(lambda x,y: x+y,a,b))\n",
    "d = list(map(lambda x,y: x-y,a,b))\n",
    "print(c,d)"
   ]
  },
  {
   "cell_type": "code",
   "execution_count": 90,
   "id": "cb473920-040d-49db-b8c4-ac1e2cc39387",
   "metadata": {},
   "outputs": [
    {
     "name": "stdout",
     "output_type": "stream",
     "text": [
      "['10', '20', '30', '40'] ['1', '2', '3', '4']\n"
     ]
    }
   ],
   "source": [
    "# convert list & tuple into list of string \n",
    "a = [10, 20, 30, 40]\n",
    "b = (1, 2, 3, 4)\n",
    "c = list(map(str,a))\n",
    "d = list(map(str,b))\n",
    "print(c,d)"
   ]
  },
  {
   "cell_type": "code",
   "execution_count": 91,
   "id": "7954340f-e589-429e-a514-5877d75daa59",
   "metadata": {},
   "outputs": [
    {
     "data": {
      "text/plain": [
       "15"
      ]
     },
     "execution_count": 91,
     "metadata": {},
     "output_type": "execute_result"
    }
   ],
   "source": [
    "#Sum of list using lambda \n",
    "a = [1,2,3,4,5]\n",
    "b = sum(map(lambda x: x,a))\n",
    "b"
   ]
  },
  {
   "cell_type": "code",
   "execution_count": 92,
   "id": "d595e109-082f-43be-aa9b-62c03e9abe12",
   "metadata": {},
   "outputs": [
    {
     "data": {
      "text/plain": [
       "5"
      ]
     },
     "execution_count": 92,
     "metadata": {},
     "output_type": "execute_result"
    }
   ],
   "source": [
    "#count pair in list using lambda \n",
    "a = [1,2,3,4,5]\n",
    "b = [5,4,3,2,1]\n",
    "c = sum(map(lambda x: x in b,a))\n",
    "c"
   ]
  },
  {
   "cell_type": "code",
   "execution_count": 93,
   "id": "47cf2d7c-a3a2-4b49-beb7-507b45cc3d7f",
   "metadata": {},
   "outputs": [
    {
     "data": {
      "text/plain": [
       "[['a', 'p', 'p', 'l', 'e'],\n",
       " ['b', 'a', 'n', 'a', 'n', 'a'],\n",
       " ['c', 'h', 'e', 'r', 'r', 'y']]"
      ]
     },
     "execution_count": 93,
     "metadata": {},
     "output_type": "execute_result"
    }
   ],
   "source": [
    "#make seperate list from list of strings \n",
    "a = ['apple', 'banana', 'cherry']\n",
    "b = list(map(lambda x: list(x),a))\n",
    "b"
   ]
  },
  {
   "cell_type": "code",
   "execution_count": 96,
   "id": "e28e78a4-8474-4aeb-8c49-f1130e8a285a",
   "metadata": {},
   "outputs": [
    {
     "data": {
      "text/plain": [
       "['abc', 'def', 'ghi']"
      ]
     },
     "execution_count": 96,
     "metadata": {},
     "output_type": "execute_result"
    }
   ],
   "source": [
    "#list of tuple to list of string \n",
    "a = [('a', 'b', 'c'), ('d', 'e', 'f'), ('g', 'h', 'i')]\n",
    "b = list(map(lambda x: ''.join(x),a))\n",
    "b"
   ]
  },
  {
   "cell_type": "code",
   "execution_count": 98,
   "id": "97704132-0798-42d1-9a64-b5030838d8ba",
   "metadata": {},
   "outputs": [
    {
     "data": {
      "text/plain": [
       "[]"
      ]
     },
     "execution_count": 98,
     "metadata": {},
     "output_type": "execute_result"
    }
   ],
   "source": [
    "#Diff bw 2 list\n",
    "a = [1,2,3,4,5]\n",
    "b = [5,4,3,2,1]\n",
    "c = list(filter(lambda x: x not in b,a))\n",
    "c"
   ]
  },
  {
   "cell_type": "code",
   "execution_count": 99,
   "id": "6c3c7dd9-3343-4e7f-a4a3-8653adb30db3",
   "metadata": {},
   "outputs": [
    {
     "data": {
      "text/plain": [
       "[1, 2, 3, 4, 5]"
      ]
     },
     "execution_count": 99,
     "metadata": {},
     "output_type": "execute_result"
    }
   ],
   "source": [
    "#common item \n",
    "a = [1,2,3,4,5]\n",
    "b = [5,4,3,2,1]\n",
    "c = list(filter(lambda x: x in b,a))\n",
    "c"
   ]
  },
  {
   "cell_type": "code",
   "execution_count": 100,
   "id": "3298a37e-57a6-4f4c-b05c-6449e05fe634",
   "metadata": {},
   "outputs": [
    {
     "data": {
      "text/plain": [
       "[1, 3, 5]"
      ]
     },
     "execution_count": 100,
     "metadata": {},
     "output_type": "execute_result"
    }
   ],
   "source": [
    "#odd numbers \n",
    "a = [1,2,3,4,5]\n",
    "b = list(filter(lambda x: x%2!=0,a))\n",
    "b"
   ]
  },
  {
   "cell_type": "code",
   "execution_count": 101,
   "id": "0f0b6205-7e2b-4a41-b002-aafd06e8856e",
   "metadata": {},
   "outputs": [
    {
     "data": {
      "text/plain": [
       "[2, 4]"
      ]
     },
     "execution_count": 101,
     "metadata": {},
     "output_type": "execute_result"
    }
   ],
   "source": [
    "#even numbers \n",
    "a = [1,2,3,4,5]\n",
    "b = list(filter(lambda x: x%2==0,a))\n",
    "b"
   ]
  },
  {
   "cell_type": "code",
   "execution_count": 102,
   "id": "721a7c8a-c1e5-4f89-beef-ae76aa35179b",
   "metadata": {},
   "outputs": [
    {
     "data": {
      "text/plain": [
       "['a', 'e', 'i', 'o', 'u']"
      ]
     },
     "execution_count": 102,
     "metadata": {},
     "output_type": "execute_result"
    }
   ],
   "source": [
    "#Filter non vovels from list \n",
    "chars = ['a', 'b', 'c', 'e', 'i', 'o', 'u', 'x', 'y', 'z']\n",
    "vowels = {'a', 'e', 'i', 'o', 'u'}\n",
    "b = list(filter(lambda x: x in vowels,chars))\n",
    "b"
   ]
  },
  {
   "cell_type": "code",
   "execution_count": null,
   "id": "06bd506f-611d-4e28-96ce-fae089feb2f3",
   "metadata": {},
   "outputs": [],
   "source": []
  },
  {
   "cell_type": "code",
   "execution_count": null,
   "id": "d64b7032-4922-4f6e-9f6a-79d7adec7bb3",
   "metadata": {},
   "outputs": [],
   "source": [
    "#RE"
   ]
  },
  {
   "cell_type": "code",
   "execution_count": 3,
   "id": "f71d883b-f4c1-4897-a0dd-e8893902a4f4",
   "metadata": {},
   "outputs": [
    {
     "data": {
      "text/plain": [
       "['1234567890']"
      ]
     },
     "execution_count": 3,
     "metadata": {},
     "output_type": "execute_result"
    }
   ],
   "source": [
    "import re \n",
    "text = \"Contact us at 1234567890 for more information.\"\n",
    "p = \"[0-9]{10}\"\n",
    "a = re.findall(p,text)\n",
    "a"
   ]
  },
  {
   "cell_type": "code",
   "execution_count": 7,
   "id": "da468da9-1f04-4aaf-bdd5-ea0493cf0a51",
   "metadata": {},
   "outputs": [
    {
     "data": {
      "text/plain": [
       "['123-456-7890']"
      ]
     },
     "execution_count": 7,
     "metadata": {},
     "output_type": "execute_result"
    }
   ],
   "source": [
    "text = \"Contact us at 123-456-7890 for more information.\"\n",
    "p = \"[0-9]{3}[-][0-9]{3}[-][0-9]{4}\"\n",
    "a = re.findall(p,text)\n",
    "a"
   ]
  },
  {
   "cell_type": "code",
   "execution_count": 12,
   "id": "4e5ea1d8-f4de-4eaa-8d3e-fe4e25428220",
   "metadata": {},
   "outputs": [
    {
     "data": {
      "text/plain": [
       "['2024-09-18']"
      ]
     },
     "execution_count": 12,
     "metadata": {},
     "output_type": "execute_result"
    }
   ],
   "source": [
    "#checking date \n",
    "a = \"Your appointment is scheduled for 2024-09-18. Please be on time.\"\n",
    "p = \"[0-9]{4}[-][0-9]{2}[-][0-9]{2}\"\n",
    "c = re.findall(p,a)\n",
    "c"
   ]
  },
  {
   "cell_type": "code",
   "execution_count": 13,
   "id": "2cc882a0-08ad-43a1-b95c-5953c8eabd51",
   "metadata": {},
   "outputs": [
    {
     "data": {
      "text/plain": [
       "['support@example.com']"
      ]
     },
     "execution_count": 13,
     "metadata": {},
     "output_type": "execute_result"
    }
   ],
   "source": [
    "#email id \n",
    "a = \"Please contact us at support@example.com for further assistance.\"\n",
    "p = \"[a-z]{7}[@][a-z]{7}[.][a-z]{3}\"\n",
    "b = re.findall(p,a)\n",
    "b"
   ]
  },
  {
   "cell_type": "code",
   "execution_count": 20,
   "id": "7f8a362f-1a40-413d-9710-e40daf9b9293",
   "metadata": {},
   "outputs": [
    {
     "data": {
      "text/plain": [
       "['+91-1234567890']"
      ]
     },
     "execution_count": 20,
     "metadata": {},
     "output_type": "execute_result"
    }
   ],
   "source": [
    "#\\d\n",
    "a = \"You can reach us at support@example.com or call us at +91-1234567890 for assistance.\"\n",
    "p = \"\\+91-\\d{10}\"\n",
    "b = re.findall(p,a)\n",
    "b"
   ]
  },
  {
   "cell_type": "code",
   "execution_count": 25,
   "id": "60bfd612-41bf-48bc-b0ca-1097c01ec326",
   "metadata": {},
   "outputs": [
    {
     "name": "stdout",
     "output_type": "stream",
     "text": [
      "You can reach us at support@example.com or call us at +- for assistance.\n"
     ]
    }
   ],
   "source": [
    "#\\D\n",
    "a = \"You can reach us at support@example.com or call us at +91-1234567890 for assistance.\"\n",
    "d = re.findall('\\D',a)\n",
    "print(''.join(d))"
   ]
  },
  {
   "cell_type": "code",
   "execution_count": 29,
   "id": "4f2393f6-c54f-46d7-becf-a7bbaaa0bb8e",
   "metadata": {},
   "outputs": [
    {
     "name": "stdout",
     "output_type": "stream",
     "text": [
      "Youcanreachusatsupportexamplecomorcallusat911234567890forassistance\n"
     ]
    }
   ],
   "source": [
    "#\\w\n",
    "a = \"You can reach us at support@example.com or call us at +91-1234567890 for assistance.\"\n",
    "d = re.findall('\\w',a)\n",
    "print(''.join(d))"
   ]
  },
  {
   "cell_type": "code",
   "execution_count": 30,
   "id": "cf176f6a-aa42-41e6-a215-7cceef29ac6d",
   "metadata": {},
   "outputs": [
    {
     "name": "stdout",
     "output_type": "stream",
     "text": [
      "     @.     +-  .\n"
     ]
    }
   ],
   "source": [
    "#\\W\n",
    "a = \"You can reach us at support@example.com or call us at +91-1234567890 for assistance.\"\n",
    "d = re.findall('\\W',a)\n",
    "print(''.join(d))"
   ]
  },
  {
   "cell_type": "code",
   "execution_count": 31,
   "id": "ae61db2b-0db2-4446-90c8-734469b2e18c",
   "metadata": {},
   "outputs": [
    {
     "data": {
      "text/plain": [
       "[' ', ' ', ' ', ' ', ' ', ' ', ' ', ' ', ' ', ' ', ' ', ' ']"
      ]
     },
     "execution_count": 31,
     "metadata": {},
     "output_type": "execute_result"
    }
   ],
   "source": [
    "#\\s\n",
    "a = \"You can reach us at support@example.com or call us at +91-1234567890 for assistance.\"\n",
    "d = re.findall('\\s',a)\n",
    "d"
   ]
  },
  {
   "cell_type": "code",
   "execution_count": 35,
   "id": "8382a069-39a8-4378-b4bf-da801dd26a2d",
   "metadata": {},
   "outputs": [
    {
     "name": "stdout",
     "output_type": "stream",
     "text": [
      "Youcanreachusatsupport@example.comorcallusat+91-1234567890forassistance.\n"
     ]
    }
   ],
   "source": [
    "#\\S\n",
    "a = \"You can reach us at support@example.com or call us at +91-1234567890 for assistance.\"\n",
    "d = re.findall('\\S',a)\n",
    "print(''.join(d))"
   ]
  },
  {
   "cell_type": "code",
   "execution_count": 41,
   "id": "e2e79bb5-e4ab-4c00-b6fa-37418e54addc",
   "metadata": {},
   "outputs": [
    {
     "data": {
      "text/plain": [
       "['us', 'us']"
      ]
     },
     "execution_count": 41,
     "metadata": {},
     "output_type": "execute_result"
    }
   ],
   "source": [
    "#\\b\n",
    "a = \"You can reach us at support@example.com or call us at +91-1234567890 for assistance.\"\n",
    "d = re.findall(r\"\\bus\\b\",a)\n",
    "d"
   ]
  },
  {
   "cell_type": "code",
   "execution_count": 45,
   "id": "9557dca5-aa22-49fb-bc99-12a246b3836a",
   "metadata": {},
   "outputs": [
    {
     "data": {
      "text/plain": [
       "[]"
      ]
     },
     "execution_count": 45,
     "metadata": {},
     "output_type": "execute_result"
    }
   ],
   "source": [
    "#\\B\n",
    "a = \"You can reach us at support@example.com or call us at +91-1234567890 for assistance.\"\n",
    "d = re.findall(r\"\\Bus\",a)\n",
    "d"
   ]
  },
  {
   "cell_type": "code",
   "execution_count": 46,
   "id": "ba50f643-57eb-4289-a36e-147a32ea8fc5",
   "metadata": {},
   "outputs": [
    {
     "data": {
      "text/plain": [
       "'The cat sat on 00 cat.'"
      ]
     },
     "execution_count": 46,
     "metadata": {},
     "output_type": "execute_result"
    }
   ],
   "source": [
    "#sub()\n",
    "text = \"The cat sat on the cat.\"\n",
    "b = re.sub('the','00',text)\n",
    "b"
   ]
  },
  {
   "cell_type": "code",
   "execution_count": 49,
   "id": "9f3f3f15-e82d-4bd3-bce1-4a6b247e2c01",
   "metadata": {},
   "outputs": [
    {
     "data": {
      "text/plain": [
       "['ooo']"
      ]
     },
     "execution_count": 49,
     "metadata": {},
     "output_type": "execute_result"
    }
   ],
   "source": [
    "#+\n",
    "text = \"Heeeellooo\"\n",
    "pattern = \"o+\"\n",
    "a = re.findall(pattern, text)\n",
    "a"
   ]
  },
  {
   "cell_type": "code",
   "execution_count": 50,
   "id": "b879a8ac-994d-418b-a523-c3925bc47760",
   "metadata": {},
   "outputs": [
    {
     "name": "stdout",
     "output_type": "stream",
     "text": [
      "['', '', '', '', '', 'ooo', '']\n"
     ]
    }
   ],
   "source": [
    "# * \n",
    "text = \"Heellooo\"\n",
    "pattern = r\"o*\"\n",
    "matches = re.findall(pattern, text)\n",
    "print(matches)"
   ]
  },
  {
   "cell_type": "code",
   "execution_count": 51,
   "id": "3eafa5fd-d910-4b75-aeca-42e80d376dd6",
   "metadata": {},
   "outputs": [
    {
     "name": "stdout",
     "output_type": "stream",
     "text": [
      "['', '', '', '', '', '', '', '', '', '', '', '', '', '', '', '', '42', '', '', '123', '', '', '', '', '', '', '7890', '', '']\n"
     ]
    }
   ],
   "source": [
    "text = \"The numbers are 42, 123, and 7890.\"\n",
    "pattern = r\"\\d*\"\n",
    "matches = re.findall(pattern, text)\n",
    "print(matches)"
   ]
  },
  {
   "cell_type": "code",
   "execution_count": 53,
   "id": "6db1ebf1-3624-40ee-b2d8-cfd57a2a2c83",
   "metadata": {},
   "outputs": [
    {
     "name": "stdout",
     "output_type": "stream",
     "text": [
      "['abc', 'abc']\n"
     ]
    }
   ],
   "source": [
    "# . \n",
    "text = \"aabc ac abc\"\n",
    "pattern = r\"ab.\"\n",
    "matches = re.findall(pattern, text)\n",
    "print(matches)"
   ]
  },
  {
   "cell_type": "code",
   "execution_count": 55,
   "id": "175afb20-bca7-4878-9baf-c35bd857df0c",
   "metadata": {},
   "outputs": [
    {
     "name": "stdout",
     "output_type": "stream",
     "text": [
      "['a', '', 'b', '', '', '', '', '']\n"
     ]
    }
   ],
   "source": [
    "# ?\n",
    "\n",
    "text = \"a b c d\"\n",
    "pattern = \"a?b?\"\n",
    "matches = re.findall(pattern, text)\n",
    "print(matches)"
   ]
  },
  {
   "cell_type": "code",
   "execution_count": 57,
   "id": "a8315608-791b-4a8c-acfd-c314cd8751bd",
   "metadata": {},
   "outputs": [
    {
     "data": {
      "text/plain": [
       "['Hello']"
      ]
     },
     "execution_count": 57,
     "metadata": {},
     "output_type": "execute_result"
    }
   ],
   "source": [
    "# ^\n",
    "text = \"Hello world\"\n",
    "pattern = r\"^Hello\"\n",
    "match = re.findall(pattern, text)\n",
    "match"
   ]
  },
  {
   "cell_type": "code",
   "execution_count": null,
   "id": "c6b5385e-b940-4564-95a6-ffa0523519fb",
   "metadata": {},
   "outputs": [],
   "source": [
    "#Assignment 9 "
   ]
  },
  {
   "cell_type": "code",
   "execution_count": null,
   "id": "a06086e4-d592-43d4-8ccb-e0c58440c6f8",
   "metadata": {},
   "outputs": [],
   "source": [
    "#read entire file \n",
    "def read(filename):\n",
    "    with open (filename, 'r') as file:\n",
    "        content = read.file()\n",
    "    return content "
   ]
  },
  {
   "cell_type": "code",
   "execution_count": null,
   "id": "3c610938-979d-4dfd-b5b4-80f0b697da30",
   "metadata": {},
   "outputs": [],
   "source": [
    "#read n lines of file\n",
    "with open (filename, 'r') as file:\n",
    "    for i in range(n):\n",
    "        line=file.readline()\n",
    "        if not line:\n",
    "            break\n",
    "        print(line,end='')"
   ]
  },
  {
   "cell_type": "code",
   "execution_count": null,
   "id": "636ca42b-034f-4948-a0e7-df9be0edf5d0",
   "metadata": {},
   "outputs": [],
   "source": [
    "#add text in file \n",
    "with open (filenane,'r') as file:\n",
    "    file.write('text' + '\\n')\n",
    "with open (filename,'r') as file:\n",
    "    content = file.read()\n",
    "return content "
   ]
  },
  {
   "cell_type": "code",
   "execution_count": null,
   "id": "25d6e41f-a575-4ed1-9b1d-1dbaedeaea52",
   "metadata": {},
   "outputs": [],
   "source": [
    "#read last lines \n",
    "with open(filename, 'r') as file:\n",
    "    content = file.readlines()\n",
    "last = file[-n:]\n",
    "for i in last:\n",
    "    print(i,end='')"
   ]
  },
  {
   "cell_type": "code",
   "execution_count": null,
   "id": "d042b410-bf2e-410f-a8e3-1d00ddbf297e",
   "metadata": {},
   "outputs": [],
   "source": [
    "#read lines & store in list\n",
    "with open(filename, 'r') as file:\n",
    "    lines =  file.readlines()\n",
    "lines = [i.strip() for i in lines]\n",
    "print(lines)"
   ]
  },
  {
   "cell_type": "code",
   "execution_count": null,
   "id": "90b45423-e12f-4019-b982-4e193542eb29",
   "metadata": {},
   "outputs": [],
   "source": [
    "#count no. of lines in file\n",
    "with open(filename, 'r') as file:\n",
    "    count_l = len(file.readlines())\n",
    "print(f\"Number of lines is: {count_l}\")"
   ]
  },
  {
   "cell_type": "code",
   "execution_count": null,
   "id": "38b5d023-1bc1-4957-981f-db67bc278380",
   "metadata": {},
   "outputs": [],
   "source": [
    "#count of frequency of words in file\n",
    "b ={}\n",
    "with open (filename, 'r') as file:\n",
    "    for i in file:\n",
    "        if i in b:\n",
    "            b[i] += 1\n",
    "        else:\n",
    "            b[i] =1\n",
    "return b"
   ]
  },
  {
   "cell_type": "code",
   "execution_count": null,
   "id": "cbb107e6-46ff-45c0-8c6d-eadf3a11d31d",
   "metadata": {},
   "outputs": [],
   "source": [
    "#copy content of 1 file to another \n",
    "with open(s_filename, 'r') as s_f:\n",
    "    a = s_f.read()\n",
    "with open(d_filename, 'r') as d_f:\n",
    "    d_f.write(a)"
   ]
  },
  {
   "cell_type": "code",
   "execution_count": 69,
   "id": "09b9e310-fee9-4e5a-b9af-e9ff556b4e81",
   "metadata": {},
   "outputs": [
    {
     "name": "stdout",
     "output_type": "stream",
     "text": [
      "24-09-18 Sep:04:24\n",
      "24\n",
      "September\n",
      "38\n",
      "Wednesday\n",
      "262\n",
      "18\n",
      "3\n"
     ]
    }
   ],
   "source": [
    "from datetime import datetime \n",
    "a = datetime.now()\n",
    "print(a.strftime(\"%y-%m-%d %h:%M:%S\"))\n",
    "print(a.strftime(\"%y\"))\n",
    "print(a.strftime(\"%B\"))\n",
    "print(a.strftime(\"%W\"))\n",
    "print(a.strftime(\"%A\"))\n",
    "print(a.strftime(\"%j\"))\n",
    "print(a.strftime(\"%d\"))\n",
    "print(a.strftime(\"%w\"))"
   ]
  },
  {
   "cell_type": "code",
   "execution_count": 70,
   "id": "34fe36e1-8d28-4db8-a682-e220c999c6d1",
   "metadata": {},
   "outputs": [],
   "source": [
    "#check leap year\n",
    "def leap(year):\n",
    "    return (year %4==0 and year%100!=0) or (year%400==0) "
   ]
  },
  {
   "cell_type": "code",
   "execution_count": 74,
   "id": "ff29c04e-747f-4b6f-9a1c-76728c523b15",
   "metadata": {},
   "outputs": [
    {
     "data": {
      "text/plain": [
       "'2024-Jan-01 00:07:00'"
      ]
     },
     "execution_count": 74,
     "metadata": {},
     "output_type": "execute_result"
    }
   ],
   "source": [
    "#conevert datetime \n",
    "from datetime import datetime\n",
    "\n",
    "a = 'Jan 1 2024 12:07AM'\n",
    "b = datetime.strptime(a, \"%b %d %Y %I:%M%p\")\n",
    "formatted_date = b.strftime(\"%Y-%b-%d %H:%M:%S\")\n",
    "formatted_date"
   ]
  },
  {
   "cell_type": "code",
   "execution_count": 79,
   "id": "50f66ed7-c1bb-409e-acb9-6343ef1f1491",
   "metadata": {},
   "outputs": [
    {
     "data": {
      "text/plain": [
       "datetime.datetime(2024, 9, 13, 14, 18, 39, 64374)"
      ]
     },
     "execution_count": 79,
     "metadata": {},
     "output_type": "execute_result"
    }
   ],
   "source": [
    "#subtract 5 days from today \n",
    "from datetime import datetime, timedelta\n",
    "a = datetime.now()\n",
    "b = a - timedelta(days=5)\n",
    "b"
   ]
  },
  {
   "cell_type": "code",
   "execution_count": 82,
   "id": "0fa5e613-b397-460a-80cf-0132399d8574",
   "metadata": {},
   "outputs": [
    {
     "name": "stdout",
     "output_type": "stream",
     "text": [
      "2024-09-18 14:20:08.892885\n",
      "2024-09-17 14:20:08.892885\n",
      "2024-09-19 14:20:08.892885\n"
     ]
    }
   ],
   "source": [
    "#yesterday, today, tommorow\n",
    "a = datetime.now()\n",
    "b = a - timedelta(days=1)\n",
    "c = a + timedelta(days=1)\n",
    "print(a)\n",
    "print(b)\n",
    "print(c)"
   ]
  },
  {
   "cell_type": "code",
   "execution_count": 86,
   "id": "6f0df50e-9dfe-4376-b68f-4adec978ace9",
   "metadata": {},
   "outputs": [
    {
     "name": "stdout",
     "output_type": "stream",
     "text": [
      "2024-09-18\n",
      "2024-09-19\n",
      "2024-09-20\n",
      "2024-09-21\n",
      "2024-09-22\n"
     ]
    }
   ],
   "source": [
    "#next 5 days \n",
    "a = datetime.now()\n",
    "for i in range(5):\n",
    "    b = a + timedelta(i)\n",
    "    print(b.date())"
   ]
  },
  {
   "cell_type": "code",
   "execution_count": 88,
   "id": "99ff2f24-83de-45ea-a005-a619c665e333",
   "metadata": {},
   "outputs": [
    {
     "data": {
      "text/plain": [
       "datetime.datetime(2024, 9, 18, 14, 23, 38)"
      ]
     },
     "execution_count": 88,
     "metadata": {},
     "output_type": "execute_result"
    }
   ],
   "source": [
    "#drop microsecond \n",
    "a = datetime.now()\n",
    "b = a.replace(microsecond=0)\n",
    "b"
   ]
  },
  {
   "cell_type": "code",
   "execution_count": 95,
   "id": "d6771cb2-6251-4d81-8c71-b697f1bc4541",
   "metadata": {},
   "outputs": [],
   "source": [
    "#date of first monday of given week \n",
    "from datetime import datetime, timedelta\n",
    "def week(year,week):\n",
    "    a = datetime.strptime(f\"{year} {week} 1\",\"%Y %W %w\")\n",
    "    return a.date()"
   ]
  },
  {
   "cell_type": "code",
   "execution_count": 96,
   "id": "2ebdf246-6b8f-4d79-b1c1-197ce3b58b57",
   "metadata": {},
   "outputs": [
    {
     "data": {
      "text/plain": [
       "datetime.date(2024, 8, 26)"
      ]
     },
     "execution_count": 96,
     "metadata": {},
     "output_type": "execute_result"
    }
   ],
   "source": [
    "week(2024,35)"
   ]
  },
  {
   "cell_type": "code",
   "execution_count": null,
   "id": "1e6990e6-f244-4a1a-98a9-a85489c5bd58",
   "metadata": {},
   "outputs": [],
   "source": [
    "#select all sundays of specified years \n",
    "import calendar \n",
    "y = 2024\n",
    "for month in range(1,13):\n",
    "    for week in calendar.monthcalendar(year,month):\n",
    "        if week[6]!=0:\n",
    "            print(week[6])"
   ]
  },
  {
   "cell_type": "code",
   "execution_count": 104,
   "id": "06d2088b-15d2-4c35-a730-0d556a3ddfae",
   "metadata": {},
   "outputs": [],
   "source": [
    "#Create file, write some text, rename file\n",
    "import os \n",
    "org = 'a.txt'\n",
    "new = 'b.txt'\n",
    "with open(org, 'w') as file:\n",
    "    file.write('sdfsd')\n",
    "os.rename(org,new)"
   ]
  },
  {
   "cell_type": "code",
   "execution_count": null,
   "id": "82a42d42-eff8-49c4-b00b-f53690d08b32",
   "metadata": {},
   "outputs": [],
   "source": []
  },
  {
   "cell_type": "code",
   "execution_count": null,
   "id": "e61add21-e86f-447e-a4b6-ff28ce9797dc",
   "metadata": {},
   "outputs": [],
   "source": []
  },
  {
   "cell_type": "code",
   "execution_count": null,
   "id": "18b14d8b-1432-42a2-907a-074420e748a6",
   "metadata": {},
   "outputs": [],
   "source": []
  },
  {
   "cell_type": "code",
   "execution_count": null,
   "id": "c9343444-ac37-44f9-86a2-639433938e6a",
   "metadata": {},
   "outputs": [],
   "source": []
  },
  {
   "cell_type": "code",
   "execution_count": null,
   "id": "a915fa36-13a6-477f-8d61-979f093042e9",
   "metadata": {},
   "outputs": [],
   "source": []
  }
 ],
 "metadata": {
  "kernelspec": {
   "display_name": "Python 3 (ipykernel)",
   "language": "python",
   "name": "python3"
  },
  "language_info": {
   "codemirror_mode": {
    "name": "ipython",
    "version": 3
   },
   "file_extension": ".py",
   "mimetype": "text/x-python",
   "name": "python",
   "nbconvert_exporter": "python",
   "pygments_lexer": "ipython3",
   "version": "3.10.11"
  }
 },
 "nbformat": 4,
 "nbformat_minor": 5
}
