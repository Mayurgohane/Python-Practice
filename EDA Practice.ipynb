{
 "cells": [
  {
   "cell_type": "code",
   "execution_count": 1,
   "id": "1798d291-e81d-453b-8521-f0dcb7a12931",
   "metadata": {},
   "outputs": [],
   "source": [
    "import pandas as pd \n",
    "import numpy as np"
   ]
  },
  {
   "cell_type": "code",
   "execution_count": 2,
   "id": "5a458092-6720-4a90-aa54-a2f482e8ca18",
   "metadata": {},
   "outputs": [
    {
     "data": {
      "text/html": [
       "<div>\n",
       "<style scoped>\n",
       "    .dataframe tbody tr th:only-of-type {\n",
       "        vertical-align: middle;\n",
       "    }\n",
       "\n",
       "    .dataframe tbody tr th {\n",
       "        vertical-align: top;\n",
       "    }\n",
       "\n",
       "    .dataframe thead th {\n",
       "        text-align: right;\n",
       "    }\n",
       "</style>\n",
       "<table border=\"1\" class=\"dataframe\">\n",
       "  <thead>\n",
       "    <tr style=\"text-align: right;\">\n",
       "      <th></th>\n",
       "      <th>CustomerID</th>\n",
       "      <th>Age</th>\n",
       "      <th>Gender</th>\n",
       "      <th>PurchaseAmount</th>\n",
       "      <th>Category</th>\n",
       "      <th>TransactionDate</th>\n",
       "      <th>Location</th>\n",
       "    </tr>\n",
       "  </thead>\n",
       "  <tbody>\n",
       "    <tr>\n",
       "      <th>0</th>\n",
       "      <td>1001</td>\n",
       "      <td>23</td>\n",
       "      <td>Male</td>\n",
       "      <td>961</td>\n",
       "      <td>Electronics</td>\n",
       "      <td>2024-01-28</td>\n",
       "      <td>Houston</td>\n",
       "    </tr>\n",
       "    <tr>\n",
       "      <th>1</th>\n",
       "      <td>1002</td>\n",
       "      <td>51</td>\n",
       "      <td>Female</td>\n",
       "      <td>1511</td>\n",
       "      <td>Furniture</td>\n",
       "      <td>2024-05-27</td>\n",
       "      <td>Chicago</td>\n",
       "    </tr>\n",
       "    <tr>\n",
       "      <th>2</th>\n",
       "      <td>1003</td>\n",
       "      <td>18</td>\n",
       "      <td>Male</td>\n",
       "      <td>1927</td>\n",
       "      <td>Clothing</td>\n",
       "      <td>2024-04-25</td>\n",
       "      <td>San Francisco</td>\n",
       "    </tr>\n",
       "  </tbody>\n",
       "</table>\n",
       "</div>"
      ],
      "text/plain": [
       "   CustomerID  Age  Gender  PurchaseAmount     Category TransactionDate  \\\n",
       "0        1001   23    Male             961  Electronics      2024-01-28   \n",
       "1        1002   51  Female            1511    Furniture      2024-05-27   \n",
       "2        1003   18    Male            1927     Clothing      2024-04-25   \n",
       "\n",
       "        Location  \n",
       "0        Houston  \n",
       "1        Chicago  \n",
       "2  San Francisco  "
      ]
     },
     "execution_count": 2,
     "metadata": {},
     "output_type": "execute_result"
    }
   ],
   "source": [
    "df = pd.read_csv('customer_transactions_large.csv')\n",
    "df.head(3)"
   ]
  },
  {
   "cell_type": "code",
   "execution_count": 3,
   "id": "fe2cd24d-2f4a-4437-a089-30de806ec25b",
   "metadata": {},
   "outputs": [
    {
     "data": {
      "text/plain": [
       "41.71"
      ]
     },
     "execution_count": 3,
     "metadata": {},
     "output_type": "execute_result"
    }
   ],
   "source": [
    "df['Age'].mean()"
   ]
  },
  {
   "cell_type": "code",
   "execution_count": 4,
   "id": "8b36f387-b99f-4880-b3f1-9168d9092858",
   "metadata": {},
   "outputs": [
    {
     "data": {
      "text/plain": [
       "0    32\n",
       "Name: Age, dtype: int64"
      ]
     },
     "execution_count": 4,
     "metadata": {},
     "output_type": "execute_result"
    }
   ],
   "source": [
    "df['Age'].mode()"
   ]
  },
  {
   "cell_type": "code",
   "execution_count": 5,
   "id": "fd122f9c-a339-473c-ad84-d8858b72b98b",
   "metadata": {},
   "outputs": [
    {
     "data": {
      "text/plain": [
       "40.0"
      ]
     },
     "execution_count": 5,
     "metadata": {},
     "output_type": "execute_result"
    }
   ],
   "source": [
    "df['Age'].median()"
   ]
  },
  {
   "cell_type": "code",
   "execution_count": 6,
   "id": "d0a914ff-8991-4d29-9fcc-e314fa324bda",
   "metadata": {},
   "outputs": [
    {
     "data": {
      "text/plain": [
       "Index(['CustomerID', 'Age', 'Gender', 'PurchaseAmount', 'Category',\n",
       "       'TransactionDate', 'Location'],\n",
       "      dtype='object')"
      ]
     },
     "execution_count": 6,
     "metadata": {},
     "output_type": "execute_result"
    }
   ],
   "source": [
    "df.columns"
   ]
  },
  {
   "cell_type": "code",
   "execution_count": 7,
   "id": "13df9c6f-385d-40d6-acd5-e180d8d9f062",
   "metadata": {},
   "outputs": [
    {
     "data": {
      "text/plain": [
       "1129.27"
      ]
     },
     "execution_count": 7,
     "metadata": {},
     "output_type": "execute_result"
    }
   ],
   "source": [
    "#What is the average and range (min-max) of the purchase amount?\n",
    "df['PurchaseAmount'].mean()"
   ]
  },
  {
   "cell_type": "code",
   "execution_count": 8,
   "id": "1583efa1-e5b3-4a89-82ce-ca13e1da17db",
   "metadata": {},
   "outputs": [
    {
     "data": {
      "text/plain": [
       "1967"
      ]
     },
     "execution_count": 8,
     "metadata": {},
     "output_type": "execute_result"
    }
   ],
   "source": [
    "df['PurchaseAmount'].max()"
   ]
  },
  {
   "cell_type": "code",
   "execution_count": 9,
   "id": "d4af7c57-5a52-4764-b9c3-323894f89d92",
   "metadata": {},
   "outputs": [
    {
     "data": {
      "text/plain": [
       "139"
      ]
     },
     "execution_count": 9,
     "metadata": {},
     "output_type": "execute_result"
    }
   ],
   "source": [
    "df['PurchaseAmount'].min()"
   ]
  },
  {
   "cell_type": "code",
   "execution_count": 11,
   "id": "dff8f2d0-5064-4be6-982e-da48d24931ca",
   "metadata": {},
   "outputs": [
    {
     "data": {
      "text/plain": [
       "579.7069593224396"
      ]
     },
     "execution_count": 11,
     "metadata": {},
     "output_type": "execute_result"
    }
   ],
   "source": [
    "#How spread out are the purchase amounts (standard deviation or IQR)?\n",
    "std_p = df['PurchaseAmount'].std()\n",
    "std_p"
   ]
  },
  {
   "cell_type": "code",
   "execution_count": 17,
   "id": "519abf2a-f4c8-4977-9ed7-6dcdcccf545d",
   "metadata": {},
   "outputs": [],
   "source": [
    "q1 = df['PurchaseAmount'].quantile(0.25)\n",
    "q3 = df['PurchaseAmount'].quantile(0.75)"
   ]
  },
  {
   "cell_type": "code",
   "execution_count": 18,
   "id": "c5de9fde-fca2-4fef-9ac0-4c6cc2680802",
   "metadata": {},
   "outputs": [
    {
     "name": "stdout",
     "output_type": "stream",
     "text": [
      "588.5\n",
      "1712.25\n"
     ]
    }
   ],
   "source": [
    "print(q1)\n",
    "print(q2)"
   ]
  },
  {
   "cell_type": "code",
   "execution_count": 19,
   "id": "75529cae-fa71-4f5e-9411-648527105e97",
   "metadata": {},
   "outputs": [
    {
     "data": {
      "text/plain": [
       "1123.75"
      ]
     },
     "execution_count": 19,
     "metadata": {},
     "output_type": "execute_result"
    }
   ],
   "source": [
    "IQR = q3-q1\n",
    "IQR"
   ]
  },
  {
   "cell_type": "code",
   "execution_count": 20,
   "id": "159d9324-1d44-47d8-bcd8-2895208cb0a0",
   "metadata": {},
   "outputs": [],
   "source": [
    "lower = q1 - 1.5*IQR\n",
    "upper = q1 + 1.5 * IQR"
   ]
  },
  {
   "cell_type": "code",
   "execution_count": 22,
   "id": "0fbed05b-bbf1-46ae-a767-58bed2a077f5",
   "metadata": {},
   "outputs": [
    {
     "data": {
      "text/html": [
       "<div>\n",
       "<style scoped>\n",
       "    .dataframe tbody tr th:only-of-type {\n",
       "        vertical-align: middle;\n",
       "    }\n",
       "\n",
       "    .dataframe tbody tr th {\n",
       "        vertical-align: top;\n",
       "    }\n",
       "\n",
       "    .dataframe thead th {\n",
       "        text-align: right;\n",
       "    }\n",
       "</style>\n",
       "<table border=\"1\" class=\"dataframe\">\n",
       "  <thead>\n",
       "    <tr style=\"text-align: right;\">\n",
       "      <th></th>\n",
       "      <th>CustomerID</th>\n",
       "      <th>Age</th>\n",
       "      <th>Gender</th>\n",
       "      <th>PurchaseAmount</th>\n",
       "      <th>Category</th>\n",
       "      <th>TransactionDate</th>\n",
       "      <th>Location</th>\n",
       "    </tr>\n",
       "  </thead>\n",
       "  <tbody>\n",
       "  </tbody>\n",
       "</table>\n",
       "</div>"
      ],
      "text/plain": [
       "Empty DataFrame\n",
       "Columns: [CustomerID, Age, Gender, PurchaseAmount, Category, TransactionDate, Location]\n",
       "Index: []"
      ]
     },
     "execution_count": 22,
     "metadata": {},
     "output_type": "execute_result"
    }
   ],
   "source": [
    "#Find Outliar \n",
    "out = df[(df['PurchaseAmount']< lower) | (df['PurchaseAmount'] > upper)]\n",
    "out"
   ]
  },
  {
   "cell_type": "code",
   "execution_count": null,
   "id": "f2802e52-22ab-4a9b-a550-98c0efb605d7",
   "metadata": {},
   "outputs": [],
   "source": []
  },
  {
   "cell_type": "code",
   "execution_count": null,
   "id": "95ab9190-de65-4f1c-9312-220fedfe61dc",
   "metadata": {},
   "outputs": [],
   "source": []
  },
  {
   "cell_type": "code",
   "execution_count": null,
   "id": "f1906afa-051f-49aa-8924-1ff9aae3e12a",
   "metadata": {},
   "outputs": [],
   "source": []
  },
  {
   "cell_type": "code",
   "execution_count": 23,
   "id": "e491697a-c0b5-4a04-95d2-a1e0e3074398",
   "metadata": {},
   "outputs": [
    {
     "data": {
      "text/plain": [
       "array(['Electronics', 'Furniture', 'Clothing', 'Groceries'], dtype=object)"
      ]
     },
     "execution_count": 23,
     "metadata": {},
     "output_type": "execute_result"
    }
   ],
   "source": [
    "#How many transactions occurred in each product category?\n",
    "df['Category'].unique()"
   ]
  },
  {
   "cell_type": "code",
   "execution_count": 24,
   "id": "0fdd3256-1aef-45c5-9a2b-222ee5262670",
   "metadata": {},
   "outputs": [
    {
     "data": {
      "text/plain": [
       "2"
      ]
     },
     "execution_count": 24,
     "metadata": {},
     "output_type": "execute_result"
    }
   ],
   "source": [
    "#What is the distribution of genders in the dataset?\n",
    "df['Gender'].nunique()"
   ]
  },
  {
   "cell_type": "code",
   "execution_count": 25,
   "id": "04c10590-4436-4978-aa5d-0a84eacb0043",
   "metadata": {},
   "outputs": [
    {
     "data": {
      "text/plain": [
       "array(['Male', 'Female'], dtype=object)"
      ]
     },
     "execution_count": 25,
     "metadata": {},
     "output_type": "execute_result"
    }
   ],
   "source": [
    "df['Gender'].unique()"
   ]
  },
  {
   "cell_type": "code",
   "execution_count": 26,
   "id": "b6c7f8f7-cd52-4f8e-9078-5f0bba9c96ef",
   "metadata": {},
   "outputs": [
    {
     "data": {
      "text/plain": [
       "'San Francisco'"
      ]
     },
     "execution_count": 26,
     "metadata": {},
     "output_type": "execute_result"
    }
   ],
   "source": [
    "#Which location has the most transactions?\n",
    "df['Location'].max()"
   ]
  },
  {
   "cell_type": "code",
   "execution_count": 27,
   "id": "f4f638c0-ec38-401a-96a5-90d840c41f7a",
   "metadata": {},
   "outputs": [
    {
     "data": {
      "text/plain": [
       "array(['Male', 'Female'], dtype=object)"
      ]
     },
     "execution_count": 27,
     "metadata": {},
     "output_type": "execute_result"
    }
   ],
   "source": [
    "#Are there any unusual or inconsistent values in Category or Gender?\n",
    "df['Gender'].unique()"
   ]
  },
  {
   "cell_type": "code",
   "execution_count": 28,
   "id": "93fdd5b2-24ca-4820-b79a-4b56ce4b143a",
   "metadata": {},
   "outputs": [
    {
     "data": {
      "text/html": [
       "<div>\n",
       "<style scoped>\n",
       "    .dataframe tbody tr th:only-of-type {\n",
       "        vertical-align: middle;\n",
       "    }\n",
       "\n",
       "    .dataframe tbody tr th {\n",
       "        vertical-align: top;\n",
       "    }\n",
       "\n",
       "    .dataframe thead th {\n",
       "        text-align: right;\n",
       "    }\n",
       "</style>\n",
       "<table border=\"1\" class=\"dataframe\">\n",
       "  <thead>\n",
       "    <tr style=\"text-align: right;\">\n",
       "      <th></th>\n",
       "      <th>CustomerID</th>\n",
       "      <th>Age</th>\n",
       "      <th>Gender</th>\n",
       "      <th>PurchaseAmount</th>\n",
       "      <th>Category</th>\n",
       "      <th>TransactionDate</th>\n",
       "      <th>Location</th>\n",
       "    </tr>\n",
       "  </thead>\n",
       "  <tbody>\n",
       "    <tr>\n",
       "      <th>0</th>\n",
       "      <td>1001</td>\n",
       "      <td>23</td>\n",
       "      <td>Male</td>\n",
       "      <td>961</td>\n",
       "      <td>Electronics</td>\n",
       "      <td>2024-01-28</td>\n",
       "      <td>Houston</td>\n",
       "    </tr>\n",
       "    <tr>\n",
       "      <th>1</th>\n",
       "      <td>1002</td>\n",
       "      <td>51</td>\n",
       "      <td>Female</td>\n",
       "      <td>1511</td>\n",
       "      <td>Furniture</td>\n",
       "      <td>2024-05-27</td>\n",
       "      <td>Chicago</td>\n",
       "    </tr>\n",
       "    <tr>\n",
       "      <th>2</th>\n",
       "      <td>1003</td>\n",
       "      <td>18</td>\n",
       "      <td>Male</td>\n",
       "      <td>1927</td>\n",
       "      <td>Clothing</td>\n",
       "      <td>2024-04-25</td>\n",
       "      <td>San Francisco</td>\n",
       "    </tr>\n",
       "  </tbody>\n",
       "</table>\n",
       "</div>"
      ],
      "text/plain": [
       "   CustomerID  Age  Gender  PurchaseAmount     Category TransactionDate  \\\n",
       "0        1001   23    Male             961  Electronics      2024-01-28   \n",
       "1        1002   51  Female            1511    Furniture      2024-05-27   \n",
       "2        1003   18    Male            1927     Clothing      2024-04-25   \n",
       "\n",
       "        Location  \n",
       "0        Houston  \n",
       "1        Chicago  \n",
       "2  San Francisco  "
      ]
     },
     "execution_count": 28,
     "metadata": {},
     "output_type": "execute_result"
    }
   ],
   "source": [
    "df.head(3)"
   ]
  },
  {
   "cell_type": "code",
   "execution_count": 31,
   "id": "0ce7b5c1-4b31-47e0-9ade-8f9b71620d53",
   "metadata": {},
   "outputs": [
    {
     "data": {
      "text/plain": [
       "<pandas.core.groupby.generic.SeriesGroupBy object at 0x000002392AEB03D0>"
      ]
     },
     "execution_count": 31,
     "metadata": {},
     "output_type": "execute_result"
    }
   ],
   "source": [
    "#How many transactions occurred over time (by month or day)?\n",
    "df.groupby('TransactionDate')['Category']"
   ]
  },
  {
   "cell_type": "code",
   "execution_count": 32,
   "id": "0ff31c74-f5df-467a-9ffa-dd28cace5d16",
   "metadata": {},
   "outputs": [],
   "source": [
    "df['TransactionDate'] = pd.to_datetime(df['TransactionDate'])"
   ]
  },
  {
   "cell_type": "code",
   "execution_count": 37,
   "id": "9cc79b10-ea14-4363-a9a4-7d7c0a46f5ef",
   "metadata": {},
   "outputs": [
    {
     "data": {
      "text/plain": [
       "TransactionDate  Category   \n",
       "2024-01-01       Electronics    1\n",
       "2024-01-02       Electronics    1\n",
       "                 Furniture      2\n",
       "2024-01-03       Groceries      1\n",
       "2024-01-04       Furniture      1\n",
       "                               ..\n",
       "2024-05-23       Electronics    1\n",
       "2024-05-26       Furniture      1\n",
       "2024-05-27       Furniture      2\n",
       "2024-05-28       Clothing       1\n",
       "2024-05-31       Groceries      2\n",
       "Length: 92, dtype: int64"
      ]
     },
     "execution_count": 37,
     "metadata": {},
     "output_type": "execute_result"
    }
   ],
   "source": [
    "b = df.groupby(['TransactionDate','Category']).size()\n",
    "b"
   ]
  },
  {
   "cell_type": "code",
   "execution_count": null,
   "id": "aae19a8d-1f90-4840-b974-233aa9664cef",
   "metadata": {},
   "outputs": [],
   "source": []
  },
  {
   "cell_type": "code",
   "execution_count": null,
   "id": "85f82985-bad7-49c1-b466-ed3d183f6dad",
   "metadata": {},
   "outputs": [],
   "source": []
  },
  {
   "cell_type": "code",
   "execution_count": 39,
   "id": "f106dcfa-acd8-40cc-b9ec-7283898f0c75",
   "metadata": {},
   "outputs": [
    {
     "data": {
      "text/html": [
       "<div>\n",
       "<style scoped>\n",
       "    .dataframe tbody tr th:only-of-type {\n",
       "        vertical-align: middle;\n",
       "    }\n",
       "\n",
       "    .dataframe tbody tr th {\n",
       "        vertical-align: top;\n",
       "    }\n",
       "\n",
       "    .dataframe thead th {\n",
       "        text-align: right;\n",
       "    }\n",
       "</style>\n",
       "<table border=\"1\" class=\"dataframe\">\n",
       "  <thead>\n",
       "    <tr style=\"text-align: right;\">\n",
       "      <th></th>\n",
       "      <th></th>\n",
       "      <th>CustomerID</th>\n",
       "      <th>Age</th>\n",
       "      <th>Gender</th>\n",
       "      <th>PurchaseAmount</th>\n",
       "      <th>Location</th>\n",
       "    </tr>\n",
       "    <tr>\n",
       "      <th>TransactionDate</th>\n",
       "      <th>Category</th>\n",
       "      <th></th>\n",
       "      <th></th>\n",
       "      <th></th>\n",
       "      <th></th>\n",
       "      <th></th>\n",
       "    </tr>\n",
       "  </thead>\n",
       "  <tbody>\n",
       "    <tr>\n",
       "      <th>2024-01-01</th>\n",
       "      <th>Electronics</th>\n",
       "      <td>1038</td>\n",
       "      <td>52</td>\n",
       "      <td>Female</td>\n",
       "      <td>1840</td>\n",
       "      <td>Chicago</td>\n",
       "    </tr>\n",
       "    <tr>\n",
       "      <th rowspan=\"2\" valign=\"top\">2024-01-02</th>\n",
       "      <th>Electronics</th>\n",
       "      <td>1088</td>\n",
       "      <td>64</td>\n",
       "      <td>Female</td>\n",
       "      <td>1110</td>\n",
       "      <td>Houston</td>\n",
       "    </tr>\n",
       "    <tr>\n",
       "      <th>Furniture</th>\n",
       "      <td>1056</td>\n",
       "      <td>63</td>\n",
       "      <td>Male</td>\n",
       "      <td>1104</td>\n",
       "      <td>New York</td>\n",
       "    </tr>\n",
       "    <tr>\n",
       "      <th>2024-01-03</th>\n",
       "      <th>Groceries</th>\n",
       "      <td>1012</td>\n",
       "      <td>30</td>\n",
       "      <td>Female</td>\n",
       "      <td>1017</td>\n",
       "      <td>Houston</td>\n",
       "    </tr>\n",
       "    <tr>\n",
       "      <th>2024-01-04</th>\n",
       "      <th>Furniture</th>\n",
       "      <td>1074</td>\n",
       "      <td>32</td>\n",
       "      <td>Male</td>\n",
       "      <td>633</td>\n",
       "      <td>Chicago</td>\n",
       "    </tr>\n",
       "    <tr>\n",
       "      <th>...</th>\n",
       "      <th>...</th>\n",
       "      <td>...</td>\n",
       "      <td>...</td>\n",
       "      <td>...</td>\n",
       "      <td>...</td>\n",
       "      <td>...</td>\n",
       "    </tr>\n",
       "    <tr>\n",
       "      <th>2024-05-23</th>\n",
       "      <th>Electronics</th>\n",
       "      <td>1054</td>\n",
       "      <td>24</td>\n",
       "      <td>Male</td>\n",
       "      <td>1803</td>\n",
       "      <td>San Francisco</td>\n",
       "    </tr>\n",
       "    <tr>\n",
       "      <th>2024-05-26</th>\n",
       "      <th>Furniture</th>\n",
       "      <td>1033</td>\n",
       "      <td>35</td>\n",
       "      <td>Male</td>\n",
       "      <td>1803</td>\n",
       "      <td>San Francisco</td>\n",
       "    </tr>\n",
       "    <tr>\n",
       "      <th>2024-05-27</th>\n",
       "      <th>Furniture</th>\n",
       "      <td>1043</td>\n",
       "      <td>51</td>\n",
       "      <td>Female</td>\n",
       "      <td>1511</td>\n",
       "      <td>Chicago</td>\n",
       "    </tr>\n",
       "    <tr>\n",
       "      <th>2024-05-28</th>\n",
       "      <th>Clothing</th>\n",
       "      <td>1080</td>\n",
       "      <td>27</td>\n",
       "      <td>Female</td>\n",
       "      <td>1770</td>\n",
       "      <td>Chicago</td>\n",
       "    </tr>\n",
       "    <tr>\n",
       "      <th>2024-05-31</th>\n",
       "      <th>Groceries</th>\n",
       "      <td>1064</td>\n",
       "      <td>43</td>\n",
       "      <td>Male</td>\n",
       "      <td>1926</td>\n",
       "      <td>Houston</td>\n",
       "    </tr>\n",
       "  </tbody>\n",
       "</table>\n",
       "<p>92 rows × 5 columns</p>\n",
       "</div>"
      ],
      "text/plain": [
       "                             CustomerID  Age  Gender  PurchaseAmount  \\\n",
       "TransactionDate Category                                               \n",
       "2024-01-01      Electronics        1038   52  Female            1840   \n",
       "2024-01-02      Electronics        1088   64  Female            1110   \n",
       "                Furniture          1056   63    Male            1104   \n",
       "2024-01-03      Groceries          1012   30  Female            1017   \n",
       "2024-01-04      Furniture          1074   32    Male             633   \n",
       "...                                 ...  ...     ...             ...   \n",
       "2024-05-23      Electronics        1054   24    Male            1803   \n",
       "2024-05-26      Furniture          1033   35    Male            1803   \n",
       "2024-05-27      Furniture          1043   51  Female            1511   \n",
       "2024-05-28      Clothing           1080   27  Female            1770   \n",
       "2024-05-31      Groceries          1064   43    Male            1926   \n",
       "\n",
       "                                  Location  \n",
       "TransactionDate Category                    \n",
       "2024-01-01      Electronics        Chicago  \n",
       "2024-01-02      Electronics        Houston  \n",
       "                Furniture         New York  \n",
       "2024-01-03      Groceries          Houston  \n",
       "2024-01-04      Furniture          Chicago  \n",
       "...                                    ...  \n",
       "2024-05-23      Electronics  San Francisco  \n",
       "2024-05-26      Furniture    San Francisco  \n",
       "2024-05-27      Furniture          Chicago  \n",
       "2024-05-28      Clothing           Chicago  \n",
       "2024-05-31      Groceries          Houston  \n",
       "\n",
       "[92 rows x 5 columns]"
      ]
     },
     "execution_count": 39,
     "metadata": {},
     "output_type": "execute_result"
    }
   ],
   "source": [
    "#What is the busiest day of the week for transactions?\n",
    "c = df.groupby(['TransactionDate','Category']).max()\n",
    "c"
   ]
  },
  {
   "cell_type": "code",
   "execution_count": 40,
   "id": "b9afbff6-e2cf-444d-ba02-ff60689bc86b",
   "metadata": {},
   "outputs": [
    {
     "data": {
      "text/plain": [
       "CustomerID         0\n",
       "Age                0\n",
       "Gender             0\n",
       "PurchaseAmount     0\n",
       "Category           0\n",
       "TransactionDate    0\n",
       "Location           0\n",
       "dtype: int64"
      ]
     },
     "execution_count": 40,
     "metadata": {},
     "output_type": "execute_result"
    }
   ],
   "source": [
    "#Are there any missing values in the dataset?\n",
    "df.isnull().sum()"
   ]
  },
  {
   "cell_type": "code",
   "execution_count": 43,
   "id": "f8b60a55-e6eb-4b4a-9e42-8377c068d245",
   "metadata": {},
   "outputs": [
    {
     "data": {
      "text/plain": [
       "0"
      ]
     },
     "execution_count": 43,
     "metadata": {},
     "output_type": "execute_result"
    }
   ],
   "source": [
    "#Are there any duplicate rows?\n",
    "df.duplicated().sum()"
   ]
  },
  {
   "cell_type": "code",
   "execution_count": 46,
   "id": "3aacdaf1-784b-4962-a38d-e99d815589d6",
   "metadata": {},
   "outputs": [
    {
     "data": {
      "text/plain": [
       "75"
      ]
     },
     "execution_count": 46,
     "metadata": {},
     "output_type": "execute_result"
    }
   ],
   "source": [
    "#Are all TransactionDate values in a valid date format?\n",
    "df['TransactionDate'].nunique()"
   ]
  },
  {
   "cell_type": "code",
   "execution_count": 48,
   "id": "767b758e-3ab6-40ea-aa2f-e36745b3c149",
   "metadata": {},
   "outputs": [
    {
     "data": {
      "text/plain": [
       "0"
      ]
     },
     "execution_count": 48,
     "metadata": {},
     "output_type": "execute_result"
    }
   ],
   "source": [
    "df['TransactionDate'].isnull().sum()"
   ]
  },
  {
   "cell_type": "code",
   "execution_count": null,
   "id": "72f12a55-e33a-465c-b927-538f235ef8df",
   "metadata": {},
   "outputs": [],
   "source": [
    "#Are there any outliers in Age or PurchaseAmount?\n",
    "q1 = df['PurchaseAmount'].quantile(0.25)\n",
    "q3 = df['PurchaseAmount'].quantile(0.75)"
   ]
  },
  {
   "cell_type": "code",
   "execution_count": 49,
   "id": "86374af4-6250-4bcb-b1a8-8d6df28ad291",
   "metadata": {},
   "outputs": [
    {
     "data": {
      "text/plain": [
       "array(['Electronics', 'Furniture', 'Clothing', 'Groceries'], dtype=object)"
      ]
     },
     "execution_count": 49,
     "metadata": {},
     "output_type": "execute_result"
    }
   ],
   "source": [
    "#Are the categories in Gender, Location, and Category consistent (e.g., typos or extra spaces)?\n",
    "df['Category'].unique()"
   ]
  },
  {
   "cell_type": "code",
   "execution_count": 51,
   "id": "f3788f47-2e63-4267-b7fa-aeb0bd4e0e36",
   "metadata": {},
   "outputs": [],
   "source": [
    "#Can we extract day, month, or weekday from TransactionDate?\n",
    "df['D'] = df['TransactionDate'].dt.day\n",
    "df['M'] = df['TransactionDate'].dt.month\n",
    "df['W'] = df['TransactionDate'].dt.weekday"
   ]
  },
  {
   "cell_type": "code",
   "execution_count": 52,
   "id": "6c3286ee-bbc9-43de-b7bf-3c18d9ae022f",
   "metadata": {},
   "outputs": [
    {
     "data": {
      "text/html": [
       "<div>\n",
       "<style scoped>\n",
       "    .dataframe tbody tr th:only-of-type {\n",
       "        vertical-align: middle;\n",
       "    }\n",
       "\n",
       "    .dataframe tbody tr th {\n",
       "        vertical-align: top;\n",
       "    }\n",
       "\n",
       "    .dataframe thead th {\n",
       "        text-align: right;\n",
       "    }\n",
       "</style>\n",
       "<table border=\"1\" class=\"dataframe\">\n",
       "  <thead>\n",
       "    <tr style=\"text-align: right;\">\n",
       "      <th></th>\n",
       "      <th>CustomerID</th>\n",
       "      <th>Age</th>\n",
       "      <th>Gender</th>\n",
       "      <th>PurchaseAmount</th>\n",
       "      <th>Category</th>\n",
       "      <th>TransactionDate</th>\n",
       "      <th>Location</th>\n",
       "      <th>M</th>\n",
       "      <th>D</th>\n",
       "      <th>W</th>\n",
       "    </tr>\n",
       "  </thead>\n",
       "  <tbody>\n",
       "    <tr>\n",
       "      <th>0</th>\n",
       "      <td>1001</td>\n",
       "      <td>23</td>\n",
       "      <td>Male</td>\n",
       "      <td>961</td>\n",
       "      <td>Electronics</td>\n",
       "      <td>2024-01-28</td>\n",
       "      <td>Houston</td>\n",
       "      <td>1</td>\n",
       "      <td>28</td>\n",
       "      <td>6</td>\n",
       "    </tr>\n",
       "    <tr>\n",
       "      <th>1</th>\n",
       "      <td>1002</td>\n",
       "      <td>51</td>\n",
       "      <td>Female</td>\n",
       "      <td>1511</td>\n",
       "      <td>Furniture</td>\n",
       "      <td>2024-05-27</td>\n",
       "      <td>Chicago</td>\n",
       "      <td>5</td>\n",
       "      <td>27</td>\n",
       "      <td>0</td>\n",
       "    </tr>\n",
       "    <tr>\n",
       "      <th>2</th>\n",
       "      <td>1003</td>\n",
       "      <td>18</td>\n",
       "      <td>Male</td>\n",
       "      <td>1927</td>\n",
       "      <td>Clothing</td>\n",
       "      <td>2024-04-25</td>\n",
       "      <td>San Francisco</td>\n",
       "      <td>4</td>\n",
       "      <td>25</td>\n",
       "      <td>3</td>\n",
       "    </tr>\n",
       "  </tbody>\n",
       "</table>\n",
       "</div>"
      ],
      "text/plain": [
       "   CustomerID  Age  Gender  PurchaseAmount     Category TransactionDate  \\\n",
       "0        1001   23    Male             961  Electronics      2024-01-28   \n",
       "1        1002   51  Female            1511    Furniture      2024-05-27   \n",
       "2        1003   18    Male            1927     Clothing      2024-04-25   \n",
       "\n",
       "        Location  M   D  W  \n",
       "0        Houston  1  28  6  \n",
       "1        Chicago  5  27  0  \n",
       "2  San Francisco  4  25  3  "
      ]
     },
     "execution_count": 52,
     "metadata": {},
     "output_type": "execute_result"
    }
   ],
   "source": [
    "df.head(3)"
   ]
  },
  {
   "cell_type": "code",
   "execution_count": 56,
   "id": "be00f5e7-8a86-4db3-b56b-7fe4dfe322bf",
   "metadata": {},
   "outputs": [
    {
     "data": {
      "text/plain": [
       "array([ 961, 1511, 1927, 1263, 1722,  350, 1842, 1693, 1945, 1102, 1020,\n",
       "       1017, 1289, 1521, 1674,  625, 1151, 1967, 1761, 1493,  366,  483,\n",
       "       1074,  769,  577, 1381,  581, 1376, 1345, 1053, 1793,  860, 1803,\n",
       "        716,  591,  880,  234, 1840, 1764,  478, 1792, 1818,  905, 1732,\n",
       "       1119,  142,  194, 1423, 1024,  233,  204, 1208,  372,  397, 1104,\n",
       "       1260, 1769, 1908, 1930, 1713, 1911, 1589, 1926,  370, 1229, 1295,\n",
       "        967,  180,  354, 1763, 1343,  964,  633, 1173,  422,  778, 1573,\n",
       "       1770, 1203, 1836,  150,  417,  336,  600, 1110, 1953,  466, 1217,\n",
       "       1907,  238, 1237, 1407,  303, 1541, 1712,  139,  533], dtype=int64)"
      ]
     },
     "execution_count": 56,
     "metadata": {},
     "output_type": "execute_result"
    }
   ],
   "source": [
    "df['PurchaseAmount'].unique()"
   ]
  },
  {
   "cell_type": "code",
   "execution_count": 55,
   "id": "318ff1b8-3e8b-489f-b583-7e1cd743f955",
   "metadata": {},
   "outputs": [
    {
     "data": {
      "text/plain": [
       "CustomerID\n",
       "1001     961\n",
       "1002    1511\n",
       "1003    1927\n",
       "1004    1263\n",
       "1005    1722\n",
       "        ... \n",
       "1096     303\n",
       "1097    1541\n",
       "1098    1712\n",
       "1099     139\n",
       "1100     533\n",
       "Name: PurchaseAmount, Length: 100, dtype: int64"
      ]
     },
     "execution_count": 55,
     "metadata": {},
     "output_type": "execute_result"
    }
   ],
   "source": [
    "d = df.groupby('CustomerID')['PurchaseAmount'].sum()\n",
    "d"
   ]
  },
  {
   "cell_type": "code",
   "execution_count": 57,
   "id": "f491c90c-f758-47e0-ad00-fdcb1f4ad610",
   "metadata": {},
   "outputs": [
    {
     "data": {
      "text/plain": [
       "CustomerID\n",
       "1001     961\n",
       "1002    1511\n",
       "1003    1927\n",
       "1004    1263\n",
       "1005    1722\n",
       "        ... \n",
       "1096     303\n",
       "1097    1541\n",
       "1098    1712\n",
       "1099     139\n",
       "1100     533\n",
       "Name: PurchaseAmount, Length: 100, dtype: int64"
      ]
     },
     "execution_count": 57,
     "metadata": {},
     "output_type": "execute_result"
    }
   ],
   "source": [
    "#Can we compute the total spend per customer?\n",
    "d = df.groupby('CustomerID')['PurchaseAmount'].sum()\n",
    "d"
   ]
  },
  {
   "cell_type": "code",
   "execution_count": 58,
   "id": "34f0462c-058e-4e21-8f9e-9340a4fe49c4",
   "metadata": {},
   "outputs": [
    {
     "data": {
      "text/plain": [
       "PurchaseAmount\n",
       "139     Electronics\n",
       "142     Electronics\n",
       "150        Clothing\n",
       "180       Furniture\n",
       "194       Furniture\n",
       "           ...     \n",
       "1927       Clothing\n",
       "1930       Clothing\n",
       "1945      Furniture\n",
       "1953       Clothing\n",
       "1967      Furniture\n",
       "Name: Category, Length: 97, dtype: object"
      ]
     },
     "execution_count": 58,
     "metadata": {},
     "output_type": "execute_result"
    }
   ],
   "source": [
    "#Which categories or locations contribute most to high-value transactions?\n",
    "f = df.groupby('PurchaseAmount')['Category'].sum()\n",
    "f"
   ]
  },
  {
   "cell_type": "code",
   "execution_count": 59,
   "id": "f69b92ac-3ba7-4513-b1f2-1cff5d4fc7ce",
   "metadata": {},
   "outputs": [
    {
     "data": {
      "text/plain": [
       "Index(['CustomerID', 'Age', 'Gender', 'PurchaseAmount', 'Category',\n",
       "       'TransactionDate', 'Location', 'M', 'D', 'W'],\n",
       "      dtype='object')"
      ]
     },
     "execution_count": 59,
     "metadata": {},
     "output_type": "execute_result"
    }
   ],
   "source": [
    "df.columns"
   ]
  },
  {
   "cell_type": "code",
   "execution_count": 60,
   "id": "b3982568-b4ac-42e2-b872-b909d75a9dab",
   "metadata": {},
   "outputs": [],
   "source": [
    "#Can we group customers into age groups (e.g., Young, Middle-aged, Senior)?\n",
    "def ageg(Age):\n",
    "    if Age < 30:\n",
    "        return \"Young\"\n",
    "    if Age >= 50:\n",
    "        return \"Middle\"\n",
    "    if Age > 50:\n",
    "        return \"Senior\""
   ]
  },
  {
   "cell_type": "code",
   "execution_count": 61,
   "id": "2907dc07-e84c-4a15-b0b9-642d8d8929ae",
   "metadata": {},
   "outputs": [],
   "source": [
    "df['Group']= df['Age'].apply(ageg)"
   ]
  },
  {
   "cell_type": "code",
   "execution_count": 62,
   "id": "c1b039e7-8963-484b-ae7f-7fafaa78dfff",
   "metadata": {},
   "outputs": [
    {
     "data": {
      "text/html": [
       "<div>\n",
       "<style scoped>\n",
       "    .dataframe tbody tr th:only-of-type {\n",
       "        vertical-align: middle;\n",
       "    }\n",
       "\n",
       "    .dataframe tbody tr th {\n",
       "        vertical-align: top;\n",
       "    }\n",
       "\n",
       "    .dataframe thead th {\n",
       "        text-align: right;\n",
       "    }\n",
       "</style>\n",
       "<table border=\"1\" class=\"dataframe\">\n",
       "  <thead>\n",
       "    <tr style=\"text-align: right;\">\n",
       "      <th></th>\n",
       "      <th>CustomerID</th>\n",
       "      <th>Age</th>\n",
       "      <th>Gender</th>\n",
       "      <th>PurchaseAmount</th>\n",
       "      <th>Category</th>\n",
       "      <th>TransactionDate</th>\n",
       "      <th>Location</th>\n",
       "      <th>M</th>\n",
       "      <th>D</th>\n",
       "      <th>W</th>\n",
       "      <th>Group</th>\n",
       "    </tr>\n",
       "  </thead>\n",
       "  <tbody>\n",
       "    <tr>\n",
       "      <th>0</th>\n",
       "      <td>1001</td>\n",
       "      <td>23</td>\n",
       "      <td>Male</td>\n",
       "      <td>961</td>\n",
       "      <td>Electronics</td>\n",
       "      <td>2024-01-28</td>\n",
       "      <td>Houston</td>\n",
       "      <td>1</td>\n",
       "      <td>28</td>\n",
       "      <td>6</td>\n",
       "      <td>Young</td>\n",
       "    </tr>\n",
       "    <tr>\n",
       "      <th>1</th>\n",
       "      <td>1002</td>\n",
       "      <td>51</td>\n",
       "      <td>Female</td>\n",
       "      <td>1511</td>\n",
       "      <td>Furniture</td>\n",
       "      <td>2024-05-27</td>\n",
       "      <td>Chicago</td>\n",
       "      <td>5</td>\n",
       "      <td>27</td>\n",
       "      <td>0</td>\n",
       "      <td>Middle</td>\n",
       "    </tr>\n",
       "    <tr>\n",
       "      <th>2</th>\n",
       "      <td>1003</td>\n",
       "      <td>18</td>\n",
       "      <td>Male</td>\n",
       "      <td>1927</td>\n",
       "      <td>Clothing</td>\n",
       "      <td>2024-04-25</td>\n",
       "      <td>San Francisco</td>\n",
       "      <td>4</td>\n",
       "      <td>25</td>\n",
       "      <td>3</td>\n",
       "      <td>Young</td>\n",
       "    </tr>\n",
       "  </tbody>\n",
       "</table>\n",
       "</div>"
      ],
      "text/plain": [
       "   CustomerID  Age  Gender  PurchaseAmount     Category TransactionDate  \\\n",
       "0        1001   23    Male             961  Electronics      2024-01-28   \n",
       "1        1002   51  Female            1511    Furniture      2024-05-27   \n",
       "2        1003   18    Male            1927     Clothing      2024-04-25   \n",
       "\n",
       "        Location  M   D  W   Group  \n",
       "0        Houston  1  28  6   Young  \n",
       "1        Chicago  5  27  0  Middle  \n",
       "2  San Francisco  4  25  3   Young  "
      ]
     },
     "execution_count": 62,
     "metadata": {},
     "output_type": "execute_result"
    }
   ],
   "source": [
    "df.head(3)"
   ]
  },
  {
   "cell_type": "code",
   "execution_count": null,
   "id": "fd5dac37-c876-476a-9995-8014b20c14b0",
   "metadata": {},
   "outputs": [],
   "source": []
  },
  {
   "cell_type": "code",
   "execution_count": null,
   "id": "cb2956ed-f7cc-4d22-a1a4-dfab713dc67c",
   "metadata": {},
   "outputs": [],
   "source": []
  },
  {
   "cell_type": "code",
   "execution_count": 63,
   "id": "6ff42228-a71d-44d4-885a-fdbfd82d691a",
   "metadata": {},
   "outputs": [],
   "source": [
    "#Can we flag transactions as high-value or low-value?\n",
    "thres = df['PurchaseAmount'].mean()"
   ]
  },
  {
   "cell_type": "code",
   "execution_count": 66,
   "id": "6faa05a7-7264-4509-8498-8a18440747a2",
   "metadata": {},
   "outputs": [],
   "source": [
    "df['flag'] = df['PurchaseAmount'].apply(lambda x:'High' if x > thres else 'Low')"
   ]
  },
  {
   "cell_type": "code",
   "execution_count": 67,
   "id": "128bead6-0dd8-4076-92d4-d91c912c2758",
   "metadata": {},
   "outputs": [
    {
     "data": {
      "text/html": [
       "<div>\n",
       "<style scoped>\n",
       "    .dataframe tbody tr th:only-of-type {\n",
       "        vertical-align: middle;\n",
       "    }\n",
       "\n",
       "    .dataframe tbody tr th {\n",
       "        vertical-align: top;\n",
       "    }\n",
       "\n",
       "    .dataframe thead th {\n",
       "        text-align: right;\n",
       "    }\n",
       "</style>\n",
       "<table border=\"1\" class=\"dataframe\">\n",
       "  <thead>\n",
       "    <tr style=\"text-align: right;\">\n",
       "      <th></th>\n",
       "      <th>CustomerID</th>\n",
       "      <th>Age</th>\n",
       "      <th>Gender</th>\n",
       "      <th>PurchaseAmount</th>\n",
       "      <th>Category</th>\n",
       "      <th>TransactionDate</th>\n",
       "      <th>Location</th>\n",
       "      <th>M</th>\n",
       "      <th>D</th>\n",
       "      <th>W</th>\n",
       "      <th>Group</th>\n",
       "      <th>flag</th>\n",
       "    </tr>\n",
       "  </thead>\n",
       "  <tbody>\n",
       "    <tr>\n",
       "      <th>0</th>\n",
       "      <td>1001</td>\n",
       "      <td>23</td>\n",
       "      <td>Male</td>\n",
       "      <td>961</td>\n",
       "      <td>Electronics</td>\n",
       "      <td>2024-01-28</td>\n",
       "      <td>Houston</td>\n",
       "      <td>1</td>\n",
       "      <td>28</td>\n",
       "      <td>6</td>\n",
       "      <td>Young</td>\n",
       "      <td>Low</td>\n",
       "    </tr>\n",
       "    <tr>\n",
       "      <th>1</th>\n",
       "      <td>1002</td>\n",
       "      <td>51</td>\n",
       "      <td>Female</td>\n",
       "      <td>1511</td>\n",
       "      <td>Furniture</td>\n",
       "      <td>2024-05-27</td>\n",
       "      <td>Chicago</td>\n",
       "      <td>5</td>\n",
       "      <td>27</td>\n",
       "      <td>0</td>\n",
       "      <td>Middle</td>\n",
       "      <td>High</td>\n",
       "    </tr>\n",
       "    <tr>\n",
       "      <th>2</th>\n",
       "      <td>1003</td>\n",
       "      <td>18</td>\n",
       "      <td>Male</td>\n",
       "      <td>1927</td>\n",
       "      <td>Clothing</td>\n",
       "      <td>2024-04-25</td>\n",
       "      <td>San Francisco</td>\n",
       "      <td>4</td>\n",
       "      <td>25</td>\n",
       "      <td>3</td>\n",
       "      <td>Young</td>\n",
       "      <td>High</td>\n",
       "    </tr>\n",
       "  </tbody>\n",
       "</table>\n",
       "</div>"
      ],
      "text/plain": [
       "   CustomerID  Age  Gender  PurchaseAmount     Category TransactionDate  \\\n",
       "0        1001   23    Male             961  Electronics      2024-01-28   \n",
       "1        1002   51  Female            1511    Furniture      2024-05-27   \n",
       "2        1003   18    Male            1927     Clothing      2024-04-25   \n",
       "\n",
       "        Location  M   D  W   Group  flag  \n",
       "0        Houston  1  28  6   Young   Low  \n",
       "1        Chicago  5  27  0  Middle  High  \n",
       "2  San Francisco  4  25  3   Young  High  "
      ]
     },
     "execution_count": 67,
     "metadata": {},
     "output_type": "execute_result"
    }
   ],
   "source": [
    "df.head(3)"
   ]
  },
  {
   "cell_type": "code",
   "execution_count": 70,
   "id": "47c34489-eb02-4c41-b5d9-374fc822c1be",
   "metadata": {},
   "outputs": [
    {
     "data": {
      "text/plain": [
       "CustomerID\n",
       "1001     961\n",
       "1002    1511\n",
       "1003    1927\n",
       "1004    1263\n",
       "1005    1722\n",
       "        ... \n",
       "1096     303\n",
       "1097    1541\n",
       "1098    1712\n",
       "1099     139\n",
       "1100     533\n",
       "Name: PurchaseAmount, Length: 100, dtype: int64"
      ]
     },
     "execution_count": 70,
     "metadata": {},
     "output_type": "execute_result"
    }
   ],
   "source": [
    "#How many transactions per customer (CustomerID) occurred?\n",
    "g = df.groupby('CustomerID')['PurchaseAmount'].sum()\n",
    "g"
   ]
  },
  {
   "cell_type": "code",
   "execution_count": 71,
   "id": "0502f2b9-7e1d-4371-ba1c-3da10b04b683",
   "metadata": {},
   "outputs": [
    {
     "data": {
      "text/html": [
       "<div>\n",
       "<style scoped>\n",
       "    .dataframe tbody tr th:only-of-type {\n",
       "        vertical-align: middle;\n",
       "    }\n",
       "\n",
       "    .dataframe tbody tr th {\n",
       "        vertical-align: top;\n",
       "    }\n",
       "\n",
       "    .dataframe thead th {\n",
       "        text-align: right;\n",
       "    }\n",
       "</style>\n",
       "<table border=\"1\" class=\"dataframe\">\n",
       "  <thead>\n",
       "    <tr style=\"text-align: right;\">\n",
       "      <th></th>\n",
       "      <th>CustomerID</th>\n",
       "      <th>Age</th>\n",
       "      <th>Gender</th>\n",
       "      <th>PurchaseAmount</th>\n",
       "      <th>Category</th>\n",
       "      <th>TransactionDate</th>\n",
       "      <th>Location</th>\n",
       "      <th>M</th>\n",
       "      <th>D</th>\n",
       "      <th>W</th>\n",
       "      <th>Group</th>\n",
       "      <th>flag</th>\n",
       "    </tr>\n",
       "  </thead>\n",
       "  <tbody>\n",
       "    <tr>\n",
       "      <th>1</th>\n",
       "      <td>1002</td>\n",
       "      <td>51</td>\n",
       "      <td>Female</td>\n",
       "      <td>1511</td>\n",
       "      <td>Furniture</td>\n",
       "      <td>2024-05-27</td>\n",
       "      <td>Chicago</td>\n",
       "      <td>5</td>\n",
       "      <td>27</td>\n",
       "      <td>0</td>\n",
       "      <td>Middle</td>\n",
       "      <td>High</td>\n",
       "    </tr>\n",
       "    <tr>\n",
       "      <th>2</th>\n",
       "      <td>1003</td>\n",
       "      <td>18</td>\n",
       "      <td>Male</td>\n",
       "      <td>1927</td>\n",
       "      <td>Clothing</td>\n",
       "      <td>2024-04-25</td>\n",
       "      <td>San Francisco</td>\n",
       "      <td>4</td>\n",
       "      <td>25</td>\n",
       "      <td>3</td>\n",
       "      <td>Young</td>\n",
       "      <td>High</td>\n",
       "    </tr>\n",
       "    <tr>\n",
       "      <th>3</th>\n",
       "      <td>1004</td>\n",
       "      <td>37</td>\n",
       "      <td>Male</td>\n",
       "      <td>1263</td>\n",
       "      <td>Clothing</td>\n",
       "      <td>2024-05-10</td>\n",
       "      <td>Houston</td>\n",
       "      <td>5</td>\n",
       "      <td>10</td>\n",
       "      <td>4</td>\n",
       "      <td>None</td>\n",
       "      <td>High</td>\n",
       "    </tr>\n",
       "    <tr>\n",
       "      <th>4</th>\n",
       "      <td>1005</td>\n",
       "      <td>19</td>\n",
       "      <td>Male</td>\n",
       "      <td>1722</td>\n",
       "      <td>Furniture</td>\n",
       "      <td>2024-02-15</td>\n",
       "      <td>Houston</td>\n",
       "      <td>2</td>\n",
       "      <td>15</td>\n",
       "      <td>3</td>\n",
       "      <td>Young</td>\n",
       "      <td>High</td>\n",
       "    </tr>\n",
       "    <tr>\n",
       "      <th>6</th>\n",
       "      <td>1007</td>\n",
       "      <td>38</td>\n",
       "      <td>Male</td>\n",
       "      <td>1842</td>\n",
       "      <td>Furniture</td>\n",
       "      <td>2024-01-09</td>\n",
       "      <td>Los Angeles</td>\n",
       "      <td>1</td>\n",
       "      <td>9</td>\n",
       "      <td>1</td>\n",
       "      <td>None</td>\n",
       "      <td>High</td>\n",
       "    </tr>\n",
       "    <tr>\n",
       "      <th>...</th>\n",
       "      <td>...</td>\n",
       "      <td>...</td>\n",
       "      <td>...</td>\n",
       "      <td>...</td>\n",
       "      <td>...</td>\n",
       "      <td>...</td>\n",
       "      <td>...</td>\n",
       "      <td>...</td>\n",
       "      <td>...</td>\n",
       "      <td>...</td>\n",
       "      <td>...</td>\n",
       "      <td>...</td>\n",
       "    </tr>\n",
       "    <tr>\n",
       "      <th>91</th>\n",
       "      <td>1092</td>\n",
       "      <td>52</td>\n",
       "      <td>Female</td>\n",
       "      <td>1907</td>\n",
       "      <td>Electronics</td>\n",
       "      <td>2024-03-11</td>\n",
       "      <td>San Francisco</td>\n",
       "      <td>3</td>\n",
       "      <td>11</td>\n",
       "      <td>0</td>\n",
       "      <td>Middle</td>\n",
       "      <td>High</td>\n",
       "    </tr>\n",
       "    <tr>\n",
       "      <th>93</th>\n",
       "      <td>1094</td>\n",
       "      <td>64</td>\n",
       "      <td>Male</td>\n",
       "      <td>1237</td>\n",
       "      <td>Groceries</td>\n",
       "      <td>2024-01-30</td>\n",
       "      <td>San Francisco</td>\n",
       "      <td>1</td>\n",
       "      <td>30</td>\n",
       "      <td>1</td>\n",
       "      <td>Middle</td>\n",
       "      <td>High</td>\n",
       "    </tr>\n",
       "    <tr>\n",
       "      <th>94</th>\n",
       "      <td>1095</td>\n",
       "      <td>46</td>\n",
       "      <td>Female</td>\n",
       "      <td>1407</td>\n",
       "      <td>Clothing</td>\n",
       "      <td>2024-02-18</td>\n",
       "      <td>New York</td>\n",
       "      <td>2</td>\n",
       "      <td>18</td>\n",
       "      <td>6</td>\n",
       "      <td>None</td>\n",
       "      <td>High</td>\n",
       "    </tr>\n",
       "    <tr>\n",
       "      <th>96</th>\n",
       "      <td>1097</td>\n",
       "      <td>42</td>\n",
       "      <td>Female</td>\n",
       "      <td>1541</td>\n",
       "      <td>Furniture</td>\n",
       "      <td>2024-01-27</td>\n",
       "      <td>Los Angeles</td>\n",
       "      <td>1</td>\n",
       "      <td>27</td>\n",
       "      <td>5</td>\n",
       "      <td>None</td>\n",
       "      <td>High</td>\n",
       "    </tr>\n",
       "    <tr>\n",
       "      <th>97</th>\n",
       "      <td>1098</td>\n",
       "      <td>36</td>\n",
       "      <td>Male</td>\n",
       "      <td>1712</td>\n",
       "      <td>Groceries</td>\n",
       "      <td>2024-04-29</td>\n",
       "      <td>Chicago</td>\n",
       "      <td>4</td>\n",
       "      <td>29</td>\n",
       "      <td>0</td>\n",
       "      <td>None</td>\n",
       "      <td>High</td>\n",
       "    </tr>\n",
       "  </tbody>\n",
       "</table>\n",
       "<p>61 rows × 12 columns</p>\n",
       "</div>"
      ],
      "text/plain": [
       "    CustomerID  Age  Gender  PurchaseAmount     Category TransactionDate  \\\n",
       "1         1002   51  Female            1511    Furniture      2024-05-27   \n",
       "2         1003   18    Male            1927     Clothing      2024-04-25   \n",
       "3         1004   37    Male            1263     Clothing      2024-05-10   \n",
       "4         1005   19    Male            1722    Furniture      2024-02-15   \n",
       "6         1007   38    Male            1842    Furniture      2024-01-09   \n",
       "..         ...  ...     ...             ...          ...             ...   \n",
       "91        1092   52  Female            1907  Electronics      2024-03-11   \n",
       "93        1094   64    Male            1237    Groceries      2024-01-30   \n",
       "94        1095   46  Female            1407     Clothing      2024-02-18   \n",
       "96        1097   42  Female            1541    Furniture      2024-01-27   \n",
       "97        1098   36    Male            1712    Groceries      2024-04-29   \n",
       "\n",
       "         Location  M   D  W   Group  flag  \n",
       "1         Chicago  5  27  0  Middle  High  \n",
       "2   San Francisco  4  25  3   Young  High  \n",
       "3         Houston  5  10  4    None  High  \n",
       "4         Houston  2  15  3   Young  High  \n",
       "6     Los Angeles  1   9  1    None  High  \n",
       "..            ... ..  .. ..     ...   ...  \n",
       "91  San Francisco  3  11  0  Middle  High  \n",
       "93  San Francisco  1  30  1  Middle  High  \n",
       "94       New York  2  18  6    None  High  \n",
       "96    Los Angeles  1  27  5    None  High  \n",
       "97        Chicago  4  29  0    None  High  \n",
       "\n",
       "[61 rows x 12 columns]"
      ]
     },
     "execution_count": 71,
     "metadata": {},
     "output_type": "execute_result"
    }
   ],
   "source": [
    "#Who are the high-value customers (e.g., PurchaseAmount > 1000)?\n",
    "df[df['PurchaseAmount'] >1000]"
   ]
  },
  {
   "cell_type": "code",
   "execution_count": 72,
   "id": "a547f689-c8c1-4dda-b64c-87aba493f9bb",
   "metadata": {},
   "outputs": [],
   "source": [
    "import pandas as pd \n",
    "import numpy as np"
   ]
  },
  {
   "cell_type": "code",
   "execution_count": 73,
   "id": "06764db1-f983-47bb-a631-ce26dc173e4d",
   "metadata": {},
   "outputs": [],
   "source": [
    "#How can you perform element-wise arithmetic operations on two NumPy arrays?\n",
    "a = np.array([1, 2, 3, 4])\n",
    "b = np.array([5, 6, 7, 8])"
   ]
  },
  {
   "cell_type": "code",
   "execution_count": 74,
   "id": "d84f35cf-5f5b-49fa-8a6d-ff3ba02f75f6",
   "metadata": {},
   "outputs": [
    {
     "data": {
      "text/plain": [
       "array([ 6,  8, 10, 12])"
      ]
     },
     "execution_count": 74,
     "metadata": {},
     "output_type": "execute_result"
    }
   ],
   "source": [
    "#What does np.concatenate() do, and how is it used?\n",
    "c = a + b\n",
    "c"
   ]
  },
  {
   "cell_type": "code",
   "execution_count": 76,
   "id": "55d25913-55d4-4be3-8d2b-ff4227db967f",
   "metadata": {},
   "outputs": [
    {
     "data": {
      "text/plain": [
       "array([1, 2, 3, 4, 5, 6, 7, 8])"
      ]
     },
     "execution_count": 76,
     "metadata": {},
     "output_type": "execute_result"
    }
   ],
   "source": [
    "d = np.concatenate([a,b])\n",
    "d"
   ]
  },
  {
   "cell_type": "code",
   "execution_count": 77,
   "id": "d0269f6b-012b-48e2-8b40-74b39a43b9a7",
   "metadata": {},
   "outputs": [
    {
     "data": {
      "text/plain": [
       "array([11, 12, 13, 14, 15])"
      ]
     },
     "execution_count": 77,
     "metadata": {},
     "output_type": "execute_result"
    }
   ],
   "source": [
    "#What is broadcasting in NumPy, and how does it work?\n",
    "a = np.array([1,2,3,4,5])\n",
    "c = a + 10\n",
    "c"
   ]
  },
  {
   "cell_type": "code",
   "execution_count": 78,
   "id": "697c84ad-fb73-49c3-9fbd-38bb5e5598dd",
   "metadata": {},
   "outputs": [
    {
     "name": "stdout",
     "output_type": "stream",
     "text": [
      "1\n",
      "5\n"
     ]
    }
   ],
   "source": [
    "#How do you find the maximum and minimum values in a NumPy array?\n",
    "f = np.array([11, 12, 13, 14, 15])\n",
    "print(min(a))\n",
    "print(max(a))"
   ]
  },
  {
   "cell_type": "code",
   "execution_count": 79,
   "id": "6c84bc39-9fcd-42ad-86d0-c87879bf84c3",
   "metadata": {},
   "outputs": [
    {
     "name": "stdout",
     "output_type": "stream",
     "text": [
      "15\n",
      "3.0\n",
      "1.4142135623730951\n"
     ]
    }
   ],
   "source": [
    "#What does np.sum(), np.mean(), and np.std() do?\n",
    "f = np.array([11, 12, 13, 14, 15])\n",
    "print(sum(a))\n",
    "print(np.mean(a))\n",
    "print(np.std(a))"
   ]
  },
  {
   "cell_type": "code",
   "execution_count": 82,
   "id": "b57dcf2c-52c8-41dd-b5d9-fc69ed93d583",
   "metadata": {},
   "outputs": [
    {
     "data": {
      "text/plain": [
       "(array([2, 3, 4], dtype=int64),)"
      ]
     },
     "execution_count": 82,
     "metadata": {},
     "output_type": "execute_result"
    }
   ],
   "source": [
    "#How can you find indices of the elements that satisfy a given condition in a NumPy array?\n",
    "a = np.array([11, 12, 13, 14, 15])\n",
    "g = np.where(a>12)\n",
    "g"
   ]
  },
  {
   "cell_type": "code",
   "execution_count": 83,
   "id": "c2906b88-086f-4818-9da6-d8490bfb9eff",
   "metadata": {},
   "outputs": [
    {
     "data": {
      "text/plain": [
       "70"
      ]
     },
     "execution_count": 83,
     "metadata": {},
     "output_type": "execute_result"
    }
   ],
   "source": [
    "#How do you calculate the dot product of two NumPy arrays?\n",
    "a = np.array([1, 2, 3, 4])\n",
    "b = np.array([5, 6, 7, 8])\n",
    "c = np.dot(a,b)\n",
    "c"
   ]
  },
  {
   "cell_type": "code",
   "execution_count": 84,
   "id": "efcd72e2-6cff-4069-b2a5-a80466e27879",
   "metadata": {},
   "outputs": [
    {
     "data": {
      "text/plain": [
       "array([0.77684033, 0.92369166, 0.83897995, 0.20796977, 0.26738609,\n",
       "       0.83248549, 0.45782283, 0.60168871, 0.32493457, 0.82797317])"
      ]
     },
     "execution_count": 84,
     "metadata": {},
     "output_type": "execute_result"
    }
   ],
   "source": [
    "#What is the purpose of np.random and how can it be used to generate random numbers?\n",
    "a = np.random.rand(10)\n",
    "a"
   ]
  },
  {
   "cell_type": "code",
   "execution_count": 87,
   "id": "68c51c83-a1a0-44a0-b7a3-326a44fb6cdd",
   "metadata": {},
   "outputs": [],
   "source": [
    "#What is the difference between np.flatten() and np.ravel()?\n",
    "a = np.array([0.77684033, 0.92369166, 0.83897995, 0.20796977, 0.26738609,\n",
    "       0.83248549, 0.45782283, 0.60168871, 0.32493457, 0.82797317])"
   ]
  },
  {
   "cell_type": "code",
   "execution_count": 89,
   "id": "0e39795e-1fd4-4ca1-a18a-8dc5a2071c21",
   "metadata": {},
   "outputs": [],
   "source": [
    "b = a.flatten()\n",
    "b[0]=55"
   ]
  },
  {
   "cell_type": "code",
   "execution_count": 90,
   "id": "630a207a-643e-4085-9a1d-b83103d0535d",
   "metadata": {},
   "outputs": [
    {
     "data": {
      "text/plain": [
       "array([55.        ,  0.92369166,  0.83897995,  0.20796977,  0.26738609,\n",
       "        0.83248549,  0.45782283,  0.60168871,  0.32493457,  0.82797317])"
      ]
     },
     "execution_count": 90,
     "metadata": {},
     "output_type": "execute_result"
    }
   ],
   "source": [
    "b"
   ]
  },
  {
   "cell_type": "code",
   "execution_count": 94,
   "id": "1ed44011-8020-4a13-9bac-00fd21fed2da",
   "metadata": {},
   "outputs": [
    {
     "data": {
      "text/plain": [
       "array([[-2. ,  1. ],\n",
       "       [ 1.5, -0.5]])"
      ]
     },
     "execution_count": 94,
     "metadata": {},
     "output_type": "execute_result"
    }
   ],
   "source": [
    "#How do you compute the inverse of a matrix using NumPy?\n",
    "a = np.array([[1, 2], [3, 4]])\n",
    "c = np.linalg.inv(a)\n",
    "c"
   ]
  },
  {
   "cell_type": "code",
   "execution_count": 96,
   "id": "ea29abed-6826-49fd-b3ca-9a9cb44d7021",
   "metadata": {},
   "outputs": [
    {
     "data": {
      "text/plain": [
       "array([1, 2, 3])"
      ]
     },
     "execution_count": 96,
     "metadata": {},
     "output_type": "execute_result"
    }
   ],
   "source": [
    "#How can you extract a subarray from a NumPy array?\n",
    "a = np.array([1, 2, 3, 4])\n",
    "b = a[0:3]\n",
    "b"
   ]
  },
  {
   "cell_type": "code",
   "execution_count": 99,
   "id": "32342e6d-abe1-453b-9f33-20ba51bb0667",
   "metadata": {},
   "outputs": [
    {
     "name": "stdout",
     "output_type": "stream",
     "text": [
      "[100   2   3   4]\n",
      "[100   2   3   4]\n"
     ]
    }
   ],
   "source": [
    "#What is the difference between np.copy() and assignment in NumPy arrays?\n",
    "a = np.array([1, 2, 3, 4])\n",
    "b = a\n",
    "a[0]=100\n",
    "print(a)\n",
    "print(b)"
   ]
  },
  {
   "cell_type": "code",
   "execution_count": 101,
   "id": "2eb47162-ffab-4463-b800-f6a5e384f1b8",
   "metadata": {},
   "outputs": [
    {
     "name": "stdout",
     "output_type": "stream",
     "text": [
      "[1 2 3 4]\n",
      "[100   2   3   4]\n"
     ]
    }
   ],
   "source": [
    "a = np.array([1, 2, 3, 4])\n",
    "b = np.copy(a)\n",
    "b[0]=100\n",
    "print(a)\n",
    "print(b)"
   ]
  },
  {
   "cell_type": "code",
   "execution_count": null,
   "id": "2255514c-904f-47fd-8620-b5cbc8a2e9bd",
   "metadata": {},
   "outputs": [],
   "source": [
    "a = np.array([[1, 2, 3], [4, 5, 6]])\n",
    "transposed_a = np.transpose(a)"
   ]
  },
  {
   "cell_type": "code",
   "execution_count": 108,
   "id": "5e4b8a78-abc3-4892-9c42-402dd7c81c84",
   "metadata": {},
   "outputs": [
    {
     "data": {
      "text/plain": [
       "array([[1, 3],\n",
       "       [2, 4],\n",
       "       [3, 5]])"
      ]
     },
     "execution_count": 108,
     "metadata": {},
     "output_type": "execute_result"
    }
   ],
   "source": [
    "a = np.array([[1, 2, 3], [3, 4, 5]])\n",
    "c = np.transpose(a)\n",
    "c"
   ]
  },
  {
   "cell_type": "code",
   "execution_count": 112,
   "id": "72d81a48-cfa7-44e6-90ed-39a941e75fcc",
   "metadata": {},
   "outputs": [],
   "source": [
    "# How can you change the shape of a NumPy array without changing its data?\n",
    "a = np.array([1,2,3,4,5,6,7,8,9,10]).reshape(5,2)"
   ]
  },
  {
   "cell_type": "code",
   "execution_count": 113,
   "id": "c402b38b-c81f-4b4a-beb2-b3d328a2c910",
   "metadata": {},
   "outputs": [
    {
     "data": {
      "text/plain": [
       "array([[ 1,  2],\n",
       "       [ 3,  4],\n",
       "       [ 5,  6],\n",
       "       [ 7,  8],\n",
       "       [ 9, 10]])"
      ]
     },
     "execution_count": 113,
     "metadata": {},
     "output_type": "execute_result"
    }
   ],
   "source": [
    "a"
   ]
  },
  {
   "cell_type": "code",
   "execution_count": 114,
   "id": "3fff544e-22b8-4594-8582-25dea44d2836",
   "metadata": {},
   "outputs": [
    {
     "data": {
      "text/plain": [
       "(array([5, 6, 7, 8, 9], dtype=int64),)"
      ]
     },
     "execution_count": 114,
     "metadata": {},
     "output_type": "execute_result"
    }
   ],
   "source": [
    "#What is the use of np.where() and how is it applied in conditional statements?\n",
    "a = np.array([1,2,3,4,5,6,7,8,9,10])\n",
    "b = np.where(a>5)\n",
    "b"
   ]
  },
  {
   "cell_type": "code",
   "execution_count": 115,
   "id": "aaf86d72-3716-4a1f-9a39-8a0fa102e34f",
   "metadata": {},
   "outputs": [
    {
     "data": {
      "text/plain": [
       "False"
      ]
     },
     "execution_count": 115,
     "metadata": {},
     "output_type": "execute_result"
    }
   ],
   "source": [
    "#How can you check if two NumPy arrays are equal?\n",
    "a = np.array([1, 2, 3, 4])\n",
    "b = np.array([5, 6, 7, 8])\n",
    "c = np.array_equal(a,b)\n",
    "c"
   ]
  },
  {
   "cell_type": "code",
   "execution_count": 116,
   "id": "b2963566-b265-4095-a7ef-6aedda194838",
   "metadata": {},
   "outputs": [
    {
     "data": {
      "text/plain": [
       "array([[1],\n",
       "       [2],\n",
       "       [3],\n",
       "       [4]])"
      ]
     },
     "execution_count": 116,
     "metadata": {},
     "output_type": "execute_result"
    }
   ],
   "source": [
    "#How can you stack two NumPy arrays vertically and horizontally?\n",
    "a = np.array([1, 2, 3, 4])\n",
    "b = np.vstack(a)\n",
    "b"
   ]
  },
  {
   "cell_type": "code",
   "execution_count": 117,
   "id": "49dbb362-3953-4496-a67c-74cf8a2665d4",
   "metadata": {},
   "outputs": [
    {
     "data": {
      "text/plain": [
       "array([1, 2, 3, 4])"
      ]
     },
     "execution_count": 117,
     "metadata": {},
     "output_type": "execute_result"
    }
   ],
   "source": [
    "a = np.array([1, 2, 3, 4])\n",
    "b = np.hstack(a)\n",
    "b"
   ]
  },
  {
   "cell_type": "code",
   "execution_count": 119,
   "id": "f7e3ce1d-de46-4643-9cda-17db6fe9772b",
   "metadata": {},
   "outputs": [
    {
     "data": {
      "text/plain": [
       "array([ 5.        ,  7.22222222,  9.44444444, 11.66666667, 13.88888889,\n",
       "       16.11111111, 18.33333333, 20.55555556, 22.77777778, 25.        ])"
      ]
     },
     "execution_count": 119,
     "metadata": {},
     "output_type": "execute_result"
    }
   ],
   "source": [
    "#What is the purpose of np.linspace() and how is it different from np.arange()?\n",
    "a = np.linspace(5,25, num=10)\n",
    "a"
   ]
  },
  {
   "cell_type": "code",
   "execution_count": 120,
   "id": "f7f68d53-13af-4e6e-80d0-39a46f80786d",
   "metadata": {},
   "outputs": [
    {
     "data": {
      "text/plain": [
       "array([1, 2, 2, 6, 7, 8, 9])"
      ]
     },
     "execution_count": 120,
     "metadata": {},
     "output_type": "execute_result"
    }
   ],
   "source": [
    "#How do you sort the elements of a NumPy array?\n",
    "a = np.array([7,2,9,6,8,1,2])\n",
    "b = np.sort(a)\n",
    "b"
   ]
  },
  {
   "cell_type": "code",
   "execution_count": 126,
   "id": "cf255633-12af-4d4b-a3bc-391c48d70792",
   "metadata": {},
   "outputs": [
    {
     "data": {
      "text/plain": [
       "22.000000000000004"
      ]
     },
     "execution_count": 126,
     "metadata": {},
     "output_type": "execute_result"
    }
   ],
   "source": [
    "#How can you calculate the determinant of a matrix using NumPy?\n",
    "a = np.array([[1, 2, 3], [0,4,5], [1,0,6]])\n",
    "b = np.linalg.det(a)\n",
    "b"
   ]
  },
  {
   "cell_type": "code",
   "execution_count": null,
   "id": "83f1b46a-03f1-4873-84ef-f6ebee0cd78d",
   "metadata": {},
   "outputs": [],
   "source": []
  }
 ],
 "metadata": {
  "kernelspec": {
   "display_name": "Python 3 (ipykernel)",
   "language": "python",
   "name": "python3"
  },
  "language_info": {
   "codemirror_mode": {
    "name": "ipython",
    "version": 3
   },
   "file_extension": ".py",
   "mimetype": "text/x-python",
   "name": "python",
   "nbconvert_exporter": "python",
   "pygments_lexer": "ipython3",
   "version": "3.10.11"
  }
 },
 "nbformat": 4,
 "nbformat_minor": 5
}
