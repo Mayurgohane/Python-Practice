{
 "cells": [
  {
   "cell_type": "code",
   "execution_count": 1,
   "id": "a728fdfa-8d0e-4662-88e0-783288b95858",
   "metadata": {},
   "outputs": [
    {
     "name": "stdout",
     "output_type": "stream",
     "text": [
      "[1, 2, 3, 4, 5]\n"
     ]
    }
   ],
   "source": [
    "a = [1,2,3,4,5]\n",
    "print(a)"
   ]
  },
  {
   "cell_type": "code",
   "execution_count": 12,
   "id": "75bd3b99-c337-474e-839f-f273bb108cf3",
   "metadata": {},
   "outputs": [],
   "source": [
    "a = [1,2,3,4,5,5]\n",
    "b = sorted(a, reverse=True)"
   ]
  },
  {
   "cell_type": "code",
   "execution_count": 13,
   "id": "368db297-2280-42fb-88bf-d1c696fbfea3",
   "metadata": {},
   "outputs": [
    {
     "data": {
      "text/plain": [
       "5"
      ]
     },
     "execution_count": 13,
     "metadata": {},
     "output_type": "execute_result"
    }
   ],
   "source": [
    "b[1]c"
   ]
  },
  {
   "cell_type": "code",
   "execution_count": 14,
   "id": "ad35c522-72c1-4084-9841-565ed6a582f7",
   "metadata": {},
   "outputs": [
    {
     "data": {
      "text/plain": [
       "5"
      ]
     },
     "execution_count": 14,
     "metadata": {},
     "output_type": "execute_result"
    }
   ],
   "source": [
    "max(b)"
   ]
  },
  {
   "cell_type": "code",
   "execution_count": 16,
   "id": "408f9217-4d50-423b-b8ef-078d30bf9c21",
   "metadata": {},
   "outputs": [],
   "source": [
    "c = [x for x in a if x!=max(a)]"
   ]
  },
  {
   "cell_type": "code",
   "execution_count": 17,
   "id": "74db9595-2670-4f2e-9940-f9bd56389b2b",
   "metadata": {},
   "outputs": [
    {
     "data": {
      "text/plain": [
       "[1, 2, 3, 4]"
      ]
     },
     "execution_count": 17,
     "metadata": {},
     "output_type": "execute_result"
    }
   ],
   "source": [
    "c"
   ]
  },
  {
   "cell_type": "code",
   "execution_count": 18,
   "id": "de7d7a8f-e6ed-44e1-83f1-371779d3b2ec",
   "metadata": {},
   "outputs": [
    {
     "data": {
      "text/plain": [
       "4"
      ]
     },
     "execution_count": 18,
     "metadata": {},
     "output_type": "execute_result"
    }
   ],
   "source": [
    "max(c)"
   ]
  },
  {
   "cell_type": "code",
   "execution_count": 19,
   "id": "ad7af1c0-23eb-4f39-8a66-445938309030",
   "metadata": {},
   "outputs": [],
   "source": [
    "import pandas as pd"
   ]
  },
  {
   "cell_type": "code",
   "execution_count": 23,
   "id": "c4597ebb-9175-4bdb-8bc4-ac819545baba",
   "metadata": {},
   "outputs": [],
   "source": [
    "# Creating a sample dataframe\n",
    "data = {\n",
    "    'Employee_ID': [1, 2, 3, 1, 2, 3, 4, 5, 6, 1, 5],\n",
    "    'Employee_Name': ['Alice', 'Bob', 'Charlie', 'Alice', 'Bob', 'Charlie', 'David', 'Emma', 'Frank', 'Alice', 'Emma'],\n",
    "    'Region': ['North', 'South', 'East', 'North', 'South', 'East', 'West', 'North', 'South', 'North', 'North'],\n",
    "    'Sales': [200, 150, 250, 300, 180, 220, 400, 320, 280, 500, 220]}"
   ]
  },
  {
   "cell_type": "code",
   "execution_count": 24,
   "id": "d826f28c-68b9-4d39-b948-160ac822f13b",
   "metadata": {},
   "outputs": [
    {
     "data": {
      "text/plain": [
       "{'Employee_ID': [1, 2, 3, 1, 2, 3, 4, 5, 6, 1, 5],\n",
       " 'Employee_Name': ['Alice',\n",
       "  'Bob',\n",
       "  'Charlie',\n",
       "  'Alice',\n",
       "  'Bob',\n",
       "  'Charlie',\n",
       "  'David',\n",
       "  'Emma',\n",
       "  'Frank',\n",
       "  'Alice',\n",
       "  'Emma'],\n",
       " 'Region': ['North',\n",
       "  'South',\n",
       "  'East',\n",
       "  'North',\n",
       "  'South',\n",
       "  'East',\n",
       "  'West',\n",
       "  'North',\n",
       "  'South',\n",
       "  'North',\n",
       "  'North'],\n",
       " 'Sales': [200, 150, 250, 300, 180, 220, 400, 320, 280, 500, 220]}"
      ]
     },
     "execution_count": 24,
     "metadata": {},
     "output_type": "execute_result"
    }
   ],
   "source": [
    "data"
   ]
  },
  {
   "cell_type": "code",
   "execution_count": 25,
   "id": "9bdebe18-53a8-4c9e-aabe-f8963e439086",
   "metadata": {},
   "outputs": [],
   "source": [
    "df = pd.DataFrame(data)"
   ]
  },
  {
   "cell_type": "code",
   "execution_count": 26,
   "id": "061fc583-a876-4fd8-8bb2-992d59cd3161",
   "metadata": {},
   "outputs": [
    {
     "data": {
      "text/html": [
       "<div>\n",
       "<style scoped>\n",
       "    .dataframe tbody tr th:only-of-type {\n",
       "        vertical-align: middle;\n",
       "    }\n",
       "\n",
       "    .dataframe tbody tr th {\n",
       "        vertical-align: top;\n",
       "    }\n",
       "\n",
       "    .dataframe thead th {\n",
       "        text-align: right;\n",
       "    }\n",
       "</style>\n",
       "<table border=\"1\" class=\"dataframe\">\n",
       "  <thead>\n",
       "    <tr style=\"text-align: right;\">\n",
       "      <th></th>\n",
       "      <th>Employee_ID</th>\n",
       "      <th>Employee_Name</th>\n",
       "      <th>Region</th>\n",
       "      <th>Sales</th>\n",
       "    </tr>\n",
       "  </thead>\n",
       "  <tbody>\n",
       "    <tr>\n",
       "      <th>0</th>\n",
       "      <td>1</td>\n",
       "      <td>Alice</td>\n",
       "      <td>North</td>\n",
       "      <td>200</td>\n",
       "    </tr>\n",
       "    <tr>\n",
       "      <th>1</th>\n",
       "      <td>2</td>\n",
       "      <td>Bob</td>\n",
       "      <td>South</td>\n",
       "      <td>150</td>\n",
       "    </tr>\n",
       "    <tr>\n",
       "      <th>2</th>\n",
       "      <td>3</td>\n",
       "      <td>Charlie</td>\n",
       "      <td>East</td>\n",
       "      <td>250</td>\n",
       "    </tr>\n",
       "    <tr>\n",
       "      <th>3</th>\n",
       "      <td>1</td>\n",
       "      <td>Alice</td>\n",
       "      <td>North</td>\n",
       "      <td>300</td>\n",
       "    </tr>\n",
       "    <tr>\n",
       "      <th>4</th>\n",
       "      <td>2</td>\n",
       "      <td>Bob</td>\n",
       "      <td>South</td>\n",
       "      <td>180</td>\n",
       "    </tr>\n",
       "    <tr>\n",
       "      <th>5</th>\n",
       "      <td>3</td>\n",
       "      <td>Charlie</td>\n",
       "      <td>East</td>\n",
       "      <td>220</td>\n",
       "    </tr>\n",
       "    <tr>\n",
       "      <th>6</th>\n",
       "      <td>4</td>\n",
       "      <td>David</td>\n",
       "      <td>West</td>\n",
       "      <td>400</td>\n",
       "    </tr>\n",
       "    <tr>\n",
       "      <th>7</th>\n",
       "      <td>5</td>\n",
       "      <td>Emma</td>\n",
       "      <td>North</td>\n",
       "      <td>320</td>\n",
       "    </tr>\n",
       "    <tr>\n",
       "      <th>8</th>\n",
       "      <td>6</td>\n",
       "      <td>Frank</td>\n",
       "      <td>South</td>\n",
       "      <td>280</td>\n",
       "    </tr>\n",
       "    <tr>\n",
       "      <th>9</th>\n",
       "      <td>1</td>\n",
       "      <td>Alice</td>\n",
       "      <td>North</td>\n",
       "      <td>500</td>\n",
       "    </tr>\n",
       "    <tr>\n",
       "      <th>10</th>\n",
       "      <td>5</td>\n",
       "      <td>Emma</td>\n",
       "      <td>North</td>\n",
       "      <td>220</td>\n",
       "    </tr>\n",
       "  </tbody>\n",
       "</table>\n",
       "</div>"
      ],
      "text/plain": [
       "    Employee_ID Employee_Name Region  Sales\n",
       "0             1         Alice  North    200\n",
       "1             2           Bob  South    150\n",
       "2             3       Charlie   East    250\n",
       "3             1         Alice  North    300\n",
       "4             2           Bob  South    180\n",
       "5             3       Charlie   East    220\n",
       "6             4         David   West    400\n",
       "7             5          Emma  North    320\n",
       "8             6         Frank  South    280\n",
       "9             1         Alice  North    500\n",
       "10            5          Emma  North    220"
      ]
     },
     "execution_count": 26,
     "metadata": {},
     "output_type": "execute_result"
    }
   ],
   "source": [
    "df"
   ]
  },
  {
   "cell_type": "code",
   "execution_count": 28,
   "id": "26c708a1-e396-4077-9ef6-c71f5d4a978a",
   "metadata": {},
   "outputs": [
    {
     "data": {
      "text/plain": [
       "<bound method Series.sum of 0     North\n",
       "1     South\n",
       "2      East\n",
       "3     North\n",
       "4     South\n",
       "5      East\n",
       "6      West\n",
       "7     North\n",
       "8     South\n",
       "9     North\n",
       "10    North\n",
       "Name: Region, dtype: object>"
      ]
     },
     "execution_count": 28,
     "metadata": {},
     "output_type": "execute_result"
    }
   ],
   "source": [
    "df['Region'].sum"
   ]
  },
  {
   "cell_type": "code",
   "execution_count": 31,
   "id": "8f777024-5867-4096-a723-10c0f2ef7e00",
   "metadata": {},
   "outputs": [
    {
     "data": {
      "text/html": [
       "<div>\n",
       "<style scoped>\n",
       "    .dataframe tbody tr th:only-of-type {\n",
       "        vertical-align: middle;\n",
       "    }\n",
       "\n",
       "    .dataframe tbody tr th {\n",
       "        vertical-align: top;\n",
       "    }\n",
       "\n",
       "    .dataframe thead th {\n",
       "        text-align: right;\n",
       "    }\n",
       "</style>\n",
       "<table border=\"1\" class=\"dataframe\">\n",
       "  <thead>\n",
       "    <tr style=\"text-align: right;\">\n",
       "      <th></th>\n",
       "      <th>Employee_ID</th>\n",
       "      <th>Employee_Name</th>\n",
       "      <th>Region</th>\n",
       "      <th>Sales</th>\n",
       "    </tr>\n",
       "  </thead>\n",
       "  <tbody>\n",
       "    <tr>\n",
       "      <th>0</th>\n",
       "      <td>1</td>\n",
       "      <td>Alice</td>\n",
       "      <td>North</td>\n",
       "      <td>200</td>\n",
       "    </tr>\n",
       "  </tbody>\n",
       "</table>\n",
       "</div>"
      ],
      "text/plain": [
       "   Employee_ID Employee_Name Region  Sales\n",
       "0            1         Alice  North    200"
      ]
     },
     "execution_count": 31,
     "metadata": {},
     "output_type": "execute_result"
    }
   ],
   "source": [
    "df.iloc[0:1]"
   ]
  },
  {
   "cell_type": "code",
   "execution_count": 32,
   "id": "dc8a5408-2531-4c09-b022-c3682bde6829",
   "metadata": {},
   "outputs": [
    {
     "data": {
      "text/html": [
       "<div>\n",
       "<style scoped>\n",
       "    .dataframe tbody tr th:only-of-type {\n",
       "        vertical-align: middle;\n",
       "    }\n",
       "\n",
       "    .dataframe tbody tr th {\n",
       "        vertical-align: top;\n",
       "    }\n",
       "\n",
       "    .dataframe thead th {\n",
       "        text-align: right;\n",
       "    }\n",
       "</style>\n",
       "<table border=\"1\" class=\"dataframe\">\n",
       "  <thead>\n",
       "    <tr style=\"text-align: right;\">\n",
       "      <th></th>\n",
       "      <th>Employee_ID</th>\n",
       "      <th>Employee_Name</th>\n",
       "      <th>Region</th>\n",
       "      <th>Sales</th>\n",
       "    </tr>\n",
       "  </thead>\n",
       "  <tbody>\n",
       "    <tr>\n",
       "      <th>0</th>\n",
       "      <td>1</td>\n",
       "      <td>Alice</td>\n",
       "      <td>North</td>\n",
       "      <td>200</td>\n",
       "    </tr>\n",
       "    <tr>\n",
       "      <th>3</th>\n",
       "      <td>1</td>\n",
       "      <td>Alice</td>\n",
       "      <td>North</td>\n",
       "      <td>300</td>\n",
       "    </tr>\n",
       "    <tr>\n",
       "      <th>9</th>\n",
       "      <td>1</td>\n",
       "      <td>Alice</td>\n",
       "      <td>North</td>\n",
       "      <td>500</td>\n",
       "    </tr>\n",
       "  </tbody>\n",
       "</table>\n",
       "</div>"
      ],
      "text/plain": [
       "   Employee_ID Employee_Name Region  Sales\n",
       "0            1         Alice  North    200\n",
       "3            1         Alice  North    300\n",
       "9            1         Alice  North    500"
      ]
     },
     "execution_count": 32,
     "metadata": {},
     "output_type": "execute_result"
    }
   ],
   "source": [
    "df[df['Employee_Name']=='Alice']"
   ]
  },
  {
   "cell_type": "code",
   "execution_count": 34,
   "id": "d89aba32-45b6-438a-b11e-619e21298097",
   "metadata": {},
   "outputs": [
    {
     "data": {
      "text/plain": [
       "Employee_ID                             13\n",
       "Employee_Name      AliceAliceEmmaAliceEmma\n",
       "Region           NorthNorthNorthNorthNorth\n",
       "Sales                                 1540\n",
       "dtype: object"
      ]
     },
     "execution_count": 34,
     "metadata": {},
     "output_type": "execute_result"
    }
   ],
   "source": [
    "df[df['Region']=='North'].sum()"
   ]
  },
  {
   "cell_type": "code",
   "execution_count": null,
   "id": "153175cc-b8a8-4da1-9101-ee6b3a3db373",
   "metadata": {},
   "outputs": [],
   "source": []
  }
 ],
 "metadata": {
  "kernelspec": {
   "display_name": "Python 3 (ipykernel)",
   "language": "python",
   "name": "python3"
  },
  "language_info": {
   "codemirror_mode": {
    "name": "ipython",
    "version": 3
   },
   "file_extension": ".py",
   "mimetype": "text/x-python",
   "name": "python",
   "nbconvert_exporter": "python",
   "pygments_lexer": "ipython3",
   "version": "3.10.11"
  }
 },
 "nbformat": 4,
 "nbformat_minor": 5
}
